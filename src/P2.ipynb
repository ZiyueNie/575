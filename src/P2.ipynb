{
  "nbformat": 4,
  "nbformat_minor": 0,
  "metadata": {
    "colab": {
      "name": "P2.ipynb",
      "provenance": [],
      "collapsed_sections": [],
      "authorship_tag": "ABX9TyPzh8xuFwOp4vRup7LirSa3",
      "include_colab_link": true
    },
    "kernelspec": {
      "name": "python3",
      "display_name": "Python 3"
    }
  },
  "cells": [
    {
      "cell_type": "markdown",
      "metadata": {
        "id": "view-in-github",
        "colab_type": "text"
      },
      "source": [
        "<a href=\"https://colab.research.google.com/github/gannannavelorange/575/blob/master/src/P2.ipynb\" target=\"_parent\"><img src=\"https://colab.research.google.com/assets/colab-badge.svg\" alt=\"Open In Colab\"/></a>"
      ]
    },
    {
      "cell_type": "code",
      "metadata": {
        "id": "PSTfdBJJDCLW",
        "colab_type": "code",
        "outputId": "1a3aedbd-fe89-4638-8491-766cefa49a09",
        "colab": {
          "base_uri": "https://localhost:8080/",
          "height": 139
        }
      },
      "source": [
        "!git clone https://github.com/gannannavelorange/575"
      ],
      "execution_count": 0,
      "outputs": [
        {
          "output_type": "stream",
          "text": [
            "Cloning into '575'...\n",
            "remote: Enumerating objects: 65, done.\u001b[K\n",
            "remote: Counting objects: 100% (65/65), done.\u001b[K\n",
            "remote: Compressing objects: 100% (64/64), done.\u001b[K\n",
            "remote: Total 286 (delta 32), reused 0 (delta 0), pack-reused 221\u001b[K\n",
            "Receiving objects: 100% (286/286), 1.68 MiB | 9.15 MiB/s, done.\n",
            "Resolving deltas: 100% (89/89), done.\n"
          ],
          "name": "stdout"
        }
      ]
    },
    {
      "cell_type": "code",
      "metadata": {
        "id": "_pO8DkP3DEk7",
        "colab_type": "code",
        "outputId": "843c2a0b-2187-4f17-d29f-2798db74b313",
        "colab": {
          "base_uri": "https://localhost:8080/",
          "height": 35
        }
      },
      "source": [
        "cd 575/src/data"
      ],
      "execution_count": 0,
      "outputs": [
        {
          "output_type": "stream",
          "text": [
            "/content/575/src/data\n"
          ],
          "name": "stdout"
        }
      ]
    },
    {
      "cell_type": "code",
      "metadata": {
        "id": "Vn44rz1ODGZ4",
        "colab_type": "code",
        "outputId": "7fe7f271-547e-4b66-c50b-a433bb14898e",
        "colab": {
          "base_uri": "https://localhost:8080/",
          "height": 72
        }
      },
      "source": [
        "import numpy as np\n",
        "import pandas as pd\n",
        "import matplotlib\n",
        "import matplotlib.pyplot as plt\n",
        "import math\n",
        "import csv\n",
        "import seaborn as sns\n",
        "import statsmodels.api as sm\n",
        "import scipy.stats as ss\n",
        "from scipy.stats import norm\n",
        "from scipy.stats import t\n",
        "from scipy.stats import chisquare\n"
      ],
      "execution_count": 0,
      "outputs": [
        {
          "output_type": "stream",
          "text": [
            "/usr/local/lib/python3.6/dist-packages/statsmodels/tools/_testing.py:19: FutureWarning: pandas.util.testing is deprecated. Use the functions in the public API at pandas.testing instead.\n",
            "  import pandas.util.testing as tm\n"
          ],
          "name": "stderr"
        }
      ]
    },
    {
      "cell_type": "code",
      "metadata": {
        "id": "dIwYzWeowOyW",
        "colab_type": "code",
        "colab": {}
      },
      "source": [
        "def correlation(M):\n",
        "  with open(M+'.csv') as file:\n",
        "      reader=csv.reader(file)\n",
        "      rows=[row for row in reader]\n",
        "      D=[row[0] for row in rows[1:2013]]\n",
        "      D=[float(d) for d in D]\n",
        "      return D\n",
        "      #print(D)\n",
        "      #print(D[0])"
      ],
      "execution_count": 0,
      "outputs": []
    },
    {
      "cell_type": "code",
      "metadata": {
        "id": "8oD84RCByqAM",
        "colab_type": "code",
        "outputId": "e20ea0a5-32eb-4f3e-f004-08656729f1fe",
        "colab": {
          "base_uri": "https://localhost:8080/"
        }
      },
      "source": [
        "x=correlation('GOOG1')\n",
        "y=correlation('FB1')\n",
        "np.corrcoef(x, y)\n"
      ],
      "execution_count": 0,
      "outputs": [
        {
          "output_type": "execute_result",
          "data": {
            "text/plain": [
              "array([[1.        , 0.93855025],\n",
              "       [0.93855025, 1.        ]])"
            ]
          },
          "metadata": {
            "tags": []
          },
          "execution_count": 6
        }
      ]
    },
    {
      "cell_type": "code",
      "metadata": {
        "id": "1OYAqz8Qr1vy",
        "colab_type": "code",
        "outputId": "9d32bcc0-1185-48d1-c394-ea4d0f203adf",
        "colab": {
          "base_uri": "https://localhost:8080/",
          "height": 52
        }
      },
      "source": [
        "x=correlation('^GSPC')\n",
        "y=correlation('portfolio')\n",
        "np.corrcoef(x, y)"
      ],
      "execution_count": 0,
      "outputs": [
        {
          "output_type": "execute_result",
          "data": {
            "text/plain": [
              "array([[1.        , 0.98487445],\n",
              "       [0.98487445, 1.        ]])"
            ]
          },
          "metadata": {
            "tags": []
          },
          "execution_count": 6
        }
      ]
    },
    {
      "cell_type": "code",
      "metadata": {
        "id": "XA8twm8SzwKE",
        "colab_type": "code",
        "outputId": "5a26863f-02b7-46eb-fda2-d47cc27d8ba4",
        "colab": {
          "base_uri": "https://localhost:8080/",
          "height": 282
        }
      },
      "source": [
        "matplotlib.style.use('ggplot')\n",
        "\n",
        "plt.scatter(x, y)\n",
        "plt.xlabel('GOOG')\n",
        "plt.ylabel('FB')\n",
        "plt.show()\n"
      ],
      "execution_count": 0,
      "outputs": [
        {
          "output_type": "display_data",
          "data": {
            "image/png": "[encoded data removed]",
            "text/plain": [
              "<Figure size 432x288 with 1 Axes>"
            ]
          },
          "metadata": {
            "tags": []
          }
        }
      ]
    },
    {
      "cell_type": "code",
      "metadata": {
        "id": "J9UQbrv5zS2u",
        "colab_type": "code",
        "outputId": "79efb04f-eb67-4f13-a373-379d407e6e31",
        "colab": {
          "base_uri": "https://localhost:8080/",
          "height": 52
        }
      },
      "source": [
        "x1=correlation('ELF1')\n",
        "y1=correlation('SPB1')\n",
        "#y1=correlation('REV1')\n",
        "#y1=correlation('CL1')\n",
        "np.corrcoef(x1, y1)\n",
        "\n"
      ],
      "execution_count": 0,
      "outputs": [
        {
          "output_type": "execute_result",
          "data": {
            "text/plain": [
              "array([[1.        , 0.77814056],\n",
              "       [0.77814056, 1.        ]])"
            ]
          },
          "metadata": {
            "tags": []
          },
          "execution_count": 8
        }
      ]
    },
    {
      "cell_type": "code",
      "metadata": {
        "id": "82lmN2WR1RkZ",
        "colab_type": "code",
        "outputId": "7fd44979-0833-4f82-9edb-8c8172216884",
        "colab": {
          "base_uri": "https://localhost:8080/",
          "height": 282
        }
      },
      "source": [
        "matplotlib.style.use('ggplot')\n",
        "plt.scatter(x1, y1)\n",
        "plt.xlabel('ELF')\n",
        "plt.ylabel('SPB')\n",
        "plt.show()"
      ],
      "execution_count": 0,
      "outputs": [
        {
          "output_type": "display_data",
          "data": {
            "image/png": "[encoded data removed]",
            "text/plain": [
              "<Figure size 432x288 with 1 Axes>"
            ]
          },
          "metadata": {
            "tags": []
          }
        }
      ]
    },
    {
      "cell_type": "code",
      "metadata": {
        "id": "6MBUIJETOYhb",
        "colab_type": "code",
        "outputId": "ef229149-a4a1-4dc6-901d-a06cd8245b71",
        "colab": {
          "base_uri": "https://localhost:8080/",
          "height": 52
        }
      },
      "source": [
        "x2=correlation('LW1')\n",
        "#y2=correlation('WMT1')  #0.83\n",
        "#y2=correlation('WILC1')  #0.7\n",
        "#y2=correlation('SYY1') #0.879\n",
        "y2=correlation('CHEF1') #0.892\n",
        "np.corrcoef(x2, y2)"
      ],
      "execution_count": 0,
      "outputs": [
        {
          "output_type": "execute_result",
          "data": {
            "text/plain": [
              "array([[1.      , 0.892804],\n",
              "       [0.892804, 1.      ]])"
            ]
          },
          "metadata": {
            "tags": []
          },
          "execution_count": 10
        }
      ]
    },
    {
      "cell_type": "code",
      "metadata": {
        "id": "IKxMrnyQOZG7",
        "colab_type": "code",
        "outputId": "10f5d7c5-f2a0-4517-df7c-417323ef04ab",
        "colab": {
          "base_uri": "https://localhost:8080/",
          "height": 282
        }
      },
      "source": [
        "matplotlib.style.use('ggplot')\n",
        "plt.scatter(x2, y2)\n",
        "plt.xlabel('LW')\n",
        "plt.ylabel('CHEF')\n",
        "plt.show()"
      ],
      "execution_count": 0,
      "outputs": [
        {
          "output_type": "display_data",
          "data": {
            "image/png": "[encoded data removed]",
            "text/plain": [
              "<Figure size 432x288 with 1 Axes>"
            ]
          },
          "metadata": {
            "tags": []
          }
        }
      ]
    },
    {
      "cell_type": "code",
      "metadata": {
        "id": "DaE8hleqXavv",
        "colab_type": "code",
        "outputId": "44eaadfb-5a77-4fa0-9bc8-ec490fb5367b",
        "colab": {
          "base_uri": "https://localhost:8080/",
          "height": 52
        }
      },
      "source": [
        "x3=correlation('WORK1')\n",
        "y3=correlation('MARK1')\n",
        "#y1=correlation('REV1')\n",
        "#y1=correlation('CL1')\n",
        "np.corrcoef(x3, y3)"
      ],
      "execution_count": 0,
      "outputs": [
        {
          "output_type": "execute_result",
          "data": {
            "text/plain": [
              "array([[1.        , 0.40651514],\n",
              "       [0.40651514, 1.        ]])"
            ]
          },
          "metadata": {
            "tags": []
          },
          "execution_count": 12
        }
      ]
    },
    {
      "cell_type": "code",
      "metadata": {
        "id": "iryEtE1AJIIH",
        "colab_type": "code",
        "colab": {}
      },
      "source": [
        "#problem 2 using daily log return\n",
        "mu=np.zeros(15)\n",
        "names=['CAT','DIA','HD','MSFT','NKE','NVDA','PG','TM','VIG','VOO','WMT','GOOG','CHEF','SPB','ORCL']\n",
        "def getData(n=None):\n",
        "    Is=[i for i in range(15)]\n",
        "    Rows=[]\n",
        "    for name,i in zip(names,Is):\n",
        "        with open(name+'.csv') as file:\n",
        "            reader=csv.reader(file)\n",
        "            rows=[row[2] for row in reader]\n",
        "        mu[i]=np.mean([float(row) for row in rows[1:n]])\n",
        "        Rows.append([float(row) for row in rows[1:n]])\n",
        "    Omega=np.cov(np.array(Rows))\n",
        "    corr = np.corrcoef(np.array(Rows))\n",
        "    return mu,Omega,corr"
      ],
      "execution_count": 0,
      "outputs": []
    },
    {
      "cell_type": "code",
      "metadata": {
        "id": "gICtnmRjwif6",
        "colab_type": "code",
        "colab": {}
      },
      "source": [
        "jj=getData(1006)[2]\n",
        "#print(jj)"
      ],
      "execution_count": 0,
      "outputs": []
    },
    {
      "cell_type": "code",
      "metadata": {
        "id": "ggiHJUkRwe5M",
        "colab_type": "code",
        "outputId": "ae5ceb5d-2f05-4c38-ad3f-c21add66592d",
        "colab": {
          "base_uri": "https://localhost:8080/",
          "height": 341
        }
      },
      "source": [
        "f,ax = plt.subplots(figsize=(10,5))\n",
        "sns.heatmap(jj,annot=True)"
      ],
      "execution_count": 0,
      "outputs": [
        {
          "output_type": "execute_result",
          "data": {
            "text/plain": [
              "<matplotlib.axes._subplots.AxesSubplot at 0x7f3f241a10f0>"
            ]
          },
          "metadata": {
            "tags": []
          },
          "execution_count": 15
        },
        {
          "output_type": "display_data",
          "data": {
            "image/png": "[encoded data removed]",
            "text/plain": [
              "<Figure size 720x360 with 2 Axes>"
            ]
          },
          "metadata": {
            "tags": []
          }
        }
      ]
    },
    {
      "cell_type": "code",
      "metadata": {
        "id": "hzZjaDPDaK-W",
        "colab_type": "code",
        "colab": {}
      },
      "source": [
        "#problem 2 using monthly log return\n",
        "mu_m=np.zeros(15)\n",
        "names_2=['CAT_2','DIA_2','HD_2','MSFT_2','NKE_2','NVDA_2','PG_2','TM_2','VIG_2','VOO_2','WMT_2','GOOG_2','CHEF_2','SPB_2','ORCL_2']\n",
        "def getData_m(n=None):\n",
        "    Is=[i for i in range(15)]\n",
        "    Rows=[]\n",
        "    for name,i in zip(names_2,Is):\n",
        "        with open(name+'.csv') as file:\n",
        "            reader=csv.reader(file)\n",
        "            rows=[row[0] for row in reader]\n",
        "        mu_m[i]=np.mean([float(row) for row in rows[1:n]])\n",
        "        Rows.append([float(row) for row in rows[1:n]])\n",
        "    Omega_m=np.cov(np.array(Rows))\n",
        "    return mu_m,Omega_m"
      ],
      "execution_count": 0,
      "outputs": []
    },
    {
      "cell_type": "code",
      "metadata": {
        "id": "uBGJnOHO3Eqd",
        "colab_type": "code",
        "colab": {}
      },
      "source": [
        "#linearized loss mean&variance\n",
        "def lin_loss(Vt,Wt,mu,omega):\n",
        "  exp=-Vt*(np.dot(Wt,mu))\n",
        "  var=(Vt**2)*(np.dot(np.dot(Wt,omega),Wt))\n",
        "  return exp,var"
      ],
      "execution_count": 0,
      "outputs": []
    },
    {
      "cell_type": "code",
      "metadata": {
        "id": "qqrl7qAoO9Gt",
        "colab_type": "code",
        "outputId": "c500f40a-9faa-4415-c588-cab0527f797c",
        "colab": {
          "base_uri": "https://localhost:8080/",
          "height": 149
        }
      },
      "source": [
        "'''\n",
        "def loss(Vt,Wt,mu,omega):\n",
        "  exp=-Vt*(np.dot(Wt,np.exp(mu))-np.dot(mu,np.ones(11)))\n",
        "  var=(Vt**2)*(np.dot(np.dot(Wt,omega),Wt))\n",
        "  return exp,var"
      ],
      "execution_count": 0,
      "outputs": [
        {
          "output_type": "error",
          "ename": "SyntaxError",
          "evalue": "ignored",
          "traceback": [
            "\u001b[0;36m  File \u001b[0;32m\"<ipython-input-18-d4da209d191c>\"\u001b[0;36m, line \u001b[0;32m5\u001b[0m\n\u001b[0;31m    return exp,var\u001b[0m\n\u001b[0m                  \n^\u001b[0m\n\u001b[0;31mSyntaxError\u001b[0m\u001b[0;31m:\u001b[0m EOF while scanning triple-quoted string literal\n"
          ]
        }
      ]
    },
    {
      "cell_type": "code",
      "metadata": {
        "id": "8rQHssYcd_tM",
        "colab_type": "code",
        "colab": {}
      },
      "source": [
        "#linearized loss using daily log return *12\n",
        "mu_d=np.array(getData(1006)[0])*21     #1007 20151231 1/1 LOG RETURN\n",
        "omega_d=np.array(getData(1006)[1])*21\n",
        "vt=193.664                   #20151231 portfolio value\n",
        "wt=np.ones(15)*1/15\n",
        "a=lin_loss(vt,wt,mu_d,omega_d)\n",
        "exp=a[0]\n",
        "var=a[1]\n",
        "print(exp)\n",
        "print(var)\n"
      ],
      "execution_count": 0,
      "outputs": []
    },
    {
      "cell_type": "code",
      "metadata": {
        "id": "NprtvLIyrjma",
        "colab_type": "code",
        "colab": {}
      },
      "source": [
        "#linearized loss using monthly log return\n",
        "mu_m=np.array(getData_m(49)[0])    #first four year monthly log return\n",
        "omega_m=np.array(getData_m(49)[1])\n",
        "#print(omega)\n",
        "vt=193.664                           #20151231 portfolio value\n",
        "wt=np.ones(15)*1/15\n",
        "b=lin_loss(vt,wt,mu_m,omega_m)\n",
        "exp_m=b[0]\n",
        "var_m=b[1]\n",
        "print(exp_m)\n",
        "print(var_m)"
      ],
      "execution_count": 0,
      "outputs": []
    },
    {
      "cell_type": "code",
      "metadata": {
        "id": "24J77HXdzFc9",
        "colab_type": "code",
        "colab": {}
      },
      "source": [
        "def normfun(x,mu,sigma):\n",
        "    pdf = np.exp(-((x - mu)**2)/(2*sigma**2)) / (sigma * np.sqrt(2*np.pi))\n",
        "    return pdf"
      ],
      "execution_count": 0,
      "outputs": []
    },
    {
      "cell_type": "code",
      "metadata": {
        "id": "SH9_7DAhg8kB",
        "colab_type": "code",
        "colab": {}
      },
      "source": [
        "'''\n",
        "with open('loss.csv') as file:\n",
        "      reader=csv.reader(file)\n",
        "      rows=[row[1] for row in reader]\n",
        "      #print(rows)\n",
        "      mu_loss=np.mean([float(row) for row in rows[1:1008]] )\n",
        "      variance=np.var([float(row) for row in rows[1:1008]])\n",
        "      "
      ],
      "execution_count": 0,
      "outputs": []
    },
    {
      "cell_type": "code",
      "metadata": {
        "id": "d2kAdH3rKgic",
        "colab_type": "code",
        "colab": {}
      },
      "source": [
        "x = np.linspace (exp-4*np.sqrt(var), exp+4*np.sqrt(var))\n",
        "y = normfun(x, exp, np.sqrt(var))\n",
        "plt.plot(x,y)\n",
        "plt.title('pdf of linearized loss distribution using theoretical monthly log return')\n"
      ],
      "execution_count": 0,
      "outputs": []
    },
    {
      "cell_type": "code",
      "metadata": {
        "id": "RJG30DEZsOFr",
        "colab_type": "code",
        "colab": {}
      },
      "source": [
        "plt.plot(x, norm.cdf (x, exp, np.sqrt(var)),'g')\n",
        "plt.title('cdf of linearized loss distribution using theoretical monthly log return')"
      ],
      "execution_count": 0,
      "outputs": []
    },
    {
      "cell_type": "code",
      "metadata": {
        "id": "hyHDKxO_eSIc",
        "colab_type": "code",
        "colab": {}
      },
      "source": [
        "x_m = np.linspace (exp_m-4*np.sqrt(var_m), exp_m+4*np.sqrt(var_m))\n",
        "y_m = normfun(x_m, exp_m, np.sqrt(var_m))\n",
        "plt.plot(x_m,y_m)\n",
        "plt.title('pdf of linearized loss distribution using monthly log return')"
      ],
      "execution_count": 0,
      "outputs": []
    },
    {
      "cell_type": "code",
      "metadata": {
        "id": "LynKTLZc2MNa",
        "colab_type": "code",
        "colab": {}
      },
      "source": [
        "#48  ??????????"
      ],
      "execution_count": 0,
      "outputs": []
    },
    {
      "cell_type": "code",
      "metadata": {
        "id": "GFpIBlI8etJ8",
        "colab_type": "code",
        "colab": {}
      },
      "source": [
        "plt.plot(x_m, norm.cdf (x_m, exp_m, np.sqrt(var_m)),'g')\n",
        "plt.title('cdf of linearized loss distribution using monthly log return')"
      ],
      "execution_count": 0,
      "outputs": []
    },
    {
      "cell_type": "code",
      "metadata": {
        "id": "rROQRpcY18yB",
        "colab_type": "code",
        "colab": {}
      },
      "source": [
        "#loss distribution\n",
        "Names=['loss1']\n",
        "for name in Names:\n",
        "    with open(name+'.csv') as file:\n",
        "        reader=csv.reader(file)\n",
        "        rows=[row for row in reader]\n",
        "    DApp=[row[1] for row in rows[1:49]]\n",
        "    DApp=[float(dapp) for dapp in DApp]\n",
        "   #DApp=[math.log(DApp[i]/DApp[i-1]) for i in range(1,len(DApp))]\n",
        "    DApp=sorted(DApp)\n",
        "    DApp=np.array(DApp)\n",
        "    mu_loss,sigma_loss=norm.fit(DApp)\n",
        "    #_,p=chisquare(DApp,norm(mu,sigma).pdf(np.linspace(-50,50,251)))\n",
        "    #print('The p value for '+name+' is %f'%p)\n",
        "    print(mu_loss,sigma_loss)\n",
        "    #print(sigma)\n",
        "    #mu_t,sigma_t,n=t.fit(DApp)\n"
      ],
      "execution_count": 0,
      "outputs": []
    },
    {
      "cell_type": "code",
      "metadata": {
        "id": "EavZfKCtie1h",
        "colab_type": "code",
        "colab": {}
      },
      "source": [
        "#x_loss = np.arange(-0.002,0.0001,0.00001) \n",
        "x_loss=np.linspace (mu_loss-4*sigma_loss, mu_loss+4*sigma_loss)\n",
        "y_loss = normfun(x_loss, mu_loss, sigma_loss)\n",
        "plt.plot(x_loss,y_loss)\n",
        "#plt.hist(DApp,bins=48,density='true')\n",
        "plt.title('pdf of  loss distribution')"
      ],
      "execution_count": 0,
      "outputs": []
    },
    {
      "cell_type": "code",
      "metadata": {
        "id": "WXBNbjCHntXo",
        "colab_type": "code",
        "colab": {}
      },
      "source": [
        "plt.plot(x_loss, norm.cdf (x_loss,mu_loss,sigma_loss),'g')\n",
        "plt.title('cdf of  loss distribution')"
      ],
      "execution_count": 0,
      "outputs": []
    },
    {
      "cell_type": "code",
      "metadata": {
        "id": "TfzOUOU_13Bs",
        "colab_type": "code",
        "colab": {}
      },
      "source": [
        "# t-distribution"
      ],
      "execution_count": 0,
      "outputs": []
    },
    {
      "cell_type": "code",
      "metadata": {
        "id": "j8e7_nnDAuyD",
        "colab_type": "code",
        "colab": {}
      },
      "source": [
        "np.random.seed(1)\n",
        "ks = t.fit(DApp)\n",
        "df = ks[0] #degree of freedom\n",
        "print(df) \n",
        "loc = ks[1] #mean\n",
        "print(loc) \n",
        "scale = ks[2] #sigma\n",
        "print(scale)\n",
        "ks2 = t.rvs(df=df,loc=loc,scale=scale,size=len(DApp))\n",
        "ss.ks_2samp(DApp,ks2)"
      ],
      "execution_count": 0,
      "outputs": []
    },
    {
      "cell_type": "code",
      "metadata": {
        "id": "uX2DvwOYBkUD",
        "colab_type": "code",
        "colab": {}
      },
      "source": [
        "plt.figure()\n",
        "TDistribution = ss.t(ks[0],ks[1],ks[2])\n",
        "x = np.linspace(TDistribution.ppf(0.01), TDistribution.ppf(0.99), 100)\n",
        "plt.plot(x, TDistribution.pdf(x),c='orange')\n",
        "plt.xlabel('loss')\n",
        "plt.title('pdf of T-Distribution',size=20)\n",
        "\n"
      ],
      "execution_count": 0,
      "outputs": []
    },
    {
      "cell_type": "code",
      "metadata": {
        "id": "3brfpS7JDoVV",
        "colab_type": "code",
        "colab": {}
      },
      "source": [
        "plt.plot(x, TDistribution.cdf(x),c='orange')\n",
        "plt.title('cdf of T-Distribution',size=20)"
      ],
      "execution_count": 0,
      "outputs": []
    },
    {
      "cell_type": "code",
      "metadata": {
        "id": "GeXIvi6Q-Las",
        "colab_type": "code",
        "colab": {}
      },
      "source": [
        "#problem3"
      ],
      "execution_count": 0,
      "outputs": []
    },
    {
      "cell_type": "code",
      "metadata": {
        "id": "Spd-Pp79CSiW",
        "colab_type": "code",
        "colab": {}
      },
      "source": [
        "with open('loss.csv') as file:\n",
        "      reader=csv.reader(file)\n",
        "      values=[row[0] for row in reader]\n",
        "      values_future=[float(row)*100 for row in values[1007:2013]]\n",
        "      #print(values_future)\n",
        "      "
      ],
      "execution_count": 0,
      "outputs": []
    },
    {
      "cell_type": "code",
      "metadata": {
        "id": "4zKsrVMEDyts",
        "colab_type": "code",
        "colab": {}
      },
      "source": [
        "with open('loss.csv') as file:\n",
        "      reader=csv.reader(file)\n",
        "      log_returns=[row[2] for row in reader]\n",
        "      log_returns_future=[float(row) for row in log_returns[1007:2013]]\n",
        "      #print(log_returns_future)"
      ],
      "execution_count": 0,
      "outputs": []
    },
    {
      "cell_type": "code",
      "metadata": {
        "id": "fExwztal-WEe",
        "colab_type": "code",
        "colab": {}
      },
      "source": [
        "X=np.arange(1008,2013,1)\n",
        "plt.plot(X,values_future,'b')\n",
        "plt.plot(X,log_returns_future,'r')\n",
        "plt.legend()"
      ],
      "execution_count": 0,
      "outputs": []
    },
    {
      "cell_type": "code",
      "metadata": {
        "id": "OoEFMA7e1xxe",
        "colab_type": "code",
        "colab": {}
      },
      "source": [
        "'''\n",
        "x = np.arange(-0.05, 0.125, 0.005)\n",
        "\n",
        "y = TDistribution.cdf(x)\n",
        "\n",
        "plt.plot(x, y)\n",
        "\n",
        "sorted_ = np.sort(DApp)\n",
        "yvals = np.arange(len(sorted_))/float(len(sorted_))\n",
        "plt.plot(sorted_, yvals)\n",
        "\n",
        "x_label = t.ppf(yvals)\n",
        "plt.scatter(x_label, sorted_)\n",
        "\n",
        "ss.probplot(DApp, dist=\"t\", plot=plt)\n",
        "print('QQ plot for t distribution')\n",
        "plt.show()"
      ],
      "execution_count": 0,
      "outputs": []
    },
    {
      "cell_type": "code",
      "metadata": {
        "id": "EuA1XmmlJZtN",
        "colab_type": "code",
        "colab": {}
      },
      "source": [
        "#3(d) rolling window for linearized loss using daily log return\n",
        "mu2=np.zeros(15)\n",
        "names=['CAT','DIA','HD','MSFT','NKE','NVDA','PG','TM','VIG','VOO','WMT','GOOG','CHEF','SPB','ORCL']\n",
        "def getData1(M):\n",
        "    Is=[i for i in range(15)]\n",
        "    Rows=[]\n",
        "    for name,i in zip(names,Is):\n",
        "        with open(name+'.csv') as file:\n",
        "            reader=csv.reader(file)\n",
        "            rows=[row[2] for row in reader]\n",
        "        mu2[i]=np.mean([float(row) for row in rows[1+21*M:1006+21*M]])\n",
        "        Rows.append([float(row) for row in rows[1+21*M:1006+21*M]])\n",
        "    Omega=np.cov(np.array(Rows))\n",
        "    return mu2,Omega"
      ],
      "execution_count": 0,
      "outputs": []
    },
    {
      "cell_type": "code",
      "metadata": {
        "id": "MkT3y9rrs_c0",
        "colab_type": "code",
        "colab": {}
      },
      "source": [
        "#monthly portfolio value\n",
        "Names=['loss1']\n",
        "for name in Names:\n",
        "    with open(name+'.csv') as file:\n",
        "        reader=csv.reader(file)\n",
        "        rows=[row for row in reader]\n",
        "    PORT_VAL=[row[2] for row in rows[49:97]]\n",
        "    PORT_VAL=[float(p) for p in PORT_VAL]\n",
        "    #mu_loss,sigma_loss=norm.fit(DApp)\n",
        "    #_,p=chisquare(DApp,norm(mu,sigma).pdf(np.linspace(-50,50,251)))\n",
        "    #print('The p value for '+name+' is %f'%p)\n",
        "    print(PORT_VAL)\n",
        "    \n"
      ],
      "execution_count": 0,
      "outputs": []
    },
    {
      "cell_type": "code",
      "metadata": {
        "id": "J3SXBe7yjFYc",
        "colab_type": "code",
        "colab": {}
      },
      "source": [
        "#3(d) rolling window for linearized loss using monthly log return\n",
        "mu2_m=np.zeros(15)\n",
        "names_2=['CAT_2','DIA_2','HD_2','MSFT_2','NKE_2','NVDA_2','PG_2','TM_2','VIG_2','VOO_2','WMT_2','GOOG_2','CHEF_2','SPB_2','ORCL_2']\n",
        "def getData1_m(M):\n",
        "    Is=[i for i in range(15)]\n",
        "    Rows=[]\n",
        "    for name,i in zip(names_2,Is):\n",
        "        with open(name+'.csv') as file:\n",
        "            reader=csv.reader(file)\n",
        "            rows=[row[0] for row in reader]\n",
        "        mu2_m[i]=np.mean([float(row) for row in rows[1+M:49+M]])\n",
        "        Rows.append([float(row) for row in rows[1+M:49+M]])\n",
        "    Omega=np.cov(np.array(Rows))\n",
        "    return mu2_m,Omega"
      ],
      "execution_count": 0,
      "outputs": []
    },
    {
      "cell_type": "code",
      "metadata": {
        "id": "OAJmTm-JDScZ",
        "colab_type": "code",
        "colab": {}
      },
      "source": [
        "'''\n",
        "#rolling window for linearized loss using daily log return \n",
        "for M in range(48):\n",
        "  data3= getData1(M+1)\n",
        "  mu3=data3[0]*21\n",
        "  omega3=data3[1]*21\n",
        "  vt=PORT_VAL[M]\n",
        "  a3=lin_loss(vt,wt,mu3,omega3)\n",
        "  #print(a3[0])\n",
        "  print(a3[1])\n",
        "  x = np.linspace (a3[0]-4*np.sqrt(a3[1]), a3[0]+4*np.sqrt(a3[1]))\n",
        "  y = normfun(x, a3[0], np.sqrt(a3[1]))\n",
        "  plt.plot(x,y)\n",
        "  "
      ],
      "execution_count": 0,
      "outputs": []
    },
    {
      "cell_type": "code",
      "metadata": {
        "id": "W1yyFM2RjCXV",
        "colab_type": "code",
        "colab": {}
      },
      "source": [
        "#rolling window for linearized loss using monthly log return \n",
        "for M in range(48):\n",
        "  data3_m= getData1_m(M+1)\n",
        "  mu3_m=data3_m[0]\n",
        "  omega3_m=data3_m[1]\n",
        "  vt=PORT_VAL[M]\n",
        "  a3_m=lin_loss(vt,wt,mu3_m,omega3_m)\n",
        "  #print(a3_m[0])\n",
        "  #print(a3_m[1])\n",
        "  x = np.linspace (a3_m[0]-4*np.sqrt(a3_m[1]), a3_m[0]+4*np.sqrt(a3_m[1]))\n",
        "  y = normfun(x, a3_m[0], np.sqrt(a3_m[1]))\n",
        "  plt.plot(x,y)\n",
        "  plt.title('PDF of linearized loss distribution using four year rolling window')"
      ],
      "execution_count": 0,
      "outputs": []
    },
    {
      "cell_type": "code",
      "metadata": {
        "id": "OxmRADjCI5r6",
        "colab_type": "code",
        "colab": {}
      },
      "source": [
        "#rolling window for t distribution\n",
        "def getData2(M):\n",
        "  Names=['loss1']\n",
        "  for name in Names:\n",
        "    with open(name+'.csv') as file:\n",
        "        reader=csv.reader(file)\n",
        "        rows=[row for row in reader]\n",
        "    Loss=[row[1] for row in rows[1+M:49+M]]\n",
        "    Loss=[float(l) for l in Loss]\n",
        "    Loss=sorted(Loss)\n",
        "    Loss=np.array(Loss)\n",
        "    #mu_loss,sigma_loss=norm.fit(Loss)\n",
        "    np.random.seed(1)\n",
        "    ks = t.fit(Loss)\n",
        "    df = ks[0]\n",
        "    loc = ks[1]\n",
        "    scale = ks[2]\n",
        "    T=[df,loc,scale]\n",
        "    #N=[mu_loss,sigma_loss]\n",
        "    return T\n",
        "    \n"
      ],
      "execution_count": 0,
      "outputs": []
    },
    {
      "cell_type": "code",
      "metadata": {
        "id": "SsgXbjDK5xnC",
        "colab_type": "code",
        "colab": {}
      },
      "source": [
        "#rolling window for normal  distribution\n",
        "def getData3(M):\n",
        "  Names=['loss1']\n",
        "  for name in Names:\n",
        "    with open(name+'.csv') as file:\n",
        "        reader=csv.reader(file)\n",
        "        rows=[row for row in reader]\n",
        "    Loss=[row[1] for row in rows[1+M:49+M]]\n",
        "    Loss=[float(l) for l in Loss]\n",
        "    Loss=sorted(Loss)\n",
        "    Loss=np.array(Loss)\n",
        "    mu_loss,sigma_loss=norm.fit(Loss)\n",
        "    N=[mu_loss,sigma_loss]\n",
        "    return N"
      ],
      "execution_count": 0,
      "outputs": []
    },
    {
      "cell_type": "code",
      "metadata": {
        "id": "8dYCX44pNCtY",
        "colab_type": "code",
        "colab": {}
      },
      "source": [
        "for M in range(48):\n",
        "  L=getData2(M)\n",
        "  \n",
        "  print(L)"
      ],
      "execution_count": 0,
      "outputs": []
    },
    {
      "cell_type": "code",
      "metadata": {
        "id": "onWIPcqNoslc",
        "colab_type": "code",
        "colab": {}
      },
      "source": [
        "for M in range(48):\n",
        "  L=getData2(M)\n",
        "  TDistribution = ss.t(L[0],L[1],L[2])\n",
        "  x = np.linspace(TDistribution.ppf(0.01), TDistribution.ppf(0.99), 100)\n",
        "  plt.plot(x, TDistribution.pdf(x),c='orange')\n",
        "  plt.title('PDF of t-distribution using four year rolling window')\n",
        "  ks2 = ss.t.rvs(df=L[0],loc=L[1],scale=L[2],size=len(Loss))\n",
        "  #print((ss.ks_2samp(Loss,ks2))[0])\n",
        "  \n",
        "  # T-distri shift to left, close to normal distri"
      ],
      "execution_count": 0,
      "outputs": []
    },
    {
      "cell_type": "code",
      "metadata": {
        "id": "1oN0_MT76AeI",
        "colab_type": "code",
        "colab": {}
      },
      "source": [
        "for M in range(48):\n",
        "  L=getData3(M)\n",
        "  x_loss=np.linspace (L[0]-4*L[1], L[0]+4*L[1])\n",
        "  y_loss = normfun(x_loss, L[0], L[1])\n",
        "  plt.plot(x_loss,y_loss)\n",
        "  #plt.hist(DApp,bins=48,density='true')\n",
        "  plt.title('PDF of normal monthly distribution using four year rolling window')"
      ],
      "execution_count": 0,
      "outputs": []
    },
    {
      "cell_type": "code",
      "metadata": {
        "id": "9IpK7hv2Ikhg",
        "colab_type": "code",
        "colab": {}
      },
      "source": [
        "'''\n",
        "for M in range(48):\n",
        "  np.random.seed(1)\n",
        "  ks = t.fit(DApp)\n",
        "  df = ks[0]\n",
        "#print(df)\n",
        "loc = ks[1]\n",
        "#print(loc)\n",
        "scale = ks[2]\n",
        "#print(scale)\n",
        "ks2 = t.rvs(df=df,loc=loc,scale=scale,size=len(DApp))\n",
        "ss.ks_2samp(DApp,ks2)"
      ],
      "execution_count": 0,
      "outputs": []
    },
    {
      "cell_type": "code",
      "metadata": {
        "id": "ezDYyTUIHnnA",
        "colab_type": "code",
        "colab": {}
      },
      "source": [
        "with open('loss1.csv') as file:\n",
        "    reader=csv.reader(file)\n",
        "    rows=[row for row in reader]\n",
        "    Loss=[row[1] for row in rows[49:97]]\n",
        "    Loss=[float(l) for l in Loss]\n",
        "    Loss=sorted(Loss)\n",
        "    Loss=np.array(Loss)\n",
        "    ss.probplot(Loss, dist=\"norm\", plot=plt)\n",
        "    plt.show()\n",
        "    \n"
      ],
      "execution_count": 0,
      "outputs": []
    },
    {
      "cell_type": "code",
      "metadata": {
        "id": "5dpmwM6uOTkI",
        "colab_type": "code",
        "colab": {}
      },
      "source": [
        "print(Loss)"
      ],
      "execution_count": 0,
      "outputs": []
    },
    {
      "cell_type": "code",
      "metadata": {
        "id": "pZwEqrF_gdVL",
        "colab_type": "code",
        "colab": {}
      },
      "source": [
        "muu,sigmaa=norm.fit(Loss)\n",
        "print(muu,sigmaa)"
      ],
      "execution_count": 0,
      "outputs": []
    },
    {
      "cell_type": "code",
      "metadata": {
        "id": "PUgvDcqvNPDT",
        "colab_type": "code",
        "colab": {}
      },
      "source": [
        "np.random.seed(1)\n",
        "ks1 = ss.t.fit(Loss)\n",
        "nu = ks1[0]\n",
        "mu = ks1[1]\n",
        "sigma = ks1[2]\n",
        "ks2 = ss.t.rvs(df=nu,loc=mu,scale=sigma,size=len(Loss))\n",
        "ss.ks_2samp(Loss,ks2)\n",
        "print(nu,mu,sigma)\n",
        "#pvalue > 0.05 We fail to reject the null  hypothesis"
      ],
      "execution_count": 0,
      "outputs": []
    },
    {
      "cell_type": "code",
      "metadata": {
        "id": "A3owGkOdNxp3",
        "colab_type": "code",
        "colab": {}
      },
      "source": [
        ""
      ],
      "execution_count": 0,
      "outputs": []
    },
    {
      "cell_type": "code",
      "metadata": {
        "id": "JUpZg1a9uHem",
        "colab_type": "code",
        "colab": {}
      },
      "source": [
        ""
      ],
      "execution_count": 0,
      "outputs": []
    }
  ]
}