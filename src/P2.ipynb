{
  "nbformat": 4,
  "nbformat_minor": 0,
  "metadata": {
    "colab": {
      "name": "P2.ipynb",
      "provenance": [],
      "collapsed_sections": [],
      "authorship_tag": "ABX9TyP9Z0XWm8+Fd+aCGm8/bTW/",
      "include_colab_link": true
    },
    "kernelspec": {
      "name": "python3",
      "display_name": "Python 3"
    }
  },
  "cells": [
    {
      "cell_type": "markdown",
      "metadata": {
        "id": "view-in-github",
        "colab_type": "text"
      },
      "source": [
        "<a href=\"https://colab.research.google.com/github/gannannavelorange/575/blob/master/src/P2.ipynb\" target=\"_parent\"><img src=\"https://colab.research.google.com/assets/colab-badge.svg\" alt=\"Open In Colab\"/></a>"
      ]
    },
    {
      "cell_type": "code",
      "metadata": {
        "id": "PSTfdBJJDCLW",
        "colab_type": "code",
        "outputId": "9e270889-5c09-4a28-a3c9-f23eee08eb4f",
        "colab": {
          "base_uri": "https://localhost:8080/",
          "height": 139
        }
      },
      "source": [
        "!git clone https://github.com/gannannavelorange/575"
      ],
      "execution_count": 1,
      "outputs": [
        {
          "output_type": "stream",
          "text": [
            "Cloning into '575'...\n",
            "remote: Enumerating objects: 18, done.\u001b[K\n",
            "remote: Counting objects: 100% (18/18), done.\u001b[K\n",
            "remote: Compressing objects: 100% (18/18), done.\u001b[K\n",
            "remote: Total 146 (delta 3), reused 0 (delta 0), pack-reused 128\u001b[K\n",
            "Receiving objects: 100% (146/146), 689.54 KiB | 12.10 MiB/s, done.\n",
            "Resolving deltas: 100% (33/33), done.\n"
          ],
          "name": "stdout"
        }
      ]
    },
    {
      "cell_type": "code",
      "metadata": {
        "id": "_pO8DkP3DEk7",
        "colab_type": "code",
        "outputId": "ec5ed7ea-834f-4db7-ce3a-5db1337f4850",
        "colab": {
          "base_uri": "https://localhost:8080/",
          "height": 35
        }
      },
      "source": [
        "cd 575/src/data"
      ],
      "execution_count": 2,
      "outputs": [
        {
          "output_type": "stream",
          "text": [
            "/content/575/src/data\n"
          ],
          "name": "stdout"
        }
      ]
    },
    {
      "cell_type": "code",
      "metadata": {
        "id": "Vn44rz1ODGZ4",
        "colab_type": "code",
        "colab": {}
      },
      "source": [
        "import numpy as np\n",
        "import pandas as pd\n",
        "import matplotlib\n",
        "import matplotlib.pyplot as plt\n",
        "import math\n",
        "import csv\n",
        "import statsmodels.api as sm\n",
        "import scipy.stats as ss\n",
        "from scipy.stats import norm\n",
        "from scipy.stats import t\n",
        "from scipy.stats import chisquare\n"
      ],
      "execution_count": 0,
      "outputs": []
    },
    {
      "cell_type": "code",
      "metadata": {
        "id": "3-fZ-Hmqrxa-",
        "colab_type": "code",
        "colab": {
          "base_uri": "https://localhost:8080/",
          "height": 55
        },
        "outputId": "afc7dd32-1f46-4fa7-c1a6-aeb3a88fa437"
      },
      "source": [
        "data=pd.read_csv(\"GOOG1.csv\",header=None)\n",
        "list=data.values.tolist()\n",
        "#list=np.array(list)\n",
        "print(list)\n"
      ],
      "execution_count": 10,
      "outputs": [
        {
          "output_type": "stream",
          "text": [
            "[['Adj Close'], ['550.518555'], ['546.499573'], ['541.074463'], ['534.063721'], ['535.295349'], ['535.549622'], ['540.127075'], ['539.299377'], ['538.531433'], ['537.693787'], ['528.937805'], ['531.07196'], ['532.33844'], ['522.615173'], ['533.914124'], ['532.507996'], ['537.888245'], ['545.502319'], ['563.512878'], ['555.369995'], ['553.679993'], ['549.080017'], ['537.340027'], ['537.900024'], ['540.780029'], ['530.799988'], ['524.219971'], ['530.700012'], ['538.219971'], ['535.700012'], ['529.039978'], ['529.619995'], ['538.400024'], ['533.849976'], ['532.299988'], ['537.359985'], ['539.27002'], ['542.51001'], ['540.109985'], ['532.320007'], ['539.789978'], ['539.780029'], ['532.109985'], ['533.98999'], ['539.179993'], ['540.309998'], ['536.700012'], ['533.330017'], ['526.830017'], ['526.690002'], ['536.690002'], ['534.609985'], ['532.330017'], ['527.200012'], ['528.150024'], ['529.26001'], ['536.72998'], ['536.690002'], ['538.190002'], ['540.47998'], ['537.840027'], ['535.22998'], ['531.690002'], ['521.52002'], ['520.51001'], ['521.840027'], ['523.400024'], ['522.859985'], ['525.02002'], ['516.830017'], ['520.679993'], ['530.130005'], ['546.549988'], ['561.099976'], ['560.219971'], ['579.849976'], ['672.929993'], ['663.02002'], ['662.299988'], ['662.099976'], ['644.280029'], ['623.559998'], ['627.26001'], ['628'], ['631.929993'], ['632.590027'], ['625.609985'], ['631.210022'], ['629.25'], ['643.780029'], ['642.679993'], ['635.299988'], ['633.72998'], ['660.780029'], ['659.559998'], ['656.450012'], ['657.119995'], ['660.869995'], ['656.130005'], ['660.900024'], ['646.830017'], ['612.47998'], ['589.609985'], ['582.059998'], ['628.619995'], ['637.609985'], ['630.380005'], ['618.25'], ['597.789978'], ['614.340027'], ['606.25'], ['600.700012'], ['614.659973'], ['612.719971'], ['621.349976'], ['625.77002'], ['623.23999'], ['635.140015'], ['635.97998'], ['642.900024'], ['629.25'], ['635.440002'], ['622.690002'], ['622.359985'], ['625.799988'], ['611.969971'], ['594.890015'], ['594.969971'], ['608.419983'], ['611.289978'], ['626.909973'], ['641.469971'], ['645.440002'], ['642.359985'], ['639.159973'], ['643.609985'], ['646.669983'], ['652.299988'], ['651.159973'], ['661.73999'], ['662.200012'], ['666.099976'], ['650.280029'], ['642.609985'], ['651.789978'], ['702'], ['712.780029'], ['708.48999'], ['712.950012'], ['716.919983'], ['710.809998'], ['721.109985'], ['722.159973'], ['728.109985'], ['731.25'], ['733.76001'], ['724.890015'], ['728.320007'], ['735.400024'], ['731.22998'], ['717'], ['728.960022'], ['725.299988'], ['740'], ['738.409973'], ['756.599976'], ['755.97998'], ['748.280029'], ['748.150024'], ['750.26001'], ['742.599976'], ['767.039978'], ['762.380005'], ['752.539978'], ['766.809998'], ['763.25'], ['762.369995'], ['751.609985'], ['749.460022'], ['738.869995'], ['747.77002'], ['743.400024'], ['758.090027'], ['749.429993'], ['739.309998'], ['747.77002'], ['750'], ['750.309998'], ['748.400024'], ['762.51001'], ['776.599976'], ['771'], ['758.880005'], ['741.840027'], ['742.580017'], ['743.619995'], ['726.390015'], ['714.469971'], ['716.030029'], ['726.070007'], ['700.559998'], ['714.719971'], ['694.450012'], ['701.789978'], ['698.450012'], ['706.590027'], ['725.25'], ['711.669983'], ['713.039978'], ['699.98999'], ['730.960022'], ['742.950012'], ['752'], ['764.650024'], ['726.950012'], ['708.01001'], ['683.570007'], ['682.73999'], ['678.109985'], ['684.119995'], ['683.109985'], ['682.400024'], ['691'], ['708.400024'], ['697.349976'], ['700.909973'], ['706.460022'], ['695.849976'], ['699.559998'], ['705.75'], ['705.070007'], ['697.77002'], ['718.809998'], ['718.849976'], ['712.419983'], ['710.890015'], ['695.159973'], ['693.969971'], ['705.23999'], ['712.820007'], ['726.820007'], ['730.48999'], ['728.330017'], ['736.090027'], ['737.780029'], ['737.599976'], ['742.090027'], ['740.75'], ['738.059998'], ['735.299988'], ['733.530029'], ['744.77002'], ['750.530029'], ['744.950012'], ['749.909973'], ['745.289978'], ['737.799988'], ['745.690002'], ['740.280029'], ['739.150024'], ['736.099976'], ['743.090027'], ['751.719971'], ['753.200012'], ['759'], ['766.609985'], ['753.929993'], ['752.669983'], ['759.140015'], ['718.77002'], ['723.150024'], ['708.140015'], ['705.840027'], ['691.02002'], ['693.01001'], ['698.210022'], ['692.359985'], ['695.700012'], ['701.429993'], ['711.119995'], ['712.900024'], ['723.179993'], ['715.289978'], ['713.309998'], ['710.830017'], ['716.48999'], ['706.22998'], ['706.630005'], ['700.320007'], ['709.73999'], ['704.23999'], ['720.090027'], ['725.27002'], ['724.119995'], ['732.659973'], ['735.719971'], ['734.150024'], ['730.400024'], ['722.340027'], ['716.549988'], ['716.650024'], ['728.280029'], ['728.580017'], ['719.409973'], ['718.359985'], ['718.27002'], ['718.919983'], ['710.359985'], ['691.719971'], ['693.710022'], ['695.940002'], ['697.460022'], ['701.869995'], ['675.219971'], ['668.26001'], ['680.039978'], ['684.109985'], ['692.099976'], ['699.210022'], ['694.950012'], ['697.77002'], ['695.359985'], ['705.630005'], ['715.090027'], ['720.640015'], ['716.97998'], ['720.950012'], ['719.849976'], ['733.780029'], ['736.960022'], ['741.190002'], ['738.630005'], ['742.73999'], ['739.77002'], ['738.419983'], ['741.77002'], ['745.909973'], ['768.789978'], ['772.880005'], ['771.070007'], ['773.179993'], ['771.609985'], ['782.219971'], ['781.76001'], ['784.26001'], ['784.679993'], ['784.849976'], ['783.219971'], ['782.440002'], ['777.140015'], ['779.909973'], ['777.5'], ['775.419983'], ['772.150024'], ['772.080017'], ['769.640015'], ['769.409973'], ['769.539978'], ['772.150024'], ['769.090027'], ['767.049988'], ['768.780029'], ['771.460022'], ['780.080017'], ['780.349976'], ['775.320007'], ['759.659973'], ['769.02002'], ['759.690002'], ['762.48999'], ['771.76001'], ['768.880005'], ['765.700012'], ['771.409973'], ['776.219971'], ['787.210022'], ['786.900024'], ['774.210022'], ['783.01001'], ['781.559998'], ['775.01001'], ['777.289978'], ['772.559998'], ['776.429993'], ['776.469971'], ['776.859985'], ['775.080017'], ['785.940002'], ['783.070007'], ['786.140015'], ['778.190002'], ['778.530029'], ['779.960022'], ['795.26001'], ['801.5'], ['796.969971'], ['799.369995'], ['813.109985'], ['807.669983'], ['799.070007'], ['795.349976'], ['795.369995'], ['784.539978'], ['783.609985'], ['768.700012'], ['762.130005'], ['762.02002'], ['782.52002'], ['790.51001'], ['785.309998'], ['762.559998'], ['754.02002'], ['736.080017'], ['758.48999'], ['764.47998'], ['771.22998'], ['760.539978'], ['769.200012'], ['768.27002'], ['760.98999'], ['761.679993'], ['768.23999'], ['770.840027'], ['758.039978'], ['747.919983'], ['750.5'], ['762.52002'], ['759.109985'], ['771.190002'], ['776.419983'], ['789.289978'], ['789.27002'], ['796.099976'], ['797.070007'], ['797.849976'], ['790.799988'], ['794.200012'], ['796.419983'], ['794.559998'], ['791.26001'], ['789.909973'], ['791.549988'], ['785.049988'], ['782.789978'], ['771.820007'], ['786.140015'], ['786.900024'], ['794.02002'], ['806.150024'], ['806.650024'], ['804.789978'], ['807.909973'], ['806.359985'], ['807.880005'], ['804.609985'], ['806.070007'], ['802.174988'], ['805.02002'], ['819.309998'], ['823.869995'], ['835.669983'], ['832.150024'], ['823.309998'], ['802.320007'], ['796.789978'], ['795.695007'], ['798.530029'], ['801.48999'], ['801.340027'], ['806.969971'], ['808.380005'], ['809.559998'], ['813.669983'], ['819.23999'], ['820.450012'], ['818.97998'], ['824.159973'], ['828.070007'], ['831.659973'], ['830.76001'], ['831.330017'], ['828.640015'], ['829.280029'], ['823.210022'], ['835.23999'], ['830.630005'], ['829.080017'], ['827.780029'], ['831.909973'], ['835.369995'], ['838.679993'], ['843.25'], ['845.539978'], ['845.619995'], ['847.200012'], ['848.780029'], ['852.119995'], ['848.400024'], ['830.460022'], ['829.590027'], ['817.580017'], ['814.429993'], ['819.51001'], ['820.919983'], ['831.409973'], ['831.5'], ['829.559998'], ['838.549988'], ['834.570007'], ['831.409973'], ['827.880005'], ['824.669983'], ['824.72998'], ['823.349976'], ['824.320007'], ['823.559998'], ['837.169983'], ['836.820007'], ['838.210022'], ['841.650024'], ['843.190002'], ['862.76001'], ['872.299988'], ['871.72998'], ['874.25'], ['905.960022'], ['912.570007'], ['916.440002'], ['927.039978'], ['931.659973'], ['927.130005'], ['934.299988'], ['932.169983'], ['928.780029'], ['930.599976'], ['932.219971'], ['937.080017'], ['943'], ['919.619995'], ['930.23999'], ['934.01001'], ['941.859985'], ['948.820007'], ['954.960022'], ['969.539978'], ['971.469971'], ['975.880005'], ['964.859985'], ['966.950012'], ['975.599976'], ['983.679993'], ['976.570007'], ['980.940002'], ['983.409973'], ['949.830017'], ['942.900024'], ['953.400024'], ['950.76001'], ['942.309998'], ['939.780029'], ['957.369995'], ['950.630005'], ['959.450012'], ['957.090027'], ['965.590027'], ['952.27002'], ['927.330017'], ['940.48999'], ['917.789978'], ['908.72998'], ['898.700012'], ['911.710022'], ['906.690002'], ['918.590027'], ['928.799988'], ['930.090027'], ['943.830017'], ['947.159973'], ['955.98999'], ['953.419983'], ['965.400024'], ['970.890015'], ['968.150024'], ['972.919983'], ['980.340027'], ['950.700012'], ['947.799988'], ['934.090027'], ['941.530029'], ['930.5'], ['930.830017'], ['930.390015'], ['923.650024'], ['927.960022'], ['929.359985'], ['926.789978'], ['922.900024'], ['907.23999'], ['914.390015'], ['922.669983'], ['922.219971'], ['926.960022'], ['910.97998'], ['910.669983'], ['906.659973'], ['924.690002'], ['927'], ['921.280029'], ['915.890015'], ['913.809998'], ['921.289978'], ['929.570007'], ['939.330017'], ['937.340027'], ['928.450012'], ['927.809998'], ['935.950012'], ['926.5'], ['929.080017'], ['932.070007'], ['935.090027'], ['925.109985'], ['920.289978'], ['915'], ['921.809998'], ['931.580017'], ['932.450012'], ['928.530029'], ['920.969971'], ['924.859985'], ['944.48999'], ['949.5'], ['959.109985'], ['953.27002'], ['957.789978'], ['951.679993'], ['969.960022'], ['978.890015'], ['977'], ['972.599976'], ['989.25'], ['987.830017'], ['989.679993'], ['992'], ['992.179993'], ['992.809998'], ['984.450012'], ['988.200012'], ['968.450012'], ['970.539978'], ['973.330017'], ['972.559998'], ['1019.27002'], ['1017.109985'], ['1016.640015'], ['1025.5'], ['1025.579956'], ['1032.47998'], ['1025.900024'], ['1033.329956'], ['1039.849976'], ['1031.26001'], ['1028.069946'], ['1025.75'], ['1026'], ['1020.909973'], ['1032.5'], ['1019.090027'], ['1018.380005'], ['1034.48999'], ['1035.959961'], ['1040.609985'], ['1054.209961'], ['1047.410034'], ['1021.659973'], ['1021.409973'], ['1010.169983'], ['998.679993'], ['1005.150024'], ['1018.380005'], ['1030.930054'], ['1037.050049'], ['1041.099976'], ['1040.47998'], ['1040.609985'], ['1049.150024'], ['1064.189941'], ['1077.140015'], ['1070.680054'], ['1064.949951'], ['1063.630005'], ['1060.119995'], ['1056.73999'], ['1049.369995'], ['1048.140015'], ['1046.400024'], ['1065'], ['1082.47998'], ['1086.400024'], ['1102.22998'], ['1106.939941'], ['1106.26001'], ['1102.609985'], ['1105.52002'], ['1122.26001'], ['1121.76001'], ['1131.97998'], ['1129.790039'], ['1137.51001'], ['1155.810059'], ['1169.969971'], ['1164.23999'], ['1170.369995'], ['1175.839966'], ['1175.579956'], ['1163.689941'], ['1169.939941'], ['1167.699951'], ['1111.900024'], ['1055.800049'], ['1080.599976'], ['1048.579956'], ['1001.52002'], ['1037.780029'], ['1051.939941'], ['1052.099976'], ['1069.699951'], ['1089.52002'], ['1094.800049'], ['1102.459961'], ['1111.339966'], ['1106.630005'], ['1126.790039'], ['1143.75'], ['1118.290039'], ['1104.72998'], ['1069.52002'], ['1078.920044'], ['1090.930054'], ['1095.060059'], ['1109.640015'], ['1126'], ['1160.040039'], ['1164.5'], ['1138.170044'], ['1149.48999'], ['1149.579956'], ['1135.72998'], ['1099.819946'], ['1097.709961'], ['1090.880005'], ['1049.079956'], ['1021.570007'], ['1053.209961'], ['1005.099976'], ['1004.559998'], ['1031.790039'], ['1006.469971'], ['1013.409973'], ['1025.140015'], ['1027.810059'], ['1007.039978'], ['1015.450012'], ['1031.640015'], ['1019.969971'], ['1032.51001'], ['1029.27002'], ['1037.97998'], ['1074.160034'], ['1072.079956'], ['1087.699951'], ['1072.959961'], ['1067.449951'], ['1019.97998'], ['1021.179993'], ['1040.040039'], ['1030.050049'], ['1017.330017'], ['1037.310059'], ['1024.380005'], ['1023.719971'], ['1048.209961'], ['1054.790039'], ['1053.910034'], ['1082.76001'], ['1097.569946'], ['1098.26001'], ['1100.199951'], ['1079.22998'], ['1081.77002'], ['1078.589966'], ['1066.359985'], ['1079.579956'], ['1069.72998'], ['1079.689941'], ['1079.23999'], ['1075.660034'], ['1060.319946'], ['1067.800049'], ['1084.98999'], ['1119.5'], ['1139.290039'], ['1139.660034'], ['1136.880005'], ['1123.859985'], ['1120.869995'], ['1129.98999'], ['1139.319946'], ['1134.790039'], ['1152.119995'], ['1152.26001'], ['1173.459961'], ['1168.060059'], ['1169.839966'], ['1157.660034'], ['1155.47998'], ['1124.810059'], ['1118.459961'], ['1103.97998'], ['1114.219971'], ['1115.650024'], ['1127.459961'], ['1102.890015'], ['1124.27002'], ['1140.170044'], ['1154.050049'], ['1152.839966'], ['1153.900024'], ['1183.47998'], ['1188.819946'], ['1183.859985'], ['1198.800049'], ['1195.880005'], ['1186.959961'], ['1184.910034'], ['1205.5'], ['1248.079956'], ['1263.699951'], ['1268.329956'], ['1238.5'], ['1219.73999'], ['1217.26001'], ['1220.01001'], ['1226.150024'], ['1223.709961'], ['1224.77002'], ['1242.219971'], ['1245.609985'], ['1249.099976'], ['1237.609985'], ['1235.01001'], ['1242.099976'], ['1214.380005'], ['1206.48999'], ['1200.959961'], ['1207.77002'], ['1201.619995'], ['1207.329956'], ['1205.380005'], ['1220.650024'], ['1241.819946'], ['1231.150024'], ['1249.300049'], ['1239.119995'], ['1218.189941'], ['1197'], ['1186.47998'], ['1171.439941'], ['1164.829956'], ['1164.640015'], ['1177.359985'], ['1162.819946'], ['1175.329956'], ['1172.530029'], ['1156.050049'], ['1161.219971'], ['1171.089966'], ['1186.869995'], ['1166.089966'], ['1173.369995'], ['1184.650024'], ['1180.48999'], ['1194.640015'], ['1193.469971'], ['1195.310059'], ['1200.109985'], ['1202.949951'], ['1168.189941'], ['1157.349976'], ['1148.969971'], ['1138.819946'], ['1081.219971'], ['1079.319946'], ['1110.079956'], ['1092.25'], ['1121.280029'], ['1115.689941'], ['1087.969971'], ['1096.459961'], ['1101.160034'], ['1103.689941'], ['1050.709961'], ['1095.569946'], ['1071.469971'], ['1020.080017'], ['1036.209961'], ['1076.77002'], ['1070'], ['1057.790039'], ['1040.089966'], ['1055.810059'], ['1093.390015'], ['1082.400024'], ['1066.150024'], ['1038.630005'], ['1036.050049'], ['1043.660034'], ['1064.709961'], ['1061.48999'], ['1020'], ['1025.76001'], ['1037.609985'], ['1023.880005'], ['1048.619995'], ['1044.410034'], ['1086.22998'], ['1088.300049'], ['1094.430054'], ['1106.430054'], ['1050.819946'], ['1068.72998'], ['1036.579956'], ['1039.550049'], ['1051.75'], ['1063.680054'], ['1061.900024'], ['1042.099976'], ['1016.530029'], ['1028.709961'], ['1023.01001'], ['1009.409973'], ['979.539978'], ['976.219971'], ['1039.459961'], ['1043.880005'], ['1037.079956'], ['1035.609985'], ['1045.849976'], ['1016.059998'], ['1070.709961'], ['1068.390015'], ['1076.280029'], ['1074.660034'], ['1070.329956'], ['1057.189941'], ['1044.689941'], ['1077.150024'], ['1080.969971'], ['1089.900024'], ['1098.26001'], ['1070.52002'], ['1075.569946'], ['1073.900024'], ['1090.98999'], ['1070.079956'], ['1060.619995'], ['1089.060059'], ['1116.369995'], ['1110.75'], ['1132.800049'], ['1145.98999'], ['1115.22998'], ['1098.709961'], ['1095.060059'], ['1095.01001'], ['1121.369995'], ['1120.160034'], ['1121.670044'], ['1113.650024'], ['1118.560059'], ['1113.800049'], ['1096.969971'], ['1110.369995'], ['1109.400024'], ['1115.130005'], ['1116.050049'], ['1119.920044'], ['1140.98999'], ['1147.800049'], ['1162.030029'], ['1157.859985'], ['1143.300049'], ['1142.319946'], ['1175.76001'], ['1193.199951'], ['1193.319946'], ['1185.550049'], ['1184.459961'], ['1184.26001'], ['1198.849976'], ['1223.969971'], ['1231.540039'], ['1205.5'], ['1193'], ['1184.619995'], ['1173.02002'], ['1168.48999'], ['1173.310059'], ['1194.430054'], ['1200.48999'], ['1205.920044'], ['1215'], ['1207.150024'], ['1203.839966'], ['1197.25'], ['1202.160034'], ['1204.619995'], ['1217.869995'], ['1221.099976'], ['1227.130005'], ['1236.339966'], ['1236.369995'], ['1248.839966'], ['1264.550049'], ['1256'], ['1263.449951'], ['1272.180054'], ['1287.579956'], ['1188.47998'], ['1168.079956'], ['1162.609985'], ['1185.400024'], ['1189.390015'], ['1174.099976'], ['1166.27002'], ['1162.380005'], ['1164.27002'], ['1132.030029'], ['1120.439941'], ['1164.209961'], ['1178.97998'], ['1162.300049'], ['1138.849976'], ['1149.630005'], ['1151.420044'], ['1140.77002'], ['1133.469971'], ['1134.150024'], ['1116.459961'], ['1117.949951'], ['1103.630005'], ['1036.22998'], ['1053.050049'], ['1042.219971'], ['1044.339966'], ['1066.040039'], ['1080.380005'], ['1078.719971'], ['1077.030029'], ['1088.77002'], ['1085.349976'], ['1092.5'], ['1103.599976'], ['1102.329956'], ['1111.420044'], ['1121.880005'], ['1115.52002'], ['1086.349976'], ['1079.800049'], ['1076.01001'], ['1080.910034'], ['1097.949951'], ['1111.25'], ['1121.579956'], ['1131.589966'], ['1116.349976'], ['1124.829956'], ['1140.47998'], ['1144.209961'], ['1144.900024'], ['1150.339966'], ['1153.579956'], ['1146.349976'], ['1146.329956'], ['1130.099976'], ['1138.069946'], ['1146.209961'], ['1137.810059'], ['1132.119995'], ['1250.410034'], ['1239.410034'], ['1225.140015'], ['1216.680054'], ['1209.01001'], ['1193.98999'], ['1152.319946'], ['1169.949951'], ['1173.98999'], ['1204.800049'], ['1188.01001'], ['1174.709961'], ['1197.27002'], ['1164.290039'], ['1167.26001'], ['1177.599976'], ['1198.449951'], ['1182.689941'], ['1191.25'], ['1189.530029'], ['1151.290039'], ['1168.890015'], ['1167.839966'], ['1171.02002'], ['1192.849976'], ['1188.099976'], ['1168.390015'], ['1181.410034'], ['1211.380005'], ['1204.930054'], ['1204.410034'], ['1206'], ['1220.170044'], ['1234.25'], ['1239.560059'], ['1231.300049'], ['1229.150024'], ['1232.410034'], ['1238.709961'], ['1229.930054'], ['1234.030029'], ['1218.76001'], ['1246.52002'], ['1241.390015'], ['1225.089966'], ['1219'], ['1205.099976'], ['1176.630005'], ['1187.829956'], ['1209'], ['1207.680054'], ['1189.130005'], ['1202.310059'], ['1208.670044'], ['1215.449951'], ['1217.140015'], ['1243.01001'], ['1243.640015'], ['1253.069946'], ['1245.48999'], ['1246.150024'], ['1242.800049'], ['1259.130005'], ['1260.98999'], ['1265.130005'], ['1290'], ['1262.619995'], ['1261.290039'], ['1260.109985'], ['1273.73999'], ['1291.369995'], ['1292.030029'], ['1291.800049'], ['1308.859985'], ['1311.369995'], ['1299.189941'], ['1298.800049'], ['1298'], ['1311.459961'], ['1334.869995'], ['1320.699951'], ['1315.459961'], ['1303.050049'], ['1301.349976'], ['1295.339966'], ['1306.689941'], ['1313.550049'], ['1312.98999'], ['1304.959961'], ['1289.920044'], ['1295.280029'], ['1320.540039'], ['1328.130005'], ['1340.619995'], ['1343.560059'], ['1344.660034'], ['1345.02002'], ['1350.27002'], ['1347.829956'], ['1361.170044'], ['1355.119995'], ['1352.619995'], ['1356.040039'], ['1349.589966'], ['1348.839966'], ['1343.560059'], ['1360.400024'], ['1351.890015'], ['1336.140015'], ['1337.02002'], ['1367.369995'], ['1360.660034'], ['1394.209961'], ['1393.339966'], ['1404.319946'], ['1419.829956'], ['1429.72998'], ['1439.22998'], ['1430.880005'], ['1439.199951'], ['1451.699951'], ['1480.390015'], ['1484.400024'], ['1485.949951'], ['1486.650024'], ['1466.709961'], ['1433.900024'], ['1452.560059'], ['1458.630005'], ['1455.839966'], ['1434.22998'], ['1485.939941'], ['1447.069946'], ['1448.22998'], ['1476.22998'], ['1479.22998'], ['1508.680054'], ['1508.790039'], ['1518.27002'], ['1514.660034'], ['1520.73999'], ['1519.670044'], ['1526.689941'], ['1518.150024'], ['1485.109985'], ['1421.589966'], ['1388.449951'], ['1393.180054'], ['1318.089966'], ['1339.329956'], ['1389.109985'], ['1341.390015'], ['1386.52002'], ['1319.040039'], ['1298.410034'], ['1215.560059'], ['1280.390015'], ['1215.410034'], ['1114.910034'], ['1219.72998'], ['1084.329956'], ['1119.800049'], ['1096.800049'], ['1115.290039'], ['1072.319946'], ['1056.619995'], ['1134.459961'], ['1102.48999'], ['1161.75'], ['1110.709961']]\n"
          ],
          "name": "stdout"
        }
      ]
    },
    {
      "cell_type": "code",
      "metadata": {
        "id": "2ocwNGHrqlfW",
        "colab_type": "code",
        "colab": {}
      },
      "source": [
        "g1=[]\n",
        "with open('GOOG1.csv') as file:\n",
        "      reader=csv.reader(file)\n",
        "      for row in reader:\n",
        "        #g1.append(int(row['Adj Close']))\n",
        "        #DApp=[row[1] for row in rows[1:49]]\n",
        "        DApp=[float(dapp) for dapp in DApp]\n",
        "        print(g1)\n",
        "        google=[row[0] for row in rows[1:699]reader]\n",
        "        google=[float(dapp) for dapp in DApp]\n",
        "        google=np.array(google)\n",
        "        #home_team_goals.append(int(row['Home Team Goals']))\n",
        "        print(google)\n",
        "        #mu_loss=np.mean([float(row) for row in rows[1:1008]] )\n",
        "        #variance=np.var([float(row) for row in rows[1:1008]])"
      ],
      "execution_count": 0,
      "outputs": []
    },
    {
      "cell_type": "code",
      "metadata": {
        "id": "dIwYzWeowOyW",
        "colab_type": "code",
        "colab": {}
      },
      "source": [
        "def correlation(M):\n",
        "  with open(M+'.csv') as file:\n",
        "      reader=csv.reader(file)\n",
        "      rows=[row for row in reader]\n",
        "      D=[row[0] for row in rows[1:1260]]\n",
        "      D=[float(d) for d in D]\n",
        "      return D\n",
        "      #print(D)\n",
        "    #print(D[0])"
      ],
      "execution_count": 0,
      "outputs": []
    },
    {
      "cell_type": "code",
      "metadata": {
        "id": "8oD84RCByqAM",
        "colab_type": "code",
        "colab": {
          "base_uri": "https://localhost:8080/",
          "height": 52
        },
        "outputId": "eb8e5968-5d81-4be8-ed3d-d2caa8363ec0"
      },
      "source": [
        "x=correlation('GOOG1')\n",
        "y=correlation('FB1')\n",
        "np.corrcoef(x, y)"
      ],
      "execution_count": 38,
      "outputs": [
        {
          "output_type": "execute_result",
          "data": {
            "text/plain": [
              "array([[1.        , 0.93855025],\n",
              "       [0.93855025, 1.        ]])"
            ]
          },
          "metadata": {
            "tags": []
          },
          "execution_count": 38
        }
      ]
    },
    {
      "cell_type": "code",
      "metadata": {
        "id": "XA8twm8SzwKE",
        "colab_type": "code",
        "colab": {
          "base_uri": "https://localhost:8080/",
          "height": 282
        },
        "outputId": "7e6acc04-5a73-4fcc-aa9b-9eec6bafeb82"
      },
      "source": [
        "matplotlib.style.use('ggplot')\n",
        "\n",
        "plt.scatter(x, y)\n",
        "plt.xlabel('GOOG')\n",
        "plt.ylabel('FB')\n",
        "plt.show()\n"
      ],
      "execution_count": 42,
      "outputs": [
        {
          "output_type": "display_data",
          "data": {
            "image/png": "[encoded data removed]",
            "text/plain": [
              "<Figure size 432x288 with 1 Axes>"
            ]
          },
          "metadata": {
            "tags": []
          }
        }
      ]
    },
    {
      "cell_type": "code",
      "metadata": {
        "id": "iryEtE1AJIIH",
        "colab_type": "code",
        "colab": {}
      },
      "source": [
        "mu=np.zeros(11)\n",
        "names=['CAT','DIA','HD','MSFT','NKE','NVDA','PG','TM','VIG','VOO','WMT']\n",
        "def getData(n=None):\n",
        "    Is=[i for i in range(11)]\n",
        "    Rows=[]\n",
        "    for name,i in zip(names,Is):\n",
        "        with open(name+'.csv') as file:\n",
        "            reader=csv.reader(file)\n",
        "            rows=[row[2] for row in reader]\n",
        "        mu[i]=np.mean([float(row) for row in rows[1:n]])\n",
        "        Rows.append([float(row) for row in rows[1:n]])\n",
        "    Omega=np.cov(np.array(Rows))\n",
        "    return mu,Omega"
      ],
      "execution_count": 0,
      "outputs": []
    },
    {
      "cell_type": "markdown",
      "metadata": {
        "id": "SW3ZwBSEZUOI",
        "colab_type": "text"
      },
      "source": [
        ""
      ]
    },
    {
      "cell_type": "code",
      "metadata": {
        "id": "uBGJnOHO3Eqd",
        "colab_type": "code",
        "colab": {}
      },
      "source": [
        "def lin_loss(Vt,Wt,mu,omega):\n",
        "  exp=-Vt*(np.dot(Wt,mu))\n",
        "  var=(Vt**2)*(np.dot(np.dot(Wt,omega),Wt))\n",
        "  return exp,var"
      ],
      "execution_count": 0,
      "outputs": []
    },
    {
      "cell_type": "code",
      "metadata": {
        "id": "qqrl7qAoO9Gt",
        "colab_type": "code",
        "colab": {}
      },
      "source": [
        "'''\n",
        "def loss(Vt,Wt,mu,omega):\n",
        "  exp=-Vt*(np.dot(Wt,np.exp(mu))-np.dot(mu,np.ones(11)))\n",
        "  var=(Vt**2)*(np.dot(np.dot(Wt,omega),Wt))\n",
        "  return exp,var"
      ],
      "execution_count": 0,
      "outputs": []
    },
    {
      "cell_type": "code",
      "metadata": {
        "id": "8rQHssYcd_tM",
        "colab_type": "code",
        "outputId": "a9e98634-dd78-4e17-a271-9996d6799351",
        "colab": {
          "base_uri": "https://localhost:8080/",
          "height": 52
        }
      },
      "source": [
        "mu1=np.array(getData(1006)[0])     #1007 20151231 1/1 LOG RETURN\n",
        "omega1=np.array(getData(1006)[1])\n",
        "vt=186.3273                  #20141231 portfolio value\n",
        "wt=np.ones(11)*1/11\n",
        "a=lin_loss(vt,wt,mu1,omega1)\n",
        "exp=a[0]\n",
        "var=a[1]\n",
        "print(exp)\n",
        "print(var)\n"
      ],
      "execution_count": 53,
      "outputs": [
        {
          "output_type": "stream",
          "text": [
            "-0.1076628378392295\n",
            "2.2035997418749744\n"
          ],
          "name": "stdout"
        }
      ]
    },
    {
      "cell_type": "code",
      "metadata": {
        "id": "NprtvLIyrjma",
        "colab_type": "code",
        "colab": {}
      },
      "source": [
        "'''mu1=np.array(getData(1006)[0])*21     #1007 20151231 1/1 LOG RETURN\n",
        "omega1=np.array(getData(1006)[1])*21\n",
        "#print(omega)\n",
        "vt=186.3273                           #20151231 portfolio value\n",
        "wt=np.ones(11)*1/11\n",
        "b=lin_loss(vt,wt,mu1,omega1)\n",
        "ex=b[0]\n",
        "va=b[1]\n",
        "print(ex)\n",
        "print(va)"
      ],
      "execution_count": 0,
      "outputs": []
    },
    {
      "cell_type": "code",
      "metadata": {
        "id": "Zz6MPFGJWmGp",
        "colab_type": "code",
        "colab": {}
      },
      "source": [
        "'''\n",
        "mu=getData(1006)[0]\n",
        "print(mu)\n",
        "omega=getData(1008)[1]"
      ],
      "execution_count": 0,
      "outputs": []
    },
    {
      "cell_type": "code",
      "metadata": {
        "id": "24J77HXdzFc9",
        "colab_type": "code",
        "colab": {}
      },
      "source": [
        "def normfun(x,mu,sigma):\n",
        "    pdf = np.exp(-((x - mu)**2)/(2*sigma**2)) / (sigma * np.sqrt(2*np.pi))\n",
        "    return pdf"
      ],
      "execution_count": 0,
      "outputs": []
    },
    {
      "cell_type": "code",
      "metadata": {
        "id": "SH9_7DAhg8kB",
        "colab_type": "code",
        "colab": {}
      },
      "source": [
        "'''\n",
        "with open('loss.csv') as file:\n",
        "      reader=csv.reader(file)\n",
        "      rows=[row[1] for row in reader]\n",
        "      #print(rows)\n",
        "      mu_loss=np.mean([float(row) for row in rows[1:1008]] )\n",
        "      variance=np.var([float(row) for row in rows[1:1008]])\n",
        "      "
      ],
      "execution_count": 0,
      "outputs": []
    },
    {
      "cell_type": "code",
      "metadata": {
        "id": "d2kAdH3rKgic",
        "colab_type": "code",
        "outputId": "7ee284d9-9d59-4c5c-f595-dfe44816917a",
        "colab": {
          "base_uri": "https://localhost:8080/",
          "height": 299
        }
      },
      "source": [
        "x = np.linspace (exp-4*var, exp+4*var)\n",
        "y = normfun(x, exp, var)\n",
        "plt.plot(x,y)\n",
        "plt.title('pdf of linearized loss distribution')\n"
      ],
      "execution_count": 55,
      "outputs": [
        {
          "output_type": "execute_result",
          "data": {
            "text/plain": [
              "Text(0.5, 1.0, 'pdf of linearized loss distribution')"
            ]
          },
          "metadata": {
            "tags": []
          },
          "execution_count": 55
        },
        {
          "output_type": "display_data",
          "data": {
            "image/png": "[encoded data removed]",
            "text/plain": [
              "<Figure size 432x288 with 1 Axes>"
            ]
          },
          "metadata": {
            "tags": []
          }
        }
      ]
    },
    {
      "cell_type": "code",
      "metadata": {
        "id": "LynKTLZc2MNa",
        "colab_type": "code",
        "colab": {}
      },
      "source": [
        "#48  ??????????"
      ],
      "execution_count": 0,
      "outputs": []
    },
    {
      "cell_type": "code",
      "metadata": {
        "id": "RJG30DEZsOFr",
        "colab_type": "code",
        "outputId": "0c1e3c83-a4a4-4d1a-d8a9-1b2e37c3b0da",
        "colab": {
          "base_uri": "https://localhost:8080/",
          "height": 299
        }
      },
      "source": [
        "plt.plot(x, norm.cdf (x, exp, var),'g')\n",
        "plt.title('cdf of linearized loss distribution')"
      ],
      "execution_count": 56,
      "outputs": [
        {
          "output_type": "execute_result",
          "data": {
            "text/plain": [
              "Text(0.5, 1.0, 'cdf of linearized loss distribution')"
            ]
          },
          "metadata": {
            "tags": []
          },
          "execution_count": 56
        },
        {
          "output_type": "display_data",
          "data": {
            "image/png": "[encoded data removed]",
            "text/plain": [
              "<Figure size 432x288 with 1 Axes>"
            ]
          },
          "metadata": {
            "tags": []
          }
        }
      ]
    },
    {
      "cell_type": "code",
      "metadata": {
        "id": "rROQRpcY18yB",
        "colab_type": "code",
        "outputId": "43f4a5fe-8839-4365-8302-ac7f9709b52e",
        "colab": {
          "base_uri": "https://localhost:8080/",
          "height": 35
        }
      },
      "source": [
        "#loss distribution\n",
        "Names=['loss1']\n",
        "for name in Names:\n",
        "    with open(name+'.csv') as file:\n",
        "        reader=csv.reader(file)\n",
        "        rows=[row for row in reader]\n",
        "    DApp=[row[1] for row in rows[1:49]]\n",
        "    DApp=[float(dapp) for dapp in DApp]\n",
        "   #DApp=[math.log(DApp[i]/DApp[i-1]) for i in range(1,len(DApp))]\n",
        "    DApp=sorted(DApp)\n",
        "    DApp=np.array(DApp)\n",
        "    mu_loss,sigma_loss=norm.fit(DApp)\n",
        "    #_,p=chisquare(DApp,norm(mu,sigma).pdf(np.linspace(-50,50,251)))\n",
        "    #print('The p value for '+name+' is %f'%p)\n",
        "    print(mu_loss,sigma_loss)\n",
        "    #print(sigma)\n",
        "    #mu_t,sigma_t,n=t.fit(DApp)\n"
      ],
      "execution_count": 47,
      "outputs": [
        {
          "output_type": "stream",
          "text": [
            "-1.7984855032291662 4.2000145923233\n"
          ],
          "name": "stdout"
        }
      ]
    },
    {
      "cell_type": "code",
      "metadata": {
        "id": "eIhaTfV5B1d9",
        "colab_type": "code",
        "colab": {}
      },
      "source": [
        ""
      ],
      "execution_count": 0,
      "outputs": []
    },
    {
      "cell_type": "code",
      "metadata": {
        "id": "EavZfKCtie1h",
        "colab_type": "code",
        "outputId": "24c5be2b-f327-4275-8167-115831ec78cc",
        "colab": {
          "base_uri": "https://localhost:8080/",
          "height": 299
        }
      },
      "source": [
        "#x_loss = np.arange(-0.002,0.0001,0.00001) \n",
        "x_loss=np.linspace (mu_loss-4*sigma_loss, mu_loss+4*sigma_loss)\n",
        "y_loss = normfun(x_loss, mu_loss, sigma_loss)\n",
        "plt.plot(x_loss,y_loss)\n",
        "#plt.hist(DApp,bins=48,density='true')\n",
        "plt.title('pdf of  loss distribution')"
      ],
      "execution_count": 50,
      "outputs": [
        {
          "output_type": "execute_result",
          "data": {
            "text/plain": [
              "Text(0.5, 1.0, 'pdf of  loss distribution')"
            ]
          },
          "metadata": {
            "tags": []
          },
          "execution_count": 50
        },
        {
          "output_type": "display_data",
          "data": {
            "image/png": "[encoded data removed]",
            "text/plain": [
              "<Figure size 432x288 with 1 Axes>"
            ]
          },
          "metadata": {
            "tags": []
          }
        }
      ]
    },
    {
      "cell_type": "code",
      "metadata": {
        "id": "WXBNbjCHntXo",
        "colab_type": "code",
        "outputId": "dea60716-be9d-47b1-b48e-ba0079b8db0d",
        "colab": {
          "base_uri": "https://localhost:8080/",
          "height": 299
        }
      },
      "source": [
        "plt.plot(x_loss, norm.cdf (x_loss,mu_loss,sigma_loss),'g')\n",
        "plt.title('cdf of  loss distribution')"
      ],
      "execution_count": 51,
      "outputs": [
        {
          "output_type": "execute_result",
          "data": {
            "text/plain": [
              "Text(0.5, 1.0, 'cdf of  loss distribution')"
            ]
          },
          "metadata": {
            "tags": []
          },
          "execution_count": 51
        },
        {
          "output_type": "display_data",
          "data": {
            "image/png": "[encoded data removed]",
            "text/plain": [
              "<Figure size 432x288 with 1 Axes>"
            ]
          },
          "metadata": {
            "tags": []
          }
        }
      ]
    },
    {
      "cell_type": "code",
      "metadata": {
        "id": "TfzOUOU_13Bs",
        "colab_type": "code",
        "colab": {}
      },
      "source": [
        "# t-distribution"
      ],
      "execution_count": 0,
      "outputs": []
    },
    {
      "cell_type": "code",
      "metadata": {
        "id": "j8e7_nnDAuyD",
        "colab_type": "code",
        "outputId": "cc262fde-452f-4e31-9bfc-ffc8431c8662",
        "colab": {
          "base_uri": "https://localhost:8080/",
          "height": 87
        }
      },
      "source": [
        "np.random.seed(1)\n",
        "ks = t.fit(DApp)\n",
        "df = ks[0]\n",
        "#print(df)\n",
        "loc = ks[1]\n",
        "#print(loc)\n",
        "scale = ks[2]\n",
        "#print(scale)\n",
        "ks2 = t.rvs(df=df,loc=loc,scale=scale,size=len(DApp))\n",
        "ss.ks_2samp(DApp,ks2)"
      ],
      "execution_count": 0,
      "outputs": [
        {
          "output_type": "stream",
          "text": [
            "14.3850254761902\n",
            "-0.01806816981166321\n",
            "0.03905790850349124\n"
          ],
          "name": "stdout"
        },
        {
          "output_type": "execute_result",
          "data": {
            "text/plain": [
              "Ks_2sampResult(statistic=0.14583333333333334, pvalue=0.6926601395134386)"
            ]
          },
          "metadata": {
            "tags": []
          },
          "execution_count": 43
        }
      ]
    },
    {
      "cell_type": "code",
      "metadata": {
        "id": "uX2DvwOYBkUD",
        "colab_type": "code",
        "outputId": "eb3447c5-a0b5-4963-eb0b-aac4f4729749",
        "colab": {
          "base_uri": "https://localhost:8080/",
          "height": 317
        }
      },
      "source": [
        "plt.figure()\n",
        "TDistribution = ss.t(ks[0],ks[1],ks[2])\n",
        "x = np.linspace(TDistribution.ppf(0.01), TDistribution.ppf(0.99), 100)\n",
        "plt.plot(x, TDistribution.pdf(x),c='orange')\n",
        "plt.xlabel('loss')\n",
        "plt.title('pdf of T-Distribution',size=20)\n",
        "\n"
      ],
      "execution_count": 0,
      "outputs": [
        {
          "output_type": "execute_result",
          "data": {
            "text/plain": [
              "Text(0.5, 1.0, 'pdf of T-Distribution')"
            ]
          },
          "metadata": {
            "tags": []
          },
          "execution_count": 41
        },
        {
          "output_type": "display_data",
          "data": {
            "image/png": "[encoded data removed]",
            "text/plain": [
              "<Figure size 432x288 with 1 Axes>"
            ]
          },
          "metadata": {
            "tags": []
          }
        }
      ]
    },
    {
      "cell_type": "code",
      "metadata": {
        "id": "3brfpS7JDoVV",
        "colab_type": "code",
        "outputId": "ea5ef0ff-ef6a-447f-bbd0-5eb108e03da6",
        "colab": {
          "base_uri": "https://localhost:8080/",
          "height": 283
        }
      },
      "source": [
        "plt.plot(x, TDistribution.cdf(x),c='orange')"
      ],
      "execution_count": 0,
      "outputs": [
        {
          "output_type": "execute_result",
          "data": {
            "text/plain": [
              "[<matplotlib.lines.Line2D at 0x7f4001ebad30>]"
            ]
          },
          "metadata": {
            "tags": []
          },
          "execution_count": 44
        },
        {
          "output_type": "display_data",
          "data": {
            "image/png": "[encoded data removed]",
            "text/plain": [
              "<Figure size 432x288 with 1 Axes>"
            ]
          },
          "metadata": {
            "tags": []
          }
        }
      ]
    },
    {
      "cell_type": "code",
      "metadata": {
        "id": "GeXIvi6Q-Las",
        "colab_type": "code",
        "colab": {}
      },
      "source": [
        "#problem3"
      ],
      "execution_count": 0,
      "outputs": []
    },
    {
      "cell_type": "code",
      "metadata": {
        "id": "Spd-Pp79CSiW",
        "colab_type": "code",
        "colab": {}
      },
      "source": [
        "with open('loss.csv') as file:\n",
        "      reader=csv.reader(file)\n",
        "      values=[row[0] for row in reader]\n",
        "      values_future=[float(row) for row in values[1007:2013]]\n",
        "      #print(values_future)\n",
        "      "
      ],
      "execution_count": 0,
      "outputs": []
    },
    {
      "cell_type": "code",
      "metadata": {
        "id": "4zKsrVMEDyts",
        "colab_type": "code",
        "colab": {}
      },
      "source": [
        "with open('loss.csv') as file:\n",
        "      reader=csv.reader(file)\n",
        "      log_returns=[row[2] for row in reader]\n",
        "      log_returns_future=[float(row) for row in log_returns[1007:2013]]\n",
        "      #print(log_returns_future)"
      ],
      "execution_count": 0,
      "outputs": []
    },
    {
      "cell_type": "code",
      "metadata": {
        "id": "fExwztal-WEe",
        "colab_type": "code",
        "outputId": "084b2e21-2844-4eab-8ed0-8846ad38ca0d",
        "colab": {
          "base_uri": "https://localhost:8080/",
          "height": 300
        }
      },
      "source": [
        "X=np.arange(1008,2013,1)\n",
        "plt.plot(X,values_future,'b')\n",
        "plt.plot(X,log_returns_future,'r')\n",
        "plt.legend()"
      ],
      "execution_count": 0,
      "outputs": [
        {
          "output_type": "stream",
          "text": [
            "No handles with labels found to put in legend.\n"
          ],
          "name": "stderr"
        },
        {
          "output_type": "execute_result",
          "data": {
            "text/plain": [
              "<matplotlib.legend.Legend at 0x7f3c4a65fc18>"
            ]
          },
          "metadata": {
            "tags": []
          },
          "execution_count": 283
        },
        {
          "output_type": "display_data",
          "data": {
            "image/png": "[encoded data removed]",
            "text/plain": [
              "<Figure size 432x288 with 1 Axes>"
            ]
          },
          "metadata": {
            "tags": []
          }
        }
      ]
    },
    {
      "cell_type": "code",
      "metadata": {
        "id": "A3owGkOdNxp3",
        "colab_type": "code",
        "outputId": "aff25990-4600-4018-a6f3-da8e02d91154",
        "colab": {
          "base_uri": "https://localhost:8080/",
          "height": 279
        }
      },
      "source": [
        "\n",
        "import pylab\n",
        "sm.qqplot(DApp, line='s')\n",
        "pylab.show()"
      ],
      "execution_count": 0,
      "outputs": [
        {
          "output_type": "display_data",
          "data": {
            "image/png": "[encoded data removed]",
            "text/plain": [
              "<Figure size 432x288 with 1 Axes>"
            ]
          },
          "metadata": {
            "tags": []
          }
        }
      ]
    },
    {
      "cell_type": "code",
      "metadata": {
        "id": "OoEFMA7e1xxe",
        "colab_type": "code",
        "colab": {}
      },
      "source": [
        "'''\n",
        "x = np.arange(-0.05, 0.125, 0.005)\n",
        "\n",
        "y = TDistribution.cdf(x)\n",
        "\n",
        "plt.plot(x, y)\n",
        "\n",
        "sorted_ = np.sort(DApp)\n",
        "yvals = np.arange(len(sorted_))/float(len(sorted_))\n",
        "plt.plot(sorted_, yvals)\n",
        "\n",
        "x_label = t.ppf(yvals)\n",
        "plt.scatter(x_label, sorted_)\n",
        "\n",
        "ss.probplot(DApp, dist=\"t\", plot=plt)\n",
        "print('QQ plot for t distribution')\n",
        "plt.show()"
      ],
      "execution_count": 0,
      "outputs": []
    },
    {
      "cell_type": "code",
      "metadata": {
        "id": "EuA1XmmlJZtN",
        "colab_type": "code",
        "colab": {}
      },
      "source": [
        "#3(d) rolling window for linearized loss\n",
        "mu=np.zeros(11)\n",
        "names=['CAT','DIA','HD','MSFT','NKE','NVDA','PG','TM','VIG','VOO','WMT']\n",
        "def getData1(M):\n",
        "    Is=[i for i in range(11)]\n",
        "    Rows=[]\n",
        "    for name,i in zip(names,Is):\n",
        "        with open(name+'.csv') as file:\n",
        "            reader=csv.reader(file)\n",
        "            rows=[row[2] for row in reader]\n",
        "        mu[i]=np.mean([float(row) for row in rows[1+21*M:1006+21*M]])\n",
        "        Rows.append([float(row) for row in rows[1+21*M:1006+21*M]])\n",
        "    Omega=np.cov(np.array(Rows))\n",
        "    return mu,Omega"
      ],
      "execution_count": 0,
      "outputs": []
    },
    {
      "cell_type": "code",
      "metadata": {
        "id": "OAJmTm-JDScZ",
        "colab_type": "code",
        "colab": {}
      },
      "source": [
        "\n",
        "for M in range(48):\n",
        "  data= getData1(M+1)\n",
        "  mu=data[0]\n",
        "  omega=data[1]\n",
        "  vt=values_future[M]\n",
        "  a=lin_loss(vt,wt,mu,omega)\n",
        "  #print(a[0])\n",
        "  print(a[1])"
      ],
      "execution_count": 0,
      "outputs": []
    },
    {
      "cell_type": "code",
      "metadata": {
        "id": "OxmRADjCI5r6",
        "colab_type": "code",
        "colab": {}
      },
      "source": [
        "#rolling window for t distribution\n",
        "def getData2(M):\n",
        "  Names=['loss1']\n",
        "  for name in Names:\n",
        "    with open(name+'.csv') as file:\n",
        "        reader=csv.reader(file)\n",
        "        rows=[row for row in reader]\n",
        "    Loss=[row[1] for row in rows[1+M:49+M]]\n",
        "    Loss=[float(l) for l in Loss]\n",
        "    Loss=sorted(Loss)\n",
        "    Loss=np.array(Loss)\n",
        "    mu_loss,sigma_loss=norm.fit(Loss)\n",
        "    np.random.seed(1)\n",
        "    ks = t.fit(Loss)\n",
        "    df = ks[0]\n",
        "    loc = ks[1]\n",
        "    scale = ks[2]\n",
        "    T=[loc,scale,df]\n",
        "    #print(mu_loss,sigma_loss)\n",
        "    return T\n",
        "    \n"
      ],
      "execution_count": 0,
      "outputs": []
    },
    {
      "cell_type": "code",
      "metadata": {
        "id": "8dYCX44pNCtY",
        "colab_type": "code",
        "colab": {
          "base_uri": "https://localhost:8080/",
          "height": 849
        },
        "outputId": "54b3adde-d339-412a-89bf-11ec0d296ec6"
      },
      "source": [
        "for M in range(48):\n",
        "  L=getData2(M)\n",
        "  print(L)"
      ],
      "execution_count": 103,
      "outputs": [
        {
          "output_type": "stream",
          "text": [
            "[-1.8068178127588057, 3.905788855686761, 14.384921219203822]\n",
            "[-1.5900267740813283, 4.1006655038672415, 25.959633046885543]\n",
            "[-1.4495452481546476, 4.034025660222701, 19.626561460854337]\n",
            "[-1.6343737838634689, 4.314188846420536, 20.38713677998298]\n",
            "[-1.6304184558576738, 4.351701693759297, 23.225611379047454]\n",
            "[-1.8688910787324517, 4.2995915527543165, 21.752719793982727]\n",
            "[-1.850288979229937, 4.3013650721826, 21.82231922025241]\n",
            "[-2.1228185293718593, 4.720016416126809, 70.31319499123983]\n",
            "[-2.122975960252732, 4.720277686534227, 70.55556775850206]\n",
            "[-2.137085854953445, 4.705866200721034, 60.62302994751788]\n",
            "[-2.134961500907722, 4.810517999414084, 938186.8320691427]\n",
            "[-2.3488061256912918, 5.0165918162532, 4207942.615648311]\n",
            "[-2.4373541587448395, 5.0369881778112, 4511502.493131872]\n",
            "[-2.4036996855191726, 5.017580200130041, 3622014.756696116]\n",
            "[-2.4892285504605907, 5.044261816985508, 6403154.52442044]\n",
            "[-2.4419265621246558, 5.048378179428241, 3220763.656605374]\n",
            "[-2.410414043767561, 5.0277268255152325, 3517503.9618698545]\n",
            "[-2.58121323020867, 5.167323025430523, 4587.447530176076]\n",
            "[-2.6394105551839706, 5.14426682647687, 19264747.256229907]\n",
            "[-2.8072687067063686, 5.275678947056296, 5436167.968809627]\n",
            "[-2.8631013418456046, 5.236484518096021, 3581713.203277038]\n",
            "[-2.9230666055462384, 5.273622343531278, 7727961.367828764]\n",
            "[-3.1695192382228443, 5.608566456415591, 3303240.429579882]\n",
            "[-3.35461816515449, 5.800774940272683, 12202886.105573535]\n",
            "[-3.493028759037254, 5.830723759568233, 5489.955662054388]\n",
            "[-3.901753158592589, 5.950592666860576, 14.773088962499795]\n",
            "[-3.44021506250804, 5.934095887976111, 6.451495824720846]\n",
            "[-3.334510968454418, 6.241830527107714, 7.666220296212988]\n",
            "[-3.26521960804174, 6.329139707470892, 8.195394971680944]\n",
            "[-3.4448504980306183, 6.450239711897069, 9.140359829647124]\n",
            "[-3.4784103641948274, 6.439378634152701, 9.060140409444934]\n",
            "[-3.834524370558574, 6.529171309495107, 9.756155302884881]\n",
            "[-3.907053434529204, 6.685766281091313, 11.076249288341453]\n",
            "[-4.077985314161085, 6.674175245937938, 10.958247561879954]\n",
            "[-3.851207168485274, 6.558688347754581, 4.5445427525852535]\n",
            "[-3.7428267010751295, 6.496244471659548, 4.429612631120477]\n",
            "[-3.7386790164204573, 6.608404587009428, 3.564910657896398]\n",
            "[-4.214954897988349, 6.636357927906012, 3.447013089855308]\n",
            "[-4.244302654753666, 6.724622646746485, 3.5314327882427783]\n",
            "[-4.616283085948821, 6.566680976255768, 3.3703039839207003]\n",
            "[-4.94737300167888, 6.93926046933022, 3.699205146492746]\n",
            "[-4.9365304264875505, 7.015119744944791, 2.9366122227374802]\n",
            "[-5.386545871928927, 7.051556429004551, 2.6031783596688527]\n",
            "[-5.628919551929411, 7.011527971496115, 2.5735685675380138]\n",
            "[-5.695774679586617, 6.712607376258703, 2.4669720496000185]\n",
            "[-5.738794364821036, 6.803322455437009, 2.5084021031194252]\n",
            "[-6.093336520282628, 6.726184568491234, 2.4601848323386495]\n",
            "[-6.3210347992700076, 6.809669410239662, 2.5031303933174645]\n"
          ],
          "name": "stdout"
        }
      ]
    },
    {
      "cell_type": "code",
      "metadata": {
        "id": "9IpK7hv2Ikhg",
        "colab_type": "code",
        "colab": {}
      },
      "source": [
        "for M in range(48):\n",
        "  np.random.seed(1)\n",
        "  ks = t.fit(DApp)\n",
        "  df = ks[0]\n",
        "#print(df)\n",
        "loc = ks[1]\n",
        "#print(loc)\n",
        "scale = ks[2]\n",
        "#print(scale)\n",
        "ks2 = t.rvs(df=df,loc=loc,scale=scale,size=len(DApp))\n",
        "ss.ks_2samp(DApp,ks2)"
      ],
      "execution_count": 0,
      "outputs": []
    },
    {
      "cell_type": "code",
      "metadata": {
        "id": "4cOCxNwq33_g",
        "colab_type": "code",
        "colab": {}
      },
      "source": [
        "#t-distribution var cvar"
      ],
      "execution_count": 0,
      "outputs": []
    }
  ]
}