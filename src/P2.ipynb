{
  "nbformat": 4,
  "nbformat_minor": 0,
  "metadata": {
    "colab": {
      "name": "P2.ipynb",
      "provenance": [],
      "collapsed_sections": [],
      "authorship_tag": "ABX9TyOaIF0pNbs7xLUJMxxxzgKi",
      "include_colab_link": true
    },
    "kernelspec": {
      "name": "python3",
      "display_name": "Python 3"
    }
  },
  "cells": [
    {
      "cell_type": "markdown",
      "metadata": {
        "id": "view-in-github",
        "colab_type": "text"
      },
      "source": [
        "<a href=\"https://colab.research.google.com/github/gannannavelorange/575/blob/master/src/P2.ipynb\" target=\"_parent\"><img src=\"https://colab.research.google.com/assets/colab-badge.svg\" alt=\"Open In Colab\"/></a>"
      ]
    },
    {
      "cell_type": "code",
      "metadata": {
        "id": "PSTfdBJJDCLW",
        "colab_type": "code",
        "outputId": "84c62a21-cc50-4292-bc4c-970bcd8101af",
        "colab": {
          "base_uri": "https://localhost:8080/",
          "height": 122
        }
      },
      "source": [
        "!git clone https://github.com/gannannavelorange/575"
      ],
      "execution_count": 251,
      "outputs": [
        {
          "output_type": "stream",
          "text": [
            "Cloning into '575'...\n",
            "remote: Enumerating objects: 92, done.\u001b[K\n",
            "remote: Counting objects:   1% (1/92)\u001b[K\rremote: Counting objects:   2% (2/92)\u001b[K\rremote: Counting objects:   3% (3/92)\u001b[K\rremote: Counting objects:   4% (4/92)\u001b[K\rremote: Counting objects:   5% (5/92)\u001b[K\rremote: Counting objects:   6% (6/92)\u001b[K\rremote: Counting objects:   7% (7/92)\u001b[K\rremote: Counting objects:   8% (8/92)\u001b[K\rremote: Counting objects:   9% (9/92)\u001b[K\rremote: Counting objects:  10% (10/92)\u001b[K\rremote: Counting objects:  11% (11/92)\u001b[K\rremote: Counting objects:  13% (12/92)\u001b[K\rremote: Counting objects:  14% (13/92)\u001b[K\rremote: Counting objects:  15% (14/92)\u001b[K\rremote: Counting objects:  16% (15/92)\u001b[K\rremote: Counting objects:  17% (16/92)\u001b[K\rremote: Counting objects:  18% (17/92)\u001b[K\rremote: Counting objects:  19% (18/92)\u001b[K\rremote: Counting objects:  20% (19/92)\u001b[K\rremote: Counting objects:  21% (20/92)\u001b[K\rremote: Counting objects:  22% (21/92)\u001b[K\rremote: Counting objects:  23% (22/92)\u001b[K\rremote: Counting objects:  25% (23/92)\u001b[K\rremote: Counting objects:  26% (24/92)\u001b[K\rremote: Counting objects:  27% (25/92)\u001b[K\rremote: Counting objects:  28% (26/92)\u001b[K\rremote: Counting objects:  29% (27/92)\u001b[K\rremote: Counting objects:  30% (28/92)\u001b[K\rremote: Counting objects:  31% (29/92)\u001b[K\rremote: Counting objects:  32% (30/92)\u001b[K\rremote: Counting objects:  33% (31/92)\u001b[K\rremote: Counting objects:  34% (32/92)\u001b[K\rremote: Counting objects:  35% (33/92)\u001b[K\rremote: Counting objects:  36% (34/92)\u001b[K\rremote: Counting objects:  38% (35/92)\u001b[K\rremote: Counting objects:  39% (36/92)\u001b[K\rremote: Counting objects:  40% (37/92)\u001b[K\rremote: Counting objects:  41% (38/92)\u001b[K\rremote: Counting objects:  42% (39/92)\u001b[K\rremote: Counting objects:  43% (40/92)\u001b[K\rremote: Counting objects:  44% (41/92)\u001b[K\rremote: Counting objects:  45% (42/92)\u001b[K\rremote: Counting objects:  46% (43/92)\u001b[K\rremote: Counting objects:  47% (44/92)\u001b[K\rremote: Counting objects:  48% (45/92)\u001b[K\rremote: Counting objects:  50% (46/92)\u001b[K\rremote: Counting objects:  51% (47/92)\u001b[K\rremote: Counting objects:  52% (48/92)\u001b[K\rremote: Counting objects:  53% (49/92)\u001b[K\rremote: Counting objects:  54% (50/92)\u001b[K\rremote: Counting objects:  55% (51/92)\u001b[K\rremote: Counting objects:  56% (52/92)\u001b[K\rremote: Counting objects:  57% (53/92)\u001b[K\rremote: Counting objects:  58% (54/92)\u001b[K\rremote: Counting objects:  59% (55/92)\u001b[K\rremote: Counting objects:  60% (56/92)\u001b[K\rremote: Counting objects:  61% (57/92)\u001b[K\rremote: Counting objects:  63% (58/92)\u001b[K\rremote: Counting objects:  64% (59/92)\u001b[K\rremote: Counting objects:  65% (60/92)\u001b[K\rremote: Counting objects:  66% (61/92)\u001b[K\rremote: Counting objects:  67% (62/92)\u001b[K\rremote: Counting objects:  68% (63/92)\u001b[K\rremote: Counting objects:  69% (64/92)\u001b[K\rremote: Counting objects:  70% (65/92)\u001b[K\rremote: Counting objects:  71% (66/92)\u001b[K\rremote: Counting objects:  72% (67/92)\u001b[K\rremote: Counting objects:  73% (68/92)\u001b[K\rremote: Counting objects:  75% (69/92)\u001b[K\rremote: Counting objects:  76% (70/92)\u001b[K\rremote: Counting objects:  77% (71/92)\u001b[K\rremote: Counting objects:  78% (72/92)\u001b[K\rremote: Counting objects:  79% (73/92)\u001b[K\rremote: Counting objects:  80% (74/92)\u001b[K\rremote: Counting objects:  81% (75/92)\u001b[K\rremote: Counting objects:  82% (76/92)\u001b[K\rremote: Counting objects:  83% (77/92)\u001b[K\rremote: Counting objects:  84% (78/92)\u001b[K\rremote: Counting objects:  85% (79/92)\u001b[K\rremote: Counting objects:  86% (80/92)\u001b[K\rremote: Counting objects:  88% (81/92)\u001b[K\rremote: Counting objects:  89% (82/92)\u001b[K\rremote: Counting objects:  90% (83/92)\u001b[K\rremote: Counting objects:  91% (84/92)\u001b[K\rremote: Counting objects:  92% (85/92)\u001b[K\rremote: Counting objects:  93% (86/92)\u001b[K\rremote: Counting objects:  94% (87/92)\u001b[K\rremote: Counting objects:  95% (88/92)\u001b[K\rremote: Counting objects:  96% (89/92)\u001b[K\rremote: Counting objects:  97% (90/92)\u001b[K\rremote: Counting objects:  98% (91/92)\u001b[K\rremote: Counting objects: 100% (92/92)\u001b[K\rremote: Counting objects: 100% (92/92), done.\u001b[K\n",
            "remote: Compressing objects:   1% (1/71)\u001b[K\rremote: Compressing objects:   2% (2/71)\u001b[K\rremote: Compressing objects:   4% (3/71)\u001b[K\rremote: Compressing objects:   5% (4/71)\u001b[K\rremote: Compressing objects:   7% (5/71)\u001b[K\rremote: Compressing objects:   8% (6/71)\u001b[K\rremote: Compressing objects:   9% (7/71)\u001b[K\rremote: Compressing objects:  11% (8/71)\u001b[K\rremote: Compressing objects:  12% (9/71)\u001b[K\rremote: Compressing objects:  14% (10/71)\u001b[K\rremote: Compressing objects:  15% (11/71)\u001b[K\rremote: Compressing objects:  16% (12/71)\u001b[K\rremote: Compressing objects:  18% (13/71)\u001b[K\rremote: Compressing objects:  19% (14/71)\u001b[K\rremote: Compressing objects:  21% (15/71)\u001b[K\rremote: Compressing objects:  22% (16/71)\u001b[K\rremote: Compressing objects:  23% (17/71)\u001b[K\rremote: Compressing objects:  25% (18/71)\u001b[K\rremote: Compressing objects:  26% (19/71)\u001b[K\rremote: Compressing objects:  28% (20/71)\u001b[K\rremote: Compressing objects:  29% (21/71)\u001b[K\rremote: Compressing objects:  30% (22/71)\u001b[K\rremote: Compressing objects:  32% (23/71)\u001b[K\rremote: Compressing objects:  33% (24/71)\u001b[K\rremote: Compressing objects:  35% (25/71)\u001b[K\rremote: Compressing objects:  36% (26/71)\u001b[K\rremote: Compressing objects:  38% (27/71)\u001b[K\rremote: Compressing objects:  39% (28/71)\u001b[K\rremote: Compressing objects:  40% (29/71)\u001b[K\rremote: Compressing objects:  42% (30/71)\u001b[K\rremote: Compressing objects:  43% (31/71)\u001b[K\rremote: Compressing objects:  45% (32/71)\u001b[K\rremote: Compressing objects:  46% (33/71)\u001b[K\rremote: Compressing objects:  47% (34/71)\u001b[K\rremote: Compressing objects:  49% (35/71)\u001b[K\rremote: Compressing objects:  50% (36/71)\u001b[K\rremote: Compressing objects:  52% (37/71)\u001b[K\rremote: Compressing objects:  53% (38/71)\u001b[K\rremote: Compressing objects:  54% (39/71)\u001b[K\rremote: Compressing objects:  56% (40/71)\u001b[K\rremote: Compressing objects:  57% (41/71)\u001b[K\rremote: Compressing objects:  59% (42/71)\u001b[K\rremote: Compressing objects:  60% (43/71)\u001b[K\rremote: Compressing objects:  61% (44/71)\u001b[K\rremote: Compressing objects:  63% (45/71)\u001b[K\rremote: Compressing objects:  64% (46/71)\u001b[K\rremote: Compressing objects:  66% (47/71)\u001b[K\rremote: Compressing objects:  67% (48/71)\u001b[K\rremote: Compressing objects:  69% (49/71)\u001b[K\rremote: Compressing objects:  70% (50/71)\u001b[K\rremote: Compressing objects:  71% (51/71)\u001b[K\rremote: Compressing objects:  73% (52/71)\u001b[K\rremote: Compressing objects:  74% (53/71)\u001b[K\rremote: Compressing objects:  76% (54/71)\u001b[K\rremote: Compressing objects:  77% (55/71)\u001b[K\rremote: Compressing objects:  78% (56/71)\u001b[K\rremote: Compressing objects:  80% (57/71)\u001b[K\rremote: Compressing objects:  81% (58/71)\u001b[K\rremote: Compressing objects:  83% (59/71)\u001b[K\rremote: Compressing objects:  84% (60/71)\u001b[K\rremote: Compressing objects:  85% (61/71)\u001b[K\rremote: Compressing objects:  87% (62/71)\u001b[K\rremote: Compressing objects:  88% (63/71)\u001b[K\rremote: Compressing objects:  90% (64/71)\u001b[K\rremote: Compressing objects:  91% (65/71)\u001b[K\rremote: Compressing objects:  92% (66/71)\u001b[K\rremote: Compressing objects:  94% (67/71)\u001b[K\rremote: Compressing objects:  95% (68/71)\u001b[K\rremote: Compressing objects:  97% (69/71)\u001b[K\rremote: Compressing objects:  98% (70/71)\u001b[K\rremote: Compressing objects: 100% (71/71)\u001b[K\rremote: Compressing objects: 100% (71/71), done.\u001b[K\n",
            "Unpacking objects:   1% (1/92)   \rUnpacking objects:   2% (2/92)   \rUnpacking objects:   3% (3/92)   \rUnpacking objects:   4% (4/92)   \rUnpacking objects:   5% (5/92)   \rUnpacking objects:   6% (6/92)   \rUnpacking objects:   7% (7/92)   \rUnpacking objects:   8% (8/92)   \rUnpacking objects:   9% (9/92)   \rUnpacking objects:  10% (10/92)   \rUnpacking objects:  11% (11/92)   \rUnpacking objects:  13% (12/92)   \rUnpacking objects:  14% (13/92)   \rUnpacking objects:  15% (14/92)   \rUnpacking objects:  16% (15/92)   \rUnpacking objects:  17% (16/92)   \rUnpacking objects:  18% (17/92)   \rUnpacking objects:  19% (18/92)   \rUnpacking objects:  20% (19/92)   \rUnpacking objects:  21% (20/92)   \rUnpacking objects:  22% (21/92)   \rUnpacking objects:  23% (22/92)   \rUnpacking objects:  25% (23/92)   \rUnpacking objects:  26% (24/92)   \rUnpacking objects:  27% (25/92)   \rUnpacking objects:  28% (26/92)   \rUnpacking objects:  29% (27/92)   \rUnpacking objects:  30% (28/92)   \rUnpacking objects:  31% (29/92)   \rUnpacking objects:  32% (30/92)   \rUnpacking objects:  33% (31/92)   \rUnpacking objects:  34% (32/92)   \rUnpacking objects:  35% (33/92)   \rUnpacking objects:  36% (34/92)   \rUnpacking objects:  38% (35/92)   \rUnpacking objects:  39% (36/92)   \rUnpacking objects:  40% (37/92)   \rUnpacking objects:  41% (38/92)   \rUnpacking objects:  42% (39/92)   \rUnpacking objects:  43% (40/92)   \rUnpacking objects:  44% (41/92)   \rUnpacking objects:  45% (42/92)   \rUnpacking objects:  46% (43/92)   \rUnpacking objects:  47% (44/92)   \rUnpacking objects:  48% (45/92)   \rUnpacking objects:  50% (46/92)   \rUnpacking objects:  51% (47/92)   \rUnpacking objects:  52% (48/92)   \rUnpacking objects:  53% (49/92)   \rUnpacking objects:  54% (50/92)   \rUnpacking objects:  55% (51/92)   \rUnpacking objects:  56% (52/92)   \rUnpacking objects:  57% (53/92)   \rUnpacking objects:  58% (54/92)   \rUnpacking objects:  59% (55/92)   \rUnpacking objects:  60% (56/92)   \rUnpacking objects:  61% (57/92)   \rUnpacking objects:  63% (58/92)   \rremote: Total 92 (delta 15), reused 0 (delta 0), pack-reused 0\u001b[K\n",
            "Unpacking objects:  64% (59/92)   \rUnpacking objects:  65% (60/92)   \rUnpacking objects:  66% (61/92)   \rUnpacking objects:  67% (62/92)   \rUnpacking objects:  68% (63/92)   \rUnpacking objects:  69% (64/92)   \rUnpacking objects:  70% (65/92)   \rUnpacking objects:  71% (66/92)   \rUnpacking objects:  72% (67/92)   \rUnpacking objects:  73% (68/92)   \rUnpacking objects:  75% (69/92)   \rUnpacking objects:  76% (70/92)   \rUnpacking objects:  77% (71/92)   \rUnpacking objects:  78% (72/92)   \rUnpacking objects:  79% (73/92)   \rUnpacking objects:  80% (74/92)   \rUnpacking objects:  81% (75/92)   \rUnpacking objects:  82% (76/92)   \rUnpacking objects:  83% (77/92)   \rUnpacking objects:  84% (78/92)   \rUnpacking objects:  85% (79/92)   \rUnpacking objects:  86% (80/92)   \rUnpacking objects:  88% (81/92)   \rUnpacking objects:  89% (82/92)   \rUnpacking objects:  90% (83/92)   \rUnpacking objects:  91% (84/92)   \rUnpacking objects:  92% (85/92)   \rUnpacking objects:  93% (86/92)   \rUnpacking objects:  94% (87/92)   \rUnpacking objects:  95% (88/92)   \rUnpacking objects:  96% (89/92)   \rUnpacking objects:  97% (90/92)   \rUnpacking objects:  98% (91/92)   \rUnpacking objects: 100% (92/92)   \rUnpacking objects: 100% (92/92), done.\n"
          ],
          "name": "stdout"
        }
      ]
    },
    {
      "cell_type": "code",
      "metadata": {
        "id": "_pO8DkP3DEk7",
        "colab_type": "code",
        "colab": {}
      },
      "source": [
        "cd 575/src/data"
      ],
      "execution_count": 0,
      "outputs": []
    },
    {
      "cell_type": "code",
      "metadata": {
        "id": "Vn44rz1ODGZ4",
        "colab_type": "code",
        "colab": {}
      },
      "source": [
        "import numpy as np\n",
        "import pandas as pd\n",
        "import matplotlib.pyplot as plt\n",
        "import math\n",
        "import csv\n",
        "import statsmodels.api as sm\n",
        "from scipy.stats import norm"
      ],
      "execution_count": 0,
      "outputs": []
    },
    {
      "cell_type": "code",
      "metadata": {
        "id": "iryEtE1AJIIH",
        "colab_type": "code",
        "colab": {}
      },
      "source": [
        "mu=np.zeros(11)\n",
        "names=['CAT','DIA','HD','MSFT','NKE','NVDA','PG','TM','VIG','VOO','WMT']\n",
        "def getData(n=None):\n",
        "    Is=[i for i in range(11)]\n",
        "    Rows=[]\n",
        "    for name,i in zip(names,Is):\n",
        "        with open(name+'.csv') as file:\n",
        "            reader=csv.reader(file)\n",
        "            rows=[row[2] for row in reader]\n",
        "        mu[i]=np.mean([float(row) for row in rows[1:n]])\n",
        "        Rows.append([float(row) for row in rows[1:n]])\n",
        "    Omega=np.cov(np.array(Rows))\n",
        "    return mu,Omega"
      ],
      "execution_count": 0,
      "outputs": []
    },
    {
      "cell_type": "code",
      "metadata": {
        "id": "uBGJnOHO3Eqd",
        "colab_type": "code",
        "colab": {}
      },
      "source": [
        "def lin_loss(Vt,Wt,mu,omega):\n",
        "  exp=-Vt*(np.dot(Wt,mu))\n",
        "  var=(Vt**2)*(np.dot(np.dot(Wt,omega),Wt))\n",
        "  return exp,var"
      ],
      "execution_count": 0,
      "outputs": []
    },
    {
      "cell_type": "code",
      "metadata": {
        "id": "qqrl7qAoO9Gt",
        "colab_type": "code",
        "colab": {}
      },
      "source": [
        "'''\n",
        "def loss(Vt,Wt,mu,omega):\n",
        "  exp=-Vt*(np.dot(Wt,np.exp(mu))-np.dot(mu,np.ones(11)))\n",
        "  var=(Vt**2)*(np.dot(np.dot(Wt,omega),Wt))\n",
        "  return exp,var"
      ],
      "execution_count": 0,
      "outputs": []
    },
    {
      "cell_type": "code",
      "metadata": {
        "id": "8rQHssYcd_tM",
        "colab_type": "code",
        "colab": {}
      },
      "source": [
        "mu=getData(1008)[0]\n",
        "omega=getData(1008)[1]\n",
        "#print(omega)\n",
        "vt=1\n",
        "wt=np.ones(11)*1/11\n",
        "a=lin_loss(vt,wt,mu,omega)\n",
        "exp=a[0]\n",
        "var=a[1]\n"
      ],
      "execution_count": 0,
      "outputs": []
    },
    {
      "cell_type": "code",
      "metadata": {
        "id": "24J77HXdzFc9",
        "colab_type": "code",
        "colab": {}
      },
      "source": [
        "def normfun(x,mu,sigma):\n",
        "    pdf = np.exp(-((x - mu)**2)/(2*sigma**2)) / (sigma * np.sqrt(2*np.pi))\n",
        "    return pdf"
      ],
      "execution_count": 0,
      "outputs": []
    },
    {
      "cell_type": "code",
      "metadata": {
        "id": "d2kAdH3rKgic",
        "colab_type": "code",
        "colab": {
          "base_uri": "https://localhost:8080/",
          "height": 299
        },
        "outputId": "0dd27349-33b2-43fd-efb2-3691fe8ac2a6"
      },
      "source": [
        "x = np.arange(-0.001,0.0001,0.00001) \n",
        "y = normfun(x, exp, var)\n",
        "plt.plot(x,y)\n",
        "plt.title('pdf of linearized loss distribution')\n"
      ],
      "execution_count": 236,
      "outputs": [
        {
          "output_type": "execute_result",
          "data": {
            "text/plain": [
              "Text(0.5, 1.0, 'pdf of linearized loss distribution')"
            ]
          },
          "metadata": {
            "tags": []
          },
          "execution_count": 236
        },
        {
          "output_type": "display_data",
          "data": {
            "image/png": "[encoded data removed]",
            "text/plain": [
              "<Figure size 432x288 with 1 Axes>"
            ]
          },
          "metadata": {
            "tags": []
          }
        }
      ]
    },
    {
      "cell_type": "code",
      "metadata": {
        "id": "RJG30DEZsOFr",
        "colab_type": "code",
        "colab": {
          "base_uri": "https://localhost:8080/",
          "height": 282
        },
        "outputId": "20dd6437-c86f-4806-f67f-ad5ccade0689"
      },
      "source": [
        "plt.plot(x, norm.cdf (x, exp, var),'g')"
      ],
      "execution_count": 238,
      "outputs": [
        {
          "output_type": "execute_result",
          "data": {
            "text/plain": [
              "[<matplotlib.lines.Line2D at 0x7f3c4abc4550>]"
            ]
          },
          "metadata": {
            "tags": []
          },
          "execution_count": 238
        },
        {
          "output_type": "display_data",
          "data": {
            "image/png": "[encoded data removed]",
            "text/plain": [
              "<Figure size 432x288 with 1 Axes>"
            ]
          },
          "metadata": {
            "tags": []
          }
        }
      ]
    },
    {
      "cell_type": "code",
      "metadata": {
        "id": "SH9_7DAhg8kB",
        "colab_type": "code",
        "colab": {}
      },
      "source": [
        "with open('loss.csv') as file:\n",
        "      reader=csv.reader(file)\n",
        "      rows=[row[1] for row in reader]\n",
        "      #print(rows)\n",
        "      mu_loss=np.mean([float(row) for row in rows[1:1008]] )\n",
        "      variance=np.var([float(row) for row in rows[1:1008]])\n",
        "      "
      ],
      "execution_count": 0,
      "outputs": []
    },
    {
      "cell_type": "code",
      "metadata": {
        "id": "3yBGRQRzBxsY",
        "colab_type": "code",
        "colab": {
          "base_uri": "https://localhost:8080/",
          "height": 34
        },
        "outputId": "8bb50ce7-14cc-40e0-f1d1-e2cc46d5d4b2"
      },
      "source": [
        "print(values)"
      ],
      "execution_count": 256,
      "outputs": [
        {
          "output_type": "stream",
          "text": [
            "[]\n"
          ],
          "name": "stdout"
        }
      ]
    },
    {
      "cell_type": "code",
      "metadata": {
        "id": "EavZfKCtie1h",
        "colab_type": "code",
        "colab": {
          "base_uri": "https://localhost:8080/",
          "height": 299
        },
        "outputId": "29f16824-68d4-4a8e-cb07-089b6d3bc88d"
      },
      "source": [
        "x_loss = np.arange(-0.002,0.0001,0.00001) \n",
        "y_loss = normfun(x_loss, mu_loss, variance)\n",
        "plt.plot(x_loss,y_loss)\n",
        "plt.title('pdf of  loss distribution')"
      ],
      "execution_count": 219,
      "outputs": [
        {
          "output_type": "execute_result",
          "data": {
            "text/plain": [
              "Text(0.5, 1.0, 'pdf of  loss distribution')"
            ]
          },
          "metadata": {
            "tags": []
          },
          "execution_count": 219
        },
        {
          "output_type": "display_data",
          "data": {
            "image/png": "[encoded data removed]",
            "text/plain": [
              "<Figure size 432x288 with 1 Axes>"
            ]
          },
          "metadata": {
            "tags": []
          }
        }
      ]
    },
    {
      "cell_type": "code",
      "metadata": {
        "id": "WXBNbjCHntXo",
        "colab_type": "code",
        "colab": {
          "base_uri": "https://localhost:8080/",
          "height": 282
        },
        "outputId": "84b36c2f-5b90-4324-c0d6-6039aa57c5f9"
      },
      "source": [
        "\n",
        "#x = linspace (mu-4*sigma, mu+4*sigma);\n",
        "plt.plot(x_loss, norm.cdf (x_loss,mu_loss, variance),'g')\n"
      ],
      "execution_count": 234,
      "outputs": [
        {
          "output_type": "execute_result",
          "data": {
            "text/plain": [
              "[<matplotlib.lines.Line2D at 0x7f3c4ab43c50>]"
            ]
          },
          "metadata": {
            "tags": []
          },
          "execution_count": 234
        },
        {
          "output_type": "display_data",
          "data": {
            "image/png": "[encoded data removed]",
            "text/plain": [
              "<Figure size 432x288 with 1 Axes>"
            ]
          },
          "metadata": {
            "tags": []
          }
        }
      ]
    },
    {
      "cell_type": "code",
      "metadata": {
        "id": "GeXIvi6Q-Las",
        "colab_type": "code",
        "colab": {}
      },
      "source": [
        "#problem3"
      ],
      "execution_count": 0,
      "outputs": []
    },
    {
      "cell_type": "code",
      "metadata": {
        "id": "Spd-Pp79CSiW",
        "colab_type": "code",
        "colab": {}
      },
      "source": [
        "with open('loss.csv') as file:\n",
        "      reader=csv.reader(file)\n",
        "      values=[row[0] for row in reader]\n",
        "      values_future=[float(row) for row in values[1007:2013]]\n",
        "      #print(values_future)\n",
        "      "
      ],
      "execution_count": 0,
      "outputs": []
    },
    {
      "cell_type": "code",
      "metadata": {
        "id": "4zKsrVMEDyts",
        "colab_type": "code",
        "colab": {}
      },
      "source": [
        "with open('loss.csv') as file:\n",
        "      reader=csv.reader(file)\n",
        "      log_returns=[row[2] for row in reader]\n",
        "      log_returns_future=[float(row) for row in log_returns[1007:2013]]\n",
        "      #print(log_returns_future)"
      ],
      "execution_count": 0,
      "outputs": []
    },
    {
      "cell_type": "code",
      "metadata": {
        "id": "fExwztal-WEe",
        "colab_type": "code",
        "colab": {
          "base_uri": "https://localhost:8080/",
          "height": 300
        },
        "outputId": "084b2e21-2844-4eab-8ed0-8846ad38ca0d"
      },
      "source": [
        "X=np.arange(1008,2013,1)\n",
        "plt.plot(X,values_future,'b')\n",
        "plt.plot(X,log_returns_future,'r')\n",
        "plt.legend()"
      ],
      "execution_count": 283,
      "outputs": [
        {
          "output_type": "stream",
          "text": [
            "No handles with labels found to put in legend.\n"
          ],
          "name": "stderr"
        },
        {
          "output_type": "execute_result",
          "data": {
            "text/plain": [
              "<matplotlib.legend.Legend at 0x7f3c4a65fc18>"
            ]
          },
          "metadata": {
            "tags": []
          },
          "execution_count": 283
        },
        {
          "output_type": "display_data",
          "data": {
            "image/png": "[encoded data removed]",
            "text/plain": [
              "<Figure size 432x288 with 1 Axes>"
            ]
          },
          "metadata": {
            "tags": []
          }
        }
      ]
    },
    {
      "cell_type": "code",
      "metadata": {
        "id": "jxiXN11glEWj",
        "colab_type": "code",
        "colab": {}
      },
      "source": [
        "'''\n",
        "price_0= getData(0)[2]\n",
        "s=np.array(price_0)[:,0] #20120103 price\n",
        "lamb=s*1/11 #original shares\n",
        "print(s)\n",
        "'''\n",
        "\n"
      ],
      "execution_count": 0,
      "outputs": []
    },
    {
      "cell_type": "code",
      "metadata": {
        "id": "VG4IGxh64sVw",
        "colab_type": "code",
        "colab": {}
      },
      "source": [
        "'''\n",
        "for M in range(3):\n",
        "  data= getData(M)\n",
        "  mu=data[0]\n",
        "  omega=data[1]\n",
        "  price=data[2]\n",
        "  vt=np.dot(lamb,array(price)[:,2])\n",
        "  wt=np.ones(2)*1/11\n",
        "''' "
      ],
      "execution_count": 0,
      "outputs": []
    },
    {
      "cell_type": "code",
      "metadata": {
        "id": "UeARWMlKn039",
        "colab_type": "code",
        "colab": {}
      },
      "source": [
        "'''\n",
        "mu=np.zeros(2)\n",
        "names=['1','2']\n",
        "def getData(M):\n",
        "    Is=[i for i in range(2)]\n",
        "    Rows=[]\n",
        "    Price=[]\n",
        "    for name,i in zip(names,Is):\n",
        "        with open(name+'.csv') as file:\n",
        "            reader=csv.reader(file)\n",
        "           \n",
        "            rows=[row[1] for row in reader]\n",
        "        mu[i]=np.mean([float(row) for row in rows[3*M+1:3*M+4]])\n",
        "        Rows.append([float(row) for row in rows[3*M+1:3*M+4]])\n",
        "        \n",
        "    Omega=np.cov(np.array(Rows))\n",
        "    for name,i in zip(names,Is):\n",
        "        with open(name+'.csv') as file:\n",
        "            reader=csv.reader(file)\n",
        "            price=[row[0] for row in reader]       \n",
        "        Price.append([float(row) for row in price[3*M+1:3*M+4]])\n",
        "    \n",
        "    return mu,Omega,Price\n",
        "\n",
        "    '''"
      ],
      "execution_count": 0,
      "outputs": []
    },
    {
      "cell_type": "code",
      "metadata": {
        "id": "EuA1XmmlJZtN",
        "colab_type": "code",
        "colab": {}
      },
      "source": [
        ""
      ],
      "execution_count": 0,
      "outputs": []
    },
    {
      "cell_type": "code",
      "metadata": {
        "id": "OAJmTm-JDScZ",
        "colab_type": "code",
        "colab": {}
      },
      "source": [
        "\n"
      ],
      "execution_count": 0,
      "outputs": []
    }
  ]
}