{
  "nbformat": 4,
  "nbformat_minor": 0,
  "metadata": {
    "colab": {
      "name": "1.ipynb",
      "provenance": [],
      "authorship_tag": "ABX9TyMKe8+LEt9vEd/TFR1jObCS",
      "include_colab_link": true
    },
    "kernelspec": {
      "name": "python3",
      "display_name": "Python 3"
    }
  },
  "cells": [
    {
      "cell_type": "markdown",
      "metadata": {
        "id": "view-in-github",
        "colab_type": "text"
      },
      "source": [
        "<a href=\"https://colab.research.google.com/github/gannannavelorange/575/blob/master/src/1.ipynb\" target=\"_parent\"><img src=\"https://colab.research.google.com/assets/colab-badge.svg\" alt=\"Open In Colab\"/></a>"
      ]
    },
    {
      "cell_type": "code",
      "metadata": {
        "id": "kkW2gosE7LZ0",
        "colab_type": "code",
        "colab": {}
      },
      "source": [
        "!git clone https://github.com/gannannavelorange/MA575"
      ],
      "execution_count": 0,
      "outputs": []
    },
    {
      "cell_type": "code",
      "metadata": {
        "id": "BPAzUU2j_wlc",
        "colab_type": "code",
        "colab": {}
      },
      "source": [
        "\n",
        "cd MA575/data/aaa"
      ],
      "execution_count": 0,
      "outputs": []
    },
    {
      "cell_type": "code",
      "metadata": {
        "id": "duJ4xz-kwWRF",
        "colab_type": "code",
        "colab": {}
      },
      "source": [
        "import numpy as np\n",
        "import matplotlib.pyplot as plt\n",
        "import math\n",
        "import csv"
      ],
      "execution_count": 0,
      "outputs": []
    },
    {
      "cell_type": "code",
      "metadata": {
        "id": "FN2R9nF_AdcF",
        "colab_type": "code",
        "colab": {}
      },
      "source": [
        "for i in range(20):\n",
        "  print(i)"
      ],
      "execution_count": 0,
      "outputs": []
    },
    {
      "cell_type": "code",
      "metadata": {
        "id": "qcU4Th446k_3",
        "colab_type": "code",
        "colab": {}
      },
      "source": [
        "mu_m=0\n",
        "mu=np.zeros(20)\n",
        "names=['AAPL','AMZN','APD','BMW.DE','C','DOV','FB','GOOGL','GS','JNJ','JPM','KO','MCD','MS','MSFT','NMR','SBUX','TSLA','TWTR','V']\n",
        "\n",
        "\n",
        "def getData(n=None):\n",
        "    Is=[i for i in range(20)]\n",
        "    Rows=[]\n",
        "    for name,i in zip(names,Is):\n",
        "        with open(name+'.csv') as file:\n",
        "            reader=csv.reader(file)\n",
        "            rows=[row[0] for row in reader]\n",
        "        mu[i]=np.mean([float(row) for row in rows[1:n]])\n",
        "        Rows.append([float(row) for row in rows[1:n]])\n",
        "    Omega=np.cov(np.array(Rows))\n",
        "    return Omega"
      ],
      "execution_count": 0,
      "outputs": []
    },
    {
      "cell_type": "code",
      "metadata": {
        "id": "XhaZ9SbX7CXG",
        "colab_type": "code",
        "colab": {}
      },
      "source": [
        "for n in ns:\n",
        "    Omega= getData(n)\n",
        "    mu_m=setting(Omega)\n",
        "    mini_vs.append(optimalPortfolio(mu,Omega,mu_m))\n",
        "    draw(mu_m,mu)\n",
        "plt.show()"
      ],
      "execution_count": 0,
      "outputs": []
    }
  ]
}