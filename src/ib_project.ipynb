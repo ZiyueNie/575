{
  "nbformat": 4,
  "nbformat_minor": 0,
  "metadata": {
    "colab": {
      "name": "ib project.ipynb",
      "provenance": [],
      "authorship_tag": "ABX9TyO6ZeA/aWMbXGEyrQ2IvwDr",
      "include_colab_link": true
    },
    "kernelspec": {
      "name": "python3",
      "display_name": "Python 3"
    }
  },
  "cells": [
    {
      "cell_type": "markdown",
      "metadata": {
        "id": "view-in-github",
        "colab_type": "text"
      },
      "source": [
        "<a href=\"https://colab.research.google.com/github/gannannavelorange/575/blob/master/src/ib_project.ipynb\" target=\"_parent\"><img src=\"https://colab.research.google.com/assets/colab-badge.svg\" alt=\"Open In Colab\"/></a>"
      ]
    },
    {
      "cell_type": "code",
      "metadata": {
        "id": "AHNsSHgjbN3J",
        "colab_type": "code",
        "colab": {
          "base_uri": "https://localhost:8080/",
          "height": 139
        },
        "outputId": "9780fd81-a6e1-4507-be65-7990b2b449b3"
      },
      "source": [
        "!git clone https://github.com/gannannavelorange/575"
      ],
      "execution_count": 134,
      "outputs": [
        {
          "output_type": "stream",
          "text": [
            "Cloning into '575'...\n",
            "remote: Enumerating objects: 28, done.\u001b[K\n",
            "remote: Counting objects:   3% (1/28)\u001b[K\rremote: Counting objects:   7% (2/28)\u001b[K\rremote: Counting objects:  10% (3/28)\u001b[K\rremote: Counting objects:  14% (4/28)\u001b[K\rremote: Counting objects:  17% (5/28)\u001b[K\rremote: Counting objects:  21% (6/28)\u001b[K\rremote: Counting objects:  25% (7/28)\u001b[K\rremote: Counting objects:  28% (8/28)\u001b[K\rremote: Counting objects:  32% (9/28)\u001b[K\rremote: Counting objects:  35% (10/28)\u001b[K\rremote: Counting objects:  39% (11/28)\u001b[K\rremote: Counting objects:  42% (12/28)\u001b[K\rremote: Counting objects:  46% (13/28)\u001b[K\rremote: Counting objects:  50% (14/28)\u001b[K\rremote: Counting objects:  53% (15/28)\u001b[K\rremote: Counting objects:  57% (16/28)\u001b[K\rremote: Counting objects:  60% (17/28)\u001b[K\rremote: Counting objects:  64% (18/28)\u001b[K\rremote: Counting objects:  67% (19/28)\u001b[K\rremote: Counting objects:  71% (20/28)\u001b[K\rremote: Counting objects:  75% (21/28)\u001b[K\rremote: Counting objects:  78% (22/28)\u001b[K\rremote: Counting objects:  82% (23/28)\u001b[K\rremote: Counting objects:  85% (24/28)\u001b[K\rremote: Counting objects:  89% (25/28)\u001b[K\rremote: Counting objects:  92% (26/28)\u001b[K\rremote: Counting objects:  96% (27/28)\u001b[K\rremote: Counting objects: 100% (28/28)\u001b[K\rremote: Counting objects: 100% (28/28), done.\u001b[K\n",
            "remote: Compressing objects:   3% (1/28)\u001b[K\rremote: Compressing objects:   7% (2/28)\u001b[K\rremote: Compressing objects:  10% (3/28)\u001b[K\rremote: Compressing objects:  14% (4/28)\u001b[K\rremote: Compressing objects:  17% (5/28)\u001b[K\rremote: Compressing objects:  21% (6/28)\u001b[K\rremote: Compressing objects:  25% (7/28)\u001b[K\rremote: Compressing objects:  28% (8/28)\u001b[K\rremote: Compressing objects:  32% (9/28)\u001b[K\rremote: Compressing objects:  35% (10/28)\u001b[K\rremote: Compressing objects:  39% (11/28)\u001b[K\rremote: Compressing objects:  42% (12/28)\u001b[K\rremote: Compressing objects:  46% (13/28)\u001b[K\rremote: Compressing objects:  50% (14/28)\u001b[K\rremote: Compressing objects:  53% (15/28)\u001b[K\rremote: Compressing objects:  57% (16/28)\u001b[K\rremote: Compressing objects:  60% (17/28)\u001b[K\rremote: Compressing objects:  64% (18/28)\u001b[K\rremote: Compressing objects:  67% (19/28)\u001b[K\rremote: Compressing objects:  71% (20/28)\u001b[K\rremote: Compressing objects:  75% (21/28)\u001b[K\rremote: Compressing objects:  78% (22/28)\u001b[K\rremote: Compressing objects:  82% (23/28)\u001b[K\rremote: Compressing objects:  85% (24/28)\u001b[K\rremote: Compressing objects:  89% (25/28)\u001b[K\rremote: Compressing objects:  92% (26/28)\u001b[K\rremote: Compressing objects:  96% (27/28)\u001b[K\rremote: Compressing objects: 100% (28/28)\u001b[K\rremote: Compressing objects: 100% (28/28), done.\u001b[K\n",
            "Receiving objects:   0% (1/410)   \rReceiving objects:   1% (5/410)   \rReceiving objects:   2% (9/410)   \rReceiving objects:   3% (13/410)   \rReceiving objects:   4% (17/410)   \rReceiving objects:   5% (21/410)   \rReceiving objects:   6% (25/410)   \rReceiving objects:   7% (29/410)   \rReceiving objects:   8% (33/410)   \rReceiving objects:   9% (37/410)   \rReceiving objects:  10% (41/410)   \rReceiving objects:  11% (46/410)   \rReceiving objects:  12% (50/410)   \rReceiving objects:  13% (54/410)   \rReceiving objects:  14% (58/410)   \rReceiving objects:  15% (62/410)   \rReceiving objects:  16% (66/410)   \rReceiving objects:  17% (70/410)   \rReceiving objects:  18% (74/410)   \rReceiving objects:  19% (78/410)   \rReceiving objects:  20% (82/410)   \rReceiving objects:  21% (87/410)   \rReceiving objects:  22% (91/410)   \rReceiving objects:  23% (95/410)   \rReceiving objects:  24% (99/410)   \rReceiving objects:  25% (103/410)   \rReceiving objects:  26% (107/410)   \rReceiving objects:  27% (111/410)   \rReceiving objects:  28% (115/410)   \rReceiving objects:  29% (119/410)   \rReceiving objects:  30% (123/410)   \rReceiving objects:  31% (128/410)   \rReceiving objects:  32% (132/410)   \rReceiving objects:  33% (136/410)   \rReceiving objects:  34% (140/410)   \rReceiving objects:  35% (144/410)   \rReceiving objects:  36% (148/410)   \rReceiving objects:  37% (152/410)   \rReceiving objects:  38% (156/410)   \rReceiving objects:  39% (160/410)   \rReceiving objects:  40% (164/410)   \rReceiving objects:  41% (169/410)   \rReceiving objects:  42% (173/410)   \rReceiving objects:  43% (177/410)   \rReceiving objects:  44% (181/410)   \rReceiving objects:  45% (185/410)   \rReceiving objects:  46% (189/410)   \rReceiving objects:  47% (193/410)   \rReceiving objects:  48% (197/410)   \rReceiving objects:  49% (201/410)   \rReceiving objects:  50% (205/410)   \rReceiving objects:  51% (210/410)   \rReceiving objects:  52% (214/410)   \rReceiving objects:  53% (218/410)   \rReceiving objects:  54% (222/410)   \rReceiving objects:  55% (226/410)   \rReceiving objects:  56% (230/410)   \rReceiving objects:  57% (234/410)   \rReceiving objects:  58% (238/410)   \rReceiving objects:  59% (242/410)   \rReceiving objects:  60% (246/410)   \rReceiving objects:  61% (251/410)   \rReceiving objects:  62% (255/410)   \rReceiving objects:  63% (259/410)   \rReceiving objects:  64% (263/410)   \rReceiving objects:  65% (267/410)   \rReceiving objects:  66% (271/410)   \rReceiving objects:  67% (275/410)   \rReceiving objects:  68% (279/410)   \rReceiving objects:  69% (283/410)   \rReceiving objects:  70% (287/410)   \rReceiving objects:  71% (292/410)   \rReceiving objects:  72% (296/410)   \rReceiving objects:  73% (300/410)   \rReceiving objects:  74% (304/410)   \rReceiving objects:  75% (308/410)   \rReceiving objects:  76% (312/410)   \rReceiving objects:  77% (316/410)   \rReceiving objects:  78% (320/410)   \rReceiving objects:  79% (324/410)   \rReceiving objects:  80% (328/410)   \rReceiving objects:  81% (333/410)   \rReceiving objects:  82% (337/410)   \rReceiving objects:  83% (341/410)   \rReceiving objects:  84% (345/410)   \rReceiving objects:  85% (349/410)   \rremote: Total 410 (delta 10), reused 0 (delta 0), pack-reused 382\u001b[K\n",
            "Receiving objects:  86% (353/410)   \rReceiving objects:  87% (357/410)   \rReceiving objects:  88% (361/410)   \rReceiving objects:  89% (365/410)   \rReceiving objects:  90% (369/410)   \rReceiving objects:  91% (374/410)   \rReceiving objects:  92% (378/410)   \rReceiving objects:  93% (382/410)   \rReceiving objects:  94% (386/410)   \rReceiving objects:  95% (390/410)   \rReceiving objects:  96% (394/410)   \rReceiving objects:  97% (398/410)   \rReceiving objects:  98% (402/410)   \rReceiving objects:  99% (406/410)   \rReceiving objects: 100% (410/410)   \rReceiving objects: 100% (410/410), 1.90 MiB | 23.45 MiB/s, done.\n",
            "Resolving deltas:   0% (0/148)   \rResolving deltas:   1% (2/148)   \rResolving deltas:   2% (3/148)   \rResolving deltas:   6% (9/148)   \rResolving deltas:   8% (13/148)   \rResolving deltas:   9% (14/148)   \rResolving deltas:  10% (15/148)   \rResolving deltas:  22% (33/148)   \rResolving deltas:  24% (36/148)   \rResolving deltas:  67% (100/148)   \rResolving deltas:  68% (101/148)   \rResolving deltas:  70% (104/148)   \rResolving deltas:  72% (107/148)   \rResolving deltas:  74% (110/148)   \rResolving deltas:  77% (114/148)   \rResolving deltas:  79% (117/148)   \rResolving deltas:  83% (124/148)   \rResolving deltas:  84% (125/148)   \rResolving deltas:  85% (127/148)   \rResolving deltas:  87% (129/148)   \rResolving deltas:  88% (131/148)   \rResolving deltas:  89% (133/148)   \rResolving deltas:  91% (135/148)   \rResolving deltas:  94% (140/148)   \rResolving deltas:  95% (141/148)   \rResolving deltas:  96% (143/148)   \rResolving deltas: 100% (148/148)   \rResolving deltas: 100% (148/148), done.\n"
          ],
          "name": "stdout"
        }
      ]
    },
    {
      "cell_type": "code",
      "metadata": {
        "id": "WadNMfbVbO4j",
        "colab_type": "code",
        "colab": {
          "base_uri": "https://localhost:8080/",
          "height": 35
        },
        "outputId": "4edf8e01-e22d-4b92-e087-78f70d8236f7"
      },
      "source": [
        "cd 575/src/data_IB_project"
      ],
      "execution_count": 135,
      "outputs": [
        {
          "output_type": "stream",
          "text": [
            "/content/575/src/data_IB_project/575/src/data_IB_project/575/src/data_IB_project/575/src/data_IB_project/575/src/data_IB_project\n"
          ],
          "name": "stdout"
        }
      ]
    },
    {
      "cell_type": "code",
      "metadata": {
        "id": "PRhS2k3lRDrU",
        "colab_type": "code",
        "colab": {}
      },
      "source": [
        "import numpy as np\n",
        "import matplotlib.pyplot as plt\n",
        "import math\n",
        "import csv\n",
        "import scipy.stats as ss\n",
        "from scipy.stats import norm\n",
        "from scipy.stats import t"
      ],
      "execution_count": 0,
      "outputs": []
    },
    {
      "cell_type": "code",
      "metadata": {
        "id": "PHhWJjW6TZh5",
        "colab_type": "code",
        "colab": {}
      },
      "source": [
        "'''\n",
        "#get weekly interest rate change factor for coupon bond\n",
        "def getdata(M,N):\n",
        "  with open(M+'.csv') as file:\n",
        "      reader=csv.reader(file)\n",
        "      rows=[row for row in reader]\n",
        "      DD=[row[1] for row in rows[1:293]]\n",
        "      DD=[float(d)/100/2 for d in DD]\n",
        "      D=[row[2] for row in rows[1+N:250+N]]\n",
        "      D=[float(d)/100/2 for d in D]\n",
        "      return DD,D\n",
        "      #print(D)\n",
        "      #print(D[0])\n"
      ],
      "execution_count": 0,
      "outputs": []
    },
    {
      "cell_type": "code",
      "metadata": {
        "id": "ITsqFFUxTW-c",
        "colab_type": "code",
        "colab": {}
      },
      "source": [
        "#get weekly interest rate change factor for coupon bond\n",
        "def getdata(M,N):\n",
        "  with open(M+'.csv') as file:\n",
        "      reader=csv.reader(file)\n",
        "      rows=[row for row in reader]\n",
        "      DD=[row[1] for row in rows[1:62]]\n",
        "      DD=[float(d)/100/2 for d in DD]\n",
        "      D=[row[2] for row in rows[1+N:52+N]]\n",
        "      D=[float(d)/100/2 for d in D]\n",
        "      return DD,D"
      ],
      "execution_count": 0,
      "outputs": []
    },
    {
      "cell_type": "code",
      "metadata": {
        "id": "8Nl90QJkdgHn",
        "colab_type": "code",
        "colab": {}
      },
      "source": [
        "'''\n",
        "g=getdata('20J28',0)[0]\n",
        "print(g)\n",
        "ks = norm.fit(g)\n",
        "print(ks[0],ks[1])\n"
      ],
      "execution_count": 0,
      "outputs": []
    },
    {
      "cell_type": "code",
      "metadata": {
        "id": "x0m0FY8LR_7i",
        "colab_type": "code",
        "colab": {}
      },
      "source": [
        "\n",
        "# for each coupon, linloss could be calculated as L=-c*np.exp(r*t)(r*5-t*x) week=5 days\n",
        "def linloss_bond(c,r,t,mu,sigma):\n",
        "  exp=-c*np.exp(r*t)*(r*5-t*mu)\n",
        "  #exp=-c*np.exp(r*t)*(r*1-t*mu)\n",
        "  var=(np.exp(r*t)*t)**2*(sigma**2)\n",
        "  return exp,var"
      ],
      "execution_count": 0,
      "outputs": []
    },
    {
      "cell_type": "code",
      "metadata": {
        "id": "OCz0SQ0Mgcxs",
        "colab_type": "code",
        "colab": {}
      },
      "source": [
        "\n",
        "def rolling(day,F,c,r,mu,sigma):\n",
        "  Exp=-F*np.exp(r*(day/182+15))*(r*5-(day/182+15)*mu)\n",
        "  Var=(np.exp(r*(day/182+15))*(day/182+15))**2*(sigma**2)\n",
        "  for i in range(0,16):\n",
        "    t=day/182+i\n",
        "    Exp=Exp+linloss_bond(c,r,t,mu,sigma)[0]\n",
        "    Var=Var+linloss_bond(c,r,t,mu,sigma)[1]\n",
        "  return Exp,Var\n"
      ],
      "execution_count": 0,
      "outputs": []
    },
    {
      "cell_type": "code",
      "metadata": {
        "id": "qS-Xk-tD6a-L",
        "colab_type": "code",
        "colab": {}
      },
      "source": [
        "c1=1.75/100*1000/2\n",
        "F1=1000"
      ],
      "execution_count": 0,
      "outputs": []
    },
    {
      "cell_type": "code",
      "metadata": {
        "id": "FK7-EBVZ6WEG",
        "colab_type": "code",
        "colab": {}
      },
      "source": [
        "for n in range(0,11):   # estimate 2010/02/07-2020/04/17\n",
        " dd=getdata('bond1',n)[0]\n",
        " d=getdata('bond1',n)[1]\n",
        " ks = norm.fit(d)\n",
        " r1=dd[50+n] \n",
        " week=rolling(159-7*i,F1,c1,r1,ks[0],ks[1])   #152=2020/07/15-2020/02/07\n",
        " #print(week[0],week[1])\n",
        " print(week[0])\n"
      ],
      "execution_count": 0,
      "outputs": []
    },
    {
      "cell_type": "code",
      "metadata": {
        "id": "zV-3PDSNbyEX",
        "colab_type": "code",
        "colab": {}
      },
      "source": [
        "#put option"
      ],
      "execution_count": 0,
      "outputs": []
    },
    {
      "cell_type": "code",
      "metadata": {
        "id": "mzB3eCq0b19j",
        "colab_type": "code",
        "colab": {}
      },
      "source": [
        "def N(x):\n",
        "  cdf=norm.cdf(x,0,1)\n",
        "  return cdf\n",
        "def p(x):\n",
        "  pdf=norm.pdf(x,0,1)\n",
        "  return pdf"
      ],
      "execution_count": 0,
      "outputs": []
    },
    {
      "cell_type": "code",
      "metadata": {
        "id": "-cY_8uEul8UB",
        "colab_type": "code",
        "colab": {}
      },
      "source": [
        "#get weekly stock price log return for option\n",
        "def getdata2(M,N):\n",
        "  with open(M+'.csv') as file:\n",
        "      reader=csv.reader(file)\n",
        "      rows=[row for row in reader]\n",
        "      DD=[row[1] for row in rows[1:62]]\n",
        "      DD=[float(d) for d in DD]\n",
        "      D=[row[2] for row in rows[1+N:52+N]]\n",
        "      D=[float(d) for d in D]\n",
        "      return DD,D"
      ],
      "execution_count": 0,
      "outputs": []
    },
    {
      "cell_type": "code",
      "metadata": {
        "id": "hR2RMpEKlZ7c",
        "colab_type": "code",
        "colab": {
          "base_uri": "https://localhost:8080/",
          "height": 35
        },
        "outputId": "4faa0990-f22d-4e90-f5a3-cfec11f0a776"
      },
      "source": [
        "djx=getdata2('DIA',0)\n",
        "djx1=djx[0]\n",
        "djx2=djx[1]\n",
        "std=np.std(djx2)\n",
        "print(djx1[50])\n"
      ],
      "execution_count": 152,
      "outputs": [
        {
          "output_type": "stream",
          "text": [
            "289.362\n"
          ],
          "name": "stdout"
        }
      ]
    },
    {
      "cell_type": "code",
      "metadata": {
        "id": "wRXHRT7_h87d",
        "colab_type": "code",
        "colab": {}
      },
      "source": [
        "'''\n",
        "def d(S,K,r,sigma,t):\n",
        " d1=(np.log(S/K)+(r+sigma**2/2)*t)/(sigma*np.sqrt(t))\n",
        " d2=d1-sigma*np.sqrt(t)\n",
        " return d1,d2"
      ],
      "execution_count": 0,
      "outputs": []
    },
    {
      "cell_type": "code",
      "metadata": {
        "id": "08JpWEtVn4TC",
        "colab_type": "code",
        "colab": {}
      },
      "source": [
        "def deltaput(S,K,r,sigma,t):\n",
        "  d1=(np.log(S/K)+(r+sigma**2/2)*t)/(sigma*np.sqrt(t))\n",
        "  delta_P=N(float(d1))-1\n",
        "  return delta_P"
      ],
      "execution_count": 0,
      "outputs": []
    },
    {
      "cell_type": "code",
      "metadata": {
        "id": "2z7gSIohoQLl",
        "colab_type": "code",
        "colab": {
          "base_uri": "https://localhost:8080/",
          "height": 208
        },
        "outputId": "e9dad08f-7f65-48d7-94de-3d99bca75762"
      },
      "source": [
        "for i in range(0,11):\n",
        "  djx=getdata2('DIA',i)\n",
        "  djx1=djx[0]\n",
        "  djx2=djx[1]\n",
        "  std=np.std(djx2)\n",
        "  delta=deltaput(djx1[50+i],293,0.02,std,(132-7*i)/250)   #t=(2020/06/18-2020/02/07)/250\n",
        "  print(delta)\n"
      ],
      "execution_count": 155,
      "outputs": [
        {
          "output_type": "stream",
          "text": [
            "-0.5678012068436042\n",
            "-0.20025717175127555\n",
            "-0.6908078200144394\n",
            "-1.0\n",
            "-0.9999999999999969\n",
            "-1.0\n",
            "-1.0\n",
            "-1.0\n",
            "-1.0\n",
            "-1.0\n",
            "-0.9999999999999999\n"
          ],
          "name": "stdout"
        }
      ]
    }
  ]
}