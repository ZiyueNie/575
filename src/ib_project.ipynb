{
  "nbformat": 4,
  "nbformat_minor": 0,
  "metadata": {
    "colab": {
      "name": "ib project.ipynb",
      "provenance": [],
      "authorship_tag": "ABX9TyMkmkrJ3HuEnbNZXge9QH3w",
      "include_colab_link": true
    },
    "kernelspec": {
      "name": "python3",
      "display_name": "Python 3"
    }
  },
  "cells": [
    {
      "cell_type": "markdown",
      "metadata": {
        "id": "view-in-github",
        "colab_type": "text"
      },
      "source": [
        "<a href=\"https://colab.research.google.com/github/gannannavelorange/575/blob/master/src/ib_project.ipynb\" target=\"_parent\"><img src=\"https://colab.research.google.com/assets/colab-badge.svg\" alt=\"Open In Colab\"/></a>"
      ]
    },
    {
      "cell_type": "code",
      "metadata": {
        "id": "AHNsSHgjbN3J",
        "colab_type": "code",
        "colab": {
          "base_uri": "https://localhost:8080/",
          "height": 139
        },
        "outputId": "e4fc97a9-b65f-47f7-e0ec-21b846dd0ed1"
      },
      "source": [
        "!git clone https://github.com/gannannavelorange/575"
      ],
      "execution_count": 7,
      "outputs": [
        {
          "output_type": "stream",
          "text": [
            "Cloning into '575'...\n",
            "remote: Enumerating objects: 149, done.\u001b[K\n",
            "remote: Counting objects: 100% (149/149), done.\u001b[K\n",
            "remote: Compressing objects: 100% (148/148), done.\u001b[K\n",
            "remote: Total 370 (delta 71), reused 0 (delta 0), pack-reused 221\u001b[K\n",
            "Receiving objects: 100% (370/370), 1.89 MiB | 12.98 MiB/s, done.\n",
            "Resolving deltas: 100% (128/128), done.\n"
          ],
          "name": "stdout"
        }
      ]
    },
    {
      "cell_type": "code",
      "metadata": {
        "id": "WadNMfbVbO4j",
        "colab_type": "code",
        "colab": {
          "base_uri": "https://localhost:8080/",
          "height": 35
        },
        "outputId": "41f6cc0b-2d78-46b3-8f6e-1e3fc077e96a"
      },
      "source": [
        "cd 575/src/data_IB_project"
      ],
      "execution_count": 8,
      "outputs": [
        {
          "output_type": "stream",
          "text": [
            "/content/575/src/data_IB_project/575/src/data_IB_project\n"
          ],
          "name": "stdout"
        }
      ]
    },
    {
      "cell_type": "code",
      "metadata": {
        "id": "PRhS2k3lRDrU",
        "colab_type": "code",
        "colab": {}
      },
      "source": [
        "import numpy as np\n",
        "import matplotlib.pyplot as plt\n",
        "import math\n",
        "import csv\n",
        "import scipy.stats as ss\n",
        "from scipy.stats import norm\n",
        "from scipy.stats import t"
      ],
      "execution_count": 0,
      "outputs": []
    },
    {
      "cell_type": "code",
      "metadata": {
        "id": "I87EYaJhS9RH",
        "colab_type": "code",
        "colab": {}
      },
      "source": [
        "'''\n",
        "def getData(n=None):\n",
        "    Is=[i for i in range(15)]\n",
        "    Rows=[]\n",
        "    for name,i in zip(names,Is):\n",
        "        with open(name+'.csv') as file:\n",
        "            reader=csv.reader(file)\n",
        "            rows=[row[2] for row in reader]\n",
        "        mu[i]=np.mean([float(row) for row in rows[1:n]])\n",
        "        Rows.append([float(row) for row in rows[1:n]])\n",
        "    Omega=np.cov(np.array(Rows))\n",
        "    corr = np.corrcoef(np.array(Rows))\n",
        "    return mu,Omega,corr"
      ],
      "execution_count": 0,
      "outputs": []
    },
    {
      "cell_type": "code",
      "metadata": {
        "id": "w_3aC4rnTh9_",
        "colab_type": "code",
        "colab": {}
      },
      "source": [
        "#jj=getData(1006)[2]"
      ],
      "execution_count": 0,
      "outputs": []
    },
    {
      "cell_type": "code",
      "metadata": {
        "id": "PHhWJjW6TZh5",
        "colab_type": "code",
        "colab": {}
      },
      "source": [
        "#get interest rate for coupon bond\n",
        "def getdata(M,N):\n",
        "  with open(M+'.csv') as file:\n",
        "      reader=csv.reader(file)\n",
        "      rows=[row for row in reader]\n",
        "      D=[row[1] for row in rows[1:N]]\n",
        "      D=[float(d)/100/2 for d in D]\n",
        "      return D\n",
        "      #print(D)\n",
        "      #print(D[0])"
      ],
      "execution_count": 0,
      "outputs": []
    },
    {
      "cell_type": "code",
      "metadata": {
        "id": "8Nl90QJkdgHn",
        "colab_type": "code",
        "colab": {
          "base_uri": "https://localhost:8080/",
          "height": 35
        },
        "outputId": "620abd5c-3996-4d59-8a4c-4f44bcebe9b8"
      },
      "source": [
        "g=getdata('bond1.75',250)\n",
        "ks = norm.fit(g)\n",
        "print(ks[0],ks[1])\n"
      ],
      "execution_count": 84,
      "outputs": [
        {
          "output_type": "stream",
          "text": [
            "0.0015399196787148595 0.0011344040212853312\n"
          ],
          "name": "stdout"
        }
      ]
    },
    {
      "cell_type": "code",
      "metadata": {
        "id": "x0m0FY8LR_7i",
        "colab_type": "code",
        "colab": {}
      },
      "source": [
        "\n",
        "# for each coupon, linloss could be calculated as L=-c*np.exp(r*t)(r*5-t*x) week=5 days\n",
        "def linloss_bond(c,r,t,mu,sigma):\n",
        "  #exp=-c*np.exp(r*t)*(r*5-t*mu)\n",
        "  exp=-c*np.exp(r*t)*(r*1-t*mu)\n",
        "  var=(np.exp(r*t)*t)**2*(sigma**2)\n",
        "  return exp,var"
      ],
      "execution_count": 0,
      "outputs": []
    },
    {
      "cell_type": "code",
      "metadata": {
        "id": "mNWUBmg3qsJv",
        "colab_type": "code",
        "colab": {}
      },
      "source": [
        "'''\n",
        "def linloss_bond(c,r,t,mu,sigma):\n",
        "  #exp=-c*np.exp(r*t)(r*5-t*mu)\n",
        "  exp=-c*np.exp(float(r*t))*(r*1-t*mu)\n",
        "  var=(np.exp(float(r*t))*t)**2*(sigma**2)\n",
        "  return exp,var"
      ],
      "execution_count": 0,
      "outputs": []
    },
    {
      "cell_type": "code",
      "metadata": {
        "id": "hqnNGHv9rF4y",
        "colab_type": "code",
        "colab": {}
      },
      "source": [
        "\n",
        "c1=1.75/100*1000/2\n",
        "F1=1000\n",
        "r1=g[247] "
      ],
      "execution_count": 0,
      "outputs": []
    },
    {
      "cell_type": "code",
      "metadata": {
        "id": "v9w7vKelq_ji",
        "colab_type": "code",
        "colab": {
          "base_uri": "https://localhost:8080/",
          "height": 35
        },
        "outputId": "4746e157-704a-4631-fe52-e2588b6993f2"
      },
      "source": [
        "aa=linloss_bond(c1,r1,152/182,ks[0],ks[1])\n",
        "print(aa[0],aa[1])"
      ],
      "execution_count": 69,
      "outputs": [
        {
          "output_type": "stream",
          "text": [
            "2.7481685291014575 0.031517919296984644\n"
          ],
          "name": "stdout"
        }
      ]
    },
    {
      "cell_type": "code",
      "metadata": {
        "id": "OCz0SQ0Mgcxs",
        "colab_type": "code",
        "colab": {}
      },
      "source": [
        "\n",
        "def rolling(day,F,c,r,mu,sigma):\n",
        "  Exp=-F*np.exp(r*(day/182+15))*(r*1-(day/182+15)*mu)\n",
        "  Var=(np.exp(r*(day/182+15))*(day/182+15))**2*(sigma**2)\n",
        "  for i in range(0,16):\n",
        "    t=day/182+i\n",
        "    Exp=Exp+linloss_bond(c,r,t,mu,sigma)[0]\n",
        "    Var=Var+linloss_bond(c,r,t,mu,sigma)[1]\n",
        "  return Exp,Var\n",
        "#linloss_bond()"
      ],
      "execution_count": 0,
      "outputs": []
    },
    {
      "cell_type": "code",
      "metadata": {
        "id": "CAwuZhRbp1pz",
        "colab_type": "code",
        "colab": {}
      },
      "source": [
        "'''\n",
        "def rolling(day,F,c,r,mu,sigma):\n",
        "  Exp=-F*np.exp(float(r*(day/182+15)))*(r*1-(day/182+15)*mu)\n",
        "  Var=(np.exp(float(r*(day/182+15)))*(day/182+15))**2*(sigma**2)\n",
        "  for i in range(0,16):\n",
        "    t=day/182+i\n",
        "    Exp=Exp+linloss_bond(c,r,t,mu,sigma)[0]\n",
        "    Var=Var+linloss_bond(c,r,t,mu,sigma)[1]\n",
        "  return Exp,Var"
      ],
      "execution_count": 0,
      "outputs": []
    },
    {
      "cell_type": "code",
      "metadata": {
        "id": "Iff9AMKzmDPW",
        "colab_type": "code",
        "colab": {
          "base_uri": "https://localhost:8080/",
          "height": 35
        },
        "outputId": "66e60db1-2873-4da1-fa89-931a64d95eeb"
      },
      "source": [
        "c1=1.75/100*1000/2\n",
        "F1=1000\n",
        "r1=g[247]    #0:248   \n",
        "week1=rolling(152,F1,c1,r1,ks[0],ks[1])   #152=2020/07/15-2020/02/14\n",
        "print(week1[0],week1[1])"
      ],
      "execution_count": 91,
      "outputs": [
        {
          "output_type": "stream",
          "text": [
            "26.466131583761076 0.0021690052454360993\n"
          ],
          "name": "stdout"
        }
      ]
    },
    {
      "cell_type": "code",
      "metadata": {
        "id": "3oB1L81WwFR8",
        "colab_type": "code",
        "colab": {
          "base_uri": "https://localhost:8080/",
          "height": 35
        },
        "outputId": "9a1d283e-c662-4e1c-d887-c0e78b5d7f73"
      },
      "source": [
        "Exp=-F1*np.exp(r1*(152/182+15))*(r1*1-(152/182+15)*(ks[0]))\n",
        "#Var=(np.exp(r*(day/182+15))*(day/182+15))**2*(sigma**2)\n",
        "print(Exp)"
      ],
      "execution_count": 88,
      "outputs": [
        {
          "output_type": "stream",
          "text": [
            "24.622350832082045\n"
          ],
          "name": "stdout"
        }
      ]
    },
    {
      "cell_type": "code",
      "metadata": {
        "id": "attRl_bhw_LQ",
        "colab_type": "code",
        "colab": {
          "base_uri": "https://localhost:8080/",
          "height": 35
        },
        "outputId": "61a4cccf-4662-47a7-d101-cf2abaa735d5"
      },
      "source": [
        "bb=F1*np.exp(-16*r1)\n",
        "hhh=(r1*1-(152/182+15)*ks[0])\n",
        "print(hhh)"
      ],
      "execution_count": 89,
      "outputs": [
        {
          "output_type": "stream",
          "text": [
            "-0.024774881945363876\n"
          ],
          "name": "stdout"
        }
      ]
    },
    {
      "cell_type": "code",
      "metadata": {
        "id": "MovbpHfOphXv",
        "colab_type": "code",
        "colab": {
          "base_uri": "https://localhost:8080/",
          "height": 287
        },
        "outputId": "325832fd-a6e9-402c-b120-6d55053d9e65"
      },
      "source": [
        "week1=rolling(152,F1,c1,r1,0,1)"
      ],
      "execution_count": 32,
      "outputs": [
        {
          "output_type": "error",
          "ename": "TypeError",
          "evalue": "ignored",
          "traceback": [
            "\u001b[0;31m---------------------------------------------------------------------------\u001b[0m",
            "\u001b[0;31mTypeError\u001b[0m                                 Traceback (most recent call last)",
            "\u001b[0;32m<ipython-input-32-3a724314b97d>\u001b[0m in \u001b[0;36m<module>\u001b[0;34m()\u001b[0m\n\u001b[0;32m----> 1\u001b[0;31m \u001b[0mweek1\u001b[0m\u001b[0;34m=\u001b[0m\u001b[0mrolling\u001b[0m\u001b[0;34m(\u001b[0m\u001b[0;36m152\u001b[0m\u001b[0;34m,\u001b[0m\u001b[0mF1\u001b[0m\u001b[0;34m,\u001b[0m\u001b[0mc1\u001b[0m\u001b[0;34m,\u001b[0m\u001b[0mr1\u001b[0m\u001b[0;34m,\u001b[0m\u001b[0;36m0\u001b[0m\u001b[0;34m,\u001b[0m\u001b[0;36m1\u001b[0m\u001b[0;34m)\u001b[0m\u001b[0;34m\u001b[0m\u001b[0;34m\u001b[0m\u001b[0m\n\u001b[0m",
            "\u001b[0;32m<ipython-input-22-c7062b753427>\u001b[0m in \u001b[0;36mrolling\u001b[0;34m(day, F, c, r, mu, sigma)\u001b[0m\n\u001b[1;32m      1\u001b[0m \u001b[0;32mdef\u001b[0m \u001b[0mrolling\u001b[0m\u001b[0;34m(\u001b[0m\u001b[0mday\u001b[0m\u001b[0;34m,\u001b[0m\u001b[0mF\u001b[0m\u001b[0;34m,\u001b[0m\u001b[0mc\u001b[0m\u001b[0;34m,\u001b[0m\u001b[0mr\u001b[0m\u001b[0;34m,\u001b[0m\u001b[0mmu\u001b[0m\u001b[0;34m,\u001b[0m\u001b[0msigma\u001b[0m\u001b[0;34m)\u001b[0m\u001b[0;34m:\u001b[0m\u001b[0;34m\u001b[0m\u001b[0;34m\u001b[0m\u001b[0m\n\u001b[0;32m----> 2\u001b[0;31m   \u001b[0mExp\u001b[0m\u001b[0;34m=\u001b[0m\u001b[0;34m-\u001b[0m\u001b[0mF\u001b[0m\u001b[0;34m*\u001b[0m\u001b[0mnp\u001b[0m\u001b[0;34m.\u001b[0m\u001b[0mexp\u001b[0m\u001b[0;34m(\u001b[0m\u001b[0mr\u001b[0m\u001b[0;34m*\u001b[0m\u001b[0;34m(\u001b[0m\u001b[0mday\u001b[0m\u001b[0;34m/\u001b[0m\u001b[0;36m182\u001b[0m\u001b[0;34m+\u001b[0m\u001b[0;36m15\u001b[0m\u001b[0;34m)\u001b[0m\u001b[0;34m)\u001b[0m\u001b[0;34m(\u001b[0m\u001b[0mr\u001b[0m\u001b[0;34m*\u001b[0m\u001b[0;36m5\u001b[0m\u001b[0;34m-\u001b[0m\u001b[0;34m(\u001b[0m\u001b[0mday\u001b[0m\u001b[0;34m/\u001b[0m\u001b[0;36m182\u001b[0m\u001b[0;34m+\u001b[0m\u001b[0;36m15\u001b[0m\u001b[0;34m)\u001b[0m\u001b[0;34m*\u001b[0m\u001b[0mmu\u001b[0m\u001b[0;34m)\u001b[0m\u001b[0;34m\u001b[0m\u001b[0;34m\u001b[0m\u001b[0m\n\u001b[0m\u001b[1;32m      3\u001b[0m   \u001b[0mVar\u001b[0m\u001b[0;34m=\u001b[0m\u001b[0;34m(\u001b[0m\u001b[0mnp\u001b[0m\u001b[0;34m.\u001b[0m\u001b[0mexp\u001b[0m\u001b[0;34m(\u001b[0m\u001b[0mr\u001b[0m\u001b[0;34m*\u001b[0m\u001b[0;34m(\u001b[0m\u001b[0mday\u001b[0m\u001b[0;34m/\u001b[0m\u001b[0;36m182\u001b[0m\u001b[0;34m+\u001b[0m\u001b[0;36m15\u001b[0m\u001b[0;34m)\u001b[0m\u001b[0;34m)\u001b[0m\u001b[0;34m*\u001b[0m\u001b[0;34m(\u001b[0m\u001b[0mday\u001b[0m\u001b[0;34m/\u001b[0m\u001b[0;36m182\u001b[0m\u001b[0;34m+\u001b[0m\u001b[0;36m15\u001b[0m\u001b[0;34m)\u001b[0m\u001b[0;34m)\u001b[0m\u001b[0;34m**\u001b[0m\u001b[0;36m2\u001b[0m\u001b[0;34m*\u001b[0m\u001b[0;34m(\u001b[0m\u001b[0msigma\u001b[0m\u001b[0;34m**\u001b[0m\u001b[0;36m2\u001b[0m\u001b[0;34m)\u001b[0m\u001b[0;34m\u001b[0m\u001b[0;34m\u001b[0m\u001b[0m\n\u001b[1;32m      4\u001b[0m   \u001b[0;32mfor\u001b[0m \u001b[0mi\u001b[0m \u001b[0;32min\u001b[0m \u001b[0mrange\u001b[0m\u001b[0;34m(\u001b[0m\u001b[0;36m0\u001b[0m\u001b[0;34m,\u001b[0m\u001b[0;36m16\u001b[0m\u001b[0;34m)\u001b[0m\u001b[0;34m:\u001b[0m\u001b[0;34m\u001b[0m\u001b[0;34m\u001b[0m\u001b[0m\n\u001b[1;32m      5\u001b[0m     \u001b[0mt\u001b[0m\u001b[0;34m=\u001b[0m\u001b[0mday\u001b[0m\u001b[0;34m/\u001b[0m\u001b[0;36m182\u001b[0m\u001b[0;34m+\u001b[0m\u001b[0mi\u001b[0m\u001b[0;34m\u001b[0m\u001b[0;34m\u001b[0m\u001b[0m\n",
            "\u001b[0;31mTypeError\u001b[0m: 'numpy.float64' object is not callable"
          ]
        }
      ]
    }
  ]
}