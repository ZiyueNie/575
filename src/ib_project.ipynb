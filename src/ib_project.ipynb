{
  "nbformat": 4,
  "nbformat_minor": 0,
  "metadata": {
    "colab": {
      "name": "ib project.ipynb",
      "provenance": [],
      "authorship_tag": "ABX9TyPeUQSdGYHIpQMIvHe8xrAB",
      "include_colab_link": true
    },
    "kernelspec": {
      "name": "python3",
      "display_name": "Python 3"
    }
  },
  "cells": [
    {
      "cell_type": "markdown",
      "metadata": {
        "id": "view-in-github",
        "colab_type": "text"
      },
      "source": [
        "<a href=\"https://colab.research.google.com/github/gannannavelorange/575/blob/master/src/ib_project.ipynb\" target=\"_parent\"><img src=\"https://colab.research.google.com/assets/colab-badge.svg\" alt=\"Open In Colab\"/></a>"
      ]
    },
    {
      "cell_type": "code",
      "metadata": {
        "id": "AHNsSHgjbN3J",
        "colab_type": "code",
        "outputId": "9f2c2583-c5c9-4296-e5f3-2061ee3a03f2",
        "colab": {
          "base_uri": "https://localhost:8080/",
          "height": 139
        }
      },
      "source": [
        "!git clone https://github.com/gannannavelorange/575"
      ],
      "execution_count": 117,
      "outputs": [
        {
          "output_type": "stream",
          "text": [
            "Cloning into '575'...\n",
            "remote: Enumerating objects: 120, done.\u001b[K\n",
            "remote: Counting objects:   0% (1/120)\u001b[K\rremote: Counting objects:   1% (2/120)\u001b[K\rremote: Counting objects:   2% (3/120)\u001b[K\rremote: Counting objects:   3% (4/120)\u001b[K\rremote: Counting objects:   4% (5/120)\u001b[K\rremote: Counting objects:   5% (6/120)\u001b[K\rremote: Counting objects:   6% (8/120)\u001b[K\rremote: Counting objects:   7% (9/120)\u001b[K\rremote: Counting objects:   8% (10/120)\u001b[K\rremote: Counting objects:   9% (11/120)\u001b[K\rremote: Counting objects:  10% (12/120)\u001b[K\rremote: Counting objects:  11% (14/120)\u001b[K\rremote: Counting objects:  12% (15/120)\u001b[K\rremote: Counting objects:  13% (16/120)\u001b[K\rremote: Counting objects:  14% (17/120)\u001b[K\rremote: Counting objects:  15% (18/120)\u001b[K\rremote: Counting objects:  16% (20/120)\u001b[K\rremote: Counting objects:  17% (21/120)\u001b[K\rremote: Counting objects:  18% (22/120)\u001b[K\rremote: Counting objects:  19% (23/120)\u001b[K\rremote: Counting objects:  20% (24/120)\u001b[K\rremote: Counting objects:  21% (26/120)\u001b[K\rremote: Counting objects:  22% (27/120)\u001b[K\rremote: Counting objects:  23% (28/120)\u001b[K\rremote: Counting objects:  24% (29/120)\u001b[K\rremote: Counting objects:  25% (30/120)\u001b[K\rremote: Counting objects:  26% (32/120)\u001b[K\rremote: Counting objects:  27% (33/120)\u001b[K\rremote: Counting objects:  28% (34/120)\u001b[K\rremote: Counting objects:  29% (35/120)\u001b[K\rremote: Counting objects:  30% (36/120)\u001b[K\rremote: Counting objects:  31% (38/120)\u001b[K\rremote: Counting objects:  32% (39/120)\u001b[K\rremote: Counting objects:  33% (40/120)\u001b[K\rremote: Counting objects:  34% (41/120)\u001b[K\rremote: Counting objects:  35% (42/120)\u001b[K\rremote: Counting objects:  36% (44/120)\u001b[K\rremote: Counting objects:  37% (45/120)\u001b[K\rremote: Counting objects:  38% (46/120)\u001b[K\rremote: Counting objects:  39% (47/120)\u001b[K\rremote: Counting objects:  40% (48/120)\u001b[K\rremote: Counting objects:  41% (50/120)\u001b[K\rremote: Counting objects:  42% (51/120)\u001b[K\rremote: Counting objects:  43% (52/120)\u001b[K\rremote: Counting objects:  44% (53/120)\u001b[K\rremote: Counting objects:  45% (54/120)\u001b[K\rremote: Counting objects:  46% (56/120)\u001b[K\rremote: Counting objects:  47% (57/120)\u001b[K\rremote: Counting objects:  48% (58/120)\u001b[K\rremote: Counting objects:  49% (59/120)\u001b[K\rremote: Counting objects:  50% (60/120)\u001b[K\rremote: Counting objects:  51% (62/120)\u001b[K\rremote: Counting objects:  52% (63/120)\u001b[K\rremote: Counting objects:  53% (64/120)\u001b[K\rremote: Counting objects:  54% (65/120)\u001b[K\rremote: Counting objects:  55% (66/120)\u001b[K\rremote: Counting objects:  56% (68/120)\u001b[K\rremote: Counting objects:  57% (69/120)\u001b[K\rremote: Counting objects:  58% (70/120)\u001b[K\rremote: Counting objects:  59% (71/120)\u001b[K\rremote: Counting objects:  60% (72/120)\u001b[K\rremote: Counting objects:  61% (74/120)\u001b[K\rremote: Counting objects:  62% (75/120)\u001b[K\rremote: Counting objects:  63% (76/120)\u001b[K\rremote: Counting objects:  64% (77/120)\u001b[K\rremote: Counting objects:  65% (78/120)\u001b[K\rremote: Counting objects:  66% (80/120)\u001b[K\rremote: Counting objects:  67% (81/120)\u001b[K\rremote: Counting objects:  68% (82/120)\u001b[K\rremote: Counting objects:  69% (83/120)\u001b[K\rremote: Counting objects:  70% (84/120)\u001b[K\rremote: Counting objects:  71% (86/120)\u001b[K\rremote: Counting objects:  72% (87/120)\u001b[K\rremote: Counting objects:  73% (88/120)\u001b[K\rremote: Counting objects:  74% (89/120)\u001b[K\rremote: Counting objects:  75% (90/120)\u001b[K\rremote: Counting objects:  76% (92/120)\u001b[K\rremote: Counting objects:  77% (93/120)\u001b[K\rremote: Counting objects:  78% (94/120)\u001b[K\rremote: Counting objects:  79% (95/120)\u001b[K\rremote: Counting objects:  80% (96/120)\u001b[K\rremote: Counting objects:  81% (98/120)\u001b[K\rremote: Counting objects:  82% (99/120)\u001b[K\rremote: Counting objects:  83% (100/120)\u001b[K\rremote: Counting objects:  84% (101/120)\u001b[K\rremote: Counting objects:  85% (102/120)\u001b[K\rremote: Counting objects:  86% (104/120)\u001b[K\rremote: Counting objects:  87% (105/120)\u001b[K\rremote: Counting objects:  88% (106/120)\u001b[K\rremote: Counting objects:  89% (107/120)\u001b[K\rremote: Counting objects:  90% (108/120)\u001b[K\rremote: Counting objects:  91% (110/120)\u001b[K\rremote: Counting objects:  92% (111/120)\u001b[K\rremote: Counting objects:  93% (112/120)\u001b[K\rremote: Counting objects:  94% (113/120)\u001b[K\rremote: Counting objects:  95% (114/120)\u001b[K\rremote: Counting objects:  96% (116/120)\u001b[K\rremote: Counting objects:  97% (117/120)\u001b[K\rremote: Counting objects:  98% (118/120)\u001b[K\rremote: Counting objects:  99% (119/120)\u001b[K\rremote: Counting objects: 100% (120/120)\u001b[K\rremote: Counting objects: 100% (120/120), done.\u001b[K\n",
            "remote: Compressing objects: 100% (120/120), done.\u001b[K\n",
            "remote: Total 502 (delta 52), reused 0 (delta 0), pack-reused 382\u001b[K\n",
            "Receiving objects: 100% (502/502), 2.12 MiB | 4.24 MiB/s, done.\n",
            "Resolving deltas: 100% (190/190), done.\n"
          ],
          "name": "stdout"
        }
      ]
    },
    {
      "cell_type": "code",
      "metadata": {
        "id": "WadNMfbVbO4j",
        "colab_type": "code",
        "outputId": "76cbe1a1-e1c9-46b1-b19d-5ec3ebd0532a",
        "colab": {
          "base_uri": "https://localhost:8080/",
          "height": 35
        }
      },
      "source": [
        "cd 575/src/data_IB_project"
      ],
      "execution_count": 118,
      "outputs": [
        {
          "output_type": "stream",
          "text": [
            "/content/575/src/data_IB_project/575/src/data_IB_project/575/src/data_IB_project/575/src/data_IB_project\n"
          ],
          "name": "stdout"
        }
      ]
    },
    {
      "cell_type": "code",
      "metadata": {
        "id": "PRhS2k3lRDrU",
        "colab_type": "code",
        "colab": {}
      },
      "source": [
        "import numpy as np\n",
        "import matplotlib.pyplot as plt\n",
        "import math\n",
        "import csv\n",
        "import scipy.stats as ss\n",
        "from scipy.stats import norm\n",
        "from scipy.stats import t"
      ],
      "execution_count": 0,
      "outputs": []
    },
    {
      "cell_type": "code",
      "metadata": {
        "id": "PHhWJjW6TZh5",
        "colab_type": "code",
        "colab": {}
      },
      "source": [
        "'''\n",
        "#get weekly interest rate change factor for coupon bond\n",
        "def getdata(M,N):\n",
        "  with open(M+'.csv') as file:\n",
        "      reader=csv.reader(file)\n",
        "      rows=[row for row in reader]\n",
        "      DD=[row[1] for row in rows[1:293]]\n",
        "      DD=[float(d)/100/2 for d in DD]\n",
        "      D=[row[2] for row in rows[1+N:250+N]]\n",
        "      D=[float(d)/100/2 for d in D]\n",
        "      return DD,D\n",
        "      #print(D)\n",
        "      #print(D[0])\n"
      ],
      "execution_count": 0,
      "outputs": []
    },
    {
      "cell_type": "code",
      "metadata": {
        "id": "ITsqFFUxTW-c",
        "colab_type": "code",
        "colab": {}
      },
      "source": [
        "#get weekly interest rate change factor for coupon bond\n",
        "def getdata(M,N):\n",
        "  with open(M+'.csv') as file:\n",
        "      reader=csv.reader(file)\n",
        "      rows=[row for row in reader]\n",
        "      DD=[row[1] for row in rows[1:62]]\n",
        "      DD=[float(d)/100/2 for d in DD]     #continuous compounded interest rate \n",
        "      D=[row[2] for row in rows[1+N:53+N]]\n",
        "      D=[float(d)/100/2 for d in D]   #risk factor change\n",
        "      return DD,D"
      ],
      "execution_count": 0,
      "outputs": []
    },
    {
      "cell_type": "code",
      "metadata": {
        "id": "1gz5hXUwS6GX",
        "colab_type": "code",
        "outputId": "dd379227-9c12-4650-991d-b1b35f571fd0",
        "colab": {
          "base_uri": "https://localhost:8080/",
          "height": 121
        }
      },
      "source": [
        "'''\n",
        "test1=getdata('bond1',0)\n",
        "kk = t.fit(test1[1])\n",
        "print(kk[0])\n",
        "print(kk[1])\n",
        "print(kk[2])\n",
        "nn=norm.fit(test1[1])\n",
        "print(nn[0])\n",
        "print(nn[1])\n",
        "E=np.mean(test1[1])\n",
        "print(E)"
      ],
      "execution_count": 0,
      "outputs": [
        {
          "output_type": "stream",
          "text": [
            "2.0272787924820648\n",
            "-0.00010279419664695968\n",
            "0.00025628701298503385\n",
            "-8.60576923076923e-05\n",
            "0.000381080620052096\n",
            "-8.60576923076923e-05\n"
          ],
          "name": "stdout"
        }
      ]
    },
    {
      "cell_type": "code",
      "metadata": {
        "id": "8Nl90QJkdgHn",
        "colab_type": "code",
        "colab": {}
      },
      "source": [
        "'''\n",
        "g=getdata('20J28',0)[0]\n",
        "print(g)\n",
        "ks = norm.fit(g)\n",
        "print(ks[0],ks[1])\n"
      ],
      "execution_count": 0,
      "outputs": []
    },
    {
      "cell_type": "code",
      "metadata": {
        "id": "qS-Xk-tD6a-L",
        "colab_type": "code",
        "colab": {}
      },
      "source": [
        "c1=1.75/100*1000/2\n",
        "c2=6/100*1000/2\n",
        "F1=1000"
      ],
      "execution_count": 0,
      "outputs": []
    },
    {
      "cell_type": "code",
      "metadata": {
        "id": "pm0mrSNFFv6z",
        "colab_type": "code",
        "colab": {}
      },
      "source": [
        "def BOND(M):                  #today is 2020/02/14 \n",
        " Bond1_mu=[]\n",
        " Bond1_var=[]\n",
        " Bond2_mu=[]\n",
        " Bond2_var=[]\n",
        " for i in range(0,10):   # estimate 2010/02/14-2020/04/17\n",
        "  dd_1=getdata('bond1',n)[0]  #interest rate\n",
        "  d_1=getdata('bond1',n)[1]   #interest rate change\n",
        "  #ks_1 = norm.fit(d_1)\n",
        "  r1=dd_1[51+i] \n",
        "  #dd_2=getdata('bond3.625',n)[0]\n",
        "  #d_2=getdata('bond3.625',n)[1]\n",
        "  #ks_2 = norm.fit(d_2)\n",
        "  #r2=dd_2[51+i] \n",
        "   for j in range(0,52)\n",
        "     week_bond1.append(rolling_bond(159-7*i,F1,c1,r1,d_1[i+j],0))   #159=2020/07/15-2020/02/14\n",
        "   tBond1=t.fit(week_bond1)\n",
        "   t1.append(tBond1[0])\n",
        "   t1.append(tBond1[0])\n",
        "   t1.append(tBond1[0])\n",
        "  week_bond2=rolling_bond(182-7*n,F1,c2,r2,ks_2[0],ks_2[1])  \n",
        "  Bond2_mu.append(week_bond2[0])\n",
        "  Bond2_var.append(week_bond2[1])"
      ],
      "execution_count": 0,
      "outputs": []
    },
    {
      "cell_type": "code",
      "metadata": {
        "id": "x0m0FY8LR_7i",
        "colab_type": "code",
        "colab": {}
      },
      "source": [
        "\n",
        "# for each coupon, linloss could be calculated as L=-c*np.exp(r*t)(r*5-t*x) week=5 days\n",
        "def linloss_bond(c,r,t,mu,sigma):\n",
        "  exp=-c*np.exp(r*t)*(r*5-t*mu)\n",
        "  #exp=-c*np.exp(r*t)*(r*1-t*mu)\n",
        "  var=(np.exp(r*t)*t)**2*(sigma**2)\n",
        "  return exp,var"
      ],
      "execution_count": 0,
      "outputs": []
    },
    {
      "cell_type": "code",
      "metadata": {
        "id": "OCz0SQ0Mgcxs",
        "colab_type": "code",
        "colab": {}
      },
      "source": [
        "\n",
        "def rolling_bond(day,F,c,r,mu,sigma):\n",
        "  Exp=-F*np.exp(r*(day/182+15))*(r*5-(day/182+15)*mu)\n",
        "  Var=(np.exp(r*(day/182+15))*(day/182+15))**2*(sigma**2)\n",
        "  for i in range(0,16):\n",
        "    t=day/182+i\n",
        "    Exp=Exp+linloss_bond(c,r,t,mu,sigma)[0]\n",
        "    Var=Var+linloss_bond(c,r,t,mu,sigma)[1]\n",
        "  return Exp,Var\n"
      ],
      "execution_count": 0,
      "outputs": []
    },
    {
      "cell_type": "code",
      "metadata": {
        "id": "FK7-EBVZ6WEG",
        "colab_type": "code",
        "colab": {}
      },
      "source": [
        "Bond1_mu=[]\n",
        "Bond1_var=[]\n",
        "Bond2_mu=[]\n",
        "Bond2_var=[]\n",
        "for n in range(0,10):   # estimate 2010/02/14-2020/04/17\n",
        " dd_1=getdata('bond1',n)[0]\n",
        " d_1=getdata('bond1',n)[1]\n",
        " ks_1 = norm.fit(d_1)\n",
        " r1=dd_1[51+n] \n",
        " dd_2=getdata('bond3.625',n)[0]\n",
        " d_2=getdata('bond3.625',n)[1]\n",
        " ks_2 = norm.fit(d_2)\n",
        " r2=dd_2[51+n] \n",
        " week_bond1=rolling_bond(159-7*n,F1,c1,r1,ks_1[0],ks_1[1])   #159=2020/07/15-2020/02/14\n",
        " Bond1_mu.append(week_bond1[0])\n",
        " Bond1_var.append(week_bond1[1])\n",
        " week_bond2=rolling_bond(182-7*n,F1,c2,r2,ks_2[0],ks_2[1])  \n",
        " Bond2_mu.append(week_bond2[0])\n",
        " Bond2_var.append(week_bond2[1])\n",
        " #print(week[0],week[1])\n",
        " #print(week[0])\n"
      ],
      "execution_count": 0,
      "outputs": []
    },
    {
      "cell_type": "code",
      "metadata": {
        "id": "7uWJRqHar6tw",
        "colab_type": "code",
        "outputId": "8d7eca3c-8537-49a4-8669-9232af5a7cb6",
        "colab": {
          "base_uri": "https://localhost:8080/",
          "height": 107
        }
      },
      "source": [
        "print(Bond1_mu)\n",
        "print(Bond1_var)\n",
        "print(Bond2_mu)\n",
        "print(Bond2_var)"
      ],
      "execution_count": 87,
      "outputs": [
        {
          "output_type": "stream",
          "text": [
            "[1.3168020657115707, 3.289005837349064, 6.371792178381435, 11.77538788766703, -9.248422056742587, -17.586704545032735, 1.294661141562513, 7.12953190755665, 8.49477900869689, 5.478700272366696]\n",
            "[0.0002457889910209126, 0.00024171508720053275, 0.00023729352080909715, 0.0002525068626788285, 0.0008218318228104392, 0.0009150931923024108, 0.0011847284904108561, 0.0011737333097386084, 0.001158816055744269, 0.0011802863708535824]\n",
            "[0.5195273966302107, 2.744067360238744, 7.740156633816925, 14.924643187375043, -12.414439799099899, -23.05119146725257, -0.3601595108727958, 7.499844908180267, 8.863422497565818, 5.077241701871107]\n",
            "[0.0002530083766022384, 0.0002486028992484554, 0.0002481800849339859, 0.00026476457259763073, 0.0008406554152650169, 0.0009338283838282592, 0.0011618050204984934, 0.0011540053541670703, 0.001140687930817159, 0.0011602265035315596]\n"
          ],
          "name": "stdout"
        }
      ]
    },
    {
      "cell_type": "code",
      "metadata": {
        "id": "OfrhcURTJeO5",
        "colab_type": "code",
        "colab": {
          "base_uri": "https://localhost:8080/",
          "height": 365
        },
        "outputId": "6e3687e2-5d5d-4677-8227-bca518ab2ec7"
      },
      "source": [
        "B11=VaRnorm(0.9,Bond1_mu,np.sqrt(Bond1_var))\n",
        "B12=VaRnorm(0.95,Bond1_mu,np.sqrt(Bond1_var))\n",
        "B13=VaRnorm(0.99,Bond1_mu,np.sqrt(Bond1_var))\n",
        "print(B12[0])\n",
        "print(B13[0])\n",
        "x=np.linspace(1,10,10)\n",
        "#day=['2/22','3/1','11/1','11/4','11/5','11/6']\n",
        "plt.plot(x,B11[0],'orange',label=\"VaR_0.9\")\n",
        "plt.plot(x,B11[1],'blue',label=\"ES_0.9\")\n",
        "plt.plot(x,B12[0],'yellow',label=\"VaR_0.95\")\n",
        "plt.plot(x,B12[1],'green',label=\"ES_0.95\")\n",
        "plt.plot(x,B13[0],'red',label=\"VaR_0.99\")\n",
        "plt.plot(x,B13[1],'purple',label=\"ES_0.99\")\n",
        "plt.xlabel('time')\n",
        "plt.title('BOND-20 year:var and ES vs time')\n",
        "plt.legend()\n",
        "plt.show()"
      ],
      "execution_count": 92,
      "outputs": [
        {
          "output_type": "stream",
          "text": [
            "[  1.34258952   3.31457869   6.39713005  11.80152538  -9.20126804\n",
            " -17.53694689   1.35127681   7.18588425   8.55077211   5.53520971]\n",
            "[  1.35327375   3.32517401   6.40762802  11.81235464  -9.18173122\n",
            " -17.51633134   1.37473377   7.2092321    8.57397112   5.55862264]\n"
          ],
          "name": "stdout"
        },
        {
          "output_type": "display_data",
          "data": {
            "image/png": "[encoded data removed]",
            "text/plain": [
              "<Figure size 432x288 with 1 Axes>"
            ]
          },
          "metadata": {
            "tags": [],
            "needs_background": "light"
          }
        }
      ]
    },
    {
      "cell_type": "code",
      "metadata": {
        "id": "zc5VPiFDO7If",
        "colab_type": "code",
        "colab": {
          "base_uri": "https://localhost:8080/",
          "height": 295
        },
        "outputId": "1522c764-2153-40b9-b4a4-e994155b6526"
      },
      "source": [
        "B21=VaRnorm(0.9,Bond2_mu,np.sqrt(Bond2_var))\n",
        "B22=VaRnorm(0.95,Bond2_mu,np.sqrt(Bond2_var))\n",
        "B23=VaRnorm(0.99,Bond2_mu,np.sqrt(Bond2_var))\n",
        "#print(B12[0])\n",
        "#print(B13[0])\n",
        "x=np.linspace(1,10,10)\n",
        "#day=['2/22','3/1','11/1','11/4','11/5','11/6']\n",
        "plt.plot(x,B21[0],'orange',label=\"VaR_0.9\")\n",
        "plt.plot(x,B21[1],'blue',label=\"ES_0.9\")\n",
        "plt.plot(x,B22[0],'yellow',label=\"VaR_0.95\")\n",
        "plt.plot(x,B22[1],'green',label=\"ES_0.95\")\n",
        "plt.plot(x,B23[0],'red',label=\"VaR_0.99\")\n",
        "plt.plot(x,B23[1],'purple',label=\"ES_0.99\")\n",
        "plt.xlabel('time')\n",
        "plt.title('BOND-30 year:var and ES vs time')\n",
        "plt.legend()\n",
        "plt.show()"
      ],
      "execution_count": 93,
      "outputs": [
        {
          "output_type": "display_data",
          "data": {
            "image/png": "[encoded data removed]",
            "text/plain": [
              "<Figure size 432x288 with 1 Axes>"
            ]
          },
          "metadata": {
            "tags": [],
            "needs_background": "light"
          }
        }
      ]
    },
    {
      "cell_type": "code",
      "metadata": {
        "id": "zV-3PDSNbyEX",
        "colab_type": "code",
        "colab": {}
      },
      "source": [
        "#put option"
      ],
      "execution_count": 0,
      "outputs": []
    },
    {
      "cell_type": "code",
      "metadata": {
        "id": "mzB3eCq0b19j",
        "colab_type": "code",
        "colab": {}
      },
      "source": [
        "def N(x):\n",
        "  cdf=norm.cdf(x,0,1)\n",
        "  return cdf\n",
        "def p(x):\n",
        "  pdf=norm.pdf(x,0,1)\n",
        "  return pdf"
      ],
      "execution_count": 0,
      "outputs": []
    },
    {
      "cell_type": "code",
      "metadata": {
        "id": "-cY_8uEul8UB",
        "colab_type": "code",
        "colab": {}
      },
      "source": [
        "#get weekly stock price log return for option\n",
        "def getdata2(M,N):\n",
        "  with open(M+'.csv') as file:\n",
        "      reader=csv.reader(file)\n",
        "      rows=[row for row in reader]\n",
        "      DD=[row[1] for row in rows[1:62]]\n",
        "      DD=[float(d) for d in DD]\n",
        "      D=[row[2] for row in rows[1+N:53+N]]\n",
        "      D=[float(d) for d in D]\n",
        "      net=[row[3] for row in rows[1+N:53+N]]\n",
        "      net=[float(d) for d in net]\n",
        "      return DD,D,net"
      ],
      "execution_count": 0,
      "outputs": []
    },
    {
      "cell_type": "code",
      "metadata": {
        "id": "2vTT-IsiuqY3",
        "colab_type": "code",
        "colab": {}
      },
      "source": [
        "def getdata3(M,N):\n",
        "  with open(M+'.csv') as file:\n",
        "      reader=csv.reader(file)\n",
        "      rows=[row for row in reader]\n",
        "      DD=[row[1] for row in rows[1:62]]\n",
        "      DD=[float(d) for d in DD]\n",
        "      D=[row[2] for row in rows[1+N:53+N]]\n",
        "      D=[float(d) for d in D]\n",
        "      return DD,D"
      ],
      "execution_count": 0,
      "outputs": []
    },
    {
      "cell_type": "code",
      "metadata": {
        "id": "hR2RMpEKlZ7c",
        "colab_type": "code",
        "outputId": "4faa0990-f22d-4e90-f5a3-cfec11f0a776",
        "colab": {
          "base_uri": "https://localhost:8080/",
          "height": 35
        }
      },
      "source": [
        "'''\n",
        "djx=getdata2('DIA',0)\n",
        "djx1=djx[0]\n",
        "djx2=djx[1]\n",
        "std=np.std(djx2)\n",
        "print(djx1[50])\n"
      ],
      "execution_count": 0,
      "outputs": [
        {
          "output_type": "stream",
          "text": [
            "289.362\n"
          ],
          "name": "stdout"
        }
      ]
    },
    {
      "cell_type": "code",
      "metadata": {
        "id": "J4-NAnM5t29l",
        "colab_type": "code",
        "colab": {}
      },
      "source": [
        "'''\n",
        "v_djx=[9.5,9,11.21,39.96,38.84,64.99,102.26,78.84,83.26,57.34,51.95] \n",
        "v_cat=[6.31,8.19,7.97,4.4,2.34,0.33,0.26,0.4,0.82,2.34,0.61]\n",
        "v_vig=[2.05,2.68,2.25,0.14,0.44,0.29,0.29,0.05,0.03,0.07,0.02]\n",
        "ir=[-0.07,-0.15,-0.28,-0.57,0.04,0.17,-0.22,-0.46,-0.5,-0.36]\n"
      ],
      "execution_count": 0,
      "outputs": []
    },
    {
      "cell_type": "code",
      "metadata": {
        "id": "wRXHRT7_h87d",
        "colab_type": "code",
        "colab": {}
      },
      "source": [
        "'''\n",
        "def d(S,K,r,sigma,t):\n",
        " d1=(np.log(S/K)+(r+sigma**2/2)*t)/(sigma*np.sqrt(t))\n",
        " d2=d1-sigma*np.sqrt(t)\n",
        " return d1,d2"
      ],
      "execution_count": 0,
      "outputs": []
    },
    {
      "cell_type": "code",
      "metadata": {
        "id": "08JpWEtVn4TC",
        "colab_type": "code",
        "colab": {}
      },
      "source": [
        "def deltaput(S,K,r,sigma,t):\n",
        "  d1=(np.log(S/K)+(r+sigma**2/2)*t)/(sigma*np.sqrt(t))\n",
        "  delta_P=N(float(d1))-1\n",
        "  return delta_P\n",
        "def deltacall(S,K,r,sigma,t):\n",
        "  d1=(np.log(S/K)+(r+sigma**2/2)*t)/(sigma*np.sqrt(t))\n",
        "  delta_C=N(float(d1))\n",
        "  return delta_C\n",
        "def rhoput(S,K,r,sigma,t):\n",
        "  d1=(np.log(S/K)+(r+sigma**2/2)*t)/(sigma*np.sqrt(t))\n",
        "  d2=d1-sigma*np.sqrt(t)\n",
        "  rho_P=-K*t*np.exp(-r*t)*N(float(-d2))\n",
        "  return rho_P\n",
        "def rhocall(S,K,r,sigma,t):  \n",
        "  d1=(np.log(S/K)+(r+sigma**2/2)*t)/(sigma*np.sqrt(t))\n",
        "  d2=d1-sigma*np.sqrt(t)\n",
        "  rho_C=K*t*np.exp(-r*t)*N(float(d2))\n",
        "  return rho_C\n",
        "def thetaput(S,K,r,sigma,t):\n",
        "  d1=(np.log(S/K)+(r+sigma**2/2)*t)/(sigma*np.sqrt(t))\n",
        "  d2=d1-sigma*np.sqrt(t)\n",
        "  theta_P=-S*sigma/(2*np.sqrt(t))*np.exp(-float(d1)**2/2)/np.sqrt(2*np.pi)+r*K*np.exp(-r*t)*N(float(-d2))\n",
        "  return theta_P\n",
        "def thetacall(S,K,r,sigma,t):  \n",
        "  d1=(np.log(S/K)+(r+sigma**2/2)*t)/(sigma*np.sqrt(t))\n",
        "  d2=d1-sigma*np.sqrt(t)\n",
        "  theta_C=-S*sigma/(2*np.sqrt(t))*np.exp(-float(d1)**2/2)/np.sqrt(2*np.pi)-r*K*np.exp(-r*t)*N(float(d2))\n",
        "  return theta_C\n",
        "def vega(S,K,r,sigma,t):  \n",
        "  d1=(np.log(S/K)+(r+sigma**2/2)*t)/(sigma*np.sqrt(t))\n",
        "  d2=d1-sigma*np.sqrt(t)\n",
        "  vega=S*np.sqrt(t)*np.exp(-float(d1)**2/2)/np.sqrt(2*np.pi)\n",
        "  return vega\n"
      ],
      "execution_count": 0,
      "outputs": []
    },
    {
      "cell_type": "code",
      "metadata": {
        "id": "2z7gSIohoQLl",
        "colab_type": "code",
        "colab": {}
      },
      "source": [
        "djxmu=[]\n",
        "djxvariance=[]\n",
        "std=[]\n",
        "for i in range(1,10):    #estimate loss on 2020/02/14 02/21 02/28 3/6\n",
        "  djx=getdata2('DIA',i)\n",
        "  ir=getdata2('IR',i)\n",
        "  djx1=djx[0]   #price\n",
        "  djx2=djx[1]    #log return\n",
        "  djx3=djx[2]   #net return of stock\n",
        "  #std=np.std(djx2)\n",
        "  std.append(np.std(djx2))\n",
        "  delta1=deltaput(djx1[51+i],293,ir[i-1],std[i-1],(125-7*i)/250)   #t=(2020/06/18-2020/02/14)/250\n",
        "  theta1=thetaput(djx1[51+i],293,ir[i-1],std[i-1],(125-7*i)/250)\n",
        "  rho1=rhoput(djx1[51+i],293,ir[i-1],std[i-1],(125-7*i)/250)\n",
        "  vega1=vega(djx1[51+i],293,ir[i-1],std[i-1],(125-7*i)/250)\n",
        "  linlo1=theta1*7/250+delta1*djx3[i-1]+rho1*(ir[i]-ir[i-1])+vega1*(std[i]-std[i-1])      #adjust the subscript\n",
        "  #leverage=delta*djx1[51+i-1]/v_djx[i-1]\n",
        "  #djxmu.append(leverage*djx1[51+i]*np.mean(djx2))     #loss:expected mean_option=L*expected mean_stock=L*S_t*mean(log return)\n",
        "  #djxvariance.append(leverage**2*(std**2))       #loss:expected variance_option=L^2*expected variance_stock=L^2*(S_t^2)*(sigma^2)\n",
        "  #print(delta)\n",
        "  #print(leverage)\n",
        "  djxmu.append(norm.fit(linlo1)[0])\n",
        "  djxvariance.append(norm.fit(linlo1)[1]) \n",
        "print(djxmu)\n",
        "print(djxvariance)"
      ],
      "execution_count": 0,
      "outputs": []
    },
    {
      "cell_type": "code",
      "metadata": {
        "id": "mcEZ7ISdl_BD",
        "colab_type": "code",
        "colab": {}
      },
      "source": [
        "def putoption(M):                  #today is 2020/02/14 \n",
        " mu=[]\n",
        " variance=[]\n",
        " std=[]\n",
        " for i in range(0,10):    #estimate loss on 2020/02/14 02/21 02/28 3/6\n",
        "   opt=getdata2(M,i)\n",
        "   ir=getdata3('IR',i)\n",
        "   opt1=opt[0]   #price\n",
        "   opt2=opt[1]    #log return\n",
        "   opt3=opt[2]   #net return of stock\n",
        "   ir1=ir[0]   #10 year bond yield\n",
        "   ir2=ir[1]   #interest rate change\n",
        "   #std=np.std(djx2)\n",
        "   #std.append(np.std(opt2))\n",
        "   delta=deltaput(opt1[51+i],293,ir1[51+i],0.1,(125-7*i)/250)   #t=(2020/06/18-2020/02/14)/250\n",
        "   theta=thetaput(opt1[51+i],293,ir1[51+i],0.1,(125-7*i)/250)\n",
        "   rho=rhoput(opt1[51+i],293,ir1[51+i],0.1,(125-7*i)/250)\n",
        "   vvega=vega(opt1[51+i],293,ir1[51+i],0.1,(125-7*i)/250)\n",
        "   #linloss=theta1*7/250+delta1*djx3[i-1]+rho1*(ir[i]-ir[i-1])+vega1*(std[i]-std[i-1])      #adjust the subscript\n",
        "   #leverage=delta*djx1[51+i-1]/v_djx[i-1]\n",
        "   #djxmu.append(leverage*djx1[51+i]*np.mean(djx2))     #loss:expected mean_option=L*expected mean_stock=L*S_t*mean(log return)\n",
        "   #djxvariance.append(leverage**2*(std**2))       #loss:expected variance_option=L^2*expected variance_stock=L^2*(S_t^2)*(sigma^2)\n",
        "   #print(delta)\n",
        "   #print(leverage)\n",
        "   mu.append(-(theta*7/250+delta*np.mean(opt3)+rho*np.mean(ir2)+vvega*(0.1-0.1)))\n",
        "   variance.append(delta**2*(np.std(opt3)**2)+(rho**2)*(np.std(ir2)**2)+(vvega**2)*((0.1-0.1)**2))\n",
        "   #djxmu.append(norm.fit(linlo1)[0])\n",
        "   #djxvariance.append(norm.fit(linlo1)[1]) \n",
        " return mu,variance\n",
        " "
      ],
      "execution_count": 0,
      "outputs": []
    },
    {
      "cell_type": "code",
      "metadata": {
        "id": "s-TiLtG5DiyN",
        "colab_type": "code",
        "colab": {}
      },
      "source": [
        "def putoption1(M):                  #today is 2020/02/14 \n",
        " \n",
        " t1=[]\n",
        " t2=[]\n",
        " t3=[]\n",
        " variance=[]\n",
        " std=[]\n",
        " for i in range(0,10):    #estimate loss on 2020/02/14 02/21 02/28 3/6\n",
        "   opt=getdata2(M,i)\n",
        "   ir=getdata3('IR',i)\n",
        "   opt1=opt[0]   #price\n",
        "   opt2=opt[1]    #log return\n",
        "   opt3=opt[2]   #net return of stock\n",
        "   ir1=ir[0]   #10 year bond yield\n",
        "   ir2=ir[1]   #interest rate change\n",
        "   Linloss=[]\n",
        "   for j in range(0,52):\n",
        "     delta=deltaput(opt1[i+j],293,ir1[i+j],0.1,(125-7*i)/250)   #t=(2020/06/18-2020/02/14)/250\n",
        "     theta=thetaput(opt1[i+j],293,ir1[i+j],0.1,(125-7*i)/250)\n",
        "     rho=rhoput(opt1[i+j],293,ir1[i+j],0.1,(125-7*i)/250)\n",
        "     vvega=vega(opt1[i+j],293,ir1[i+j],0.1,(125-7*i)/250)\n",
        "     Linloss.append(-(theta*7/250+delta*opt3[j]+rho*ir2[j]+vvega*(0.1-0.1)))\n",
        "   toption=t.fit(Linloss)\n",
        "   t1.append(toption[0])\n",
        "   t2.append(toption[1])\n",
        "   t3.append(toption[2])\n",
        "\n",
        "   #mu.append(theta*7/250+delta*np.mean(opt3)+rho*np.mean(ir2)+vvega*(0.1-0.1))\n",
        "   #variance.append(delta**2*(np.std(opt3)**2)+(rho**2)*(np.std(ir2)**2)+(vvega**2)*((0.1-0.1)**2))\n",
        " return t1,t2,t3"
      ],
      "execution_count": 0,
      "outputs": []
    },
    {
      "cell_type": "code",
      "metadata": {
        "id": "znPIvHCPD_AO",
        "colab_type": "code",
        "colab": {
          "base_uri": "https://localhost:8080/",
          "height": 295
        },
        "outputId": "7c2cae37-697e-4e3c-c2b4-64aaef552483"
      },
      "source": [
        "tdjx=putoption1('DIA')\n",
        "tdjx1=VaRt1(0.9,tdjx[1],tdjx[2],tdjx[0])\n",
        "tdjx2=VaRt1(0.95,tdjx[1],tdjx[2],tdjx[0])\n",
        "tdjx3=VaRt1(0.99,tdjx[1],tdjx[2],tdjx[0])\n",
        "#print(cat1[0])\n",
        "#print(cat1[1])\n",
        "x=np.linspace(1,10,10)\n",
        "plt.plot(x,tdjx1[0],'orange',label=\"VaR_0.9\")\n",
        "plt.plot(x,tdjx1[1],'blue',label=\"ES_0.9\")\n",
        "plt.plot(x,tdjx2[0],'yellow',label=\"VaR_0.95\")\n",
        "plt.plot(x,tdjx2[1],'green',label=\"ES_0.95\")\n",
        "plt.plot(x,tdjx3[0],'red',label=\"VaR_0.99\")\n",
        "plt.plot(x,tdjx3[1],'purple',label=\"ES_0.99\")\n",
        "plt.xlabel('time')\n",
        "plt.title('put option DJX:var and ES vs time')\n",
        "plt.legend()\n",
        "plt.show()"
      ],
      "execution_count": 200,
      "outputs": [
        {
          "output_type": "display_data",
          "data": {
            "image/png": "[encoded data removed]",
            "text/plain": [
              "<Figure size 432x288 with 1 Axes>"
            ]
          },
          "metadata": {
            "tags": [],
            "needs_background": "light"
          }
        }
      ]
    },
    {
      "cell_type": "code",
      "metadata": {
        "id": "odQwbAQtxOJp",
        "colab_type": "code",
        "colab": {}
      },
      "source": [
        "def calloption(M):                  #today is 2020/02/14 \n",
        " mu=[]\n",
        " variance=[]\n",
        " std=[]\n",
        " for i in range(0,10):    #estimate loss on 2020/02/14 02/21 02/28 3/6\n",
        "   opt=getdata2(M,i)\n",
        "   ir=getdata3('IR',i)\n",
        "   opt1=opt[0]   #price\n",
        "   opt2=opt[1]    #log return\n",
        "   opt3=opt[2]   #net return of stock\n",
        "   ir1=ir[0]   #10 year bond yield\n",
        "   ir2=ir[1]   #interest rate change\n",
        "   delta=deltacall(opt1[51+i],293,ir1[51+i],0.1,(125-7*i)/250)   #t=(2020/06/18-2020/02/14)/250\n",
        "   theta=thetacall(opt1[51+i],293,ir1[51+i],0.1,(125-7*i)/250)\n",
        "   rho=rhocall(opt1[51+i],293,ir1[51+i],0.1,(125-7*i)/250)\n",
        "   vvega=vega(opt1[51+i],293,ir1[51+i],0.1,(125-7*i)/250)\n",
        "   mu.append(theta*7/250+delta*np.mean(opt3)+rho*np.mean(ir2)+vvega*(0.1-0.1))\n",
        "   variance.append(delta**2*(np.std(opt3)**2)+(rho**2)*(np.std(ir2)**2)+(vvega**2)*((0.1-0.1)**2))\n",
        " return mu,variance\n",
        " "
      ],
      "execution_count": 0,
      "outputs": []
    },
    {
      "cell_type": "code",
      "metadata": {
        "id": "tkuYipmb5Nyn",
        "colab_type": "code",
        "colab": {}
      },
      "source": [
        "def calloption1(M):                  #today is 2020/02/14 \n",
        " \n",
        " t1=[]\n",
        " t2=[]\n",
        " t3=[]\n",
        " variance=[]\n",
        " std=[]\n",
        " for i in range(0,10):    #estimate loss on 2020/02/14 02/21 02/28 3/6\n",
        "   opt=getdata2(M,i)\n",
        "   ir=getdata3('IR',i)\n",
        "   opt1=opt[0]   #price\n",
        "   opt2=opt[1]    #log return\n",
        "   opt3=opt[2]   #net return of stock\n",
        "   ir1=ir[0]   #10 year bond yield\n",
        "   ir2=ir[1]   #interest rate change\n",
        "   Linloss=[]\n",
        "   for j in range(0,52):\n",
        "     delta=deltacall(opt1[i+j],293,ir1[i+j],0.1,(125-7*i)/250)   #t=(2020/06/18-2020/02/14)/250\n",
        "     theta=thetacall(opt1[i+j],293,ir1[i+j],0.1,(125-7*i)/250)\n",
        "     rho=rhocall(opt1[i+j],293,ir1[i+j],0.1,(125-7*i)/250)\n",
        "     vvega=vega(opt1[i+j],293,ir1[i+j],0.1,(125-7*i)/250)\n",
        "     Linloss.append(theta*7/250+delta*opt3[j]+rho*ir2[j]+vvega*(0.1-0.1))\n",
        "   toption=t.fit(Linloss)\n",
        "   t1.append(toption[0])\n",
        "   t2.append(toption[1])\n",
        "   t3.append(toption[2])\n",
        "\n",
        "   #mu.append(theta*7/250+delta*np.mean(opt3)+rho*np.mean(ir2)+vvega*(0.1-0.1))\n",
        "   #variance.append(delta**2*(np.std(opt3)**2)+(rho**2)*(np.std(ir2)**2)+(vvega**2)*((0.1-0.1)**2))\n",
        " return t1,t2,t3"
      ],
      "execution_count": 0,
      "outputs": []
    },
    {
      "cell_type": "code",
      "metadata": {
        "id": "Q08Vm_r_AIz8",
        "colab_type": "code",
        "colab": {
          "base_uri": "https://localhost:8080/",
          "height": 89
        },
        "outputId": "64b210b7-011e-46eb-f566-1a36d09d8209"
      },
      "source": [
        "tcat=calloption1('CAT')\n",
        "print(tcat[0])\n",
        "print(tcat[1])\n",
        "print(tcat[2])"
      ],
      "execution_count": 196,
      "outputs": [
        {
          "output_type": "stream",
          "text": [
            "[1.9883280552354106, 1.9883278766373857, 1.9883278766636776, 1.9883278766668635, 1.9883278766668426, 1.988327876666835, 1.9883278766668333, 1.9883278766668333, 1.9883278766668333, 1.9883278766668333]\n",
            "[-1.1849083275554217e-19, -1.5610617866546855e-21, 4.2160498131080895e-22, -8.379410044124156e-22, -1.0005440781688435e-21, 1.531366586949052e-21, -9.395878611409864e-22, -9.395878611409864e-22, -9.395878611409864e-22, -9.395878611409864e-22]\n",
            "[1.802391900400466e-18, 2.645346859964067e-20, 1.916186145951438e-21, 1.907385747363203e-21, 1.5022800553268941e-21, 1.3947858995627898e-21, 1.4659128378943582e-21, 1.4659128378943582e-21, 1.4659128378943582e-21, 1.4659128378943582e-21]\n"
          ],
          "name": "stdout"
        }
      ]
    },
    {
      "cell_type": "code",
      "metadata": {
        "id": "TyQT7mGLAGwe",
        "colab_type": "code",
        "colab": {
          "base_uri": "https://localhost:8080/",
          "height": 295
        },
        "outputId": "1a5aaabb-ee32-41b8-b750-ccaa5515d8da"
      },
      "source": [
        "tcat1=VaRt1(0.9,tcat[1],tcat[2],tcat[0])\n",
        "tcat2=VaRt1(0.95,tcat[1],tcat[2],tcat[0])\n",
        "tcat3=VaRt1(0.99,tcat[1],tcat[2],tcat[0])\n",
        "#print(cat1[0])\n",
        "#print(cat1[1])\n",
        "x=np.linspace(1,10,10)\n",
        "plt.plot(x,tcat1[0],'orange',label=\"VaR_0.9\")\n",
        "plt.plot(x,tcat1[1],'blue',label=\"ES_0.9\")\n",
        "plt.plot(x,tcat2[0],'yellow',label=\"VaR_0.95\")\n",
        "plt.plot(x,tcat2[1],'green',label=\"ES_0.95\")\n",
        "plt.plot(x,tcat3[0],'red',label=\"VaR_0.99\")\n",
        "plt.plot(x,tcat3[1],'purple',label=\"ES_0.99\")\n",
        "plt.xlabel('time')\n",
        "plt.title('call option CAT:var and ES vs time')\n",
        "plt.legend()\n",
        "plt.show()"
      ],
      "execution_count": 198,
      "outputs": [
        {
          "output_type": "display_data",
          "data": {
            "image/png": "[encoded data removed]",
            "text/plain": [
              "<Figure size 432x288 with 1 Axes>"
            ]
          },
          "metadata": {
            "tags": [],
            "needs_background": "light"
          }
        }
      ]
    },
    {
      "cell_type": "code",
      "metadata": {
        "id": "7v40Z6GaEys3",
        "colab_type": "code",
        "colab": {
          "base_uri": "https://localhost:8080/",
          "height": 295
        },
        "outputId": "fe7970a3-4df5-4bfb-a49f-0410b1400ed6"
      },
      "source": [
        "tvig=calloption1('VIG')\n",
        "tvig1=VaRt1(0.9,tvig[1],tvig[2],tvig[0])\n",
        "tvig2=VaRt1(0.95,tvig[1],tvig[2],tvig[0])\n",
        "tvig3=VaRt1(0.99,tvig[1],tvig[2],tvig[0])\n",
        "#print(cat1[0])\n",
        "#print(cat1[1])\n",
        "x=np.linspace(1,10,10)\n",
        "plt.plot(x,tvig1[0],'orange',label=\"VaR_0.9\")\n",
        "plt.plot(x,tvig1[1],'blue',label=\"ES_0.9\")\n",
        "plt.plot(x,tvig2[0],'yellow',label=\"VaR_0.95\")\n",
        "plt.plot(x,tvig2[1],'green',label=\"ES_0.95\")\n",
        "plt.plot(x,tvig3[0],'red',label=\"VaR_0.99\")\n",
        "plt.plot(x,tvig3[1],'purple',label=\"ES_0.99\")\n",
        "plt.xlabel('time')\n",
        "plt.title('call option VIG:var and ES vs time')\n",
        "plt.legend()\n",
        "plt.show()"
      ],
      "execution_count": 201,
      "outputs": [
        {
          "output_type": "display_data",
          "data": {
            "image/png": "[encoded data removed]",
            "text/plain": [
              "<Figure size 432x288 with 1 Axes>"
            ]
          },
          "metadata": {
            "tags": [],
            "needs_background": "light"
          }
        }
      ]
    },
    {
      "cell_type": "code",
      "metadata": {
        "id": "_YXn7pwysG38",
        "colab_type": "code",
        "outputId": "31915ffe-28fe-4ee1-cf93-3cebb30d4906",
        "colab": {
          "base_uri": "https://localhost:8080/",
          "height": 419
        }
      },
      "source": [
        "djx=putoption('DIA')\n",
        "print(djx[0])\n",
        "print(djx[1])\n",
        "djxVaR1=VaRnorm(0.9,djx[0],np.sqrt(djx[1]))\n",
        "djxVaR2=VaRnorm(0.95,djx[0],np.sqrt(djx[1]))\n",
        "djxVaR3=VaRnorm(0.99,djx[0],np.sqrt(djx[1]))\n",
        "print(djxVaR1[0])\n",
        "print(djxVaR1[1])\n",
        "x=np.linspace(1,10,10)\n",
        "#day=['2/22','3/1','11/1','11/4','11/5','11/6']\n",
        "plt.plot(x,djxVaR1[0],'orange',label=\"VaR_0.9\")\n",
        "plt.plot(x,djxVaR1[1],'blue',label=\"ES_0.9\")\n",
        "plt.plot(x,djxVaR2[0],'yellow',label=\"VaR_0.95\")\n",
        "plt.plot(x,djxVaR2[1],'green',label=\"ES_0.95\")\n",
        "plt.plot(x,djxVaR3[0],'red',label=\"VaR_0.99\")\n",
        "plt.plot(x,djxVaR3[1],'purple',label=\"ES_0.99\")\n",
        "plt.xlabel('time')\n",
        "plt.title('put option DJX:var and ES vs time')\n",
        "plt.legend()\n",
        "plt.show()"
      ],
      "execution_count": 82,
      "outputs": [
        {
          "output_type": "stream",
          "text": [
            "[-0.6350160092307895, -0.38492436226997007, -0.4611143423797177, 2.2811268937900486, -2.0396787908228724, -3.1181870671073524, -0.2764035182417477, 1.3383346280735506, 2.3254246621243433, 1.403300666492021]\n",
            "[78.41415646317441, 123.5275380909301, 177.61994841871197, 222.3985387962204, 243.1408197853723, 232.93775960467275, 292.1130059819981, 292.1216054247633, 270.68787174386523, 230.5952816767184]\n",
            "[10.7133497  13.85861692 16.61865319 21.39294706 17.9435207  16.44123564\n",
            " 21.62699639 23.24205693 23.41027313 20.86412775]\n",
            "[14.90567159 19.12047676 22.9282739  28.4532502  25.32572944 23.66689245\n",
            " 29.71856703 31.33374668 31.19945389 28.05336129]\n"
          ],
          "name": "stdout"
        },
        {
          "output_type": "display_data",
          "data": {
            "image/png": "[encoded data removed]",
            "text/plain": [
              "<Figure size 432x288 with 1 Axes>"
            ]
          },
          "metadata": {
            "tags": [],
            "needs_background": "light"
          }
        }
      ]
    },
    {
      "cell_type": "code",
      "metadata": {
        "id": "knVy6kw_xDzJ",
        "colab_type": "code",
        "outputId": "45f276ff-6e9d-448f-d302-6c466643983c",
        "colab": {
          "base_uri": "https://localhost:8080/",
          "height": 350
        }
      },
      "source": [
        "cat=calloption('CAT')\n",
        "print(cat[0])\n",
        "print(cat[1])\n",
        "cat1=VaRnorm(0.9,cat[0],np.sqrt(cat[1]))\n",
        "cat2=VaRnorm(0.95,cat[0],np.sqrt(cat[1]))\n",
        "cat3=VaRnorm(0.99,cat[0],np.sqrt(cat[1]))\n",
        "#print(cat1[0])\n",
        "#print(cat1[1])\n",
        "x=np.linspace(1,10,10)\n",
        "plt.plot(x,cat1[0],'orange',label=\"VaR_0.9\")\n",
        "plt.plot(x,cat1[1],'blue',label=\"ES_0.9\")\n",
        "plt.plot(x,cat2[0],'yellow',label=\"VaR_0.95\")\n",
        "plt.plot(x,cat2[1],'green',label=\"ES_0.95\")\n",
        "plt.plot(x,cat3[0],'red',label=\"VaR_0.99\")\n",
        "plt.plot(x,cat3[1],'purple',label=\"ES_0.99\")\n",
        "plt.xlabel('time')\n",
        "plt.title('call option CAT:var and ES vs time')\n",
        "plt.legend()\n",
        "plt.show()"
      ],
      "execution_count": 85,
      "outputs": [
        {
          "output_type": "stream",
          "text": [
            "[-5.093400674342e-29, -8.493235541646014e-34, -1.5671983622317926e-49, -7.519924805432236e-68, -8.883134966039866e-66, -2.3474441053581906e-70, -3.3724806478100643e-81, -7.178759452465314e-86, -6.287741076826053e-80, -2.6438246239130897e-91]\n",
            "[8.63565490957871e-57, 2.1893677360748058e-66, 5.844000396836592e-98, 1.468029256234674e-134, 1.7298031742412287e-130, 9.987868810585658e-140, 2.272687581848358e-161, 1.0193523749149707e-170, 7.579968522342399e-159, 8.888299832164474e-182]\n"
          ],
          "name": "stdout"
        },
        {
          "output_type": "display_data",
          "data": {
            "image/png": "[encoded data removed]",
            "text/plain": [
              "<Figure size 432x288 with 1 Axes>"
            ]
          },
          "metadata": {
            "tags": [],
            "needs_background": "light"
          }
        }
      ]
    },
    {
      "cell_type": "code",
      "metadata": {
        "id": "f6JL43dkyL0M",
        "colab_type": "code",
        "outputId": "ca3435ff-a124-476a-cfc2-bd84f6dce7c4",
        "colab": {
          "base_uri": "https://localhost:8080/",
          "height": 350
        }
      },
      "source": [
        "vig=calloption('VIG')\n",
        "print(vig[0])\n",
        "print(vig[1])\n",
        "vig1=VaRnorm(0.9,vig[0],np.sqrt(vig[1]))\n",
        "vig2=VaRnorm(0.95,vig[0],np.sqrt(vig[1]))\n",
        "vig3=VaRnorm(0.99,vig[0],np.sqrt(vig[1]))\n",
        "#print(cat1[0])\n",
        "#print(cat1[1])\n",
        "x=np.linspace(1,10,10)\n",
        "plt.plot(x,vig1[0],'orange',label=\"VaR_0.9\")\n",
        "plt.plot(x,vig1[1],'blue',label=\"ES_0.9\")\n",
        "plt.plot(x,vig2[0],'yellow',label=\"VaR_0.95\")\n",
        "plt.plot(x,vig2[1],'green',label=\"ES_0.95\")\n",
        "plt.plot(x,vig3[0],'red',label=\"VaR_0.99\")\n",
        "plt.plot(x,vig3[1],'purple',label=\"ES_0.99\")\n",
        "plt.xlabel('time')\n",
        "plt.title('call option VIG:var and ES vs time')\n",
        "plt.legend()\n",
        "plt.show()"
      ],
      "execution_count": 84,
      "outputs": [
        {
          "output_type": "stream",
          "text": [
            "[-1.1889788974079972e-32, -3.5057834721175447e-38, -5.316959982113881e-57, -2.656800369642222e-71, -1.7791260941324516e-56, -5.858472399519143e-73, -3.751077617613279e-85, -5.100743888063845e-106, -1.1478104338004452e-97, -4.541322525151043e-94]\n",
            "[3.333834577354443e-64, 2.5441533522834003e-75, 4.335881485147779e-113, 1.2991863969151221e-141, 5.549500078325971e-112, 4.261083850130941e-145, 2.0691462068629225e-169, 3.1441727317257472e-211, 1.5734725241488533e-194, 1.8465968777307784e-187]\n"
          ],
          "name": "stdout"
        },
        {
          "output_type": "display_data",
          "data": {
            "image/png": "[encoded data removed]",
            "text/plain": [
              "<Figure size 432x288 with 1 Axes>"
            ]
          },
          "metadata": {
            "tags": [],
            "needs_background": "light"
          }
        }
      ]
    },
    {
      "cell_type": "code",
      "metadata": {
        "id": "Nvdl89pqsmwt",
        "colab_type": "code",
        "colab": {}
      },
      "source": [
        "def ttt(M):                  #today is 2020/02/14 \n",
        " opt=getdata2(M,0)\n",
        " return opt\n"
      ],
      "execution_count": 0,
      "outputs": []
    },
    {
      "cell_type": "code",
      "metadata": {
        "id": "oxgx3v5Msw1g",
        "colab_type": "code",
        "colab": {}
      },
      "source": [
        "tttt=ttt('DIA')"
      ],
      "execution_count": 0,
      "outputs": []
    },
    {
      "cell_type": "code",
      "metadata": {
        "id": "IUf0MhWR5CMC",
        "colab_type": "code",
        "outputId": "92cd7aa5-cd14-4ff2-c8d6-e49adc9d20d2",
        "colab": {
          "base_uri": "https://localhost:8080/",
          "height": 72
        }
      },
      "source": [
        "'''\n",
        "catmu=[]\n",
        "catvariance=[]\n",
        "for i in range(1,10):    #estimate loss on 2020/02/14 02/21 02/28 3/6\n",
        "  cat=getdata2('CAT',i)\n",
        "  cat1=cat[0]   #price\n",
        "  cat2=cat[1]    #log return\n",
        "  cat3=cat[2]   #net return of stock\n",
        "  sigmacat=np.std(cat2)\n",
        "  delta=deltacall(cat1[51+i],293,ir[i-1],sigmacat,(125-7*i)/250)   #t=(2020/06/18-2020/02/14)/250\n",
        "  leverage=delta*cat1[51+i-1]/v_cat[i-1]\n",
        "  catmu.append(leverage*cat1[51+i]*np.mean(cat2))     #loss:expected mean_option=L*expected mean_stock=L*S_t*mean(log return)\n",
        "  catvariance.append(leverage**2*(sigmacat**2))       #loss:expected variance_option=L^2*expected variance_stock=L^2*(S_t^2)*(sigma^2)\n",
        "  #print(delta)\n",
        "  #print(leverage)\n",
        "print(catmu)\n",
        "print(catvariance)"
      ],
      "execution_count": 0,
      "outputs": [
        {
          "output_type": "stream",
          "text": [
            "[3.5873863551852507e-243, -5.648257656850643e-304, -0.0, -0.0, -0.0, -2.4163856641719906e-271, -6.606291741675781e-305, -3.554086660299118e-300, -0.0]\n",
            "[0.0, 0.0, 0.0, 0.0, 0.0, 0.0, 0.0, 0.0, 0.0]\n"
          ],
          "name": "stdout"
        }
      ]
    },
    {
      "cell_type": "code",
      "metadata": {
        "id": "pn8x2HYAPI6y",
        "colab_type": "code",
        "colab": {}
      },
      "source": [
        ""
      ],
      "execution_count": 0,
      "outputs": []
    },
    {
      "cell_type": "code",
      "metadata": {
        "id": "eL8Xplz0PJSg",
        "colab_type": "code",
        "colab": {}
      },
      "source": [
        "#using WEEKLY log return\n",
        "mu_m=np.zeros(15)\n",
        "names_2=['CAT','DIA','HD','MSFT','NKE','NVDA','PG','TM','VIG','VOO','WMT','GOOG','CHEF','SPB','ORCL']\n",
        "def getData_m(N):\n",
        "    Is=[i for i in range(15)]\n",
        "    Rows=[]\n",
        "    for name,i in zip(names_2,Is):\n",
        "        with open(name+'.csv') as file:\n",
        "            reader=csv.reader(file)\n",
        "            rows=[row[2] for row in reader]\n",
        "        mu_m[i]=np.mean([float(row) for row in rows[1+N:53+N]])\n",
        "        Rows.append([float(row) for row in rows[1+N:53+N]])\n",
        "    Omega_m=np.cov(np.array(Rows))\n",
        "    return mu_m,Omega_m,rows"
      ],
      "execution_count": 0,
      "outputs": []
    },
    {
      "cell_type": "code",
      "metadata": {
        "id": "g4CCTHhgj1P-",
        "colab_type": "code",
        "colab": {}
      },
      "source": [
        "\n"
      ],
      "execution_count": 0,
      "outputs": []
    },
    {
      "cell_type": "code",
      "metadata": {
        "id": "QR7F7sCdlGog",
        "colab_type": "code",
        "colab": {
          "base_uri": "https://localhost:8080/",
          "height": 55
        },
        "outputId": "6ca796a3-120d-44a2-d1ce-0cb68baf567d"
      },
      "source": [
        ""
      ],
      "execution_count": 115,
      "outputs": [
        {
          "output_type": "stream",
          "text": [
            "['LOG RETURN', '0.014587506', '0.000571539', '0.004939217', '0.003216374', '-0.003216374', '0.017656355', '0.004087649', '0.01498236', '0.000366873', '0.016192449', '-0.011252359', '-0.002558521', '-0.002748444', '-0.032257956', '-0.041991275', '0.051234036', '0.000375433', '0.051931236', '0.015032647', '0.039747083', '0.008900977', '-0.034652855', '0.016546443', '-0.046536307', '-0.035359946', '-0.005768029', '-0.03822842', '0.009262866', '0.020909296', '0.011037425', '-0.005222875', '0.011528515', '0.019226156', '0.0356943', '-0.04200185', '-0.006990512', '0.01520599', '0.026730506', '-0.001240028', '-0.000531835', '-0.004443332', '-0.023610981', '-0.005853361', '-0.016835104', '-0.002615365', '0.00559594', '0.017194396', '0.012411185', '-0.019414544', '-0.030419141', '0.042368916', '0.013613099', '-0.014344344', '-0.100333765', '-0.043175183', '0.011752533', '-0.048737987', '0.087613595', '-0.00866679', '0.078471292', '0.026717712']\n"
          ],
          "name": "stdout"
        }
      ]
    },
    {
      "cell_type": "code",
      "metadata": {
        "id": "N_RDSKgUSS9r",
        "colab_type": "code",
        "colab": {}
      },
      "source": [
        "TEST=getData_m(0)\n",
        "print(TEST[0])\n",
        "print(TEST[1])\n"
      ],
      "execution_count": 0,
      "outputs": []
    },
    {
      "cell_type": "code",
      "metadata": {
        "id": "R3I0wxNSQliK",
        "colab_type": "code",
        "colab": {}
      },
      "source": [
        "'''\n",
        "#rolling window for normal  distribution\n",
        "def getData4(M):\n",
        "  Names=['PORT_VALUE']\n",
        "  for name in Names:\n",
        "    with open(name+'.csv') as file:\n",
        "        reader=csv.reader(file)\n",
        "        rows=[row for row in reader]\n",
        "    VALUE=[row[1] for row in rows[1+M:49+M]]\n",
        "    Loss=[float(l) for l in Loss]\n",
        "    Loss=sorted(Loss)\n",
        "    Loss=np.array(Loss)\n",
        "    #mu_loss,sigma_loss=norm.fit(Loss)\n",
        "    #N=[mu_loss,sigma_loss]\n",
        "    return N"
      ],
      "execution_count": 0,
      "outputs": []
    },
    {
      "cell_type": "code",
      "metadata": {
        "id": "I6k2AW5cdukI",
        "colab_type": "code",
        "colab": {}
      },
      "source": [
        "def getdata4(M):\n",
        "  with open(M+'.csv') as file:\n",
        "      reader=csv.reader(file)\n",
        "      rows=[row for row in reader]\n",
        "      DD=[row[0] for row in rows[1:62]]\n",
        "      DD=[float(d) for d in DD]\n",
        "  return DD"
      ],
      "execution_count": 0,
      "outputs": []
    },
    {
      "cell_type": "code",
      "metadata": {
        "id": "t84X6rmePOSw",
        "colab_type": "code",
        "colab": {}
      },
      "source": [
        "#linearized loss mean&variance\n",
        "def lin_loss(Vt,Wt,mu,omega):\n",
        "  exp=-Vt*(np.dot(Wt,mu))\n",
        "  var=(Vt**2)*(np.dot(np.dot(Wt,omega),Wt))\n",
        "  return exp,var"
      ],
      "execution_count": 0,
      "outputs": []
    },
    {
      "cell_type": "code",
      "metadata": {
        "id": "_SFuL4F8-GV7",
        "colab_type": "code",
        "colab": {
          "base_uri": "https://localhost:8080/",
          "height": 72
        },
        "outputId": "38aa3255-2191-4537-a40d-8e097fb68ee3"
      },
      "source": [
        "MU=[]\n",
        "VAR=[]\n",
        "#rolling window for linearized loss using WEEKLY log return \n",
        "for i in range(0,10):\n",
        "  data3_m= getData_m(i+1)\n",
        "  mu3_m=data3_m[0]\n",
        "  omega3_m=data3_m[1]\n",
        "  vt=getdata4('PORT_VALUE')\n",
        "  wt=np.ones(15)*1/15\n",
        "  a3_m=lin_loss(vt[i+51],wt,mu3_m,omega3_m)\n",
        "  #print(a3_m[0])\n",
        "  #print(a3_m[1])\n",
        "  #x = np.linspace (a3_m[0]-4*np.sqrt(a3_m[1]), a3_m[0]+4*np.sqrt(a3_m[1]))\n",
        "  #y = normfun(x, a3_m[0], np.sqrt(a3_m[1]))\n",
        "  #plt.plot(x,y)\n",
        "  #plt.title('PDF of linearized loss distribution using four year rolling window')\n",
        "  MU.append(a3_m[0])\n",
        "  VAR.append(a3_m[1])\n",
        "print(MU)\n",
        "print(VAR)"
      ],
      "execution_count": 110,
      "outputs": [
        {
          "output_type": "stream",
          "text": [
            "[-0.005461030268150292, -0.0027239070857168674, -0.0028206112617349816, 0.0002475879635197048, 0.004431001678247725, 0.0013236763142222584, 0.0024055371881447195, 0.0005445550824705847, 0.0002612342049562047, 0.00027603397224447044]\n",
            "[0.0004921068821204038, 0.0008890449938630154, 0.000704189008656272, 0.0010209031141811557, 0.0017699209385424618, 0.001651098518375096, 0.002108330258611994, 0.002277193190691566, 0.0027283400490444223, 0.0030192227444179325]\n"
          ],
          "name": "stdout"
        }
      ]
    },
    {
      "cell_type": "code",
      "metadata": {
        "id": "1fR80fP5if6w",
        "colab_type": "code",
        "colab": {
          "base_uri": "https://localhost:8080/",
          "height": 295
        },
        "outputId": "86f9548a-be75-49c1-ec6f-b933fda80fe6"
      },
      "source": [
        "N1=VaRnorm(0.9,MU,np.sqrt(VAR))\n",
        "N2=VaRnorm(0.95,MU,np.sqrt(VAR))\n",
        "N3=VaRnorm(0.99,MU,np.sqrt(VAR))\n",
        "#print(cat1[0])\n",
        "#print(cat1[1])\n",
        "x=np.linspace(1,10,10)\n",
        "plt.plot(x,N1[0],'orange',label=\"VaR_0.9\")\n",
        "plt.plot(x,N1[1],'blue',label=\"ES_0.9\")\n",
        "plt.plot(x,N2[0],'yellow',label=\"VaR_0.95\")\n",
        "plt.plot(x,N2[1],'green',label=\"ES_0.95\")\n",
        "plt.plot(x,N3[0],'red',label=\"VaR_0.99\")\n",
        "plt.plot(x,N3[1],'purple',label=\"ES_0.99\")\n",
        "plt.xlabel('time')\n",
        "plt.title('stock&ETF:var and ES vs time')\n",
        "plt.legend()\n",
        "plt.show()"
      ],
      "execution_count": 111,
      "outputs": [
        {
          "output_type": "display_data",
          "data": {
            "image/png": "[encoded data removed]",
            "text/plain": [
              "<Figure size 432x288 with 1 Axes>"
            ]
          },
          "metadata": {
            "tags": [],
            "needs_background": "light"
          }
        }
      ]
    },
    {
      "cell_type": "code",
      "metadata": {
        "id": "E-LNRCsnwLYl",
        "colab_type": "code",
        "colab": {
          "base_uri": "https://localhost:8080/",
          "height": 69
        },
        "outputId": "7a8b0d37-b79d-4e1d-c0fd-ed0c00adba43"
      },
      "source": [
        "N1=VaRnorm(0.9,MU,np.sqrt(VAR))\n",
        "print(N1)"
      ],
      "execution_count": 145,
      "outputs": [
        {
          "output_type": "stream",
          "text": [
            "(array([0.02296825, 0.03548793, 0.03118736, 0.04119518, 0.05834642,\n",
            "       0.05339787, 0.06124997, 0.06170013, 0.06720118, 0.07069403]), array([0.03347061, 0.04960418, 0.04375061, 0.05632207, 0.0782639 ,\n",
            "       0.07263516, 0.08298833, 0.08429226, 0.09193018, 0.0967079 ]))\n"
          ],
          "name": "stdout"
        }
      ]
    },
    {
      "cell_type": "code",
      "metadata": {
        "id": "DeSCmteWPcjH",
        "colab_type": "code",
        "colab": {}
      },
      "source": [
        "'''\n",
        "#linearized loss using monthly log return\n",
        "mu_m=np.array(getData_m(49)[0])    #first four year monthly log return\n",
        "omega_m=np.array(getData_m(49)[1])\n",
        "#print(omega)\n",
        "vt=193.664                           #20151231 portfolio value\n",
        "wt=np.ones(15)*1/15\n",
        "b=lin_loss(vt,wt,mu_m,omega_m)\n",
        "exp_m=b[0]\n",
        "var_m=b[1]\n",
        "print(exp_m)\n",
        "print(var_m)"
      ],
      "execution_count": 0,
      "outputs": []
    },
    {
      "cell_type": "code",
      "metadata": {
        "id": "3sOYotq_puP7",
        "colab_type": "code",
        "colab": {}
      },
      "source": [
        "def getdata5(M,N):\n",
        "  with open(M+'.csv') as file:\n",
        "      reader=csv.reader(file)\n",
        "      rows=[row for row in reader]\n",
        "      DD=[row[0] for row in rows[1+N:53+N]]\n",
        "      DD=[float(d) for d in DD]\n",
        "  return DD"
      ],
      "execution_count": 0,
      "outputs": []
    },
    {
      "cell_type": "code",
      "metadata": {
        "id": "hCq8OX_Rp_jJ",
        "colab_type": "code",
        "colab": {
          "base_uri": "https://localhost:8080/",
          "height": 89
        },
        "outputId": "906541c1-04d7-4f70-9410-36f82490c529"
      },
      "source": [
        "#t distribution for stock&ETFs\n",
        "T_df=[]\n",
        "T_mu=[]\n",
        "T_sigma=[]\n",
        "for i in range(0,10):\n",
        "  data2=getdata5('linearized_loss',i)\n",
        "  T_stock=t.fit(data2)\n",
        "  T_df.append(T_stock[0])\n",
        "  T_mu.append(T_stock[1])\n",
        "  T_sigma.append(T_stock[2])\n",
        "print(T_df)\n",
        "print(T_mu)\n",
        "print(T_sigma)\n"
      ],
      "execution_count": 154,
      "outputs": [
        {
          "output_type": "stream",
          "text": [
            "[24.54495950527241, 61.90123953934234, 3.3710925097992694, 3.1664813348867886, 2.322572249911695, 1.8049872288802244, 1.6075250991661738, 1.628115937356112, 1.538045267390812, 1.5823886779580663]\n",
            "[-0.005417932073843592, -0.00506884521289731, -0.005891302485411119, -0.006248250606498928, -0.00575838245098249, -0.006188212528448426, -0.006162329307983476, -0.005035684717748906, -0.004980203513268618, -0.005076417690852783]\n",
            "[0.017847816330697958, 0.01842821575072328, 0.015975899337141268, 0.015333612240521705, 0.014830871120390773, 0.01463197340271886, 0.015040026032343232, 0.015317304843174409, 0.015996519386812506, 0.01668075674700789]\n"
          ],
          "name": "stdout"
        }
      ]
    },
    {
      "cell_type": "code",
      "metadata": {
        "id": "e_karSHsrfCi",
        "colab_type": "code",
        "colab": {
          "base_uri": "https://localhost:8080/",
          "height": 295
        },
        "outputId": "52571c33-20c0-416b-b613-4ac1688d1584"
      },
      "source": [
        "T1=VaRt1(0.9,T_mu,T_sigma,T_df)\n",
        "T2=VaRt1(0.95,T_mu,T_sigma,T_df)\n",
        "T3=VaRt1(0.99,T_mu,T_sigma,T_df)\n",
        "#print(cat1[0])\n",
        "#print(cat1[1])\n",
        "x=np.linspace(1,10,10)\n",
        "plt.plot(x,T1[0],'orange',label=\"VaR_0.9\")\n",
        "plt.plot(x,T1[1],'blue',label=\"ES_0.9\")\n",
        "plt.plot(x,T2[0],'yellow',label=\"VaR_0.95\")\n",
        "plt.plot(x,T2[1],'green',label=\"ES_0.95\")\n",
        "plt.plot(x,T3[0],'red',label=\"VaR_0.99\")\n",
        "plt.plot(x,T3[1],'purple',label=\"ES_0.99\")\n",
        "plt.xlabel('time')\n",
        "plt.title('stock&ETF:var and ES vs time')\n",
        "plt.legend()\n",
        "plt.show()"
      ],
      "execution_count": 187,
      "outputs": [
        {
          "output_type": "display_data",
          "data": {
            "image/png": "[encoded data removed]",
            "text/plain": [
              "<Figure size 432x288 with 1 Axes>"
            ]
          },
          "metadata": {
            "tags": [],
            "needs_background": "light"
          }
        }
      ]
    },
    {
      "cell_type": "code",
      "metadata": {
        "id": "FO-w_-fzP6Jy",
        "colab_type": "code",
        "colab": {}
      },
      "source": [
        "#VaR\n",
        "def VaRnorm(alpha,mu,sigma):\n",
        "  VaR=mu+sigma*norm.ppf(alpha)\n",
        "  ES=mu+sigma*norm.pdf(norm.ppf(alpha))/(1-alpha)\n",
        "  return VaR,ES"
      ],
      "execution_count": 0,
      "outputs": []
    },
    {
      "cell_type": "code",
      "metadata": {
        "id": "p0RSPM7tVuJm",
        "colab_type": "code",
        "colab": {}
      },
      "source": [
        "def VaRt(alpha,mu,sigma,v):\n",
        "  VaR=mu+sigma*t.ppf(alpha,v)\n",
        "  ES=mu+sigma*t.pdf(t.ppf(alpha,v),v)/(1-alpha)*(v+(t.ppf(alpha,v))**2)/(v-1)\n",
        "  return VaR,ES"
      ],
      "execution_count": 0,
      "outputs": []
    },
    {
      "cell_type": "code",
      "metadata": {
        "id": "17inYVcizReO",
        "colab_type": "code",
        "colab": {}
      },
      "source": [
        "def VaRt1(alpha,mu,sigma,v):\n",
        "  VaR=mu+sigma*t.ppf(alpha,v)\n",
        "  a=np.asarray(sigma)/np.asarray(1-alpha)\n",
        "  ES=mu+a*np.asarray(v+(VaR-mu)**2)/np.asarray(v-np.asarray(1))\n",
        "  return VaR,ES"
      ],
      "execution_count": 0,
      "outputs": []
    },
    {
      "cell_type": "code",
      "metadata": {
        "id": "Zn-Sa8ULsc7Y",
        "colab_type": "code",
        "colab": {
          "base_uri": "https://localhost:8080/",
          "height": 283
        },
        "outputId": "5f94e340-16ad-4c21-bb0e-37d7218c2135"
      },
      "source": [
        "T1=VaRt1(0.9,T_mu,T_sigma,T_df)\n",
        "plt.plot(x,T1[0],'orange',label=\"VaR_0.9\")\n"
      ],
      "execution_count": 186,
      "outputs": [
        {
          "output_type": "execute_result",
          "data": {
            "text/plain": [
              "[<matplotlib.lines.Line2D at 0x7fe1cf5ab630>]"
            ]
          },
          "metadata": {
            "tags": []
          },
          "execution_count": 186
        },
        {
          "output_type": "display_data",
          "data": {
            "image/png": "[encoded data removed]",
            "text/plain": [
              "<Figure size 432x288 with 1 Axes>"
            ]
          },
          "metadata": {
            "tags": [],
            "needs_background": "light"
          }
        }
      ]
    },
    {
      "cell_type": "code",
      "metadata": {
        "id": "3InPrf7qRYPP",
        "colab_type": "code",
        "outputId": "352d0261-845f-4bc9-e136-89cec8a7cc6d",
        "colab": {
          "base_uri": "https://localhost:8080/",
          "height": 35
        }
      },
      "source": [
        "\n",
        "a=norm.pdf(0.5)\n",
        "b=p(0.5)\n",
        "print(b)"
      ],
      "execution_count": 0,
      "outputs": [
        {
          "output_type": "stream",
          "text": [
            "0.3520653267642995\n"
          ],
          "name": "stdout"
        }
      ]
    },
    {
      "cell_type": "code",
      "metadata": {
        "id": "fvLeT9Kf_dxM",
        "colab_type": "code",
        "colab": {
          "base_uri": "https://localhost:8080/",
          "height": 322
        },
        "outputId": "353455af-16fc-404b-881b-8b6ea874ad02"
      },
      "source": [
        "print(t.pdf(0))\n",
        "print(norm.pdf(0))\n",
        "\n"
      ],
      "execution_count": 136,
      "outputs": [
        {
          "output_type": "error",
          "ename": "TypeError",
          "evalue": "ignored",
          "traceback": [
            "\u001b[0;31m---------------------------------------------------------------------------\u001b[0m",
            "\u001b[0;31mTypeError\u001b[0m                                 Traceback (most recent call last)",
            "\u001b[0;32m<ipython-input-136-b02133eb530d>\u001b[0m in \u001b[0;36m<module>\u001b[0;34m()\u001b[0m\n\u001b[0;32m----> 1\u001b[0;31m \u001b[0mprint\u001b[0m\u001b[0;34m(\u001b[0m\u001b[0mt\u001b[0m\u001b[0;34m.\u001b[0m\u001b[0mpdf\u001b[0m\u001b[0;34m(\u001b[0m\u001b[0;36m0\u001b[0m\u001b[0;34m)\u001b[0m\u001b[0;34m)\u001b[0m\u001b[0;34m\u001b[0m\u001b[0;34m\u001b[0m\u001b[0m\n\u001b[0m\u001b[1;32m      2\u001b[0m \u001b[0mprint\u001b[0m\u001b[0;34m(\u001b[0m\u001b[0mnorm\u001b[0m\u001b[0;34m.\u001b[0m\u001b[0mpdf\u001b[0m\u001b[0;34m(\u001b[0m\u001b[0;36m0\u001b[0m\u001b[0;34m)\u001b[0m\u001b[0;34m)\u001b[0m\u001b[0;34m\u001b[0m\u001b[0;34m\u001b[0m\u001b[0m\n\u001b[1;32m      3\u001b[0m \u001b[0;34m\u001b[0m\u001b[0m\n",
            "\u001b[0;32m/usr/local/lib/python3.6/dist-packages/scipy/stats/_distn_infrastructure.py\u001b[0m in \u001b[0;36mpdf\u001b[0;34m(self, x, *args, **kwds)\u001b[0m\n\u001b[1;32m   1734\u001b[0m \u001b[0;34m\u001b[0m\u001b[0m\n\u001b[1;32m   1735\u001b[0m         \"\"\"\n\u001b[0;32m-> 1736\u001b[0;31m         \u001b[0margs\u001b[0m\u001b[0;34m,\u001b[0m \u001b[0mloc\u001b[0m\u001b[0;34m,\u001b[0m \u001b[0mscale\u001b[0m \u001b[0;34m=\u001b[0m \u001b[0mself\u001b[0m\u001b[0;34m.\u001b[0m\u001b[0m_parse_args\u001b[0m\u001b[0;34m(\u001b[0m\u001b[0;34m*\u001b[0m\u001b[0margs\u001b[0m\u001b[0;34m,\u001b[0m \u001b[0;34m**\u001b[0m\u001b[0mkwds\u001b[0m\u001b[0;34m)\u001b[0m\u001b[0;34m\u001b[0m\u001b[0;34m\u001b[0m\u001b[0m\n\u001b[0m\u001b[1;32m   1737\u001b[0m         \u001b[0mx\u001b[0m\u001b[0;34m,\u001b[0m \u001b[0mloc\u001b[0m\u001b[0;34m,\u001b[0m \u001b[0mscale\u001b[0m \u001b[0;34m=\u001b[0m \u001b[0mmap\u001b[0m\u001b[0;34m(\u001b[0m\u001b[0masarray\u001b[0m\u001b[0;34m,\u001b[0m \u001b[0;34m(\u001b[0m\u001b[0mx\u001b[0m\u001b[0;34m,\u001b[0m \u001b[0mloc\u001b[0m\u001b[0;34m,\u001b[0m \u001b[0mscale\u001b[0m\u001b[0;34m)\u001b[0m\u001b[0;34m)\u001b[0m\u001b[0;34m\u001b[0m\u001b[0;34m\u001b[0m\u001b[0m\n\u001b[1;32m   1738\u001b[0m         \u001b[0margs\u001b[0m \u001b[0;34m=\u001b[0m \u001b[0mtuple\u001b[0m\u001b[0;34m(\u001b[0m\u001b[0mmap\u001b[0m\u001b[0;34m(\u001b[0m\u001b[0masarray\u001b[0m\u001b[0;34m,\u001b[0m \u001b[0margs\u001b[0m\u001b[0;34m)\u001b[0m\u001b[0;34m)\u001b[0m\u001b[0;34m\u001b[0m\u001b[0;34m\u001b[0m\u001b[0m\n",
            "\u001b[0;31mTypeError\u001b[0m: _parse_args() missing 1 required positional argument: 'df'"
          ]
        }
      ]
    }
  ]
}