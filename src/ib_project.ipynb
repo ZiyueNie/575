{
  "nbformat": 4,
  "nbformat_minor": 0,
  "metadata": {
    "colab": {
      "name": "ib project.ipynb",
      "provenance": [],
      "authorship_tag": "ABX9TyNY8QJ2zZLIdrd8fldKRPSq",
      "include_colab_link": true
    },
    "kernelspec": {
      "name": "python3",
      "display_name": "Python 3"
    }
  },
  "cells": [
    {
      "cell_type": "markdown",
      "metadata": {
        "id": "view-in-github",
        "colab_type": "text"
      },
      "source": [
        "<a href=\"https://colab.research.google.com/github/gannannavelorange/575/blob/master/src/ib_project.ipynb\" target=\"_parent\"><img src=\"https://colab.research.google.com/assets/colab-badge.svg\" alt=\"Open In Colab\"/></a>"
      ]
    },
    {
      "cell_type": "code",
      "metadata": {
        "id": "AHNsSHgjbN3J",
        "colab_type": "code",
        "outputId": "7581e231-270d-4c78-a232-a3688eec24c1",
        "colab": {
          "base_uri": "https://localhost:8080/",
          "height": 139
        }
      },
      "source": [
        "!git clone https://github.com/gannannavelorange/575"
      ],
      "execution_count": 67,
      "outputs": [
        {
          "output_type": "stream",
          "text": [
            "Cloning into '575'...\n",
            "remote: Enumerating objects: 9, done.\u001b[K\n",
            "remote: Counting objects:  11% (1/9)\u001b[K\rremote: Counting objects:  22% (2/9)\u001b[K\rremote: Counting objects:  33% (3/9)\u001b[K\rremote: Counting objects:  44% (4/9)\u001b[K\rremote: Counting objects:  55% (5/9)\u001b[K\rremote: Counting objects:  66% (6/9)\u001b[K\rremote: Counting objects:  77% (7/9)\u001b[K\rremote: Counting objects:  88% (8/9)\u001b[K\rremote: Counting objects: 100% (9/9)\u001b[K\rremote: Counting objects: 100% (9/9), done.\u001b[K\n",
            "remote: Compressing objects:  11% (1/9)\u001b[K\rremote: Compressing objects:  22% (2/9)\u001b[K\rremote: Compressing objects:  33% (3/9)\u001b[K\rremote: Compressing objects:  44% (4/9)\u001b[K\rremote: Compressing objects:  55% (5/9)\u001b[K\rremote: Compressing objects:  66% (6/9)\u001b[K\rremote: Compressing objects:  77% (7/9)\u001b[K\rremote: Compressing objects:  88% (8/9)\u001b[K\rremote: Compressing objects: 100% (9/9)\u001b[K\rremote: Compressing objects: 100% (9/9), done.\u001b[K\n",
            "Receiving objects:   0% (1/557)   \rReceiving objects:   1% (6/557)   \rReceiving objects:   2% (12/557)   \rReceiving objects:   3% (17/557)   \rReceiving objects:   4% (23/557)   \rReceiving objects:   5% (28/557)   \rReceiving objects:   6% (34/557)   \rReceiving objects:   7% (39/557)   \rReceiving objects:   8% (45/557)   \rReceiving objects:   9% (51/557)   \rReceiving objects:  10% (56/557)   \rReceiving objects:  11% (62/557)   \rReceiving objects:  12% (67/557)   \rReceiving objects:  13% (73/557)   \rReceiving objects:  14% (78/557)   \rReceiving objects:  15% (84/557)   \rReceiving objects:  16% (90/557)   \rReceiving objects:  17% (95/557)   \rReceiving objects:  18% (101/557)   \rReceiving objects:  19% (106/557)   \rReceiving objects:  20% (112/557)   \rReceiving objects:  21% (117/557)   \rReceiving objects:  22% (123/557)   \rReceiving objects:  23% (129/557)   \rReceiving objects:  24% (134/557)   \rReceiving objects:  25% (140/557)   \rReceiving objects:  26% (145/557)   \rReceiving objects:  27% (151/557)   \rReceiving objects:  28% (156/557)   \rReceiving objects:  29% (162/557)   \rReceiving objects:  30% (168/557)   \rReceiving objects:  31% (173/557)   \rReceiving objects:  32% (179/557)   \rReceiving objects:  33% (184/557)   \rReceiving objects:  34% (190/557)   \rReceiving objects:  35% (195/557)   \rReceiving objects:  36% (201/557)   \rReceiving objects:  37% (207/557)   \rReceiving objects:  38% (212/557)   \rReceiving objects:  39% (218/557)   \rReceiving objects:  40% (223/557)   \rReceiving objects:  41% (229/557)   \rReceiving objects:  42% (234/557)   \rReceiving objects:  43% (240/557)   \rReceiving objects:  44% (246/557)   \rReceiving objects:  45% (251/557)   \rReceiving objects:  46% (257/557)   \rReceiving objects:  47% (262/557)   \rReceiving objects:  48% (268/557)   \rReceiving objects:  49% (273/557)   \rReceiving objects:  50% (279/557)   \rReceiving objects:  51% (285/557)   \rReceiving objects:  52% (290/557)   \rReceiving objects:  53% (296/557)   \rReceiving objects:  54% (301/557)   \rReceiving objects:  55% (307/557)   \rReceiving objects:  56% (312/557)   \rReceiving objects:  57% (318/557)   \rReceiving objects:  58% (324/557)   \rReceiving objects:  59% (329/557)   \rReceiving objects:  60% (335/557)   \rReceiving objects:  61% (340/557)   \rReceiving objects:  62% (346/557)   \rReceiving objects:  63% (351/557)   \rReceiving objects:  64% (357/557)   \rReceiving objects:  65% (363/557)   \rReceiving objects:  66% (368/557)   \rReceiving objects:  67% (374/557)   \rReceiving objects:  68% (379/557)   \rReceiving objects:  69% (385/557)   \rReceiving objects:  70% (390/557)   \rReceiving objects:  71% (396/557)   \rReceiving objects:  72% (402/557)   \rReceiving objects:  73% (407/557)   \rReceiving objects:  74% (413/557)   \rReceiving objects:  75% (418/557)   \rReceiving objects:  76% (424/557)   \rReceiving objects:  77% (429/557)   \rReceiving objects:  78% (435/557)   \rReceiving objects:  79% (441/557)   \rReceiving objects:  80% (446/557)   \rReceiving objects:  81% (452/557)   \rReceiving objects:  82% (457/557)   \rReceiving objects:  83% (463/557)   \rReceiving objects:  84% (468/557)   \rReceiving objects:  85% (474/557)   \rReceiving objects:  86% (480/557)   \rReceiving objects:  87% (485/557)   \rReceiving objects:  88% (491/557)   \rReceiving objects:  89% (496/557)   \rReceiving objects:  90% (502/557)   \rReceiving objects:  91% (507/557)   \rReceiving objects:  92% (513/557)   \rremote: Total 557 (delta 1), reused 0 (delta 0), pack-reused 548\u001b[K\n",
            "Receiving objects: 100% (557/557), 2.46 MiB | 18.95 MiB/s, done.\n",
            "Resolving deltas: 100% (225/225), done.\n"
          ],
          "name": "stdout"
        }
      ]
    },
    {
      "cell_type": "code",
      "metadata": {
        "id": "WadNMfbVbO4j",
        "colab_type": "code",
        "outputId": "df59e476-a2ec-4440-e72f-69bb3124e553",
        "colab": {
          "base_uri": "https://localhost:8080/",
          "height": 35
        }
      },
      "source": [
        "cd 575/src/data_IB_project"
      ],
      "execution_count": 68,
      "outputs": [
        {
          "output_type": "stream",
          "text": [
            "/content/575/src/data_IB_project/575/src/data_IB_project/575/src/data_IB_project/575/src/data_IB_project/575/src/data_IB_project\n"
          ],
          "name": "stdout"
        }
      ]
    },
    {
      "cell_type": "code",
      "metadata": {
        "id": "PRhS2k3lRDrU",
        "colab_type": "code",
        "colab": {}
      },
      "source": [
        "import numpy as np\n",
        "import matplotlib.pyplot as plt\n",
        "import math\n",
        "import csv\n",
        "import scipy.stats as ss\n",
        "from scipy.stats import norm\n",
        "from scipy.stats import t"
      ],
      "execution_count": 0,
      "outputs": []
    },
    {
      "cell_type": "code",
      "metadata": {
        "id": "ITsqFFUxTW-c",
        "colab_type": "code",
        "colab": {}
      },
      "source": [
        "#get weekly interest rate change factor for coupon bond\n",
        "def getdata(M,N):\n",
        "  with open(M+'.csv') as file:\n",
        "      reader=csv.reader(file)\n",
        "      rows=[row for row in reader]\n",
        "      DD=[row[1] for row in rows[1:62]]\n",
        "      DD=[float(d)/100/2 for d in DD]     #continuous compounded interest rate \n",
        "      D=[row[2] for row in rows[1+N:53+N]]\n",
        "      D=[float(d)/100/2 for d in D]   #risk factor change\n",
        "      return DD,D"
      ],
      "execution_count": 0,
      "outputs": []
    },
    {
      "cell_type": "code",
      "metadata": {
        "id": "qS-Xk-tD6a-L",
        "colab_type": "code",
        "colab": {}
      },
      "source": [
        "c1=1.75/100*1000/2\n",
        "c2=6/100*1000/2\n",
        "F1=1000"
      ],
      "execution_count": 0,
      "outputs": []
    },
    {
      "cell_type": "code",
      "metadata": {
        "id": "pm0mrSNFFv6z",
        "colab_type": "code",
        "colab": {}
      },
      "source": [
        "def BOND(M):                  #today is 2020/02/14 \n",
        " t1=[]\n",
        " t2=[]\n",
        " t3=[]\n",
        " for i in range(0,10):   # estimate 2010/02/14-2020/04/17\n",
        "  dd_1=getdata(M,i)[0]  #interest rate\n",
        "  d_1=getdata(M,i)[1]   #interest rate change\n",
        "  week_bond1=[]\n",
        "  #ks_1 = norm.fit(d_1)\n",
        "  #r1=dd_1[51+i] \n",
        "  #dd_2=getdata('bond3.625',n)[0]\n",
        "  #d_2=getdata('bond3.625',n)[1]\n",
        "  #ks_2 = norm.fit(d_2)\n",
        "  #r2=dd_2[51+i] \n",
        "  for j in range(0,52):\n",
        "     week_bond1.append(rolling_bond(159-7*i,F1,c1,dd_1[i+j],d_1[j],0)[0])   #159=2020/07/15-2020/02/14\n",
        "  tBond1=t.fit(week_bond1)\n",
        "  t1.append(tBond1[0])\n",
        "  t2.append(tBond1[1])\n",
        "  t3.append(tBond1[2])\n",
        " return t1,t2,t3\n",
        " "
      ],
      "execution_count": 0,
      "outputs": []
    },
    {
      "cell_type": "code",
      "metadata": {
        "id": "Gxk-tomVK948",
        "colab_type": "code",
        "colab": {
          "base_uri": "https://localhost:8080/",
          "height": 339
        },
        "outputId": "d879c79f-6c25-4535-a74f-ffd530e023a4"
      },
      "source": [
        "bond1=BOND('bond1')\n",
        "print(bond1[0])\n",
        "print(bond1[1])\n",
        "print(bond1[2])"
      ],
      "execution_count": 73,
      "outputs": [
        {
          "output_type": "error",
          "ename": "NameError",
          "evalue": "ignored",
          "traceback": [
            "\u001b[0;31m---------------------------------------------------------------------------\u001b[0m",
            "\u001b[0;31mNameError\u001b[0m                                 Traceback (most recent call last)",
            "\u001b[0;32m<ipython-input-73-b84bc37a7329>\u001b[0m in \u001b[0;36m<module>\u001b[0;34m()\u001b[0m\n\u001b[0;32m----> 1\u001b[0;31m \u001b[0mbond1\u001b[0m\u001b[0;34m=\u001b[0m\u001b[0mBOND\u001b[0m\u001b[0;34m(\u001b[0m\u001b[0;34m'bond1'\u001b[0m\u001b[0;34m)\u001b[0m\u001b[0;34m\u001b[0m\u001b[0;34m\u001b[0m\u001b[0m\n\u001b[0m\u001b[1;32m      2\u001b[0m \u001b[0mprint\u001b[0m\u001b[0;34m(\u001b[0m\u001b[0mbond1\u001b[0m\u001b[0;34m[\u001b[0m\u001b[0;36m0\u001b[0m\u001b[0;34m]\u001b[0m\u001b[0;34m)\u001b[0m\u001b[0;34m\u001b[0m\u001b[0;34m\u001b[0m\u001b[0m\n\u001b[1;32m      3\u001b[0m \u001b[0mprint\u001b[0m\u001b[0;34m(\u001b[0m\u001b[0mbond1\u001b[0m\u001b[0;34m[\u001b[0m\u001b[0;36m1\u001b[0m\u001b[0;34m]\u001b[0m\u001b[0;34m)\u001b[0m\u001b[0;34m\u001b[0m\u001b[0;34m\u001b[0m\u001b[0m\n\u001b[1;32m      4\u001b[0m \u001b[0mprint\u001b[0m\u001b[0;34m(\u001b[0m\u001b[0mbond1\u001b[0m\u001b[0;34m[\u001b[0m\u001b[0;36m2\u001b[0m\u001b[0;34m]\u001b[0m\u001b[0;34m)\u001b[0m\u001b[0;34m\u001b[0m\u001b[0;34m\u001b[0m\u001b[0m\n",
            "\u001b[0;32m<ipython-input-72-bcd22626a4cd>\u001b[0m in \u001b[0;36mBOND\u001b[0;34m(M)\u001b[0m\n\u001b[1;32m     14\u001b[0m   \u001b[0;31m#r2=dd_2[51+i]\u001b[0m\u001b[0;34m\u001b[0m\u001b[0;34m\u001b[0m\u001b[0;34m\u001b[0m\u001b[0m\n\u001b[1;32m     15\u001b[0m   \u001b[0;32mfor\u001b[0m \u001b[0mj\u001b[0m \u001b[0;32min\u001b[0m \u001b[0mrange\u001b[0m\u001b[0;34m(\u001b[0m\u001b[0;36m0\u001b[0m\u001b[0;34m,\u001b[0m\u001b[0;36m52\u001b[0m\u001b[0;34m)\u001b[0m\u001b[0;34m:\u001b[0m\u001b[0;34m\u001b[0m\u001b[0;34m\u001b[0m\u001b[0m\n\u001b[0;32m---> 16\u001b[0;31m      \u001b[0mweek_bond1\u001b[0m\u001b[0;34m.\u001b[0m\u001b[0mappend\u001b[0m\u001b[0;34m(\u001b[0m\u001b[0mrolling_bond\u001b[0m\u001b[0;34m(\u001b[0m\u001b[0;36m159\u001b[0m\u001b[0;34m-\u001b[0m\u001b[0;36m7\u001b[0m\u001b[0;34m*\u001b[0m\u001b[0mi\u001b[0m\u001b[0;34m,\u001b[0m\u001b[0mF1\u001b[0m\u001b[0;34m,\u001b[0m\u001b[0mc1\u001b[0m\u001b[0;34m,\u001b[0m\u001b[0mdd_1\u001b[0m\u001b[0;34m[\u001b[0m\u001b[0mi\u001b[0m\u001b[0;34m+\u001b[0m\u001b[0mj\u001b[0m\u001b[0;34m]\u001b[0m\u001b[0;34m,\u001b[0m\u001b[0md_1\u001b[0m\u001b[0;34m[\u001b[0m\u001b[0mj\u001b[0m\u001b[0;34m]\u001b[0m\u001b[0;34m,\u001b[0m\u001b[0;36m0\u001b[0m\u001b[0;34m)\u001b[0m\u001b[0;34m[\u001b[0m\u001b[0;36m0\u001b[0m\u001b[0;34m]\u001b[0m\u001b[0;34m)\u001b[0m   \u001b[0;31m#159=2020/07/15-2020/02/14\u001b[0m\u001b[0;34m\u001b[0m\u001b[0;34m\u001b[0m\u001b[0m\n\u001b[0m\u001b[1;32m     17\u001b[0m   \u001b[0mtBond1\u001b[0m\u001b[0;34m=\u001b[0m\u001b[0mt\u001b[0m\u001b[0;34m.\u001b[0m\u001b[0mfit\u001b[0m\u001b[0;34m(\u001b[0m\u001b[0mweek_bond1\u001b[0m\u001b[0;34m)\u001b[0m\u001b[0;34m\u001b[0m\u001b[0;34m\u001b[0m\u001b[0m\n\u001b[1;32m     18\u001b[0m   \u001b[0mt1\u001b[0m\u001b[0;34m.\u001b[0m\u001b[0mappend\u001b[0m\u001b[0;34m(\u001b[0m\u001b[0mtBond1\u001b[0m\u001b[0;34m[\u001b[0m\u001b[0;36m0\u001b[0m\u001b[0;34m]\u001b[0m\u001b[0;34m)\u001b[0m\u001b[0;34m\u001b[0m\u001b[0;34m\u001b[0m\u001b[0m\n",
            "\u001b[0;31mNameError\u001b[0m: name 'rolling_bond' is not defined"
          ]
        }
      ]
    },
    {
      "cell_type": "code",
      "metadata": {
        "id": "uZJh0a-bKtMQ",
        "colab_type": "code",
        "colab": {}
      },
      "source": [
        "bond1=BOND('bond1')\n",
        "b1=VaRt1(0.9,bond1[1],bond1[2],bond1[0])\n",
        "b2=VaRt1(0.95,bond1[1],bond1[2],bond1[0])\n",
        "b3=VaRt1(0.99,bond1[1],bond1[2],bond1[0])\n",
        "#print(cat1[0])\n",
        "#print(cat1[1])\n",
        "x=np.linspace(1,10,10)\n",
        "plt.plot(x,b1[0],'orange',label=\"VaR_0.9\")\n",
        "plt.plot(x,b1[1],'blue',label=\"ES_0.9\")\n",
        "plt.plot(x,b2[0],'yellow',label=\"VaR_0.95\")\n",
        "plt.plot(x,b2[1],'green',label=\"ES_0.95\")\n",
        "plt.plot(x,b3[0],'red',label=\"VaR_0.99\")\n",
        "plt.plot(x,b3[1],'purple',label=\"ES_0.99\")\n",
        "plt.xlabel('time')\n",
        "plt.title('20 year bond:var and ES vs time')\n",
        "plt.legend()\n",
        "plt.show()"
      ],
      "execution_count": 0,
      "outputs": []
    },
    {
      "cell_type": "code",
      "metadata": {
        "id": "EwQDaf_pQiTh",
        "colab_type": "code",
        "colab": {}
      },
      "source": [
        "bond2=BOND('bond3.625')\n",
        "bb1=VaRt1(0.9,bond2[1],bond2[2],bond2[0])\n",
        "bb2=VaRt1(0.95,bond2[1],bond2[2],bond2[0])\n",
        "bb3=VaRt1(0.99,bond2[1],bond2[2],bond2[0])\n",
        "#print(cat1[0])\n",
        "#print(cat1[1])\n",
        "x=np.linspace(1,10,10)\n",
        "plt.plot(x,bb1[0],'orange',label=\"VaR_0.9\")\n",
        "plt.plot(x,bb1[1],'blue',label=\"ES_0.9\")\n",
        "plt.plot(x,bb2[0],'yellow',label=\"VaR_0.95\")\n",
        "plt.plot(x,bb2[1],'green',label=\"ES_0.95\")\n",
        "plt.plot(x,bb3[0],'red',label=\"VaR_0.99\")\n",
        "plt.plot(x,bb3[1],'purple',label=\"ES_0.99\")\n",
        "plt.xlabel('time')\n",
        "plt.title('30 year bond:var and ES vs time')\n",
        "plt.legend()\n",
        "plt.show()"
      ],
      "execution_count": 0,
      "outputs": []
    },
    {
      "cell_type": "code",
      "metadata": {
        "id": "x0m0FY8LR_7i",
        "colab_type": "code",
        "colab": {}
      },
      "source": [
        "\n",
        "# for each coupon, linloss could be calculated as L=-c*np.exp(r*t)(r*5-t*x) week=5 days\n",
        "def linloss_bond(c,r,t,mu,sigma):\n",
        "  exp=-c*np.exp(r*t)*(r*5-t*mu)\n",
        "  #exp=-c*np.exp(r*t)*(r*1-t*mu)\n",
        "  var=(np.exp(r*t)*t)**2*(sigma**2)\n",
        "  return exp,var"
      ],
      "execution_count": 0,
      "outputs": []
    },
    {
      "cell_type": "code",
      "metadata": {
        "id": "OCz0SQ0Mgcxs",
        "colab_type": "code",
        "colab": {}
      },
      "source": [
        "\n",
        "def rolling_bond(day,F,c,r,mu,sigma):\n",
        "  Exp=-F*np.exp(r*(day/182+15))*(r*5-(day/182+15)*mu)\n",
        "  Var=(np.exp(r*(day/182+15))*(day/182+15))**2*(sigma**2)\n",
        "  for i in range(0,16):\n",
        "    t=day/182+i\n",
        "    Exp=Exp+linloss_bond(c,r,t,mu,sigma)[0]\n",
        "    Var=Var+linloss_bond(c,r,t,mu,sigma)[1]\n",
        "  return Exp,Var\n"
      ],
      "execution_count": 0,
      "outputs": []
    },
    {
      "cell_type": "code",
      "metadata": {
        "id": "FK7-EBVZ6WEG",
        "colab_type": "code",
        "colab": {}
      },
      "source": [
        "Bond1_mu=[]\n",
        "Bond1_var=[]\n",
        "Bond2_mu=[]\n",
        "Bond2_var=[]\n",
        "for n in range(0,10):   # estimate 2010/02/14-2020/04/17\n",
        " dd_1=getdata('bond1',n)[0]\n",
        " d_1=getdata('bond1',n)[1]\n",
        " ks_1 = norm.fit(d_1)\n",
        " r1=dd_1[51+n] \n",
        " dd_2=getdata('bond3.625',n)[0]\n",
        " d_2=getdata('bond3.625',n)[1]\n",
        " ks_2 = norm.fit(d_2)\n",
        " r2=dd_2[51+n] \n",
        " week_bond1=rolling_bond(159-7*n,F1,c1,r1,ks_1[0],ks_1[1])   #159=2020/07/15-2020/02/14\n",
        " Bond1_mu.append(week_bond1[0])\n",
        " Bond1_var.append(week_bond1[1])\n",
        " week_bond2=rolling_bond(182-7*n,F1,c2,r2,ks_2[0],ks_2[1])  \n",
        " Bond2_mu.append(week_bond2[0])\n",
        " Bond2_var.append(week_bond2[1])\n",
        " #print(week[0],week[1])\n",
        " #print(week[0])\n"
      ],
      "execution_count": 0,
      "outputs": []
    },
    {
      "cell_type": "code",
      "metadata": {
        "id": "7uWJRqHar6tw",
        "colab_type": "code",
        "colab": {}
      },
      "source": [
        "print(Bond1_mu)\n",
        "print(Bond1_var)\n",
        "print(Bond2_mu)\n",
        "print(Bond2_var)"
      ],
      "execution_count": 0,
      "outputs": []
    },
    {
      "cell_type": "code",
      "metadata": {
        "id": "OfrhcURTJeO5",
        "colab_type": "code",
        "colab": {}
      },
      "source": [
        "B11=VaRnorm(0.9,Bond1_mu,np.sqrt(Bond1_var))\n",
        "B12=VaRnorm(0.95,Bond1_mu,np.sqrt(Bond1_var))\n",
        "B13=VaRnorm(0.99,Bond1_mu,np.sqrt(Bond1_var))\n",
        "print(B12[0])\n",
        "print(B13[0])\n",
        "x=np.linspace(1,10,10)\n",
        "#day=['2/22','3/1','11/1','11/4','11/5','11/6']\n",
        "plt.plot(x,B11[0],'orange',label=\"VaR_0.9\")\n",
        "plt.plot(x,B11[1],'blue',label=\"ES_0.9\")\n",
        "plt.plot(x,B12[0],'yellow',label=\"VaR_0.95\")\n",
        "plt.plot(x,B12[1],'green',label=\"ES_0.95\")\n",
        "plt.plot(x,B13[0],'red',label=\"VaR_0.99\")\n",
        "plt.plot(x,B13[1],'purple',label=\"ES_0.99\")\n",
        "plt.xlabel('time')\n",
        "plt.title('BOND-20 year:var and ES vs time')\n",
        "plt.legend()\n",
        "plt.show()"
      ],
      "execution_count": 0,
      "outputs": []
    },
    {
      "cell_type": "code",
      "metadata": {
        "id": "zc5VPiFDO7If",
        "colab_type": "code",
        "colab": {}
      },
      "source": [
        "B21=VaRnorm(0.9,Bond2_mu,np.sqrt(Bond2_var))\n",
        "B22=VaRnorm(0.95,Bond2_mu,np.sqrt(Bond2_var))\n",
        "B23=VaRnorm(0.99,Bond2_mu,np.sqrt(Bond2_var))\n",
        "#print(B12[0])\n",
        "#print(B13[0])\n",
        "x=np.linspace(1,10,10)\n",
        "#day=['2/22','3/1','11/1','11/4','11/5','11/6']\n",
        "plt.plot(x,B21[0],'orange',label=\"VaR_0.9\")\n",
        "plt.plot(x,B21[1],'blue',label=\"ES_0.9\")\n",
        "plt.plot(x,B22[0],'yellow',label=\"VaR_0.95\")\n",
        "plt.plot(x,B22[1],'green',label=\"ES_0.95\")\n",
        "plt.plot(x,B23[0],'red',label=\"VaR_0.99\")\n",
        "plt.plot(x,B23[1],'purple',label=\"ES_0.99\")\n",
        "plt.xlabel('time')\n",
        "plt.title('BOND-30 year:var and ES vs time')\n",
        "plt.legend()\n",
        "plt.show()"
      ],
      "execution_count": 0,
      "outputs": []
    },
    {
      "cell_type": "code",
      "metadata": {
        "id": "sWW2Jm8GA_yU",
        "colab_type": "code",
        "colab": {}
      },
      "source": [
        "for i in range(0,10):\n",
        "  print(bb1[0][i])"
      ],
      "execution_count": 0,
      "outputs": []
    },
    {
      "cell_type": "code",
      "metadata": {
        "id": "oUmJlspQBNw7",
        "colab_type": "code",
        "colab": {}
      },
      "source": [
        "for i in range(0,10):\n",
        "  print(bb2[0][i])"
      ],
      "execution_count": 0,
      "outputs": []
    },
    {
      "cell_type": "code",
      "metadata": {
        "id": "7ftoQmFyBN_j",
        "colab_type": "code",
        "colab": {}
      },
      "source": [
        "for i in range(0,10):\n",
        "  print(bb3[0][i])"
      ],
      "execution_count": 0,
      "outputs": []
    },
    {
      "cell_type": "code",
      "metadata": {
        "id": "sCRajdGLBOLc",
        "colab_type": "code",
        "colab": {}
      },
      "source": [
        "for i in range(0,10):\n",
        "  print(bb1[1][i])"
      ],
      "execution_count": 0,
      "outputs": []
    },
    {
      "cell_type": "code",
      "metadata": {
        "id": "dbDCGKuHBTMl",
        "colab_type": "code",
        "colab": {}
      },
      "source": [
        "for i in range(0,10):\n",
        "  print(bb2[1][i])"
      ],
      "execution_count": 0,
      "outputs": []
    },
    {
      "cell_type": "code",
      "metadata": {
        "id": "da1Fd5fZBTUu",
        "colab_type": "code",
        "colab": {}
      },
      "source": [
        "for i in range(0,10):\n",
        "  print(bb3[1][i])"
      ],
      "execution_count": 0,
      "outputs": []
    },
    {
      "cell_type": "code",
      "metadata": {
        "id": "zV-3PDSNbyEX",
        "colab_type": "code",
        "colab": {}
      },
      "source": [
        "#put option"
      ],
      "execution_count": 0,
      "outputs": []
    },
    {
      "cell_type": "code",
      "metadata": {
        "id": "mzB3eCq0b19j",
        "colab_type": "code",
        "colab": {}
      },
      "source": [
        "def N(x):\n",
        "  cdf=norm.cdf(x,0,1)\n",
        "  return cdf\n",
        "def p(x):\n",
        "  pdf=norm.pdf(x,0,1)\n",
        "  return pdf"
      ],
      "execution_count": 0,
      "outputs": []
    },
    {
      "cell_type": "code",
      "metadata": {
        "id": "-cY_8uEul8UB",
        "colab_type": "code",
        "colab": {}
      },
      "source": [
        "#get weekly stock price log return for option\n",
        "def getdata2(M,N):\n",
        "  with open(M+'.csv') as file:\n",
        "      reader=csv.reader(file)\n",
        "      rows=[row for row in reader]\n",
        "      DD=[row[1] for row in rows[1:62]]\n",
        "      DD=[float(d) for d in DD]\n",
        "      D=[row[2] for row in rows[1+N:53+N]]\n",
        "      D=[float(d) for d in D]\n",
        "      net=[row[3] for row in rows[1+N:53+N]]\n",
        "      net=[float(d) for d in net]\n",
        "      return DD,D,net"
      ],
      "execution_count": 0,
      "outputs": []
    },
    {
      "cell_type": "code",
      "metadata": {
        "id": "2vTT-IsiuqY3",
        "colab_type": "code",
        "colab": {}
      },
      "source": [
        "def getdata3(M,N):\n",
        "  with open(M+'.csv') as file:\n",
        "      reader=csv.reader(file)\n",
        "      rows=[row for row in reader]\n",
        "      DD=[row[1] for row in rows[1:62]]\n",
        "      DD=[float(d) for d in DD]\n",
        "      D=[row[2] for row in rows[1+N:53+N]]\n",
        "      D=[float(d) for d in D]\n",
        "      return DD,D"
      ],
      "execution_count": 0,
      "outputs": []
    },
    {
      "cell_type": "code",
      "metadata": {
        "id": "hR2RMpEKlZ7c",
        "colab_type": "code",
        "colab": {}
      },
      "source": [
        "'''\n",
        "djx=getdata2('DIA',0)\n",
        "djx1=djx[0]\n",
        "djx2=djx[1]\n",
        "std=np.std(djx2)\n",
        "print(djx1[50])\n"
      ],
      "execution_count": 0,
      "outputs": []
    },
    {
      "cell_type": "code",
      "metadata": {
        "id": "J4-NAnM5t29l",
        "colab_type": "code",
        "colab": {}
      },
      "source": [
        "'''\n",
        "v_djx=[9.5,9,11.21,39.96,38.84,64.99,102.26,78.84,83.26,57.34,51.95] \n",
        "\n",
        "v_cat=[6.31,8.19,7.97,4.4,2.34,0.33,0.26,0.4,0.82,2.34,0.61]\n",
        "v_vig=[2.05,2.68,2.25,0.14,0.44,0.29,0.29,0.05,0.03,0.07,0.02]\n",
        "#ir=[-0.07,-0.15,-0.28,-0.57,0.04,0.17,-0.22,-0.46,-0.5,-0.36]\n",
        "for i in range(0,11):\n",
        "  print(v_vig[i])"
      ],
      "execution_count": 0,
      "outputs": []
    },
    {
      "cell_type": "code",
      "metadata": {
        "id": "wRXHRT7_h87d",
        "colab_type": "code",
        "colab": {}
      },
      "source": [
        "'''\n",
        "def d(S,K,r,sigma,t):\n",
        " d1=(np.log(S/K)+(r+sigma**2/2)*t)/(sigma*np.sqrt(t))\n",
        " d2=d1-sigma*np.sqrt(t)\n",
        " return d1,d2"
      ],
      "execution_count": 0,
      "outputs": []
    },
    {
      "cell_type": "code",
      "metadata": {
        "id": "08JpWEtVn4TC",
        "colab_type": "code",
        "colab": {}
      },
      "source": [
        "def deltaput(S,K,r,sigma,t):\n",
        "  d1=(np.log(S/K)+(r+sigma**2/2)*t)/(sigma*np.sqrt(t))\n",
        "  delta_P=N(float(d1))-1\n",
        "  return delta_P\n",
        "def deltacall(S,K,r,sigma,t):\n",
        "  d1=(np.log(S/K)+(r+sigma**2/2)*t)/(sigma*np.sqrt(t))\n",
        "  delta_C=N(float(d1))\n",
        "  return delta_C\n",
        "def rhoput(S,K,r,sigma,t):\n",
        "  d1=(np.log(S/K)+(r+sigma**2/2)*t)/(sigma*np.sqrt(t))\n",
        "  d2=d1-sigma*np.sqrt(t)\n",
        "  rho_P=-K*t*np.exp(-r*t)*N(float(-d2))\n",
        "  return rho_P\n",
        "def rhocall(S,K,r,sigma,t):  \n",
        "  d1=(np.log(S/K)+(r+sigma**2/2)*t)/(sigma*np.sqrt(t))\n",
        "  d2=d1-sigma*np.sqrt(t)\n",
        "  rho_C=K*t*np.exp(-r*t)*N(float(d2))\n",
        "  return rho_C\n",
        "def thetaput(S,K,r,sigma,t):\n",
        "  d1=(np.log(S/K)+(r+sigma**2/2)*t)/(sigma*np.sqrt(t))\n",
        "  d2=d1-sigma*np.sqrt(t)\n",
        "  theta_P=-S*sigma/(2*np.sqrt(t))*np.exp(-float(d1)**2/2)/np.sqrt(2*np.pi)+r*K*np.exp(-r*t)*N(float(-d2))\n",
        "  return theta_P\n",
        "def thetacall(S,K,r,sigma,t):  \n",
        "  d1=(np.log(S/K)+(r+sigma**2/2)*t)/(sigma*np.sqrt(t))\n",
        "  d2=d1-sigma*np.sqrt(t)\n",
        "  theta_C=-S*sigma/(2*np.sqrt(t))*np.exp(-float(d1)**2/2)/np.sqrt(2*np.pi)-r*K*np.exp(-r*t)*N(float(d2))\n",
        "  return theta_C\n",
        "def vega(S,K,r,sigma,t):  \n",
        "  d1=(np.log(S/K)+(r+sigma**2/2)*t)/(sigma*np.sqrt(t))\n",
        "  d2=d1-sigma*np.sqrt(t)\n",
        "  vega=S*np.sqrt(t)*np.exp(-float(d1)**2/2)/np.sqrt(2*np.pi)\n",
        "  return vega\n",
        "def gamma(S,K,r,sigma,t):\n",
        "  d1=(np.log(S/K)+(r+sigma**2/2)*t)/(sigma*np.sqrt(t))\n",
        "  d2=d1-sigma*np.sqrt(t)\n",
        "  gamma=np.exp(-float(d1)**2/2)/np.sqrt(2*np.pi)/(S*sigma*np.sqrt(t))\n",
        "  return gamma\n",
        "def vomma(S,K,r,sigma,t):\n",
        "  d1=(np.log(S/K)+(r+sigma**2/2)*t)/(sigma*np.sqrt(t))\n",
        "  d2=d1-sigma*np.sqrt(t)\n",
        "  vomma=-d1*S*np.sqrt(t)*np.exp(-float(d1)**2/2)/np.sqrt(2*np.pi)*(np.sqrt(t)-d1/(sigma**2*np.sqrt(t)))\n",
        "  return vomma\n",
        "def vanna(S,K,r,sigma,t):\n",
        "  d1=(np.log(S/K)+(r+sigma**2/2)*t)/(sigma*np.sqrt(t))\n",
        "  d2=d1-sigma*np.sqrt(t)\n",
        "  vanna=np.exp(-float(d1)**2/2)/np.sqrt(2*np.pi)*(np.sqrt(t)-d1/(sigma**2*np.sqrt(t)))\n",
        "  return vanna"
      ],
      "execution_count": 0,
      "outputs": []
    },
    {
      "cell_type": "code",
      "metadata": {
        "id": "2z7gSIohoQLl",
        "colab_type": "code",
        "colab": {}
      },
      "source": [
        "djxmu=[]\n",
        "djxvariance=[]\n",
        "std=[]\n",
        "for i in range(1,10):    #estimate loss on 2020/02/14 02/21 02/28 3/6\n",
        "  djx=getdata2('DIA',i)\n",
        "  ir=getdata2('IR',i)\n",
        "  djx1=djx[0]   #price\n",
        "  djx2=djx[1]    #log return\n",
        "  djx3=djx[2]   #net return of stock\n",
        "  #std=np.std(djx2)\n",
        "  std.append(np.std(djx2))\n",
        "  delta1=deltaput(djx1[51+i],293,ir[i-1],std[i-1],(125-7*i)/250)   #t=(2020/06/18-2020/02/14)/250\n",
        "  theta1=thetaput(djx1[51+i],293,ir[i-1],std[i-1],(125-7*i)/250)\n",
        "  rho1=rhoput(djx1[51+i],293,ir[i-1],std[i-1],(125-7*i)/250)\n",
        "  vega1=vega(djx1[51+i],293,ir[i-1],std[i-1],(125-7*i)/250)\n",
        "  linlo1=theta1*7/250+delta1*djx3[i-1]+rho1*(ir[i]-ir[i-1])+vega1*(std[i]-std[i-1])      #adjust the subscript\n",
        "  #leverage=delta*djx1[51+i-1]/v_djx[i-1]\n",
        "  #djxmu.append(leverage*djx1[51+i]*np.mean(djx2))     #loss:expected mean_option=L*expected mean_stock=L*S_t*mean(log return)\n",
        "  #djxvariance.append(leverage**2*(std**2))       #loss:expected variance_option=L^2*expected variance_stock=L^2*(S_t^2)*(sigma^2)\n",
        "  #print(delta)\n",
        "  #print(leverage)\n",
        "  djxmu.append(norm.fit(linlo1)[0])\n",
        "  djxvariance.append(norm.fit(linlo1)[1]) \n",
        "print(djxmu)\n",
        "print(djxvariance)"
      ],
      "execution_count": 0,
      "outputs": []
    },
    {
      "cell_type": "code",
      "metadata": {
        "id": "Iq1cTEkFN8em",
        "colab_type": "code",
        "colab": {}
      },
      "source": [
        ""
      ],
      "execution_count": 0,
      "outputs": []
    },
    {
      "cell_type": "code",
      "metadata": {
        "id": "mcEZ7ISdl_BD",
        "colab_type": "code",
        "colab": {}
      },
      "source": [
        "def putoption(M):                  #today is 2020/02/14 \n",
        " mu=[]\n",
        " variance=[]\n",
        " std=[]\n",
        " for i in range(0,10):    #estimate loss on 2020/02/14 02/21 02/28 3/6\n",
        "   opt=getdata2(M,i)\n",
        "   ir=getdata3('IR',i)\n",
        "   opt1=opt[0]   #price\n",
        "   opt2=opt[1]    #log return\n",
        "   opt3=opt[2]   #net return of stock\n",
        "   ir1=ir[0]   #10 year bond yield\n",
        "   ir2=ir[1]   #interest rate change\n",
        "   #std=np.std(djx2)\n",
        "   #std.append(np.std(opt2))\n",
        "   delta=deltaput(opt1[51+i],293,ir1[51+i],0.1,(125-7*i)/250)   #t=(2020/06/18-2020/02/14)/250\n",
        "   theta=thetaput(opt1[51+i],293,ir1[51+i],0.1,(125-7*i)/250)\n",
        "   rho=rhoput(opt1[51+i],293,ir1[51+i],0.1,(125-7*i)/250)\n",
        "   vvega=vega(opt1[51+i],293,ir1[51+i],0.1,(125-7*i)/250)\n",
        "   #linloss=theta1*7/250+delta1*djx3[i-1]+rho1*(ir[i]-ir[i-1])+vega1*(std[i]-std[i-1])      #adjust the subscript\n",
        "   #leverage=delta*djx1[51+i-1]/v_djx[i-1]\n",
        "   #djxmu.append(leverage*djx1[51+i]*np.mean(djx2))     #loss:expected mean_option=L*expected mean_stock=L*S_t*mean(log return)\n",
        "   #djxvariance.append(leverage**2*(std**2))       #loss:expected variance_option=L^2*expected variance_stock=L^2*(S_t^2)*(sigma^2)\n",
        "   #print(delta)\n",
        "   #print(leverage)\n",
        "   mu.append(-(theta*7/250+delta*np.mean(opt3)+rho*np.mean(ir2)+vvega*(0.1-0.1)))\n",
        "   variance.append(delta**2*(np.std(opt3)**2)+(rho**2)*(np.std(ir2)**2)+(vvega**2)*((0.1-0.1)**2))\n",
        "   #djxmu.append(norm.fit(linlo1)[0])\n",
        "   #djxvariance.append(norm.fit(linlo1)[1]) \n",
        " return mu,variance\n",
        " "
      ],
      "execution_count": 0,
      "outputs": []
    },
    {
      "cell_type": "code",
      "metadata": {
        "id": "s-TiLtG5DiyN",
        "colab_type": "code",
        "colab": {}
      },
      "source": [
        "def putoption1(M):                  #today is 2020/02/14 \n",
        " \n",
        " t1=[]\n",
        " t2=[]\n",
        " t3=[]\n",
        " variance=[]\n",
        " std=[]\n",
        " for i in range(0,10):    #estimate loss on 2020/02/14 02/21 02/28 3/6\n",
        "   opt=getdata2(M,i)\n",
        "   ir=getdata3('IR',i)\n",
        "   opt1=opt[0]   #price\n",
        "   opt2=opt[1]    #log return\n",
        "   opt3=opt[2]   #net return of stock\n",
        "   ir1=ir[0]   #10 year bond yield\n",
        "   ir2=ir[1]   #interest rate change\n",
        "   Linloss=[]\n",
        "   for j in range(0,52):\n",
        "     delta=deltaput(opt1[i+j],293,ir1[i+j],0.1,(125-7*i)/250)   #t=(2020/06/18-2020/02/14)/250\n",
        "     theta=thetaput(opt1[i+j],293,ir1[i+j],0.1,(125-7*i)/250)\n",
        "     rho=rhoput(opt1[i+j],293,ir1[i+j],0.1,(125-7*i)/250)\n",
        "     vvega=vega(opt1[i+j],293,ir1[i+j],0.1,(125-7*i)/250)\n",
        "     Linloss.append(-(theta*7/250+delta*opt3[j]+rho*ir2[j]+vvega*(0.1-0.1)))\n",
        "   toption=t.fit(Linloss)\n",
        "   t1.append(toption[0])\n",
        "   t2.append(toption[1])\n",
        "   t3.append(toption[2])\n",
        "\n",
        "   #mu.append(theta*7/250+delta*np.mean(opt3)+rho*np.mean(ir2)+vvega*(0.1-0.1))\n",
        "   #variance.append(delta**2*(np.std(opt3)**2)+(rho**2)*(np.std(ir2)**2)+(vvega**2)*((0.1-0.1)**2))\n",
        " return t1,t2,t3"
      ],
      "execution_count": 0,
      "outputs": []
    },
    {
      "cell_type": "code",
      "metadata": {
        "id": "znPIvHCPD_AO",
        "colab_type": "code",
        "colab": {}
      },
      "source": [
        "tdjx=putoption1('DIA')\n",
        "tdjx1=VaRt1(0.9,tdjx[1],tdjx[2],tdjx[0])\n",
        "tdjx2=VaRt1(0.95,tdjx[1],tdjx[2],tdjx[0])\n",
        "tdjx3=VaRt1(0.99,tdjx[1],tdjx[2],tdjx[0])\n",
        "x=np.linspace(1,10,10)\n",
        "plt.plot(x,tdjx1[0],'orange',label=\"VaR_0.9\")\n",
        "plt.plot(x,tdjx1[1],'blue',label=\"ES_0.9\")\n",
        "plt.plot(x,tdjx2[0],'yellow',label=\"VaR_0.95\")\n",
        "plt.plot(x,tdjx2[1],'green',label=\"ES_0.95\")\n",
        "plt.plot(x,tdjx3[0],'red',label=\"VaR_0.99\")\n",
        "plt.plot(x,tdjx3[1],'purple',label=\"ES_0.99\")\n",
        "plt.xlabel('time')\n",
        "plt.title('put option DJX:var and ES vs time')\n",
        "plt.legend()\n",
        "plt.show()"
      ],
      "execution_count": 0,
      "outputs": []
    },
    {
      "cell_type": "code",
      "metadata": {
        "id": "Pc-g_6dJrATm",
        "colab_type": "code",
        "colab": {}
      },
      "source": [
        "for i in range(0,10):\n",
        "  print(tvig3[1][i])"
      ],
      "execution_count": 0,
      "outputs": []
    },
    {
      "cell_type": "code",
      "metadata": {
        "id": "odQwbAQtxOJp",
        "colab_type": "code",
        "colab": {}
      },
      "source": [
        "def calloption(M):                  #today is 2020/02/14 \n",
        " mu=[]\n",
        " variance=[]\n",
        " std=[]\n",
        " for i in range(0,10):    #estimate loss on 2020/02/14 02/21 02/28 3/6\n",
        "   opt=getdata2(M,i)\n",
        "   ir=getdata3('IR',i)\n",
        "   opt1=opt[0]   #price\n",
        "   opt2=opt[1]    #log return\n",
        "   opt3=opt[2]   #net return of stock\n",
        "   ir1=ir[0]   #10 year bond yield\n",
        "   ir2=ir[1]   #interest rate change\n",
        "   delta=deltacall(opt1[51+i],293,ir1[51+i],0.1,(125-7*i)/250)   #t=(2020/06/18-2020/02/14)/250\n",
        "   theta=thetacall(opt1[51+i],293,ir1[51+i],0.1,(125-7*i)/250)\n",
        "   rho=rhocall(opt1[51+i],293,ir1[51+i],0.1,(125-7*i)/250)\n",
        "   vvega=vega(opt1[51+i],293,ir1[51+i],0.1,(125-7*i)/250)\n",
        "   mu.append(theta*7/250+delta*np.mean(opt3)+rho*np.mean(ir2)+vvega*(0.1-0.1))\n",
        "   variance.append(delta**2*(np.std(opt3)**2)+(rho**2)*(np.std(ir2)**2)+(vvega**2)*((0.1-0.1)**2))\n",
        " return mu,variance\n",
        " "
      ],
      "execution_count": 0,
      "outputs": []
    },
    {
      "cell_type": "code",
      "metadata": {
        "id": "tkuYipmb5Nyn",
        "colab_type": "code",
        "colab": {}
      },
      "source": [
        "def calloption1(M):                  #today is 2020/02/14 \n",
        " \n",
        " t1=[]\n",
        " t2=[]\n",
        " t3=[]\n",
        " variance=[]\n",
        " std=[]\n",
        " for i in range(0,10):    #estimate loss on 2020/02/14 02/21 02/28 3/6\n",
        "   opt=getdata2(M,i)\n",
        "   ir=getdata3('IR',i)\n",
        "   opt1=opt[0]   #price\n",
        "   opt2=opt[1]    #log return\n",
        "   opt3=opt[2]   #net return of stock\n",
        "   ir1=ir[0]   #10 year bond yield\n",
        "   ir2=ir[1]   #interest rate change\n",
        "   Linloss=[]\n",
        "   for j in range(0,52):\n",
        "     delta=deltacall(opt1[i+j],293,ir1[i+j],0.1,(125-7*i)/250)   #t=(2020/06/18-2020/02/14)/250\n",
        "     theta=thetacall(opt1[i+j],293,ir1[i+j],0.1,(125-7*i)/250)\n",
        "     rho=rhocall(opt1[i+j],293,ir1[i+j],0.1,(125-7*i)/250)\n",
        "     vvega=vega(opt1[i+j],293,ir1[i+j],0.1,(125-7*i)/250)\n",
        "     Linloss.append(theta*7/250+delta*opt3[j]+rho*ir2[j]+vvega*(0.1-0.1))\n",
        "   toption=t.fit(Linloss)\n",
        "   t1.append(toption[0])\n",
        "   t2.append(toption[1])\n",
        "   t3.append(toption[2])\n",
        "\n",
        "   #mu.append(theta*7/250+delta*np.mean(opt3)+rho*np.mean(ir2)+vvega*(0.1-0.1))\n",
        "   #variance.append(delta**2*(np.std(opt3)**2)+(rho**2)*(np.std(ir2)**2)+(vvega**2)*((0.1-0.1)**2))\n",
        " return t1,t2,t3"
      ],
      "execution_count": 0,
      "outputs": []
    },
    {
      "cell_type": "code",
      "metadata": {
        "id": "Q08Vm_r_AIz8",
        "colab_type": "code",
        "colab": {}
      },
      "source": [
        "tcat=calloption1('CAT')\n",
        "print(tcat[0])\n",
        "print(tcat[1])\n",
        "print(tcat[2])"
      ],
      "execution_count": 0,
      "outputs": []
    },
    {
      "cell_type": "code",
      "metadata": {
        "id": "TyQT7mGLAGwe",
        "colab_type": "code",
        "colab": {}
      },
      "source": [
        "tcat1=VaRt1(0.9,tcat[1],tcat[2],tcat[0])\n",
        "tcat2=VaRt1(0.95,tcat[1],tcat[2],tcat[0])\n",
        "tcat3=VaRt1(0.99,tcat[1],tcat[2],tcat[0])\n",
        "#print(cat1[0])\n",
        "#print(cat1[1])\n",
        "x=np.linspace(1,10,10)\n",
        "plt.plot(x,tcat1[0],'orange',label=\"VaR_0.9\")\n",
        "plt.plot(x,tcat1[1],'blue',label=\"ES_0.9\")\n",
        "plt.plot(x,tcat2[0],'yellow',label=\"VaR_0.95\")\n",
        "plt.plot(x,tcat2[1],'green',label=\"ES_0.95\")\n",
        "plt.plot(x,tcat3[0],'red',label=\"VaR_0.99\")\n",
        "plt.plot(x,tcat3[1],'purple',label=\"ES_0.99\")\n",
        "plt.xlabel('time')\n",
        "plt.title('call option CAT:var and ES vs time')\n",
        "plt.legend()\n",
        "plt.show()"
      ],
      "execution_count": 0,
      "outputs": []
    },
    {
      "cell_type": "code",
      "metadata": {
        "id": "7v40Z6GaEys3",
        "colab_type": "code",
        "colab": {}
      },
      "source": [
        "tvig=calloption1('VIG')\n",
        "tvig1=VaRt1(0.9,tvig[1],tvig[2],tvig[0])\n",
        "tvig2=VaRt1(0.95,tvig[1],tvig[2],tvig[0])\n",
        "tvig3=VaRt1(0.99,tvig[1],tvig[2],tvig[0])\n",
        "#print(cat1[0])\n",
        "#print(cat1[1])\n",
        "x=np.linspace(1,10,10)\n",
        "plt.plot(x,tvig1[0],'orange',label=\"VaR_0.9\")\n",
        "plt.plot(x,tvig1[1],'blue',label=\"ES_0.9\")\n",
        "plt.plot(x,tvig2[0],'yellow',label=\"VaR_0.95\")\n",
        "plt.plot(x,tvig2[1],'green',label=\"ES_0.95\")\n",
        "plt.plot(x,tvig3[0],'red',label=\"VaR_0.99\")\n",
        "plt.plot(x,tvig3[1],'purple',label=\"ES_0.99\")\n",
        "plt.xlabel('time')\n",
        "plt.title('call option VIG:var and ES vs time')\n",
        "plt.legend()\n",
        "plt.show()"
      ],
      "execution_count": 0,
      "outputs": []
    },
    {
      "cell_type": "code",
      "metadata": {
        "id": "_YXn7pwysG38",
        "colab_type": "code",
        "colab": {}
      },
      "source": [
        "djx=putoption('DIA')\n",
        "print(djx[0])\n",
        "print(djx[1])\n",
        "djxVaR1=VaRnorm(0.9,djx[0],np.sqrt(djx[1]))\n",
        "djxVaR2=VaRnorm(0.95,djx[0],np.sqrt(djx[1]))\n",
        "djxVaR3=VaRnorm(0.99,djx[0],np.sqrt(djx[1]))\n",
        "print(djxVaR1[0])\n",
        "print(djxVaR1[1])\n",
        "x=np.linspace(1,10,10)\n",
        "#day=['2/22','3/1','11/1','11/4','11/5','11/6']\n",
        "plt.plot(x,djxVaR1[0],'orange',label=\"VaR_0.9\")\n",
        "plt.plot(x,djxVaR1[1],'blue',label=\"ES_0.9\")\n",
        "plt.plot(x,djxVaR2[0],'yellow',label=\"VaR_0.95\")\n",
        "plt.plot(x,djxVaR2[1],'green',label=\"ES_0.95\")\n",
        "plt.plot(x,djxVaR3[0],'red',label=\"VaR_0.99\")\n",
        "plt.plot(x,djxVaR3[1],'purple',label=\"ES_0.99\")\n",
        "plt.xlabel('time')\n",
        "plt.title('put option DJX:var and ES vs time')\n",
        "plt.legend()\n",
        "plt.show()"
      ],
      "execution_count": 0,
      "outputs": []
    },
    {
      "cell_type": "code",
      "metadata": {
        "id": "Bpm9YD-3z1IH",
        "colab_type": "code",
        "colab": {}
      },
      "source": [
        "for i in range(0,10):\n",
        "  print(vig3[1][i])"
      ],
      "execution_count": 0,
      "outputs": []
    },
    {
      "cell_type": "code",
      "metadata": {
        "id": "csb-fw1r3mLz",
        "colab_type": "code",
        "colab": {}
      },
      "source": [
        "def quadratic(M):                  #today is 2020/02/14 \n",
        " mu=[]\n",
        " variance=[]\n",
        " std=[]\n",
        " for i in range(0,10):    #estimate loss on 2020/02/14 02/21 02/28 3/6\n",
        "   opt=getdata2(M,i)\n",
        "   ir=getdata3('IR',i)\n",
        "   opt1=opt[0]   #price\n",
        "   opt2=opt[1]    #log return\n",
        "   opt3=opt[2]   #net return of stock\n",
        "   ir1=ir[0]   #10 year bond yield\n",
        "   ir2=ir[1]   #interest rate change\n",
        "   delta=deltaput(opt1[51+i],293,ir1[51+i],0.1,(125-7*i)/250)   #t=(2020/06/18-2020/02/14)/250\n",
        "   theta=thetaput(opt1[51+i],293,ir1[51+i],0.1,(125-7*i)/250)\n",
        "   rho=rhoput(opt1[51+i],293,ir1[51+i],0.1,(125-7*i)/250)\n",
        "   vvega=vega(opt1[51+i],293,ir1[51+i],0.1,(125-7*i)/250)\n",
        "   gamma1=gamma(opt1[51+i],293,ir1[51+i],0.1,(125-7*i)/250)\n",
        "   vomma1=vomma(opt1[51+i],293,ir1[51+i],0.1,(125-7*i)/250)\n",
        "   vanna1=vanna(opt1[51+i],293,ir1[51+i],0.1,(125-7*i)/250)\n",
        "   mu.append(-(theta*7/250+delta*np.mean(opt3)+rho*np.mean(ir2)+vvega*(0.1-0.1)+1/2*gamma1*((opt1[0])**2)*(np.std(opt3)**2)))\n",
        "   variance.append(delta**2*(np.std(opt3)**2)+(rho**2)*(np.std(ir2)**2)+(vvega**2)*((0.1-0.1)**2)+1/2*gamma1*((opt1[0])**4)*(np.std(opt3)**4))\n",
        " return mu,variance"
      ],
      "execution_count": 0,
      "outputs": []
    },
    {
      "cell_type": "code",
      "metadata": {
        "id": "Af0PiLLo6-nS",
        "colab_type": "code",
        "colab": {
          "base_uri": "https://localhost:8080/",
          "height": 295
        },
        "outputId": "f16eaa77-903a-4f20-92bb-601def2ca09b"
      },
      "source": [
        "Q=quadratic('DIA')\n",
        "#print(djx[0])\n",
        "#print(djx[1])\n",
        "Q1=VaRnorm(0.9,Q[0],np.sqrt(Q[1]))\n",
        "Q2=VaRnorm(0.95,Q[0],np.sqrt(Q[1]))\n",
        "Q3=VaRnorm(0.99,Q[0],np.sqrt(Q[1]))\n",
        "#print(djxVaR1[0])\n",
        "#print(djxVaR1[1])\n",
        "x=np.linspace(1,10,10)\n",
        "#day=['2/22','3/1','11/1','11/4','11/5','11/6']\n",
        "plt.plot(x,Q1[0],'orange',label=\"VaR_0.9\")\n",
        "plt.plot(x,Q1[1],'blue',label=\"ES_0.9\")\n",
        "plt.plot(x,Q2[0],'yellow',label=\"VaR_0.95\")\n",
        "plt.plot(x,Q2[1],'green',label=\"ES_0.95\")\n",
        "plt.plot(x,Q3[0],'red',label=\"VaR_0.99\")\n",
        "plt.plot(x,Q3[1],'purple',label=\"ES_0.99\")\n",
        "plt.xlabel('time')\n",
        "plt.title('put option DJX:quadratic var and ES vs time')\n",
        "plt.legend()\n",
        "plt.show()"
      ],
      "execution_count": 89,
      "outputs": [
        {
          "output_type": "display_data",
          "data": {
            "image/png": "[encoded data removed]",
            "text/plain": [
              "<Figure size 432x288 with 1 Axes>"
            ]
          },
          "metadata": {
            "tags": [],
            "needs_background": "light"
          }
        }
      ]
    },
    {
      "cell_type": "code",
      "metadata": {
        "id": "7sdF9lc39jou",
        "colab_type": "code",
        "colab": {
          "base_uri": "https://localhost:8080/",
          "height": 191
        },
        "outputId": "716e777a-7a0f-44a7-e509-a2d61fb92c73"
      },
      "source": [
        "for i in range(0,10):\n",
        "  print(Q1[0][i])"
      ],
      "execution_count": 90,
      "outputs": [
        {
          "output_type": "stream",
          "text": [
            "109364.01030424336\n",
            "85776.40452588123\n",
            "6583.56286535204\n",
            "136.58164724784862\n",
            "23177.33130406155\n",
            "103.88192377194093\n",
            "32.40442145143797\n",
            "23.24206137805943\n",
            "30.359745072848014\n",
            "488.57368315168486\n"
          ],
          "name": "stdout"
        }
      ]
    },
    {
      "cell_type": "code",
      "metadata": {
        "id": "hsaYJpOk9n0e",
        "colab_type": "code",
        "colab": {
          "base_uri": "https://localhost:8080/",
          "height": 191
        },
        "outputId": "75f041cd-e0a3-4907-dd2f-5485964689a6"
      },
      "source": [
        "for i in range(0,10):\n",
        "  print(Q2[0][i])"
      ],
      "execution_count": 92,
      "outputs": [
        {
          "output_type": "stream",
          "text": [
            "142787.6189502149\n",
            "111487.58581851459\n",
            "8452.966407343572\n",
            "174.65517541417572\n",
            "29775.883127355253\n",
            "134.2153325574486\n",
            "41.6689981218417\n",
            "29.451463554856154\n",
            "38.30709389117474\n",
            "626.6856040875874\n"
          ],
          "name": "stdout"
        }
      ]
    },
    {
      "cell_type": "code",
      "metadata": {
        "id": "MouPBqb_9n8O",
        "colab_type": "code",
        "colab": {
          "base_uri": "https://localhost:8080/",
          "height": 191
        },
        "outputId": "1ccbee32-9cf2-42fb-ac82-922f71c81e6a"
      },
      "source": [
        "for i in range(0,10):\n",
        "  print(Q3[0][i])"
      ],
      "execution_count": 93,
      "outputs": [
        {
          "output_type": "stream",
          "text": [
            "205484.75015004698\n",
            "159717.48594335324\n",
            "11959.656554991665\n",
            "246.07478231447436\n",
            "42153.6689546136\n",
            "191.11576274461012\n",
            "59.047803180499415\n",
            "41.09926936406131\n",
            "53.214998565121924\n",
            "885.7605986191186\n"
          ],
          "name": "stdout"
        }
      ]
    },
    {
      "cell_type": "code",
      "metadata": {
        "id": "yiZOtG709oDx",
        "colab_type": "code",
        "colab": {
          "base_uri": "https://localhost:8080/",
          "height": 191
        },
        "outputId": "75622451-6a72-43b7-dcf4-f694d259220d"
      },
      "source": [
        "for i in range(0,10):\n",
        "  print(Q1[1][i])"
      ],
      "execution_count": 94,
      "outputs": [
        {
          "output_type": "stream",
          "text": [
            "152919.49578002258\n",
            "119281.55339290497\n",
            "9019.648677749683\n",
            "186.19660715912684\n",
            "31776.137349957648\n",
            "143.41046061493353\n",
            "44.47741868166518\n",
            "31.333752768699814\n",
            "40.71621614376277\n",
            "668.5522076154311\n"
          ],
          "name": "stdout"
        }
      ]
    },
    {
      "cell_type": "code",
      "metadata": {
        "id": "IPTFy2C49oPV",
        "colab_type": "code",
        "colab": {
          "base_uri": "https://localhost:8080/",
          "height": 191
        },
        "outputId": "8f5f69d1-aba8-4b02-fdc8-199826369c31"
      },
      "source": [
        "for i in range(0,10):\n",
        "  print(Q2[1][i])"
      ],
      "execution_count": 95,
      "outputs": [
        {
          "output_type": "stream",
          "text": [
            "181230.4553765881\n",
            "141059.81864444737\n",
            "10603.098529247918\n",
            "218.44621039715128\n",
            "37365.34036043592\n",
            "169.10391339703216\n",
            "52.3248375098741\n",
            "36.593332486980955\n",
            "47.44789714441914\n",
            "785.5378106613686\n"
          ],
          "name": "stdout"
        }
      ]
    },
    {
      "cell_type": "code",
      "metadata": {
        "id": "4L21btRZ9oL3",
        "colab_type": "code",
        "colab": {
          "base_uri": "https://localhost:8080/",
          "height": 191
        },
        "outputId": "415c3ad5-1490-4d8f-e0b8-bdd2913c6b0e"
      },
      "source": [
        "for i in range(0,10):\n",
        "  print(Q3[1][i])"
      ],
      "execution_count": 96,
      "outputs": [
        {
          "output_type": "stream",
          "text": [
            "236660.28518094504\n",
            "183699.33187640368\n",
            "13703.32391980406\n",
            "281.58748304262497\n",
            "48308.40184713995\n",
            "219.4089449146067\n",
            "67.68924395351495\n",
            "46.89102683507852\n",
            "60.62780829829157\n",
            "1014.5831047383317\n"
          ],
          "name": "stdout"
        }
      ]
    },
    {
      "cell_type": "code",
      "metadata": {
        "id": "3KotCDks9oJA",
        "colab_type": "code",
        "colab": {}
      },
      "source": [
        ""
      ],
      "execution_count": 0,
      "outputs": []
    },
    {
      "cell_type": "code",
      "metadata": {
        "id": "knVy6kw_xDzJ",
        "colab_type": "code",
        "colab": {}
      },
      "source": [
        "cat=calloption('CAT')\n",
        "print(cat[0])\n",
        "print(cat[1])\n",
        "cat1=VaRnorm(0.9,cat[0],np.sqrt(cat[1]))\n",
        "cat2=VaRnorm(0.95,cat[0],np.sqrt(cat[1]))\n",
        "cat3=VaRnorm(0.99,cat[0],np.sqrt(cat[1]))\n",
        "#print(cat1[0])\n",
        "#print(cat1[1])\n",
        "x=np.linspace(1,10,10)\n",
        "plt.plot(x,cat1[0],'orange',label=\"VaR_0.9\")\n",
        "plt.plot(x,cat1[1],'blue',label=\"ES_0.9\")\n",
        "plt.plot(x,cat2[0],'yellow',label=\"VaR_0.95\")\n",
        "plt.plot(x,cat2[1],'green',label=\"ES_0.95\")\n",
        "plt.plot(x,cat3[0],'red',label=\"VaR_0.99\")\n",
        "plt.plot(x,cat3[1],'purple',label=\"ES_0.99\")\n",
        "plt.xlabel('time')\n",
        "plt.title('call option CAT:var and ES vs time')\n",
        "plt.legend()\n",
        "plt.show()"
      ],
      "execution_count": 0,
      "outputs": []
    },
    {
      "cell_type": "code",
      "metadata": {
        "id": "f6JL43dkyL0M",
        "colab_type": "code",
        "colab": {}
      },
      "source": [
        "vig=calloption('VIG')\n",
        "print(vig[0])\n",
        "print(vig[1])\n",
        "vig1=VaRnorm(0.9,vig[0],np.sqrt(vig[1]))\n",
        "vig2=VaRnorm(0.95,vig[0],np.sqrt(vig[1]))\n",
        "vig3=VaRnorm(0.99,vig[0],np.sqrt(vig[1]))\n",
        "#print(cat1[0])\n",
        "#print(cat1[1])\n",
        "x=np.linspace(1,10,10)\n",
        "plt.plot(x,vig1[0],'orange',label=\"VaR_0.9\")\n",
        "plt.plot(x,vig1[1],'blue',label=\"ES_0.9\")\n",
        "plt.plot(x,vig2[0],'yellow',label=\"VaR_0.95\")\n",
        "plt.plot(x,vig2[1],'green',label=\"ES_0.95\")\n",
        "plt.plot(x,vig3[0],'red',label=\"VaR_0.99\")\n",
        "plt.plot(x,vig3[1],'purple',label=\"ES_0.99\")\n",
        "plt.xlabel('time')\n",
        "plt.title('call option VIG:var and ES vs time')\n",
        "plt.legend()\n",
        "plt.show()"
      ],
      "execution_count": 0,
      "outputs": []
    },
    {
      "cell_type": "code",
      "metadata": {
        "id": "Nvdl89pqsmwt",
        "colab_type": "code",
        "colab": {}
      },
      "source": [
        "def ttt(M):                  #today is 2020/02/14 \n",
        " opt=getdata2(M,0)\n",
        " return opt\n"
      ],
      "execution_count": 0,
      "outputs": []
    },
    {
      "cell_type": "code",
      "metadata": {
        "id": "oxgx3v5Msw1g",
        "colab_type": "code",
        "colab": {}
      },
      "source": [
        "tttt=ttt('DIA')"
      ],
      "execution_count": 0,
      "outputs": []
    },
    {
      "cell_type": "code",
      "metadata": {
        "id": "pn8x2HYAPI6y",
        "colab_type": "code",
        "colab": {}
      },
      "source": [
        ""
      ],
      "execution_count": 0,
      "outputs": []
    },
    {
      "cell_type": "code",
      "metadata": {
        "id": "eL8Xplz0PJSg",
        "colab_type": "code",
        "colab": {}
      },
      "source": [
        "#using WEEKLY log return\n",
        "mu_m=np.zeros(15)\n",
        "names_2=['CAT','DIA','HD','MSFT','NKE','NVDA','PG','TM','VIG','VOO','WMT','GOOG','CHEF','SPB','ORCL']\n",
        "def getData_m(N):\n",
        "    Is=[i for i in range(15)]\n",
        "    Rows=[]\n",
        "    for name,i in zip(names_2,Is):\n",
        "        with open(name+'.csv') as file:\n",
        "            reader=csv.reader(file)\n",
        "            rows=[row[2] for row in reader]\n",
        "        mu_m[i]=np.mean([float(row) for row in rows[1+N:53+N]])\n",
        "        Rows.append([float(row) for row in rows[1+N:53+N]])\n",
        "    Omega_m=np.cov(np.array(Rows))\n",
        "    return mu_m,Omega_m,rows"
      ],
      "execution_count": 0,
      "outputs": []
    },
    {
      "cell_type": "code",
      "metadata": {
        "id": "g4CCTHhgj1P-",
        "colab_type": "code",
        "colab": {}
      },
      "source": [
        "\n"
      ],
      "execution_count": 0,
      "outputs": []
    },
    {
      "cell_type": "code",
      "metadata": {
        "id": "N_RDSKgUSS9r",
        "colab_type": "code",
        "colab": {}
      },
      "source": [
        "TEST=getData_m(0)\n",
        "print(TEST[0])\n",
        "print(TEST[1])\n"
      ],
      "execution_count": 0,
      "outputs": []
    },
    {
      "cell_type": "code",
      "metadata": {
        "id": "I6k2AW5cdukI",
        "colab_type": "code",
        "colab": {}
      },
      "source": [
        "def getdata4(M):\n",
        "  with open(M+'.csv') as file:\n",
        "      reader=csv.reader(file)\n",
        "      rows=[row for row in reader]\n",
        "      DD=[row[0] for row in rows[1:62]]\n",
        "      DD=[float(d) for d in DD]\n",
        "  return DD"
      ],
      "execution_count": 0,
      "outputs": []
    },
    {
      "cell_type": "code",
      "metadata": {
        "id": "t84X6rmePOSw",
        "colab_type": "code",
        "colab": {}
      },
      "source": [
        "#linearized loss mean&variance\n",
        "def lin_loss(Vt,Wt,mu,omega):\n",
        "  exp=-Vt*(np.dot(Wt,mu))\n",
        "  var=(Vt**2)*(np.dot(np.dot(Wt,omega),Wt))\n",
        "  return exp,var"
      ],
      "execution_count": 0,
      "outputs": []
    },
    {
      "cell_type": "code",
      "metadata": {
        "id": "_SFuL4F8-GV7",
        "colab_type": "code",
        "colab": {}
      },
      "source": [
        "MU=[]\n",
        "VAR=[]\n",
        "#rolling window for linearized loss using WEEKLY log return \n",
        "for i in range(0,10):\n",
        "  data3_m= getData_m(i+1)\n",
        "  mu3_m=data3_m[0]\n",
        "  omega3_m=data3_m[1]\n",
        "  vt=getdata4('PORT_VALUE')\n",
        "  wt=np.ones(15)*1/15\n",
        "  a3_m=lin_loss(vt[i+51],wt,mu3_m,omega3_m)\n",
        "  #print(a3_m[0])\n",
        "  #print(a3_m[1])\n",
        "  #x = np.linspace (a3_m[0]-4*np.sqrt(a3_m[1]), a3_m[0]+4*np.sqrt(a3_m[1]))\n",
        "  #y = normfun(x, a3_m[0], np.sqrt(a3_m[1]))\n",
        "  #plt.plot(x,y)\n",
        "  #plt.title('PDF of linearized loss distribution using four year rolling window')\n",
        "  MU.append(a3_m[0])\n",
        "  VAR.append(a3_m[1])\n",
        "print(MU)\n",
        "print(VAR)"
      ],
      "execution_count": 0,
      "outputs": []
    },
    {
      "cell_type": "code",
      "metadata": {
        "id": "1fR80fP5if6w",
        "colab_type": "code",
        "colab": {}
      },
      "source": [
        "N1=VaRnorm(0.9,MU,np.sqrt(VAR))\n",
        "N2=VaRnorm(0.95,MU,np.sqrt(VAR))\n",
        "N3=VaRnorm(0.99,MU,np.sqrt(VAR))\n",
        "#print(cat1[0])\n",
        "#print(cat1[1])\n",
        "x=np.linspace(1,10,10)\n",
        "plt.plot(x,N1[0],'orange',label=\"VaR_0.9\")\n",
        "plt.plot(x,N1[1],'blue',label=\"ES_0.9\")\n",
        "plt.plot(x,N2[0],'yellow',label=\"VaR_0.95\")\n",
        "plt.plot(x,N2[1],'green',label=\"ES_0.95\")\n",
        "plt.plot(x,N3[0],'red',label=\"VaR_0.99\")\n",
        "plt.plot(x,N3[1],'purple',label=\"ES_0.99\")\n",
        "plt.xlabel('time')\n",
        "plt.title('stock&ETF:var and ES vs time')\n",
        "plt.legend()\n",
        "plt.show()\n"
      ],
      "execution_count": 0,
      "outputs": []
    },
    {
      "cell_type": "code",
      "metadata": {
        "id": "ds1oCtDCX2yJ",
        "colab_type": "code",
        "colab": {}
      },
      "source": [
        "print(N1[0],N1[1])"
      ],
      "execution_count": 0,
      "outputs": []
    },
    {
      "cell_type": "code",
      "metadata": {
        "id": "0MGUY8VjWRnP",
        "colab_type": "code",
        "colab": {}
      },
      "source": [
        "for i in range(0,10):\n",
        " print(N1[0][i])\n"
      ],
      "execution_count": 0,
      "outputs": []
    },
    {
      "cell_type": "code",
      "metadata": {
        "id": "CrXMCtaIXOtz",
        "colab_type": "code",
        "colab": {}
      },
      "source": [
        "for i in range(0,10):\n",
        " print(N1[1][i])"
      ],
      "execution_count": 0,
      "outputs": []
    },
    {
      "cell_type": "code",
      "metadata": {
        "id": "HlC33Ab-XPcN",
        "colab_type": "code",
        "colab": {}
      },
      "source": [
        "for i in range(0,10):\n",
        " print(N2[0][i])"
      ],
      "execution_count": 0,
      "outputs": []
    },
    {
      "cell_type": "code",
      "metadata": {
        "id": "LHNHjYtjXP78",
        "colab_type": "code",
        "colab": {}
      },
      "source": [
        "for i in range(0,10):\n",
        " print(N2[1][i])"
      ],
      "execution_count": 0,
      "outputs": []
    },
    {
      "cell_type": "code",
      "metadata": {
        "id": "_lELBvqrXQXl",
        "colab_type": "code",
        "colab": {}
      },
      "source": [
        "for i in range(0,10):\n",
        " print(N3[0][i])"
      ],
      "execution_count": 0,
      "outputs": []
    },
    {
      "cell_type": "code",
      "metadata": {
        "id": "c9i3rbhLXRGk",
        "colab_type": "code",
        "colab": {}
      },
      "source": [
        "for i in range(0,10):\n",
        " print(N3[1][i])"
      ],
      "execution_count": 0,
      "outputs": []
    },
    {
      "cell_type": "code",
      "metadata": {
        "id": "E-LNRCsnwLYl",
        "colab_type": "code",
        "colab": {}
      },
      "source": [
        "N1=VaRnorm(0.9,MU,np.sqrt(VAR))\n",
        "print(N1)"
      ],
      "execution_count": 0,
      "outputs": []
    },
    {
      "cell_type": "code",
      "metadata": {
        "id": "DeSCmteWPcjH",
        "colab_type": "code",
        "colab": {}
      },
      "source": [
        "'''\n",
        "#linearized loss using monthly log return\n",
        "mu_m=np.array(getData_m(49)[0])    #first four year monthly log return\n",
        "omega_m=np.array(getData_m(49)[1])\n",
        "#print(omega)\n",
        "vt=193.664                           #20151231 portfolio value\n",
        "wt=np.ones(15)*1/15\n",
        "b=lin_loss(vt,wt,mu_m,omega_m)\n",
        "exp_m=b[0]\n",
        "var_m=b[1]\n",
        "print(exp_m)\n",
        "print(var_m)"
      ],
      "execution_count": 0,
      "outputs": []
    },
    {
      "cell_type": "code",
      "metadata": {
        "id": "3sOYotq_puP7",
        "colab_type": "code",
        "colab": {}
      },
      "source": [
        "def getdata5(M,N):\n",
        "  with open(M+'.csv') as file:\n",
        "      reader=csv.reader(file)\n",
        "      rows=[row for row in reader]\n",
        "      DD=[row[0] for row in rows[1+N:53+N]]\n",
        "      DD=[float(d) for d in DD]\n",
        "  return DD"
      ],
      "execution_count": 0,
      "outputs": []
    },
    {
      "cell_type": "code",
      "metadata": {
        "id": "hCq8OX_Rp_jJ",
        "colab_type": "code",
        "colab": {}
      },
      "source": [
        "#t distribution for stock&ETFs\n",
        "T_df=[]\n",
        "T_mu=[]\n",
        "T_sigma=[]\n",
        "for i in range(0,10):\n",
        "  data2=getdata5('linearized_loss',i)\n",
        "  T_stock=t.fit(data2)\n",
        "  T_df.append(T_stock[0])\n",
        "  T_mu.append(T_stock[1])\n",
        "  T_sigma.append(T_stock[2])\n",
        "print(T_df)\n",
        "print(T_mu)\n",
        "print(T_sigma)\n"
      ],
      "execution_count": 0,
      "outputs": []
    },
    {
      "cell_type": "code",
      "metadata": {
        "id": "e_karSHsrfCi",
        "colab_type": "code",
        "colab": {}
      },
      "source": [
        "T1=VaRt1(0.9,T_mu,T_sigma,T_df)\n",
        "T2=VaRt1(0.95,T_mu,T_sigma,T_df)\n",
        "T3=VaRt1(0.99,T_mu,T_sigma,T_df)\n",
        "#print(cat1[0])\n",
        "#print(cat1[1])\n",
        "x=np.linspace(1,10,10)\n",
        "plt.plot(x,T1[0],'orange',label=\"VaR_0.9\")\n",
        "plt.plot(x,T1[1],'blue',label=\"ES_0.9\")\n",
        "plt.plot(x,T2[0],'yellow',label=\"VaR_0.95\")\n",
        "plt.plot(x,T2[1],'green',label=\"ES_0.95\")\n",
        "plt.plot(x,T3[0],'red',label=\"VaR_0.99\")\n",
        "plt.plot(x,T3[1],'purple',label=\"ES_0.99\")\n",
        "plt.xlabel('time')\n",
        "plt.title('stock&ETF:var and ES vs time')\n",
        "plt.legend()\n",
        "plt.show()"
      ],
      "execution_count": 0,
      "outputs": []
    },
    {
      "cell_type": "code",
      "metadata": {
        "id": "nlVkuhGFkyVo",
        "colab_type": "code",
        "colab": {}
      },
      "source": [
        "for i in range(0,10):\n",
        " print(T3[1][i])"
      ],
      "execution_count": 0,
      "outputs": []
    },
    {
      "cell_type": "code",
      "metadata": {
        "id": "FO-w_-fzP6Jy",
        "colab_type": "code",
        "colab": {}
      },
      "source": [
        "#VaR\n",
        "def VaRnorm(alpha,mu,sigma):\n",
        "  VaR=mu+sigma*norm.ppf(alpha)\n",
        "  ES=mu+sigma*norm.pdf(norm.ppf(alpha))/(1-alpha)\n",
        "  return VaR,ES"
      ],
      "execution_count": 0,
      "outputs": []
    },
    {
      "cell_type": "code",
      "metadata": {
        "id": "p0RSPM7tVuJm",
        "colab_type": "code",
        "colab": {}
      },
      "source": [
        "def VaRt(alpha,mu,sigma,v):\n",
        "  VaR=mu+sigma*t.ppf(alpha,v)\n",
        "  ES=mu+sigma*t.pdf(t.ppf(alpha,v),v)/(1-alpha)*(v+(t.ppf(alpha,v))**2)/(v-1)\n",
        "  return VaR,ES"
      ],
      "execution_count": 0,
      "outputs": []
    },
    {
      "cell_type": "code",
      "metadata": {
        "id": "17inYVcizReO",
        "colab_type": "code",
        "colab": {}
      },
      "source": [
        "def VaRt1(alpha,mu,sigma,v):\n",
        "  VaR=mu+sigma*t.ppf(alpha,v)\n",
        "  a=np.asarray(sigma)/np.asarray(1-alpha)\n",
        "  ES=mu+a*np.asarray(v+(VaR-mu)**2)/np.asarray(v-np.asarray(1))\n",
        "  return VaR,ES"
      ],
      "execution_count": 0,
      "outputs": []
    },
    {
      "cell_type": "code",
      "metadata": {
        "id": "Zn-Sa8ULsc7Y",
        "colab_type": "code",
        "colab": {}
      },
      "source": [
        "T1=VaRt1(0.9,T_mu,T_sigma,T_df)\n",
        "plt.plot(x,T1[0],'orange',label=\"VaR_0.9\")\n"
      ],
      "execution_count": 0,
      "outputs": []
    },
    {
      "cell_type": "code",
      "metadata": {
        "id": "3InPrf7qRYPP",
        "colab_type": "code",
        "colab": {}
      },
      "source": [
        "\n",
        "a=norm.pdf(0.5)\n",
        "b=p(0.5)\n",
        "print(b)"
      ],
      "execution_count": 0,
      "outputs": []
    },
    {
      "cell_type": "code",
      "metadata": {
        "id": "fvLeT9Kf_dxM",
        "colab_type": "code",
        "colab": {}
      },
      "source": [
        "print(t.pdf(0))\n",
        "print(norm.pdf(0))\n",
        "\n"
      ],
      "execution_count": 0,
      "outputs": []
    },
    {
      "cell_type": "code",
      "metadata": {
        "id": "KhlLb1SPN_RX",
        "colab_type": "code",
        "colab": {}
      },
      "source": [
        "#OPTION STRESS TEST\n",
        "djxmu=[]\n",
        "djxvariance=[]\n",
        "std=[]\n",
        "for i in range(1,10):    #estimate loss on 2020/02/14 02/21 02/28 3/6\n",
        "  djx=getdata2('DIA',i)\n",
        "  ir=getdata2('IR',i)\n",
        "  djx1=djx[0]   #price\n",
        "  djx2=djx[1]    #log return\n",
        "  djx3=djx[2]   #net return of stock\n",
        "  #std=np.std(djx2)\n",
        "  std.append(np.std(djx2))\n",
        "  delta1=deltaput(djx1[51+i],293,ir[i-1],std[i-1],(125-7*i)/250)   #t=(2020/06/18-2020/02/14)/250\n",
        "  theta1=thetaput(djx1[51+i],293,ir[i-1],std[i-1],(125-7*i)/250)\n",
        "  rho1=rhoput(djx1[51+i],293,ir[i-1],std[i-1],(125-7*i)/250)\n",
        "  vega1=vega(djx1[51+i],293,ir[i-1],std[i-1],(125-7*i)/250)\n",
        "  linlo1=theta1*7/250+delta1*djx3[i-1]+rho1*(ir[i]-ir[i-1])+vega1*(std[i]-std[i-1])      #adjust the subscript\n",
        "  #leverage=delta*djx1[51+i-1]/v_djx[i-1]\n",
        "  #djxmu.append(leverage*djx1[51+i]*np.mean(djx2))     #loss:expected mean_option=L*expected mean_stock=L*S_t*mean(log return)\n",
        "  #djxvariance.append(leverage**2*(std**2))       #loss:expected variance_option=L^2*expected variance_stock=L^2*(S_t^2)*(sigma^2)\n",
        "  #print(delta)\n",
        "  #print(leverage)\n",
        "  djxmu.append(norm.fit(linlo1)[0])\n",
        "  djxvariance.append(norm.fit(linlo1)[1]) \n",
        "print(djxmu)\n",
        "print(djxvariance)"
      ],
      "execution_count": 0,
      "outputs": []
    },
    {
      "cell_type": "code",
      "metadata": {
        "id": "uu3Bw4moQTYD",
        "colab_type": "code",
        "colab": {}
      },
      "source": [
        "def getdata6(M):\n",
        "  with open(M+'.csv') as file:\n",
        "      reader=csv.reader(file)\n",
        "      rows=[row for row in reader]\n",
        "      DD=[row[0] for row in rows[1:253]]\n",
        "      DD=[float(d) for d in DD]\n",
        "      D=[row[1] for row in rows[1:253]]\n",
        "      D=[float(d) for d in D]\n",
        "  return DD,D"
      ],
      "execution_count": 0,
      "outputs": []
    },
    {
      "cell_type": "code",
      "metadata": {
        "id": "6nJ5Mh20T7Qk",
        "colab_type": "code",
        "colab": {}
      },
      "source": [
        "def origin_price(S,K,r,sigma,t):\n",
        "  d1=(np.log(S/K)+(r+sigma**2/2)*t)/(sigma*np.sqrt(t))\n",
        "  d2=d1-sigma*np.sqrt(t)\n",
        "  callprice=S*N(d1)-K*np.exp(-r*t)*N(d2)\n",
        "  putprice=-S*N(-d1)+K*np.exp(-r*t)*N(-d2)\n",
        "  return callprice,putprice"
      ],
      "execution_count": 0,
      "outputs": []
    },
    {
      "cell_type": "code",
      "metadata": {
        "id": "jOelt-MJVMyF",
        "colab_type": "code",
        "colab": {}
      },
      "source": [
        ""
      ],
      "execution_count": 0,
      "outputs": []
    },
    {
      "cell_type": "code",
      "metadata": {
        "id": "IpXb4ZF9QH1h",
        "colab_type": "code",
        "colab": {}
      },
      "source": [
        "def stresstest(M,K,X):\n",
        "  aa=getdata6(M)\n",
        "  orip=origin_price(aa[0][0],K,0.02,0.1,1)[X]\n",
        "  #delta=deltaput(aa[0][0],K,0.02,0.1,1)\n",
        "  delta=deltacall(aa[0][0],K,0.02,0.1,1)    #strike=100\n",
        "  leverage=delta*aa[0][0]/orip\n",
        "  netoption=leverage*np.array(aa[1])\n",
        "  nn=norm.fit(netoption)\n",
        "  mu1=nn[0]\n",
        "  sigma1=nn[1]\n",
        "  tt=t.fit(netoption)\n",
        "  df=tt[0]\n",
        "  mu2=tt[1]\n",
        "  sigma2=tt[2]\n",
        "  return delta,leverage,mu1,sigma1,df,mu2,sigma2\n"
      ],
      "execution_count": 0,
      "outputs": []
    },
    {
      "cell_type": "code",
      "metadata": {
        "id": "-6l8VzkpXxF7",
        "colab_type": "code",
        "colab": {}
      },
      "source": [
        "DIA=stresstest('DIA15',165,1)     #STRIKE DIA08=100 DIA15=165 CAT08=55,CAT15=80  VIG08=50, VIG15=75\n",
        "print(DIA)"
      ],
      "execution_count": 0,
      "outputs": []
    },
    {
      "cell_type": "code",
      "metadata": {
        "id": "A35H8DqebILM",
        "colab_type": "code",
        "colab": {}
      },
      "source": [
        "aaa=stresstest('VIG15',75,0)    #STRIKE=55\n",
        "print(aaa)"
      ],
      "execution_count": 0,
      "outputs": []
    }
  ]
}