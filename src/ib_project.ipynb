{
  "nbformat": 4,
  "nbformat_minor": 0,
  "metadata": {
    "colab": {
      "name": "ib project.ipynb",
      "provenance": [],
      "authorship_tag": "ABX9TyNgQIHzFuaBA6siP6llUuPI",
      "include_colab_link": true
    },
    "kernelspec": {
      "name": "python3",
      "display_name": "Python 3"
    }
  },
  "cells": [
    {
      "cell_type": "markdown",
      "metadata": {
        "id": "view-in-github",
        "colab_type": "text"
      },
      "source": [
        "<a href=\"https://colab.research.google.com/github/gannannavelorange/575/blob/master/src/ib_project.ipynb\" target=\"_parent\"><img src=\"https://colab.research.google.com/assets/colab-badge.svg\" alt=\"Open In Colab\"/></a>"
      ]
    },
    {
      "cell_type": "code",
      "metadata": {
        "id": "AHNsSHgjbN3J",
        "colab_type": "code",
        "outputId": "6cc29525-cfca-4e16-d6ab-2adf217e1012",
        "colab": {
          "base_uri": "https://localhost:8080/",
          "height": 139
        }
      },
      "source": [
        "!git clone https://github.com/gannannavelorange/575"
      ],
      "execution_count": 0,
      "outputs": [
        {
          "output_type": "stream",
          "text": [
            "Cloning into '575'...\n",
            "remote: Enumerating objects: 85, done.\u001b[K\n",
            "remote: Counting objects: 100% (85/85), done.\u001b[K\n",
            "remote: Compressing objects: 100% (85/85), done.\u001b[K\n",
            "remote: Total 467 (delta 34), reused 0 (delta 0), pack-reused 382\u001b[K\n",
            "Receiving objects: 100% (467/467), 1.93 MiB | 4.17 MiB/s, done.\n",
            "Resolving deltas: 100% (172/172), done.\n"
          ],
          "name": "stdout"
        }
      ]
    },
    {
      "cell_type": "code",
      "metadata": {
        "id": "WadNMfbVbO4j",
        "colab_type": "code",
        "outputId": "05127040-8944-431d-f5e9-50e3a4708af2",
        "colab": {
          "base_uri": "https://localhost:8080/",
          "height": 35
        }
      },
      "source": [
        "cd 575/src/data_IB_project"
      ],
      "execution_count": 0,
      "outputs": [
        {
          "output_type": "stream",
          "text": [
            "/content/575/src/data_IB_project\n"
          ],
          "name": "stdout"
        }
      ]
    },
    {
      "cell_type": "code",
      "metadata": {
        "id": "PRhS2k3lRDrU",
        "colab_type": "code",
        "colab": {}
      },
      "source": [
        "import numpy as np\n",
        "import matplotlib.pyplot as plt\n",
        "import math\n",
        "import csv\n",
        "import scipy.stats as ss\n",
        "from scipy.stats import norm\n",
        "from scipy.stats import t"
      ],
      "execution_count": 0,
      "outputs": []
    },
    {
      "cell_type": "code",
      "metadata": {
        "id": "PHhWJjW6TZh5",
        "colab_type": "code",
        "colab": {}
      },
      "source": [
        "'''\n",
        "#get weekly interest rate change factor for coupon bond\n",
        "def getdata(M,N):\n",
        "  with open(M+'.csv') as file:\n",
        "      reader=csv.reader(file)\n",
        "      rows=[row for row in reader]\n",
        "      DD=[row[1] for row in rows[1:293]]\n",
        "      DD=[float(d)/100/2 for d in DD]\n",
        "      D=[row[2] for row in rows[1+N:250+N]]\n",
        "      D=[float(d)/100/2 for d in D]\n",
        "      return DD,D\n",
        "      #print(D)\n",
        "      #print(D[0])\n"
      ],
      "execution_count": 0,
      "outputs": []
    },
    {
      "cell_type": "code",
      "metadata": {
        "id": "ITsqFFUxTW-c",
        "colab_type": "code",
        "colab": {}
      },
      "source": [
        "#get weekly interest rate change factor for coupon bond\n",
        "def getdata(M,N):\n",
        "  with open(M+'.csv') as file:\n",
        "      reader=csv.reader(file)\n",
        "      rows=[row for row in reader]\n",
        "      DD=[row[1] for row in rows[1:62]]\n",
        "      DD=[float(d)/100/2 for d in DD]     #continuous compounded interest rate \n",
        "      D=[row[2] for row in rows[1+N:53+N]]\n",
        "      D=[float(d)/100/2 for d in D]   #risk factor change\n",
        "      return DD,D"
      ],
      "execution_count": 0,
      "outputs": []
    },
    {
      "cell_type": "code",
      "metadata": {
        "id": "1gz5hXUwS6GX",
        "colab_type": "code",
        "outputId": "dd379227-9c12-4650-991d-b1b35f571fd0",
        "colab": {
          "base_uri": "https://localhost:8080/",
          "height": 121
        }
      },
      "source": [
        "'''\n",
        "test1=getdata('bond1',0)\n",
        "kk = t.fit(test1[1])\n",
        "print(kk[0])\n",
        "print(kk[1])\n",
        "print(kk[2])\n",
        "nn=norm.fit(test1[1])\n",
        "print(nn[0])\n",
        "print(nn[1])\n",
        "E=np.mean(test1[1])\n",
        "print(E)"
      ],
      "execution_count": 0,
      "outputs": [
        {
          "output_type": "stream",
          "text": [
            "2.0272787924820648\n",
            "-0.00010279419664695968\n",
            "0.00025628701298503385\n",
            "-8.60576923076923e-05\n",
            "0.000381080620052096\n",
            "-8.60576923076923e-05\n"
          ],
          "name": "stdout"
        }
      ]
    },
    {
      "cell_type": "code",
      "metadata": {
        "id": "8Nl90QJkdgHn",
        "colab_type": "code",
        "colab": {}
      },
      "source": [
        "'''\n",
        "g=getdata('20J28',0)[0]\n",
        "print(g)\n",
        "ks = norm.fit(g)\n",
        "print(ks[0],ks[1])\n"
      ],
      "execution_count": 0,
      "outputs": []
    },
    {
      "cell_type": "code",
      "metadata": {
        "id": "x0m0FY8LR_7i",
        "colab_type": "code",
        "colab": {}
      },
      "source": [
        "\n",
        "# for each coupon, linloss could be calculated as L=-c*np.exp(r*t)(r*5-t*x) week=5 days\n",
        "def linloss_bond(c,r,t,mu,sigma):\n",
        "  exp=-c*np.exp(r*t)*(r*5-t*mu)\n",
        "  #exp=-c*np.exp(r*t)*(r*1-t*mu)\n",
        "  var=(np.exp(r*t)*t)**2*(sigma**2)\n",
        "  return exp,var"
      ],
      "execution_count": 0,
      "outputs": []
    },
    {
      "cell_type": "code",
      "metadata": {
        "id": "OCz0SQ0Mgcxs",
        "colab_type": "code",
        "colab": {}
      },
      "source": [
        "\n",
        "def rolling_bond(day,F,c,r,mu,sigma):\n",
        "  Exp=-F*np.exp(r*(day/182+15))*(r*5-(day/182+15)*mu)\n",
        "  Var=(np.exp(r*(day/182+15))*(day/182+15))**2*(sigma**2)\n",
        "  for i in range(0,16):\n",
        "    t=day/182+i\n",
        "    Exp=Exp+linloss_bond(c,r,t,mu,sigma)[0]\n",
        "    Var=Var+linloss_bond(c,r,t,mu,sigma)[1]\n",
        "  return Exp,Var\n"
      ],
      "execution_count": 0,
      "outputs": []
    },
    {
      "cell_type": "code",
      "metadata": {
        "id": "qS-Xk-tD6a-L",
        "colab_type": "code",
        "colab": {}
      },
      "source": [
        "c1=1.75/100*1000/2\n",
        "c2=6/100*1000/2\n",
        "F1=1000"
      ],
      "execution_count": 0,
      "outputs": []
    },
    {
      "cell_type": "code",
      "metadata": {
        "id": "FK7-EBVZ6WEG",
        "colab_type": "code",
        "colab": {}
      },
      "source": [
        "Bond1_mu=[]\n",
        "Bond1_var=[]\n",
        "Bond2_mu=[]\n",
        "Bond2_var=[]\n",
        "for n in range(0,10):   # estimate 2010/02/14-2020/04/17\n",
        " dd_1=getdata('bond1',n)[0]\n",
        " d_1=getdata('bond1',n)[1]\n",
        " ks_1 = norm.fit(d_1)\n",
        " r1=dd_1[51+n] \n",
        " dd_2=getdata('bond3.625',n)[0]\n",
        " d_2=getdata('bond3.625',n)[1]\n",
        " ks_2 = norm.fit(d_2)\n",
        " r2=dd_2[51+n] \n",
        " week_bond1=rolling_bond(159-7*n,F1,c1,r1,ks_1[0],ks_1[1])   #159=2020/07/15-2020/02/14\n",
        " Bond1_mu.append(week_bond1[0])\n",
        " Bond1_var.append(week_bond1[1])\n",
        " week_bond2=rolling_bond(182-7*n,F1,c2,r2,ks_2[0],ks_2[1])  \n",
        " Bond2_mu.append(week_bond2[0])\n",
        " Bond2_var.append(week_bond2[1])\n",
        " #print(week[0],week[1])\n",
        " #print(week[0])\n"
      ],
      "execution_count": 0,
      "outputs": []
    },
    {
      "cell_type": "code",
      "metadata": {
        "id": "7uWJRqHar6tw",
        "colab_type": "code",
        "outputId": "4cceb4fd-0353-4911-d1cc-8de576886d63",
        "colab": {
          "base_uri": "https://localhost:8080/",
          "height": 107
        }
      },
      "source": [
        "print(Bond1_mu)\n",
        "print(Bond1_var)\n",
        "print(Bond2_mu)\n",
        "print(Bond2_var)"
      ],
      "execution_count": 0,
      "outputs": [
        {
          "output_type": "stream",
          "text": [
            "[1.3168020657115707, 3.289005837349064, 6.371792178381435, 11.77538788766703, -9.248422056742587, -17.586704545032735, 1.294661141562513, 7.12953190755665, 8.49477900869689, 5.478700272366696]\n",
            "[0.0002457889910209126, 0.00024171508720053275, 0.00023729352080909715, 0.0002525068626788285, 0.0008218318228104392, 0.0009150931923024108, 0.0011847284904108561, 0.0011737333097386084, 0.001158816055744269, 0.0011802863708535824]\n",
            "[0.5195273966302107, 2.744067360238744, 7.740156633816925, 14.924643187375043, -12.414439799099899, -23.05119146725257, -0.3601595108727958, 7.499844908180267, 8.863422497565818, 5.077241701871107]\n",
            "[0.0002530083766022384, 0.0002486028992484554, 0.0002481800849339859, 0.00026476457259763073, 0.0008406554152650169, 0.0009338283838282592, 0.0011618050204984934, 0.0011540053541670703, 0.001140687930817159, 0.0011602265035315596]\n"
          ],
          "name": "stdout"
        }
      ]
    },
    {
      "cell_type": "code",
      "metadata": {
        "id": "zV-3PDSNbyEX",
        "colab_type": "code",
        "colab": {}
      },
      "source": [
        "#put option"
      ],
      "execution_count": 0,
      "outputs": []
    },
    {
      "cell_type": "code",
      "metadata": {
        "id": "mzB3eCq0b19j",
        "colab_type": "code",
        "colab": {}
      },
      "source": [
        "def N(x):\n",
        "  cdf=norm.cdf(x,0,1)\n",
        "  return cdf\n",
        "def p(x):\n",
        "  pdf=norm.pdf(x,0,1)\n",
        "  return pdf"
      ],
      "execution_count": 0,
      "outputs": []
    },
    {
      "cell_type": "code",
      "metadata": {
        "id": "-cY_8uEul8UB",
        "colab_type": "code",
        "colab": {}
      },
      "source": [
        "#get weekly stock price log return for option\n",
        "def getdata2(M,N):\n",
        "  with open(M+'.csv') as file:\n",
        "      reader=csv.reader(file)\n",
        "      rows=[row for row in reader]\n",
        "      DD=[row[1] for row in rows[1:62]]\n",
        "      DD=[float(d) for d in DD]\n",
        "      D=[row[2] for row in rows[1+N:53+N]]\n",
        "      D=[float(d) for d in D]\n",
        "      net=[row[3] for row in rows[1+N:53+N]]\n",
        "      net=[float(d) for d in net]\n",
        "      return DD,D,net"
      ],
      "execution_count": 0,
      "outputs": []
    },
    {
      "cell_type": "code",
      "metadata": {
        "id": "2vTT-IsiuqY3",
        "colab_type": "code",
        "colab": {}
      },
      "source": [
        "def getdata3(M,N):\n",
        "  with open(M+'.csv') as file:\n",
        "      reader=csv.reader(file)\n",
        "      rows=[row for row in reader]\n",
        "      DD=[row[1] for row in rows[1:62]]\n",
        "      DD=[float(d) for d in DD]\n",
        "      D=[row[2] for row in rows[1+N:53+N]]\n",
        "      D=[float(d) for d in D]\n",
        "      return DD,D"
      ],
      "execution_count": 0,
      "outputs": []
    },
    {
      "cell_type": "code",
      "metadata": {
        "id": "hR2RMpEKlZ7c",
        "colab_type": "code",
        "outputId": "4faa0990-f22d-4e90-f5a3-cfec11f0a776",
        "colab": {
          "base_uri": "https://localhost:8080/",
          "height": 35
        }
      },
      "source": [
        "'''\n",
        "djx=getdata2('DIA',0)\n",
        "djx1=djx[0]\n",
        "djx2=djx[1]\n",
        "std=np.std(djx2)\n",
        "print(djx1[50])\n"
      ],
      "execution_count": 0,
      "outputs": [
        {
          "output_type": "stream",
          "text": [
            "289.362\n"
          ],
          "name": "stdout"
        }
      ]
    },
    {
      "cell_type": "code",
      "metadata": {
        "id": "J4-NAnM5t29l",
        "colab_type": "code",
        "colab": {}
      },
      "source": [
        "'''\n",
        "v_djx=[9.5,9,11.21,39.96,38.84,64.99,102.26,78.84,83.26,57.34,51.95] \n",
        "v_cat=[6.31,8.19,7.97,4.4,2.34,0.33,0.26,0.4,0.82,2.34,0.61]\n",
        "v_vig=[2.05,2.68,2.25,0.14,0.44,0.29,0.29,0.05,0.03,0.07,0.02]\n",
        "ir=[-0.07,-0.15,-0.28,-0.57,0.04,0.17,-0.22,-0.46,-0.5,-0.36]\n"
      ],
      "execution_count": 0,
      "outputs": []
    },
    {
      "cell_type": "code",
      "metadata": {
        "id": "wRXHRT7_h87d",
        "colab_type": "code",
        "colab": {}
      },
      "source": [
        "'''\n",
        "def d(S,K,r,sigma,t):\n",
        " d1=(np.log(S/K)+(r+sigma**2/2)*t)/(sigma*np.sqrt(t))\n",
        " d2=d1-sigma*np.sqrt(t)\n",
        " return d1,d2"
      ],
      "execution_count": 0,
      "outputs": []
    },
    {
      "cell_type": "code",
      "metadata": {
        "id": "08JpWEtVn4TC",
        "colab_type": "code",
        "colab": {}
      },
      "source": [
        "def deltaput(S,K,r,sigma,t):\n",
        "  d1=(np.log(S/K)+(r+sigma**2/2)*t)/(sigma*np.sqrt(t))\n",
        "  delta_P=N(float(d1))-1\n",
        "  return delta_P\n",
        "def deltacall(S,K,r,sigma,t):\n",
        "  d1=(np.log(S/K)+(r+sigma**2/2)*t)/(sigma*np.sqrt(t))\n",
        "  delta_C=N(float(d1))\n",
        "  return delta_C\n",
        "def rhoput(S,K,r,sigma,t):\n",
        "  d1=(np.log(S/K)+(r+sigma**2/2)*t)/(sigma*np.sqrt(t))\n",
        "  d2=d1-sigma*np.sqrt(t)\n",
        "  rho_P=-K*t*np.exp(-r*t)*N(float(-d2))\n",
        "  return rho_P\n",
        "def rhocall(S,K,r,sigma,t):  \n",
        "  d1=(np.log(S/K)+(r+sigma**2/2)*t)/(sigma*np.sqrt(t))\n",
        "  d2=d1-sigma*np.sqrt(t)\n",
        "  rho_C=K*t*np.exp(-r*t)*N(float(d2))\n",
        "  return rho_C\n",
        "def thetaput(S,K,r,sigma,t):\n",
        "  d1=(np.log(S/K)+(r+sigma**2/2)*t)/(sigma*np.sqrt(t))\n",
        "  d2=d1-sigma*np.sqrt(t)\n",
        "  theta_P=-S*sigma/(2*np.sqrt(t))*np.exp(-float(d1)**2/2)/np.sqrt(2*np.pi)+r*K*np.exp(-r*t)*N(float(-d2))\n",
        "  return theta_P\n",
        "def thetacall(S,K,r,sigma,t):  \n",
        "  d1=(np.log(S/K)+(r+sigma**2/2)*t)/(sigma*np.sqrt(t))\n",
        "  d2=d1-sigma*np.sqrt(t)\n",
        "  theta_C=-S*sigma/(2*np.sqrt(t))*np.exp(-float(d1)**2/2)/np.sqrt(2*np.pi)-r*K*np.exp(-r*t)*N(float(d2))\n",
        "  return theta_C\n",
        "def vega(S,K,r,sigma,t):  \n",
        "  d1=(np.log(S/K)+(r+sigma**2/2)*t)/(sigma*np.sqrt(t))\n",
        "  d2=d1-sigma*np.sqrt(t)\n",
        "  vega=S*np.sqrt(t)*np.exp(-float(d1)**2/2)/np.sqrt(2*np.pi)\n",
        "  return vega\n"
      ],
      "execution_count": 0,
      "outputs": []
    },
    {
      "cell_type": "code",
      "metadata": {
        "id": "2z7gSIohoQLl",
        "colab_type": "code",
        "colab": {}
      },
      "source": [
        "djxmu=[]\n",
        "djxvariance=[]\n",
        "std=[]\n",
        "for i in range(1,10):    #estimate loss on 2020/02/14 02/21 02/28 3/6\n",
        "  djx=getdata2('DIA',i)\n",
        "  ir=getdata2('IR',i)\n",
        "  djx1=djx[0]   #price\n",
        "  djx2=djx[1]    #log return\n",
        "  djx3=djx[2]   #net return of stock\n",
        "  #std=np.std(djx2)\n",
        "  std.append(np.std(djx2))\n",
        "  delta1=deltaput(djx1[51+i],293,ir[i-1],std[i-1],(125-7*i)/250)   #t=(2020/06/18-2020/02/14)/250\n",
        "  theta1=thetaput(djx1[51+i],293,ir[i-1],std[i-1],(125-7*i)/250)\n",
        "  rho1=rhoput(djx1[51+i],293,ir[i-1],std[i-1],(125-7*i)/250)\n",
        "  vega1=vega(djx1[51+i],293,ir[i-1],std[i-1],(125-7*i)/250)\n",
        "  linlo1=theta1*7/250+delta1*djx3[i-1]+rho1*(ir[i]-ir[i-1])+vega1*(std[i]-std[i-1])      #adjust the subscript\n",
        "  #leverage=delta*djx1[51+i-1]/v_djx[i-1]\n",
        "  #djxmu.append(leverage*djx1[51+i]*np.mean(djx2))     #loss:expected mean_option=L*expected mean_stock=L*S_t*mean(log return)\n",
        "  #djxvariance.append(leverage**2*(std**2))       #loss:expected variance_option=L^2*expected variance_stock=L^2*(S_t^2)*(sigma^2)\n",
        "  #print(delta)\n",
        "  #print(leverage)\n",
        "  djxmu.append(norm.fit(linlo1)[0])\n",
        "  djxvariance.append(norm.fit(linlo1)[1]) \n",
        "print(djxmu)\n",
        "print(djxvariance)"
      ],
      "execution_count": 0,
      "outputs": []
    },
    {
      "cell_type": "code",
      "metadata": {
        "id": "mcEZ7ISdl_BD",
        "colab_type": "code",
        "colab": {}
      },
      "source": [
        "def putoption(M):                  #today is 2020/02/14 \n",
        " mu=[]\n",
        " variance=[]\n",
        " std=[]\n",
        " for i in range(0,10):    #estimate loss on 2020/02/14 02/21 02/28 3/6\n",
        "   opt=getdata2(M,i)\n",
        "   ir=getdata3('IR',i)\n",
        "   opt1=opt[0]   #price\n",
        "   opt2=opt[1]    #log return\n",
        "   opt3=opt[2]   #net return of stock\n",
        "   ir1=ir[0]   #10 year bond yield\n",
        "   ir2=ir[1]   #interest rate change\n",
        "   #std=np.std(djx2)\n",
        "   #std.append(np.std(opt2))\n",
        "   delta=deltaput(opt1[51+i],293,ir1[51+i],0.1,(125-7*i)/250)   #t=(2020/06/18-2020/02/14)/250\n",
        "   theta=thetaput(opt1[51+i],293,ir1[51+i],0.1,(125-7*i)/250)\n",
        "   rho=rhoput(opt1[51+i],293,ir1[51+i],0.1,(125-7*i)/250)\n",
        "   vvega=vega(opt1[51+i],293,ir1[51+i],0.1,(125-7*i)/250)\n",
        "   #linloss=theta1*7/250+delta1*djx3[i-1]+rho1*(ir[i]-ir[i-1])+vega1*(std[i]-std[i-1])      #adjust the subscript\n",
        "   #leverage=delta*djx1[51+i-1]/v_djx[i-1]\n",
        "   #djxmu.append(leverage*djx1[51+i]*np.mean(djx2))     #loss:expected mean_option=L*expected mean_stock=L*S_t*mean(log return)\n",
        "   #djxvariance.append(leverage**2*(std**2))       #loss:expected variance_option=L^2*expected variance_stock=L^2*(S_t^2)*(sigma^2)\n",
        "   #print(delta)\n",
        "   #print(leverage)\n",
        "   mu.append(-(theta*7/250+delta*np.mean(opt3)+rho*np.mean(ir2)+vvega*(0.1-0.1)))\n",
        "   variance.append(delta**2*(np.std(opt2)**2)+(rho**2)*(np.std(ir2)**2)+(vvega**2)*((0.1-0.1)**2))\n",
        "   #djxmu.append(norm.fit(linlo1)[0])\n",
        "   #djxvariance.append(norm.fit(linlo1)[1]) \n",
        " return mu,variance\n",
        " "
      ],
      "execution_count": 0,
      "outputs": []
    },
    {
      "cell_type": "code",
      "metadata": {
        "id": "odQwbAQtxOJp",
        "colab_type": "code",
        "colab": {}
      },
      "source": [
        "def calloption(M):                  #today is 2020/02/14 \n",
        " mu=[]\n",
        " variance=[]\n",
        " std=[]\n",
        " for i in range(0,10):    #estimate loss on 2020/02/14 02/21 02/28 3/6\n",
        "   opt=getdata2(M,i)\n",
        "   ir=getdata3('IR',i)\n",
        "   opt1=opt[0]   #price\n",
        "   opt2=opt[1]    #log return\n",
        "   opt3=opt[2]   #net return of stock\n",
        "   ir1=ir[0]   #10 year bond yield\n",
        "   ir2=ir[1]   #interest rate change\n",
        "   delta=deltacall(opt1[51+i],293,ir1[51+i],0.1,(125-7*i)/250)   #t=(2020/06/18-2020/02/14)/250\n",
        "   theta=thetacall(opt1[51+i],293,ir1[51+i],0.1,(125-7*i)/250)\n",
        "   rho=rhocall(opt1[51+i],293,ir1[51+i],0.1,(125-7*i)/250)\n",
        "   vvega=vega(opt1[51+i],293,ir1[51+i],0.1,(125-7*i)/250)\n",
        "   mu.append(theta*7/250+delta*np.mean(opt3)+rho*np.mean(ir2)+vvega*(0.1-0.1))\n",
        "   variance.append(delta**2*(np.std(opt2)**2)+(rho**2)*(np.std(ir2)**2)+(vvega**2)*((0.1-0.1)**2))\n",
        " return mu,variance\n",
        " "
      ],
      "execution_count": 0,
      "outputs": []
    },
    {
      "cell_type": "code",
      "metadata": {
        "id": "_YXn7pwysG38",
        "colab_type": "code",
        "outputId": "62fe778d-bc03-41e6-878d-207707ab0a95",
        "colab": {
          "base_uri": "https://localhost:8080/",
          "height": 755
        }
      },
      "source": [
        "djx=putoption('DIA')\n",
        "print(djx[0])\n",
        "print(djx[1])\n",
        "djxVaR1=VaRnorm(0.9,djx[0],np.sqrt(djx[1]))\n",
        "djxVaR2=VaRnorm(0.95,djx[0],np.sqrt(djx[1]))\n",
        "djxVaR3=VaRnorm(0.99,djx[0],np.sqrt(djx[1]))\n",
        "print(djxVaR1[0])\n",
        "print(djxVaR1[1])\n",
        "x=np.linspace(1,10,10)\n",
        "plt.plot(x,djxVaR1[0],'orange',label=\"VaR_0.9\")\n",
        "plt.plot(x,djxVaR1[1],'blue',label=\"ES_0.9\")\n",
        "plt.plot(x,djxVaR2[0],'yellow',label=\"VaR_0.95\")\n",
        "plt.plot(x,djxVaR2[1],'green',label=\"ES_0.95\")\n",
        "plt.plot(x,djxVaR3[0],'red',label=\"VaR_0.99\")\n",
        "plt.plot(x,djxVaR3[1],'greenblue',label=\"ES_0.99\")\n",
        "plt.legend()\n",
        "plt.show()"
      ],
      "execution_count": 71,
      "outputs": [
        {
          "output_type": "stream",
          "text": [
            "[-0.6350160092307895, -0.38492436226997007, -0.4611143423797177, 2.2811268937900486, -2.0396787908228724, -3.1181870671073524, -0.2764035182417477, 1.3383346280735506, 2.3254246621243433, 1.403300666492021]\n",
            "[71.23288432529776, 111.06983791786263, 137.70032728148772, 182.75520870180873, 190.31504773819034, 151.35056537010323, 198.65312867164099, 198.82330859323633, 163.1860480487898, 122.52465678959774]\n",
            "[10.18122487 13.12130606 14.57735282 19.6060361  15.63992995 12.64805206\n",
            " 17.78634312 19.4088165  18.69651474 15.58890469]\n",
            "[14.1769688  18.11078797 20.13287479 26.00621723 22.17114445 18.47242811\n",
            " 24.45909671 26.08442766 24.74433528 20.82936132]\n"
          ],
          "name": "stdout"
        },
        {
          "output_type": "error",
          "ename": "ValueError",
          "evalue": "ignored",
          "traceback": [
            "\u001b[0;31m---------------------------------------------------------------------------\u001b[0m",
            "\u001b[0;31mValueError\u001b[0m                                Traceback (most recent call last)",
            "\u001b[0;32m<ipython-input-71-0924a0a294ac>\u001b[0m in \u001b[0;36m<module>\u001b[0;34m()\u001b[0m\n\u001b[1;32m     13\u001b[0m \u001b[0mplt\u001b[0m\u001b[0;34m.\u001b[0m\u001b[0mplot\u001b[0m\u001b[0;34m(\u001b[0m\u001b[0mx\u001b[0m\u001b[0;34m,\u001b[0m\u001b[0mdjxVaR2\u001b[0m\u001b[0;34m[\u001b[0m\u001b[0;36m1\u001b[0m\u001b[0;34m]\u001b[0m\u001b[0;34m,\u001b[0m\u001b[0;34m'green'\u001b[0m\u001b[0;34m,\u001b[0m\u001b[0mlabel\u001b[0m\u001b[0;34m=\u001b[0m\u001b[0;34m\"ES_0.95\"\u001b[0m\u001b[0;34m)\u001b[0m\u001b[0;34m\u001b[0m\u001b[0;34m\u001b[0m\u001b[0m\n\u001b[1;32m     14\u001b[0m \u001b[0mplt\u001b[0m\u001b[0;34m.\u001b[0m\u001b[0mplot\u001b[0m\u001b[0;34m(\u001b[0m\u001b[0mx\u001b[0m\u001b[0;34m,\u001b[0m\u001b[0mdjxVaR3\u001b[0m\u001b[0;34m[\u001b[0m\u001b[0;36m0\u001b[0m\u001b[0;34m]\u001b[0m\u001b[0;34m,\u001b[0m\u001b[0;34m'red'\u001b[0m\u001b[0;34m,\u001b[0m\u001b[0mlabel\u001b[0m\u001b[0;34m=\u001b[0m\u001b[0;34m\"VaR_0.99\"\u001b[0m\u001b[0;34m)\u001b[0m\u001b[0;34m\u001b[0m\u001b[0;34m\u001b[0m\u001b[0m\n\u001b[0;32m---> 15\u001b[0;31m \u001b[0mplt\u001b[0m\u001b[0;34m.\u001b[0m\u001b[0mplot\u001b[0m\u001b[0;34m(\u001b[0m\u001b[0mx\u001b[0m\u001b[0;34m,\u001b[0m\u001b[0mdjxVaR3\u001b[0m\u001b[0;34m[\u001b[0m\u001b[0;36m1\u001b[0m\u001b[0;34m]\u001b[0m\u001b[0;34m,\u001b[0m\u001b[0;34m'greenblue'\u001b[0m\u001b[0;34m,\u001b[0m\u001b[0mlabel\u001b[0m\u001b[0;34m=\u001b[0m\u001b[0;34m\"ES_0.99\"\u001b[0m\u001b[0;34m)\u001b[0m\u001b[0;34m\u001b[0m\u001b[0;34m\u001b[0m\u001b[0m\n\u001b[0m\u001b[1;32m     16\u001b[0m \u001b[0mplt\u001b[0m\u001b[0;34m.\u001b[0m\u001b[0mlegend\u001b[0m\u001b[0;34m(\u001b[0m\u001b[0;34m)\u001b[0m\u001b[0;34m\u001b[0m\u001b[0;34m\u001b[0m\u001b[0m\n\u001b[1;32m     17\u001b[0m \u001b[0mplt\u001b[0m\u001b[0;34m.\u001b[0m\u001b[0mshow\u001b[0m\u001b[0;34m(\u001b[0m\u001b[0;34m)\u001b[0m\u001b[0;34m\u001b[0m\u001b[0;34m\u001b[0m\u001b[0m\n",
            "\u001b[0;32m/usr/local/lib/python3.6/dist-packages/matplotlib/pyplot.py\u001b[0m in \u001b[0;36mplot\u001b[0;34m(scalex, scaley, data, *args, **kwargs)\u001b[0m\n\u001b[1;32m   2761\u001b[0m     return gca().plot(\n\u001b[1;32m   2762\u001b[0m         *args, scalex=scalex, scaley=scaley, **({\"data\": data} if data\n\u001b[0;32m-> 2763\u001b[0;31m         is not None else {}), **kwargs)\n\u001b[0m\u001b[1;32m   2764\u001b[0m \u001b[0;34m\u001b[0m\u001b[0m\n\u001b[1;32m   2765\u001b[0m \u001b[0;34m\u001b[0m\u001b[0m\n",
            "\u001b[0;32m/usr/local/lib/python3.6/dist-packages/matplotlib/axes/_axes.py\u001b[0m in \u001b[0;36mplot\u001b[0;34m(self, scalex, scaley, data, *args, **kwargs)\u001b[0m\n\u001b[1;32m   1644\u001b[0m         \"\"\"\n\u001b[1;32m   1645\u001b[0m         \u001b[0mkwargs\u001b[0m \u001b[0;34m=\u001b[0m \u001b[0mcbook\u001b[0m\u001b[0;34m.\u001b[0m\u001b[0mnormalize_kwargs\u001b[0m\u001b[0;34m(\u001b[0m\u001b[0mkwargs\u001b[0m\u001b[0;34m,\u001b[0m \u001b[0mmlines\u001b[0m\u001b[0;34m.\u001b[0m\u001b[0mLine2D\u001b[0m\u001b[0;34m)\u001b[0m\u001b[0;34m\u001b[0m\u001b[0;34m\u001b[0m\u001b[0m\n\u001b[0;32m-> 1646\u001b[0;31m         \u001b[0mlines\u001b[0m \u001b[0;34m=\u001b[0m \u001b[0;34m[\u001b[0m\u001b[0;34m*\u001b[0m\u001b[0mself\u001b[0m\u001b[0;34m.\u001b[0m\u001b[0m_get_lines\u001b[0m\u001b[0;34m(\u001b[0m\u001b[0;34m*\u001b[0m\u001b[0margs\u001b[0m\u001b[0;34m,\u001b[0m \u001b[0mdata\u001b[0m\u001b[0;34m=\u001b[0m\u001b[0mdata\u001b[0m\u001b[0;34m,\u001b[0m \u001b[0;34m**\u001b[0m\u001b[0mkwargs\u001b[0m\u001b[0;34m)\u001b[0m\u001b[0;34m]\u001b[0m\u001b[0;34m\u001b[0m\u001b[0;34m\u001b[0m\u001b[0m\n\u001b[0m\u001b[1;32m   1647\u001b[0m         \u001b[0;32mfor\u001b[0m \u001b[0mline\u001b[0m \u001b[0;32min\u001b[0m \u001b[0mlines\u001b[0m\u001b[0;34m:\u001b[0m\u001b[0;34m\u001b[0m\u001b[0;34m\u001b[0m\u001b[0m\n\u001b[1;32m   1648\u001b[0m             \u001b[0mself\u001b[0m\u001b[0;34m.\u001b[0m\u001b[0madd_line\u001b[0m\u001b[0;34m(\u001b[0m\u001b[0mline\u001b[0m\u001b[0;34m)\u001b[0m\u001b[0;34m\u001b[0m\u001b[0;34m\u001b[0m\u001b[0m\n",
            "\u001b[0;32m/usr/local/lib/python3.6/dist-packages/matplotlib/axes/_base.py\u001b[0m in \u001b[0;36m__call__\u001b[0;34m(self, *args, **kwargs)\u001b[0m\n\u001b[1;32m    214\u001b[0m                 \u001b[0mthis\u001b[0m \u001b[0;34m+=\u001b[0m \u001b[0margs\u001b[0m\u001b[0;34m[\u001b[0m\u001b[0;36m0\u001b[0m\u001b[0;34m]\u001b[0m\u001b[0;34m,\u001b[0m\u001b[0;34m\u001b[0m\u001b[0;34m\u001b[0m\u001b[0m\n\u001b[1;32m    215\u001b[0m                 \u001b[0margs\u001b[0m \u001b[0;34m=\u001b[0m \u001b[0margs\u001b[0m\u001b[0;34m[\u001b[0m\u001b[0;36m1\u001b[0m\u001b[0;34m:\u001b[0m\u001b[0;34m]\u001b[0m\u001b[0;34m\u001b[0m\u001b[0;34m\u001b[0m\u001b[0m\n\u001b[0;32m--> 216\u001b[0;31m             \u001b[0;32myield\u001b[0m \u001b[0;32mfrom\u001b[0m \u001b[0mself\u001b[0m\u001b[0;34m.\u001b[0m\u001b[0m_plot_args\u001b[0m\u001b[0;34m(\u001b[0m\u001b[0mthis\u001b[0m\u001b[0;34m,\u001b[0m \u001b[0mkwargs\u001b[0m\u001b[0;34m)\u001b[0m\u001b[0;34m\u001b[0m\u001b[0;34m\u001b[0m\u001b[0m\n\u001b[0m\u001b[1;32m    217\u001b[0m \u001b[0;34m\u001b[0m\u001b[0m\n\u001b[1;32m    218\u001b[0m     \u001b[0;32mdef\u001b[0m \u001b[0mget_next_color\u001b[0m\u001b[0;34m(\u001b[0m\u001b[0mself\u001b[0m\u001b[0;34m)\u001b[0m\u001b[0;34m:\u001b[0m\u001b[0;34m\u001b[0m\u001b[0;34m\u001b[0m\u001b[0m\n",
            "\u001b[0;32m/usr/local/lib/python3.6/dist-packages/matplotlib/axes/_base.py\u001b[0m in \u001b[0;36m_plot_args\u001b[0;34m(self, tup, kwargs)\u001b[0m\n\u001b[1;32m    310\u001b[0m     \u001b[0;32mdef\u001b[0m \u001b[0m_plot_args\u001b[0m\u001b[0;34m(\u001b[0m\u001b[0mself\u001b[0m\u001b[0;34m,\u001b[0m \u001b[0mtup\u001b[0m\u001b[0;34m,\u001b[0m \u001b[0mkwargs\u001b[0m\u001b[0;34m)\u001b[0m\u001b[0;34m:\u001b[0m\u001b[0;34m\u001b[0m\u001b[0;34m\u001b[0m\u001b[0m\n\u001b[1;32m    311\u001b[0m         \u001b[0;32mif\u001b[0m \u001b[0mlen\u001b[0m\u001b[0;34m(\u001b[0m\u001b[0mtup\u001b[0m\u001b[0;34m)\u001b[0m \u001b[0;34m>\u001b[0m \u001b[0;36m1\u001b[0m \u001b[0;32mand\u001b[0m \u001b[0misinstance\u001b[0m\u001b[0;34m(\u001b[0m\u001b[0mtup\u001b[0m\u001b[0;34m[\u001b[0m\u001b[0;34m-\u001b[0m\u001b[0;36m1\u001b[0m\u001b[0;34m]\u001b[0m\u001b[0;34m,\u001b[0m \u001b[0mstr\u001b[0m\u001b[0;34m)\u001b[0m\u001b[0;34m:\u001b[0m\u001b[0;34m\u001b[0m\u001b[0;34m\u001b[0m\u001b[0m\n\u001b[0;32m--> 312\u001b[0;31m             \u001b[0mlinestyle\u001b[0m\u001b[0;34m,\u001b[0m \u001b[0mmarker\u001b[0m\u001b[0;34m,\u001b[0m \u001b[0mcolor\u001b[0m \u001b[0;34m=\u001b[0m \u001b[0m_process_plot_format\u001b[0m\u001b[0;34m(\u001b[0m\u001b[0mtup\u001b[0m\u001b[0;34m[\u001b[0m\u001b[0;34m-\u001b[0m\u001b[0;36m1\u001b[0m\u001b[0;34m]\u001b[0m\u001b[0;34m)\u001b[0m\u001b[0;34m\u001b[0m\u001b[0;34m\u001b[0m\u001b[0m\n\u001b[0m\u001b[1;32m    313\u001b[0m             \u001b[0mtup\u001b[0m \u001b[0;34m=\u001b[0m \u001b[0mtup\u001b[0m\u001b[0;34m[\u001b[0m\u001b[0;34m:\u001b[0m\u001b[0;34m-\u001b[0m\u001b[0;36m1\u001b[0m\u001b[0;34m]\u001b[0m\u001b[0;34m\u001b[0m\u001b[0;34m\u001b[0m\u001b[0m\n\u001b[1;32m    314\u001b[0m         \u001b[0;32melif\u001b[0m \u001b[0mlen\u001b[0m\u001b[0;34m(\u001b[0m\u001b[0mtup\u001b[0m\u001b[0;34m)\u001b[0m \u001b[0;34m==\u001b[0m \u001b[0;36m3\u001b[0m\u001b[0;34m:\u001b[0m\u001b[0;34m\u001b[0m\u001b[0;34m\u001b[0m\u001b[0m\n",
            "\u001b[0;32m/usr/local/lib/python3.6/dist-packages/matplotlib/axes/_base.py\u001b[0m in \u001b[0;36m_process_plot_format\u001b[0;34m(fmt)\u001b[0m\n\u001b[1;32m     94\u001b[0m             \u001b[0;32mif\u001b[0m \u001b[0mcolor\u001b[0m \u001b[0;32mis\u001b[0m \u001b[0;32mnot\u001b[0m \u001b[0;32mNone\u001b[0m\u001b[0;34m:\u001b[0m\u001b[0;34m\u001b[0m\u001b[0;34m\u001b[0m\u001b[0m\n\u001b[1;32m     95\u001b[0m                 raise ValueError(\n\u001b[0;32m---> 96\u001b[0;31m                     'Illegal format string \"%s\"; two color symbols' % fmt)\n\u001b[0m\u001b[1;32m     97\u001b[0m             \u001b[0mcolor\u001b[0m \u001b[0;34m=\u001b[0m \u001b[0mc\u001b[0m\u001b[0;34m\u001b[0m\u001b[0;34m\u001b[0m\u001b[0m\n\u001b[1;32m     98\u001b[0m             \u001b[0mi\u001b[0m \u001b[0;34m+=\u001b[0m \u001b[0;36m1\u001b[0m\u001b[0;34m\u001b[0m\u001b[0;34m\u001b[0m\u001b[0m\n",
            "\u001b[0;31mValueError\u001b[0m: Illegal format string \"greenblue\"; two color symbols"
          ]
        },
        {
          "output_type": "display_data",
          "data": {
            "image/png": "[encoded data removed]",
            "text/plain": [
              "<Figure size 432x288 with 1 Axes>"
            ]
          },
          "metadata": {
            "tags": [],
            "needs_background": "light"
          }
        }
      ]
    },
    {
      "cell_type": "code",
      "metadata": {
        "id": "knVy6kw_xDzJ",
        "colab_type": "code",
        "outputId": "7df35031-af1f-40d7-f51f-667aff6afd81",
        "colab": {
          "base_uri": "https://localhost:8080/",
          "height": 72
        }
      },
      "source": [
        "cat=calloption('CAT')\n",
        "print(cat[0])\n",
        "print(cat[1])"
      ],
      "execution_count": 0,
      "outputs": [
        {
          "output_type": "stream",
          "text": [
            "[-5.093400674342e-29, -8.493235541646014e-34, -1.5671983622317926e-49, -7.519924805432236e-68, -8.883134966039866e-66, -2.3474441053581906e-70, -3.3724806478100643e-81, -7.178759452465314e-86, -6.287741076826053e-80, -2.6438246239130897e-91]\n",
            "[5.0538326845394355e-57, 1.2199695082344401e-66, 2.6105272411459354e-98, 6.683304943210609e-135, 7.153724429465817e-131, 3.5934572241610448e-140, 9.029612983462612e-162, 4.044687844216846e-171, 2.8615044388741587e-159, 2.68544176087035e-182]\n"
          ],
          "name": "stdout"
        }
      ]
    },
    {
      "cell_type": "code",
      "metadata": {
        "id": "f6JL43dkyL0M",
        "colab_type": "code",
        "outputId": "e8ca39c4-e509-436f-c3ce-85910b2e9801",
        "colab": {
          "base_uri": "https://localhost:8080/",
          "height": 72
        }
      },
      "source": [
        "vig=calloption('VIG')\n",
        "print(vig[0])\n",
        "print(vig[1])"
      ],
      "execution_count": 0,
      "outputs": [
        {
          "output_type": "stream",
          "text": [
            "[-1.1889788974079972e-32, -3.5057834721175447e-38, -5.316959982113881e-57, -2.656800369642222e-71, -1.7791260941324516e-56, -5.858472399519143e-73, -3.751077617613279e-85, -5.100743888063845e-106, -1.1478104338004452e-97, -4.541322525151043e-94]\n",
            "[3.0507583916301916e-64, 2.2963915206412427e-75, 3.07997557542051e-113, 9.510333371227893e-142, 4.19255315491006e-112, 2.478834638184193e-145, 1.239875844659196e-169, 1.7655291292016402e-211, 8.283849560457445e-195, 9.058554415254019e-188]\n"
          ],
          "name": "stdout"
        }
      ]
    },
    {
      "cell_type": "code",
      "metadata": {
        "id": "Nvdl89pqsmwt",
        "colab_type": "code",
        "colab": {}
      },
      "source": [
        "def ttt(M):                  #today is 2020/02/14 \n",
        " opt=getdata2(M,0)\n",
        " return opt\n"
      ],
      "execution_count": 0,
      "outputs": []
    },
    {
      "cell_type": "code",
      "metadata": {
        "id": "oxgx3v5Msw1g",
        "colab_type": "code",
        "colab": {}
      },
      "source": [
        "tttt=ttt('DIA')"
      ],
      "execution_count": 0,
      "outputs": []
    },
    {
      "cell_type": "code",
      "metadata": {
        "id": "IUf0MhWR5CMC",
        "colab_type": "code",
        "outputId": "92cd7aa5-cd14-4ff2-c8d6-e49adc9d20d2",
        "colab": {
          "base_uri": "https://localhost:8080/",
          "height": 72
        }
      },
      "source": [
        "catmu=[]\n",
        "catvariance=[]\n",
        "for i in range(1,10):    #estimate loss on 2020/02/14 02/21 02/28 3/6\n",
        "  cat=getdata2('CAT',i)\n",
        "  cat1=cat[0]   #price\n",
        "  cat2=cat[1]    #log return\n",
        "  cat3=cat[2]   #net return of stock\n",
        "  sigmacat=np.std(cat2)\n",
        "  delta=deltacall(cat1[51+i],293,ir[i-1],sigmacat,(125-7*i)/250)   #t=(2020/06/18-2020/02/14)/250\n",
        "  leverage=delta*cat1[51+i-1]/v_cat[i-1]\n",
        "  catmu.append(leverage*cat1[51+i]*np.mean(cat2))     #loss:expected mean_option=L*expected mean_stock=L*S_t*mean(log return)\n",
        "  catvariance.append(leverage**2*(sigmacat**2))       #loss:expected variance_option=L^2*expected variance_stock=L^2*(S_t^2)*(sigma^2)\n",
        "  #print(delta)\n",
        "  #print(leverage)\n",
        "print(catmu)\n",
        "print(catvariance)"
      ],
      "execution_count": 0,
      "outputs": [
        {
          "output_type": "stream",
          "text": [
            "[3.5873863551852507e-243, -5.648257656850643e-304, -0.0, -0.0, -0.0, -2.4163856641719906e-271, -6.606291741675781e-305, -3.554086660299118e-300, -0.0]\n",
            "[0.0, 0.0, 0.0, 0.0, 0.0, 0.0, 0.0, 0.0, 0.0]\n"
          ],
          "name": "stdout"
        }
      ]
    },
    {
      "cell_type": "code",
      "metadata": {
        "id": "pn8x2HYAPI6y",
        "colab_type": "code",
        "colab": {}
      },
      "source": [
        ""
      ],
      "execution_count": 0,
      "outputs": []
    },
    {
      "cell_type": "code",
      "metadata": {
        "id": "eL8Xplz0PJSg",
        "colab_type": "code",
        "colab": {}
      },
      "source": [
        "#using WEEKLY log return\n",
        "mu_m=np.zeros(15)\n",
        "names_2=['CAT','DIA','HD','MSFT','NKE','NVDA','PG','TM','VIG','VOO','WMT','GOOG','CHEF','SPB','ORCL']\n",
        "def getData_m(n=None):\n",
        "    Is=[i for i in range(15)]\n",
        "    Rows=[]\n",
        "    for name,i in zip(names_2,Is):\n",
        "        with open(name+'.csv') as file:\n",
        "            reader=csv.reader(file)\n",
        "            rows=[row[2] for row in reader]\n",
        "        mu_m[i]=np.mean([float(row) for row in rows[1+N:53+N]])\n",
        "        Rows.append([float(row) for row in rows[1+N:53+N]])\n",
        "    Omega_m=np.cov(np.array(Rows))\n",
        "    return mu_m,Omega_m"
      ],
      "execution_count": 0,
      "outputs": []
    },
    {
      "cell_type": "code",
      "metadata": {
        "id": "t84X6rmePOSw",
        "colab_type": "code",
        "colab": {}
      },
      "source": [
        "#linearized loss mean&variance\n",
        "def lin_loss(Vt,Wt,mu,omega):\n",
        "  exp=-Vt*(np.dot(Wt,mu))\n",
        "  var=(Vt**2)*(np.dot(np.dot(Wt,omega),Wt))\n",
        "  return exp,var"
      ],
      "execution_count": 0,
      "outputs": []
    },
    {
      "cell_type": "code",
      "metadata": {
        "id": "_SFuL4F8-GV7",
        "colab_type": "code",
        "colab": {}
      },
      "source": [
        "'''\n",
        "#rolling window for linearized loss using WEEKLY log return \n",
        "for M in range(10):\n",
        "  data3_m= getData_m(M+1)\n",
        "  mu3_m=data3_m[0]\n",
        "  omega3_m=data3_m[1]\n",
        "  vt=PORT_VAL[M]\n",
        "  a3_m=lin_loss(vt,wt,mu3_m,omega3_m)\n",
        "  #print(a3_m[0])\n",
        "  #print(a3_m[1])\n",
        "  x = np.linspace (a3_m[0]-4*np.sqrt(a3_m[1]), a3_m[0]+4*np.sqrt(a3_m[1]))\n",
        "  y = normfun(x, a3_m[0], np.sqrt(a3_m[1]))\n",
        "  plt.plot(x,y)\n",
        "  plt.title('PDF of linearized loss distribution using four year rolling window')"
      ],
      "execution_count": 0,
      "outputs": []
    },
    {
      "cell_type": "code",
      "metadata": {
        "id": "DeSCmteWPcjH",
        "colab_type": "code",
        "colab": {}
      },
      "source": [
        "#linearized loss using monthly log return\n",
        "mu_m=np.array(getData_m(49)[0])    #first four year monthly log return\n",
        "omega_m=np.array(getData_m(49)[1])\n",
        "#print(omega)\n",
        "vt=193.664                           #20151231 portfolio value\n",
        "wt=np.ones(15)*1/15\n",
        "b=lin_loss(vt,wt,mu_m,omega_m)\n",
        "exp_m=b[0]\n",
        "var_m=b[1]\n",
        "print(exp_m)\n",
        "print(var_m)"
      ],
      "execution_count": 0,
      "outputs": []
    },
    {
      "cell_type": "code",
      "metadata": {
        "id": "FO-w_-fzP6Jy",
        "colab_type": "code",
        "colab": {}
      },
      "source": [
        "#VaR\n",
        "def VaRnorm(alpha,mu,sigma):\n",
        "  VaR=mu+sigma*norm.ppf(alpha)\n",
        "  ES=mu+sigma*norm.pdf(norm.ppf(alpha))/(1-alpha)\n",
        "  return VaR,ES"
      ],
      "execution_count": 0,
      "outputs": []
    },
    {
      "cell_type": "code",
      "metadata": {
        "id": "p0RSPM7tVuJm",
        "colab_type": "code",
        "colab": {}
      },
      "source": [
        "def VaRt(alpha,mu,sigma,v):\n",
        "  VaR=mu+sigma*t.ppf(alpha)\n",
        "  ES=mu+sigma*t.pdf(t.ppf(alpha))/(1-alpha)*(v+(t.ppf(alpha))**2)/(v-1)\n",
        "  return VaR,ES"
      ],
      "execution_count": 0,
      "outputs": []
    },
    {
      "cell_type": "code",
      "metadata": {
        "id": "3InPrf7qRYPP",
        "colab_type": "code",
        "outputId": "352d0261-845f-4bc9-e136-89cec8a7cc6d",
        "colab": {
          "base_uri": "https://localhost:8080/",
          "height": 35
        }
      },
      "source": [
        "\n",
        "a=norm.pdf(0.5)\n",
        "b=p(0.5)\n",
        "print(b)"
      ],
      "execution_count": 0,
      "outputs": [
        {
          "output_type": "stream",
          "text": [
            "0.3520653267642995\n"
          ],
          "name": "stdout"
        }
      ]
    },
    {
      "cell_type": "code",
      "metadata": {
        "id": "fvLeT9Kf_dxM",
        "colab_type": "code",
        "colab": {}
      },
      "source": [
        "norm.fit()"
      ],
      "execution_count": 0,
      "outputs": []
    }
  ]
}