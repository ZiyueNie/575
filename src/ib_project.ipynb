{
  "nbformat": 4,
  "nbformat_minor": 0,
  "metadata": {
    "colab": {
      "name": "ib project.ipynb",
      "provenance": [],
      "authorship_tag": "ABX9TyPvxlFvREs3k9xhxdlcNMjd",
      "include_colab_link": true
    },
    "kernelspec": {
      "name": "python3",
      "display_name": "Python 3"
    }
  },
  "cells": [
    {
      "cell_type": "markdown",
      "metadata": {
        "id": "view-in-github",
        "colab_type": "text"
      },
      "source": [
        "<a href=\"https://colab.research.google.com/github/gannannavelorange/575/blob/master/src/ib_project.ipynb\" target=\"_parent\"><img src=\"https://colab.research.google.com/assets/colab-badge.svg\" alt=\"Open In Colab\"/></a>"
      ]
    },
    {
      "cell_type": "code",
      "metadata": {
        "id": "AHNsSHgjbN3J",
        "colab_type": "code",
        "colab": {
          "base_uri": "https://localhost:8080/",
          "height": 139
        },
        "outputId": "c1d3c506-9bcb-4b1b-ef28-8eca4123a36e"
      },
      "source": [
        "!git clone https://github.com/gannannavelorange/575"
      ],
      "execution_count": 118,
      "outputs": [
        {
          "output_type": "stream",
          "text": [
            "Cloning into '575'...\n",
            "remote: Enumerating objects: 5, done.\u001b[K\n",
            "remote: Counting objects:  20% (1/5)\u001b[K\rremote: Counting objects:  40% (2/5)\u001b[K\rremote: Counting objects:  60% (3/5)\u001b[K\rremote: Counting objects:  80% (4/5)\u001b[K\rremote: Counting objects: 100% (5/5)\u001b[K\rremote: Counting objects: 100% (5/5), done.\u001b[K\n",
            "remote: Compressing objects:  20% (1/5)\u001b[K\rremote: Compressing objects:  40% (2/5)\u001b[K\rremote: Compressing objects:  60% (3/5)\u001b[K\rremote: Compressing objects:  80% (4/5)\u001b[K\rremote: Compressing objects: 100% (5/5)\u001b[K\rremote: Compressing objects: 100% (5/5), done.\u001b[K\n",
            "Receiving objects:   0% (1/387)   \rReceiving objects:   1% (4/387)   \rReceiving objects:   2% (8/387)   \rReceiving objects:   3% (12/387)   \rReceiving objects:   4% (16/387)   \rReceiving objects:   5% (20/387)   \rReceiving objects:   6% (24/387)   \rReceiving objects:   7% (28/387)   \rReceiving objects:   8% (31/387)   \rReceiving objects:   9% (35/387)   \rReceiving objects:  10% (39/387)   \rReceiving objects:  11% (43/387)   \rReceiving objects:  12% (47/387)   \rReceiving objects:  13% (51/387)   \rReceiving objects:  14% (55/387)   \rReceiving objects:  15% (59/387)   \rReceiving objects:  16% (62/387)   \rReceiving objects:  17% (66/387)   \rReceiving objects:  18% (70/387)   \rReceiving objects:  19% (74/387)   \rReceiving objects:  20% (78/387)   \rReceiving objects:  21% (82/387)   \rReceiving objects:  22% (86/387)   \rReceiving objects:  23% (90/387)   \rReceiving objects:  24% (93/387)   \rReceiving objects:  25% (97/387)   \rReceiving objects:  26% (101/387)   \rReceiving objects:  27% (105/387)   \rReceiving objects:  28% (109/387)   \rReceiving objects:  29% (113/387)   \rReceiving objects:  30% (117/387)   \rReceiving objects:  31% (120/387)   \rReceiving objects:  32% (124/387)   \rReceiving objects:  33% (128/387)   \rReceiving objects:  34% (132/387)   \rReceiving objects:  35% (136/387)   \rReceiving objects:  36% (140/387)   \rReceiving objects:  37% (144/387)   \rReceiving objects:  38% (148/387)   \rReceiving objects:  39% (151/387)   \rReceiving objects:  40% (155/387)   \rReceiving objects:  41% (159/387)   \rReceiving objects:  42% (163/387)   \rReceiving objects:  43% (167/387)   \rReceiving objects:  44% (171/387)   \rReceiving objects:  45% (175/387)   \rReceiving objects:  46% (179/387)   \rReceiving objects:  47% (182/387)   \rReceiving objects:  48% (186/387)   \rReceiving objects:  49% (190/387)   \rReceiving objects:  50% (194/387)   \rReceiving objects:  51% (198/387)   \rReceiving objects:  52% (202/387)   \rReceiving objects:  53% (206/387)   \rReceiving objects:  54% (209/387)   \rReceiving objects:  55% (213/387)   \rReceiving objects:  56% (217/387)   \rReceiving objects:  57% (221/387)   \rReceiving objects:  58% (225/387)   \rReceiving objects:  59% (229/387)   \rReceiving objects:  60% (233/387)   \rReceiving objects:  61% (237/387)   \rReceiving objects:  62% (240/387)   \rReceiving objects:  63% (244/387)   \rReceiving objects:  64% (248/387)   \rReceiving objects:  65% (252/387)   \rReceiving objects:  66% (256/387)   \rReceiving objects:  67% (260/387)   \rReceiving objects:  68% (264/387)   \rReceiving objects:  69% (268/387)   \rReceiving objects:  70% (271/387)   \rReceiving objects:  71% (275/387)   \rReceiving objects:  72% (279/387)   \rReceiving objects:  73% (283/387)   \rReceiving objects:  74% (287/387)   \rReceiving objects:  75% (291/387)   \rReceiving objects:  76% (295/387)   \rReceiving objects:  77% (298/387)   \rReceiving objects:  78% (302/387)   \rReceiving objects:  79% (306/387)   \rReceiving objects:  80% (310/387)   \rReceiving objects:  81% (314/387)   \rReceiving objects:  82% (318/387)   \rReceiving objects:  83% (322/387)   \rReceiving objects:  84% (326/387)   \rReceiving objects:  85% (329/387)   \rReceiving objects:  86% (333/387)   \rReceiving objects:  87% (337/387)   \rReceiving objects:  88% (341/387)   \rReceiving objects:  89% (345/387)   \rReceiving objects:  90% (349/387)   \rremote: Total 387 (delta 0), reused 0 (delta 0), pack-reused 382\u001b[K\n",
            "Receiving objects: 100% (387/387), 1.89 MiB | 23.37 MiB/s, done.\n",
            "Resolving deltas: 100% (138/138), done.\n"
          ],
          "name": "stdout"
        }
      ]
    },
    {
      "cell_type": "code",
      "metadata": {
        "id": "WadNMfbVbO4j",
        "colab_type": "code",
        "colab": {
          "base_uri": "https://localhost:8080/",
          "height": 35
        },
        "outputId": "8bcf2907-4a87-4c52-b682-8f0cd6c4ade9"
      },
      "source": [
        "cd 575/src/data_IB_project"
      ],
      "execution_count": 119,
      "outputs": [
        {
          "output_type": "stream",
          "text": [
            "/content/575/src/data_IB_project/575/src/data_IB_project/575/src/data_IB_project/575/src/data_IB_project\n"
          ],
          "name": "stdout"
        }
      ]
    },
    {
      "cell_type": "code",
      "metadata": {
        "id": "PRhS2k3lRDrU",
        "colab_type": "code",
        "colab": {}
      },
      "source": [
        "import numpy as np\n",
        "import matplotlib.pyplot as plt\n",
        "import math\n",
        "import csv\n",
        "import scipy.stats as ss\n",
        "from scipy.stats import norm\n",
        "from scipy.stats import t"
      ],
      "execution_count": 0,
      "outputs": []
    },
    {
      "cell_type": "code",
      "metadata": {
        "id": "PHhWJjW6TZh5",
        "colab_type": "code",
        "colab": {}
      },
      "source": [
        "'''\n",
        "#get weekly interest rate change factor for coupon bond\n",
        "def getdata(M,N):\n",
        "  with open(M+'.csv') as file:\n",
        "      reader=csv.reader(file)\n",
        "      rows=[row for row in reader]\n",
        "      DD=[row[1] for row in rows[1:293]]\n",
        "      DD=[float(d)/100/2 for d in DD]\n",
        "      D=[row[2] for row in rows[1+N:250+N]]\n",
        "      D=[float(d)/100/2 for d in D]\n",
        "      return DD,D\n",
        "      #print(D)\n",
        "      #print(D[0])\n"
      ],
      "execution_count": 0,
      "outputs": []
    },
    {
      "cell_type": "code",
      "metadata": {
        "id": "ITsqFFUxTW-c",
        "colab_type": "code",
        "colab": {}
      },
      "source": [
        "#get weekly interest rate change factor for coupon bond\n",
        "def getdata(M,N):\n",
        "  with open(M+'.csv') as file:\n",
        "      reader=csv.reader(file)\n",
        "      rows=[row for row in reader]\n",
        "      DD=[row[1] for row in rows[1:62]]\n",
        "      DD=[float(d)/100/2 for d in DD]\n",
        "      D=[row[2] for row in rows[1+N:52+N]]\n",
        "      D=[float(d)/100/2 for d in D]\n",
        "      return DD,D"
      ],
      "execution_count": 0,
      "outputs": []
    },
    {
      "cell_type": "code",
      "metadata": {
        "id": "8Nl90QJkdgHn",
        "colab_type": "code",
        "colab": {}
      },
      "source": [
        "'''\n",
        "g=getdata('20J28',0)[0]\n",
        "print(g)\n",
        "ks = norm.fit(g)\n",
        "print(ks[0],ks[1])\n"
      ],
      "execution_count": 0,
      "outputs": []
    },
    {
      "cell_type": "code",
      "metadata": {
        "id": "x0m0FY8LR_7i",
        "colab_type": "code",
        "colab": {}
      },
      "source": [
        "\n",
        "# for each coupon, linloss could be calculated as L=-c*np.exp(r*t)(r*5-t*x) week=5 days\n",
        "def linloss_bond(c,r,t,mu,sigma):\n",
        "  exp=-c*np.exp(r*t)*(r*5-t*mu)\n",
        "  #exp=-c*np.exp(r*t)*(r*1-t*mu)\n",
        "  var=(np.exp(r*t)*t)**2*(sigma**2)\n",
        "  return exp,var"
      ],
      "execution_count": 0,
      "outputs": []
    },
    {
      "cell_type": "code",
      "metadata": {
        "id": "OCz0SQ0Mgcxs",
        "colab_type": "code",
        "colab": {}
      },
      "source": [
        "\n",
        "def rolling(day,F,c,r,mu,sigma):\n",
        "  Exp=-F*np.exp(r*(day/182+15))*(r*5-(day/182+15)*mu)\n",
        "  Var=(np.exp(r*(day/182+15))*(day/182+15))**2*(sigma**2)\n",
        "  for i in range(0,16):\n",
        "    t=day/182+i\n",
        "    Exp=Exp+linloss_bond(c,r,t,mu,sigma)[0]\n",
        "    Var=Var+linloss_bond(c,r,t,mu,sigma)[1]\n",
        "  return Exp,Var\n"
      ],
      "execution_count": 0,
      "outputs": []
    },
    {
      "cell_type": "code",
      "metadata": {
        "id": "qS-Xk-tD6a-L",
        "colab_type": "code",
        "colab": {}
      },
      "source": [
        "c1=1.75/100*1000/2\n",
        "F1=1000"
      ],
      "execution_count": 0,
      "outputs": []
    },
    {
      "cell_type": "code",
      "metadata": {
        "id": "FK7-EBVZ6WEG",
        "colab_type": "code",
        "colab": {
          "base_uri": "https://localhost:8080/",
          "height": 208
        },
        "outputId": "ea4cbd9e-2210-4fd6-fe4e-900647729bd7"
      },
      "source": [
        "for n in range(0,11):   # estimate 2010/02/07-2020/04/17\n",
        " dd=getdata('bond1',n)[0]\n",
        " d=getdata('bond1',n)[1]\n",
        " ks = norm.fit(d)\n",
        " r1=dd[50+n] \n",
        " week=rolling(159-7*i,F1,c1,r1,ks[0],ks[1])   #152=2020/07/15-2020/02/07\n",
        " #print(week[0],week[1])\n",
        " print(week[0])\n"
      ],
      "execution_count": 132,
      "outputs": [
        {
          "output_type": "stream",
          "text": [
            "0.9196333964203989\n",
            "1.4623559563770696\n",
            "3.189953185631209\n",
            "6.5356995521827015\n",
            "11.934372254984233\n",
            "-9.064700752181967\n",
            "-17.553890004460808\n",
            "1.2080559470061938\n",
            "7.135375136170107\n",
            "8.471054577677705\n",
            "5.601832101017594\n"
          ],
          "name": "stdout"
        }
      ]
    },
    {
      "cell_type": "code",
      "metadata": {
        "id": "FZ32-Cqhaodc",
        "colab_type": "code",
        "colab": {
          "base_uri": "https://localhost:8080/",
          "height": 208
        },
        "outputId": "c969129c-a3e9-456f-d406-6d7b635d0827"
      },
      "source": [
        "for n in range(0,11):   # estimate 2010/02/07-2020/04/17\n",
        " dd=getdata('bond1',n)[0]\n",
        " d=getdata('bond1',n)[1]\n",
        " ks = norm.fit(d)\n",
        " r1=dd[50+n] \n",
        " week=rolling(159-7*i,F1,c1,r1,ks[0],ks[1])   #152=2020/07/15-2020/02/07\n",
        " #print(week[0],week[1])\n",
        " print(week[1])"
      ],
      "execution_count": 133,
      "outputs": [
        {
          "output_type": "stream",
          "text": [
            "0.00022669633143142823\n",
            "0.00022387299724098962\n",
            "0.000217060799434611\n",
            "0.0002184935645058527\n",
            "0.0002352512822731392\n",
            "0.0007683735740780992\n",
            "0.0008693645604765494\n",
            "0.0011319256178058497\n",
            "0.0011330577776275785\n",
            "0.0011256668062989245\n",
            "0.0011519441552566025\n"
          ],
          "name": "stdout"
        }
      ]
    }
  ]
}