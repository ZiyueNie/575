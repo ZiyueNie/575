{
  "nbformat": 4,
  "nbformat_minor": 0,
  "metadata": {
    "colab": {
      "name": "IB_new.ipynb",
      "provenance": [],
      "authorship_tag": "ABX9TyMztxK9Ut6IVCn+82PcFHuq",
      "include_colab_link": true
    },
    "kernelspec": {
      "name": "python3",
      "display_name": "Python 3"
    }
  },
  "cells": [
    {
      "cell_type": "markdown",
      "metadata": {
        "id": "view-in-github",
        "colab_type": "text"
      },
      "source": [
        "<a href=\"https://colab.research.google.com/github/gannannavelorange/575/blob/master/src/IB_new.ipynb\" target=\"_parent\"><img src=\"https://colab.research.google.com/assets/colab-badge.svg\" alt=\"Open In Colab\"/></a>"
      ]
    },
    {
      "cell_type": "code",
      "metadata": {
        "id": "StWnZJgW6Fei",
        "colab_type": "code",
        "colab": {
          "base_uri": "https://localhost:8080/",
          "height": 139
        },
        "outputId": "f6493b66-e5a2-4bbc-e3b4-efa8385fa2a9"
      },
      "source": [
        "!git clone https://github.com/gannannavelorange/575"
      ],
      "execution_count": 2,
      "outputs": [
        {
          "output_type": "stream",
          "text": [
            "Cloning into '575'...\n",
            "remote: Enumerating objects: 77, done.\u001b[K\n",
            "remote: Counting objects: 100% (77/77), done.\u001b[K\n",
            "remote: Compressing objects: 100% (77/77), done.\u001b[K\n",
            "remote: Total 625 (delta 41), reused 0 (delta 0), pack-reused 548\u001b[K\n",
            "Receiving objects: 100% (625/625), 3.24 MiB | 18.11 MiB/s, done.\n",
            "Resolving deltas: 100% (265/265), done.\n"
          ],
          "name": "stdout"
        }
      ]
    },
    {
      "cell_type": "code",
      "metadata": {
        "id": "XWzlwV7p6KOc",
        "colab_type": "code",
        "colab": {
          "base_uri": "https://localhost:8080/",
          "height": 35
        },
        "outputId": "c1f8c4f4-0a50-4c80-c81d-2797f0b1983a"
      },
      "source": [
        "cd 575/src/data_IB_project"
      ],
      "execution_count": 3,
      "outputs": [
        {
          "output_type": "stream",
          "text": [
            "/content/575/src/data_IB_project\n"
          ],
          "name": "stdout"
        }
      ]
    },
    {
      "cell_type": "code",
      "metadata": {
        "id": "vX1SpKag6Mho",
        "colab_type": "code",
        "colab": {}
      },
      "source": [
        "import numpy as np\n",
        "import matplotlib.pyplot as plt\n",
        "import math\n",
        "import csv\n",
        "import scipy.stats as ss\n",
        "from scipy.stats import norm\n",
        "from scipy.stats import t"
      ],
      "execution_count": 0,
      "outputs": []
    },
    {
      "cell_type": "markdown",
      "metadata": {
        "id": "SXjW6Z73HjVX",
        "colab_type": "text"
      },
      "source": [
        "# VaR and ES"
      ]
    },
    {
      "cell_type": "code",
      "metadata": {
        "id": "tA3lmgBnHiTi",
        "colab_type": "code",
        "colab": {}
      },
      "source": [
        "#VaR\n",
        "def VaRnorm(alpha,mu,sigma):\n",
        "  VaR=mu+sigma*norm.ppf(alpha)\n",
        "  ES=mu+sigma*norm.pdf(norm.ppf(alpha))/(1-alpha)\n",
        "  return VaR,ES\n"
      ],
      "execution_count": 0,
      "outputs": []
    },
    {
      "cell_type": "code",
      "metadata": {
        "id": "s9QVPBgTP__X",
        "colab_type": "code",
        "colab": {}
      },
      "source": [
        "def VaRt(alpha,mu,sigma,v):\n",
        "  VaR=mu+sigma*t.ppf(alpha,v)\n",
        "  E=t.pdf(t.ppf(alpha,v),v)/(1-alpha)*(v+(t.ppf(alpha,v))**2)/(v-1)\n",
        "  ES=mu+sigma*E\n",
        "  return VaR,ES"
      ],
      "execution_count": 0,
      "outputs": []
    },
    {
      "cell_type": "markdown",
      "metadata": {
        "id": "FzL5waaN6wzQ",
        "colab_type": "text"
      },
      "source": [
        "# Stock&ETF"
      ]
    },
    {
      "cell_type": "code",
      "metadata": {
        "id": "rxOn-qzb6wA9",
        "colab_type": "code",
        "colab": {}
      },
      "source": [
        "#using WEEKLY log return\n",
        "names=['CAT','DIA','HD','MSFT','NKE','NVDA','PG','TM','VIG','VOO','WMT','GOOG','CHEF','SPB','ORCL']\n",
        "def getData(N):  \n",
        "    mu=np.zeros(15)\n",
        "    Is=[i for i in range(15)]\n",
        "    Rows=[]\n",
        "    for name,i in zip(names,Is):\n",
        "        with open(name+'.csv') as file:\n",
        "            reader=csv.reader(file)\n",
        "            rows=[row[2] for row in reader] \n",
        "        mu[i]=np.mean([float(row) for row in rows[1+N:53+N]]) #mean\n",
        "        Rows.append([float(row) for row in rows[1+N:53+N]])\n",
        "    Sigma=np.cov(np.array(Rows)) #covariance matrix\n",
        "    return mu,Sigma,rows"
      ],
      "execution_count": 0,
      "outputs": []
    },
    {
      "cell_type": "code",
      "metadata": {
        "id": "yXqR5muU8V66",
        "colab_type": "code",
        "colab": {}
      },
      "source": [
        "def getdata1(M,N):\n",
        "  with open(M+'.csv') as file:\n",
        "      reader=csv.reader(file)\n",
        "      rows=[row for row in reader]\n",
        "      col0=[row[0] for row in rows[1:62]]\n",
        "      col0=[float(c) for c in col0] # port value\n",
        "      #col1=[row[1] for row in rows[1+N:53+N]]\n",
        "      col1=[row[1] for row in rows[1+N:52+N]]\n",
        "      col1=[float(c) for c in col1]  # port loss\n",
        "      \n",
        "  return col0,col1"
      ],
      "execution_count": 0,
      "outputs": []
    },
    {
      "cell_type": "code",
      "metadata": {
        "id": "6TRbnHO09qR3",
        "colab_type": "code",
        "colab": {}
      },
      "source": [
        "#linearized loss mean&variance\n",
        "def lin_loss(Vt,Wt,mu,omega):\n",
        "  mean=-Vt*(np.dot(Wt,mu))\n",
        "  variance=(Vt**2)*(np.dot(np.dot(Wt,omega),Wt))\n",
        "  return mean,variance"
      ],
      "execution_count": 0,
      "outputs": []
    },
    {
      "cell_type": "code",
      "metadata": {
        "id": "58nKq0Ba92Bk",
        "colab_type": "code",
        "colab": {}
      },
      "source": [
        "#rolling window for linearized loss assuming log return change follows Normal distribution \n",
        "def stock_norm():\n",
        "  MU=[]\n",
        "  VAR=[]\n",
        "  for i in range(0,10):\n",
        "    data= getData(i+1)\n",
        "    mu=data[0]\n",
        "    Sigma=data[1]\n",
        "    vt=getdata1('PORT_VALUE',i)[0]\n",
        "    wt=np.ones(15)*(1/15)\n",
        "    linloss=lin_loss(vt[i+51]*400000,wt,mu,Sigma)\n",
        "    MU.append(linloss[0])\n",
        "    VAR.append(linloss[1])\n",
        "  return MU,VAR\n",
        " #print(MU)\n",
        " #print(VAR)"
      ],
      "execution_count": 0,
      "outputs": []
    },
    {
      "cell_type": "code",
      "metadata": {
        "id": "2mvmtR99FfDL",
        "colab_type": "code",
        "colab": {}
      },
      "source": [
        "#rolling window  assuming portfolio loss follows t distribution \n",
        "def stock_t():\n",
        "  df=[]\n",
        "  mu=[]\n",
        "  sigma=[]\n",
        "  for i in range(0,10):\n",
        "    data=np.array(getdata1('PORT_VALUE',i)[1])*400000\n",
        "    T=t.fit(data)\n",
        "    df.append(T[0])\n",
        "    mu.append(T[1])\n",
        "    sigma.append(T[2])\n",
        "  return df,mu,sigma\n",
        "#print(T_df)\n",
        "#print(T_mu)\n",
        "#print(T_sigma)"
      ],
      "execution_count": 0,
      "outputs": []
    },
    {
      "cell_type": "code",
      "metadata": {
        "id": "99asYcFFKerF",
        "colab_type": "code",
        "colab": {}
      },
      "source": [
        "# plot VaR and ES vs time\n",
        "def plot_N(name):\n",
        "  N1=VaRnorm(0.9,name[0],np.sqrt(name[1]))\n",
        "  N2=VaRnorm(0.95,name[0],np.sqrt(name[1]))\n",
        "  N3=VaRnorm(0.99,name[0],np.sqrt(name[1]))\n",
        "  #x=np.linspace(1,10,10)\n",
        "  x=['2020/02/14','2020/02/21','2020/02/28','2020/03/06','2020/03/13','2020/03/20','2020/03/27','2020/04/3','2020/04/10','2020/04/17']\n",
        "  plt.plot(x,N1[0],'orange',label=\"VaR_0.9\")\n",
        "  plt.plot(x,N1[1],'blue',label=\"ES_0.9\")\n",
        "  plt.plot(x,N2[0],'yellow',label=\"VaR_0.95\")\n",
        "  plt.plot(x,N2[1],'green',label=\"ES_0.95\")\n",
        "  plt.plot(x,N3[0],'red',label=\"VaR_0.99\")\n",
        "  plt.plot(x,N3[1],'purple',label=\"ES_0.99\")\n",
        "  plt.xlabel('time')\n",
        "  plt.xticks(rotation=45)\n",
        "  #plt.title('Normal:stock&ETF:var and ES vs time')\n",
        "  #plt.title('Normal:Put option DJX:var and ES vs time')\n",
        "  #plt.title('Normal:Call option CAT:var and ES vs time')\n",
        "  #plt.title('Normal:Call option VIG:var and ES vs time')\n",
        "  #plt.title('Normal:Bond20-year:var and ES vs time')\n",
        "  #plt.title('Normal:Bond30-year:var and ES vs time')\n",
        "  #plt.title('Normal:Bond portfolio:var and ES vs time')\n",
        "  #plt.title('Normal:Option portfolio:var and ES vs time')\n",
        "  plt.title('Portfolio var and ES vs time with normal distribution')\n",
        "  plt.legend()\n",
        "  plt.show()\n",
        "  return N1[0],N1[1],N2[0],N2[1],N3[0],N3[1]\n",
        "  \n",
        "def plot_T(name):\n",
        "  N1_var=[]\n",
        "  N1_es=[]\n",
        "  N2_var=[]\n",
        "  N2_es=[]\n",
        "  N3_var=[]\n",
        "  N3_es=[]\n",
        "  for i in range(0,10):\n",
        "    T1=VaRt(0.9,name[1][i],name[2][i],name[0][i])\n",
        "    T2=VaRt(0.95,name[1][i],name[2][i],name[0][i])\n",
        "    T3=VaRt(0.99,name[1][i],name[2][i],name[0][i])\n",
        "    N1_var.append(T1[0])\n",
        "    N1_es.append(T1[1])\n",
        "    N2_var.append(T2[0])\n",
        "    N2_es.append(T2[1])\n",
        "    N3_var.append(T3[0])\n",
        "    N3_es.append(T3[1])\n",
        "  #x=np.linspace(1,10,10)\n",
        "  x=['2020/02/14','2020/02/21','2020/02/28','2020/03/06','2020/03/13','2020/03/20','2020/03/27','2020/04/3','2020/04/10','2020/04/17']\n",
        "  plt.plot(x,N1_var,'orange',label=\"VaR_0.9\")\n",
        "  plt.plot(x,N1_es,'blue',label=\"ES_0.9\")\n",
        "  plt.plot(x,N2_var,'yellow',label=\"VaR_0.95\")\n",
        "  plt.plot(x,N2_es,'green',label=\"ES_0.95\")\n",
        "  plt.plot(x,N3_var,'red',label=\"VaR_0.99\")\n",
        "  plt.plot(x,N3_es,'purple',label=\"ES_0.99\")\n",
        "  plt.xlabel('time')\n",
        "  plt.xticks(rotation=45)\n",
        "  #plt.title('T:stock&ETF:var and ES vs time')\n",
        "  #plt.title('T:Put option DJX:var and ES vs time')\n",
        "  #plt.title('T:Call option CAT:var and ES vs time')\n",
        "  #plt.title('T:Call option VIG:var and ES vs time')\n",
        "  #plt.title('T:Bond20-year:var and ES vs time')\n",
        "  #plt.title('T:Bond30-year:var and ES vs time')\n",
        "  #plt.title('T:Bond portfolio:var and ES vs time')\n",
        "  plt.title('Portfolio var and ES vs time with t distribution')\n",
        "  plt.legend()\n",
        "  plt.show()\n",
        "  return N1_var,N1_es,N2_var,N2_es,N3_var,N3_es"
      ],
      "execution_count": 0,
      "outputs": []
    },
    {
      "cell_type": "code",
      "metadata": {
        "id": "P2jNnMmGLLIC",
        "colab_type": "code",
        "colab": {
          "base_uri": "https://localhost:8080/",
          "height": 596
        },
        "outputId": "a5437088-e685-4a38-a607-306497819ac4"
      },
      "source": [
        "N=stock_norm()\n",
        "print(N)\n",
        "a=plot_N(N)\n",
        "print(a)\n"
      ],
      "execution_count": 13,
      "outputs": [
        {
          "output_type": "stream",
          "text": [
            "([-2184.4121072601165, -1089.562834286747, -1128.2445046939927, 99.03518540788191, 1772.40067129909, 529.4705256889033, 962.2148752578879, 217.8220329882339, 104.49368198248186, 110.41358889778817], [78737101.1392646, 142247199.01808247, 112670241.3850035, 163344498.2689849, 283187350.1667939, 264175762.94001532, 337332841.377919, 364350910.5106507, 436534407.8471075, 483075639.10686916])\n"
          ],
          "name": "stdout"
        },
        {
          "output_type": "display_data",
          "data": {
            "image/png": "[encoded data removed]",
            "text/plain": [
              "<Figure size 432x288 with 1 Axes>"
            ]
          },
          "metadata": {
            "tags": [],
            "needs_background": "light"
          }
        },
        {
          "output_type": "stream",
          "text": [
            "(array([ 9187.29842521, 14195.17335232, 12474.94342312, 16478.07132349,\n",
            "       23338.56997899, 21359.14921153, 24499.98936795, 24680.05033622,\n",
            "       26880.47065353, 28277.6120696 ]), array([13388.24437667, 19841.67221623, 17500.2434507 , 22528.82730753,\n",
            "       31305.56064263, 29054.06494965, 33195.33191816, 33716.90531602,\n",
            "       36772.07242566, 38683.15994947]), array([12411.02034888, 18528.18367663, 16331.25818154, 21121.30047852,\n",
            "       29452.27931132, 27264.07368626, 31172.62137437, 31614.75215244,\n",
            "       34471.0880672 , 36262.62144981]), array([16118.84902497, 23511.88274085, 20766.67624296, 26461.80397675,\n",
            "       36484.08519173, 34055.74145907, 38847.28342158, 39590.83906785,\n",
            "       43201.58951305, 45446.74075655]), array([18458.18654632, 26656.19042993, 23565.06333158, 29831.22616632,\n",
            "       40920.58125881, 38340.72996352, 43689.36930502, 44623.09946194,\n",
            "       48709.82395338, 51241.17107459]), array([21465.08076968, 30697.76225977, 27162.00216349, 34162.15149256,\n",
            "       46623.08219095, 43848.48891817, 49913.19974379, 51091.3728818 ,\n",
            "       55789.89605429, 58689.10831834]))\n"
          ],
          "name": "stdout"
        }
      ]
    },
    {
      "cell_type": "code",
      "metadata": {
        "id": "wtEVbz4VMkL6",
        "colab_type": "code",
        "colab": {
          "base_uri": "https://localhost:8080/",
          "height": 388
        },
        "outputId": "478c50a5-a52a-4994-a348-9ad2f2829919"
      },
      "source": [
        "T=stock_t()\n",
        "print(T)\n",
        "b=plot_T(T)\n",
        "print(b)\n"
      ],
      "execution_count": 14,
      "outputs": [
        {
          "output_type": "stream",
          "text": [
            "([327999.9530839643, 307000.6903773176, 270876.1232850582, 3.0724854510577497, 2.9254948158665774, 2.276186626506002, 1.865014168189391, 1.6492828567546036, 1.7227334599156419, 1.6416490529732188], [-1923.8936145052676, -2158.9701912437704, -2071.2347988305482, -2620.625417418308, -2375.642686790336, -2475.7776225730267, -2400.0611139562225, -2292.358390978403, -1960.1454713731414, -1891.548941568749], [7361.323257080614, 7486.484960402515, 7535.714356590681, 6130.290850359383, 5907.619702081753, 5905.8412507339335, 5971.332959497877, 5935.0138675269045, 6191.671676005527, 6436.750680082552])\n"
          ],
          "name": "stdout"
        },
        {
          "output_type": "display_data",
          "data": {
            "image/png": "[encoded data removed]",
            "text/plain": [
              "<Figure size 432x288 with 1 Axes>"
            ]
          },
          "metadata": {
            "tags": [],
            "needs_background": "light"
          }
        },
        {
          "output_type": "stream",
          "text": [
            "([7510.040730079684, 7435.366974954244, 7586.19528421639, 7355.629613251798, 7366.418030127406, 8088.96314112003, 9227.553660593789, 10026.661587998631, 10589.674564037976, 11503.808959919454], [10995.15162882007, 10979.735709914168, 11153.874865832646, 14952.976596609144, 15110.223047308253, 19091.20697127442, 25539.012862539894, 32010.540935300913, 31023.618709150087, 35654.34536211459], [10184.439842208514, 10155.238907571062, 10323.95468334735, 11668.473964376555, 11672.674666694342, 13423.605389474964, 15928.015439897916, 17832.140818633838, 18268.89926627852, 20023.536005919796], [13260.46818811079, 13283.569975093751, 13472.861577090678, 20681.8643490526, 20993.493078811403, 27825.835979907977, 39047.93778639552, 50767.40177494676, 48269.15612150412, 56284.208817646824], [15201.188786967163, 15257.289117674743, 15459.5620166185, 24696.88744668815, 25003.063905957544, 32509.093736983363, 43541.14327594565, 53409.43390407908, 51999.79883631856, 59012.90912775594], [17695.73561122567, 17794.252674173647, 18013.21420111279, 39072.73560484694, 40338.506095976736, 60854.68116412309, 97452.63835627523, 139921.6673209597, 127439.908857423, 154712.4895027836])\n"
          ],
          "name": "stdout"
        }
      ]
    },
    {
      "cell_type": "markdown",
      "metadata": {
        "id": "3fAM2xt0dGZl",
        "colab_type": "text"
      },
      "source": [
        "# Options"
      ]
    },
    {
      "cell_type": "code",
      "metadata": {
        "id": "dh6X9uctqwRX",
        "colab_type": "code",
        "colab": {}
      },
      "source": [
        "def getdata2(M,N):\n",
        "  with open(M+'.csv') as file:\n",
        "      reader=csv.reader(file)\n",
        "      rows=[row for row in reader]\n",
        "      col0=[row[1] for row in rows[1:62]]\n",
        "      col0=[float(c) for c in col0] # stock value\n",
        "      col1=[row[2] for row in rows[1+N:53+N]]\n",
        "      col1=[float(c) for c in col1]  # log return\n",
        "      col2=[row[3] for row in rows[1+N:53+N]]\n",
        "      col2=[float(c) for c in col2]  # net stock return\n",
        "  return col0,col1,col2\n"
      ],
      "execution_count": 0,
      "outputs": []
    },
    {
      "cell_type": "code",
      "metadata": {
        "id": "OV1ga2EsmF2A",
        "colab_type": "code",
        "colab": {}
      },
      "source": [
        "def origin_price(S,K,r,sigma,t):\n",
        "  d1=(np.log(S/K)+(r+sigma**2/2)*t)/(sigma*np.sqrt(t))\n",
        "  d2=d1-sigma*np.sqrt(t)\n",
        "  callprice=S*norm.cdf(d1)-K*np.exp(-r*t)*norm.cdf(d2)\n",
        "  putprice=-S*norm.cdf(-d1)+K*np.exp(-r*t)*norm.cdf(-d2)\n",
        "  return callprice,putprice"
      ],
      "execution_count": 0,
      "outputs": []
    },
    {
      "cell_type": "code",
      "metadata": {
        "id": "eM_CP6jCvHZs",
        "colab_type": "code",
        "colab": {}
      },
      "source": [
        "def delta(S,K,r,sigma,t):\n",
        "  d1=(np.log(S/K)+(r+sigma**2/2)*t)/(sigma*np.sqrt(t))\n",
        "  delta_C=norm.cdf(float(d1))\n",
        "  delta_P=norm.cdf(float(d1))-1\n",
        "  return delta_C,delta_P\n"
      ],
      "execution_count": 0,
      "outputs": []
    },
    {
      "cell_type": "code",
      "metadata": {
        "id": "HOPkBKcIEwCb",
        "colab_type": "code",
        "colab": {}
      },
      "source": [
        "#OP=[9.5,9,11.21,39.96,38.84,64.99,102.26,78.84,83.26,57.34,51.95] "
      ],
      "execution_count": 0,
      "outputs": []
    },
    {
      "cell_type": "code",
      "metadata": {
        "id": "uIS5EeKilvXU",
        "colab_type": "code",
        "colab": {
          "base_uri": "https://localhost:8080/",
          "height": 149
        },
        "outputId": "4a0ee932-27a2-4af3-eb00-6188672550ac"
      },
      "source": [
        "'''\n",
        "def option_N(M,K,share,type,t):  #type=0 for call, type=1 for put, t=maturity date-2020/02/14\n",
        "  MU=[]\n",
        "  VAR=[]\n",
        "  L=[]\n",
        "  d=[]\n",
        "  op=[]\n",
        "  LL=[]\n",
        "  for i in range(0,10):\n",
        "    data= getdata2(M,i+1)\n",
        "    mu=np.mean(data[1])  #mu=mean of stock log return\n",
        "    variance=np.var(data[1]) #variance of stock log return\n",
        "    #loss=(-1)**(type)*np.array(data[2]) #stock loss\n",
        "    vt=data[0]\n",
        "    wt=1\n",
        "    linloss=lin_loss(vt[i+51]*share,wt,mu,variance)\n",
        "    OP=origin_price(vt[i+51],K,0.02,0.1,(t-7*i)/250)[type]  #t=(2020/06/18-2020/02/14)/250\n",
        "    Delta=delta(vt[i+51],K,0.02,0.1,(t-7*i)/250)[type]    #strike=100 type=0:call type=1: put\n",
        "    leverage=Delta*vt[i+51]/OP\n",
        "    #leverage=Delta*vt[i+51]/OP[i]\n",
        "    MU.append((-1)**(type+1)*leverage*linloss[0])\n",
        "    VAR.append(leverage**2*linloss[1])\n",
        "    L.append(leverage)\n",
        "    d.append(Delta)\n",
        "    op.append(OP)\n",
        "    LL.append(linloss[1])\n",
        "  return MU,VAR,d,op,L,LL"
      ],
      "execution_count": 19,
      "outputs": [
        {
          "output_type": "error",
          "ename": "SyntaxError",
          "evalue": "ignored",
          "traceback": [
            "\u001b[0;36m  File \u001b[0;32m\"<ipython-input-19-3e41c7e00778>\"\u001b[0;36m, line \u001b[0;32m27\u001b[0m\n\u001b[0;31m    return MU,VAR,d,op,L,LL\u001b[0m\n\u001b[0m                           \n^\u001b[0m\n\u001b[0;31mSyntaxError\u001b[0m\u001b[0;31m:\u001b[0m EOF while scanning triple-quoted string literal\n"
          ]
        }
      ]
    },
    {
      "cell_type": "code",
      "metadata": {
        "id": "pFQ3Y9143MUB",
        "colab_type": "code",
        "colab": {}
      },
      "source": [
        "\n",
        "def option_N(M,K,share,type,t):  #type=0 for call, type=1 for put, t=maturity date-2020/02/14\n",
        "  MU=[]\n",
        "  VAR=[]\n",
        "  Loss=[]\n",
        "  for i in range(0,10):\n",
        "    data= getdata2(M,i+1)\n",
        "    mu=np.mean(data[1])  #mu=mean of stock log return\n",
        "    variance=np.var(data[1]) #variance of stock log return\n",
        "    #loss=(-1*share)**(type)*np.array(data[2]) #stock loss\n",
        "    #Norm=norm.fit(loss)\n",
        "    vt=data[0]\n",
        "    wt=1\n",
        "    #linloss=lin_loss(vt[i+51]*share,wt,mu,variance)\n",
        "    OP=origin_price(vt[i+51],K,0.02,0.1,(t-7*i)/250)[type] #t=(2020/06/18-2020/02/14)/250\n",
        "    OP1=origin_price(vt[i+51-1],K,0.02,0.1,(t+7-7*i)/250)[type]\n",
        "    loss=(OP1-OP)*((-1)**(type+1))\n",
        "    Loss.append(loss)\n",
        "    Norm=norm.fit(Loss)\n",
        "    #Delta=delta(vt[i+51],K,0.02,0.1,(t-7*i)/250)[type]    #strike=100 type=0:call type=1: put\n",
        "    #leverage=Delta*vt[i+51]/OP\n",
        "    #leverage=Delta*vt[i+51]/OP[i]\n",
        "    MU.append(Norm[0])\n",
        "    VAR.append(Norm[1])\n",
        "    \n",
        "  return MU,VAR"
      ],
      "execution_count": 0,
      "outputs": []
    },
    {
      "cell_type": "code",
      "metadata": {
        "id": "0mNzLfTNB7Mv",
        "colab_type": "code",
        "colab": {}
      },
      "source": [
        "def option_T(M,K,share,type,T):  #type=0 for call, type=1 for put, t=maturity date-2020/02/14\n",
        "  DF=[]\n",
        "  MU=[]\n",
        "  VAR=[]\n",
        "  Loss=[]\n",
        "  for i in range(0,10):\n",
        "    data= getdata2(M,i+1)\n",
        "    mu=np.mean(data[1])  #mu=mean of stock log return\n",
        "    variance=np.var(data[1]) #variance of stock log return\n",
        "    #loss=(-1*share)**(type)*np.array(data[2]) #stock loss\n",
        "    #Norm=norm.fit(loss)\n",
        "    vt=data[0]\n",
        "    wt=1\n",
        "    #linloss=lin_loss(vt[i+51]*share,wt,mu,variance)\n",
        "    OP=origin_price(vt[i+51],K,0.02,0.1,(T-7*i)/250)[type] #t=(2020/06/18-2020/02/14)/250\n",
        "    OP1=origin_price(vt[i+51-1],K,0.02,0.1,(T+7-7*i)/250)[type]\n",
        "    loss=(OP1-OP)*((-1)**(type+1))\n",
        "    Loss.append(loss)\n",
        "    Norm=t.fit(Loss)\n",
        "    #Delta=delta(vt[i+51],K,0.02,0.1,(t-7*i)/250)[type]    #strike=100 type=0:call type=1: put\n",
        "    #leverage=Delta*vt[i+51]/OP\n",
        "    #leverage=Delta*vt[i+51]/OP[i]\n",
        "    DF.append(Norm[0])\n",
        "    MU.append(Norm[1])\n",
        "    VAR.append(Norm[2])\n",
        "    \n",
        "  return DF,MU,VAR"
      ],
      "execution_count": 0,
      "outputs": []
    },
    {
      "cell_type": "code",
      "metadata": {
        "id": "I8hBcWqlDhqX",
        "colab_type": "code",
        "colab": {}
      },
      "source": [
        ""
      ],
      "execution_count": 0,
      "outputs": []
    },
    {
      "cell_type": "code",
      "metadata": {
        "id": "Dy1_bG63zzxF",
        "colab_type": "code",
        "colab": {}
      },
      "source": [
        "djx=option_N('DIA',293,100,1,125)\n",
        "c=plot_N(djx)\n",
        "print(c)\n"
      ],
      "execution_count": 0,
      "outputs": []
    },
    {
      "cell_type": "code",
      "metadata": {
        "id": "uEogulJ2t62R",
        "colab_type": "code",
        "colab": {}
      },
      "source": [
        "cat=option_N('CAT',135,200,0,91)\n",
        "d=plot_N(cat)\n",
        "print(d)"
      ],
      "execution_count": 0,
      "outputs": []
    },
    {
      "cell_type": "code",
      "metadata": {
        "id": "k5k5p3W1F58k",
        "colab_type": "code",
        "colab": {}
      },
      "source": [
        "vig=option_N('VIG',131,200,0,91)\n",
        "e=plot_N(vig)\n",
        "print(e)"
      ],
      "execution_count": 0,
      "outputs": []
    },
    {
      "cell_type": "code",
      "metadata": {
        "id": "lDAnAdESGpmT",
        "colab_type": "code",
        "colab": {}
      },
      "source": [
        "'''\n",
        "def option_t(M,K,share,type,t):\n",
        "  df=[]\n",
        "  mu=[]\n",
        "  sigma=[]\n",
        "  for i in range(0,10):\n",
        "    data= getdata2(M,i+1)\n",
        "    nr=np.array(data[2])*share\n",
        "    T=ss.t.fit(nr)\n",
        "    #df.append(T[0])\n",
        "    #mu.append(T[1])\n",
        "    #sigma.append(T[2])\n",
        "    vt=data[0]\n",
        "    wt=1\n",
        "    OP=origin_price(vt[i+51],K,0.02,0.1,(t-7*i)/250)[type]  #t=(2020/06/18-2020/02/14)/250\n",
        "    Delta=delta(vt[i+51],K,0.02,0.1,(t-7*i)/250)[type]    #strike=100 type=0:call type=1: put\n",
        "    leverage=Delta*vt[i+51]/OP\n",
        "    #leverage=Delta*vt[i+51]/OP[i]\n",
        "    df.append(T[0])\n",
        "    mu.append((-1)**(type+1)*leverage*T[1])\n",
        "    sigma.append(leverage**2*T[2])\n",
        "    #L.append(leverage)\n",
        "    #d.append(Delta)\n",
        "    #op.append(OP)\n",
        "\n",
        "  return df,mu,sigma"
      ],
      "execution_count": 0,
      "outputs": []
    },
    {
      "cell_type": "code",
      "metadata": {
        "id": "hrsYGDo4Jigd",
        "colab_type": "code",
        "colab": {}
      },
      "source": [
        "vig2=option_T('VIG',131,200,0,91)\n",
        "e=plot_T(vig2)\n"
      ],
      "execution_count": 0,
      "outputs": []
    },
    {
      "cell_type": "code",
      "metadata": {
        "id": "AH3H-g1nKJMC",
        "colab_type": "code",
        "colab": {}
      },
      "source": [
        "a=getdata2('VIG',0)[2]\n",
        "b=np.array(a)*200\n",
        "print(b)\n"
      ],
      "execution_count": 0,
      "outputs": []
    },
    {
      "cell_type": "markdown",
      "metadata": {
        "id": "fiD0SOJSeKIh",
        "colab_type": "text"
      },
      "source": [
        "**option portfolio**"
      ]
    },
    {
      "cell_type": "code",
      "metadata": {
        "id": "_HN59eA0EsHn",
        "colab_type": "code",
        "colab": {}
      },
      "source": [
        "\n",
        "def option_portfolio(M,K,share,type,t):  #type=0 for call, type=1 for put, t=maturity date-2020/02/14\n",
        "  MU=[]\n",
        "  VAR=[]\n",
        "  L=[]\n",
        "  for i in range(0,10):\n",
        "    data= getdata2(M,i+1)\n",
        "    mu=np.mean(data[1])  #mu=mean of stock log return\n",
        "    variance=np.var(data[1]) #variance of stock log return\n",
        "    vt=data[0]\n",
        "    wt=1\n",
        "    Loss=[]\n",
        "    for j in range(0,51):\n",
        "      OP=origin_price(vt[j+i+1],K,0.02,0.1,(t-7*i)/250)[type] #t=(2020/06/18-2020/02/14)/250\n",
        "      OP1=origin_price(vt[j+i],K,0.02,0.1,(t+7-7*i)/250)[type]\n",
        "      loss=(OP1-OP)*share*((-1)**(type+1))\n",
        "      Loss.append(loss)\n",
        "    L.append(Loss)\n",
        "   \n",
        "    \n",
        "  return L"
      ],
      "execution_count": 0,
      "outputs": []
    },
    {
      "cell_type": "code",
      "metadata": {
        "id": "JPVr1LDBiMbj",
        "colab_type": "code",
        "colab": {}
      },
      "source": [
        "DJX=option_portfolio('DIA',293,100,1,125)\n",
        "CAT=option_portfolio('CAT',135,200,0,91)\n",
        "VIG=option_portfolio('VIG',131,200,0,91)\n",
        "def OptionPort_N():\n",
        "  mu=[]\n",
        "  variance=[]\n",
        "  for i in range(0,10):\n",
        "    option_loss=DJX[i]+CAT[i]+VIG[i]\n",
        "    #op_loss.append(option_loss)\n",
        "    Norm=norm.fit(option_loss)\n",
        "    mu.append(Norm[0])\n",
        "    variance.append(Norm[1]**2)\n",
        "  return mu, variance\n",
        " "
      ],
      "execution_count": 0,
      "outputs": []
    },
    {
      "cell_type": "code",
      "metadata": {
        "id": "jbVIVSGeva7X",
        "colab_type": "code",
        "colab": {}
      },
      "source": [
        "print(DJX[0])"
      ],
      "execution_count": 0,
      "outputs": []
    },
    {
      "cell_type": "code",
      "metadata": {
        "id": "1QV9f6lykvg1",
        "colab_type": "code",
        "colab": {}
      },
      "source": [
        "def OptionPort_T():\n",
        "  df=[]\n",
        "  mu=[]\n",
        "  sigma=[]\n",
        "  for i in range(0,10):\n",
        "    option_loss=DJX[i]+CAT[i]+VIG[i]\n",
        "    #op_loss.append(option_loss)\n",
        "    Norm=ss.t.fit(option_loss)\n",
        "    df.append(Norm[0])\n",
        "    mu.append(Norm[1])\n",
        "    sigma.append(Norm[2])\n",
        "  return df,mu,sigma"
      ],
      "execution_count": 0,
      "outputs": []
    },
    {
      "cell_type": "code",
      "metadata": {
        "id": "TKbPTHNdeOEz",
        "colab_type": "code",
        "colab": {}
      },
      "source": [
        "optionN=OptionPort_N()\n",
        "print(optionN)\n",
        "OP1=plot_N(optionN)\n",
        "print(OP1)"
      ],
      "execution_count": 0,
      "outputs": []
    },
    {
      "cell_type": "code",
      "metadata": {
        "id": "qw3XdXWgl6c-",
        "colab_type": "code",
        "colab": {}
      },
      "source": [
        "optionT=OptionPort_T()\n",
        "print(optionT)\n",
        "OP2=plot_T(optionT)\n",
        "print(OP2)"
      ],
      "execution_count": 0,
      "outputs": []
    },
    {
      "cell_type": "markdown",
      "metadata": {
        "id": "InetYcsRoSnU",
        "colab_type": "text"
      },
      "source": [
        "# Bonds"
      ]
    },
    {
      "cell_type": "code",
      "metadata": {
        "id": "A-pPWXgNqgJI",
        "colab_type": "code",
        "colab": {}
      },
      "source": [
        "c1=1.75/100*1000/2\n",
        "c2=6/100*1000/2\n",
        "n1=15\n",
        "n2=11\n",
        "#r=-0.115/100\n",
        "#r=-0.098/100/2\n",
        "F=1000"
      ],
      "execution_count": 0,
      "outputs": []
    },
    {
      "cell_type": "code",
      "metadata": {
        "id": "jvHw0URGrok6",
        "colab_type": "code",
        "colab": {}
      },
      "source": [
        "def getdata3(M):\n",
        "  with open(M+'.csv') as file:\n",
        "      reader=csv.reader(file)\n",
        "      rows=[row for row in reader]\n",
        "      col0=[row[1] for row in rows[1:62]]\n",
        "      col0=[float(c) for c in col0]  # weekly interest rate \n",
        "      \n",
        "  return col0"
      ],
      "execution_count": 0,
      "outputs": []
    },
    {
      "cell_type": "code",
      "metadata": {
        "id": "Iuubgiy0yjMk",
        "colab_type": "code",
        "colab": {}
      },
      "source": [
        "def bond(C,r,F,t,N):\n",
        "  price=C*np.exp(-t/182*r)*(1-np.exp(-(N+1)*r))/(1-np.exp(-r))+F*np.exp((-t/182+N)*r)\n",
        "  return price"
      ],
      "execution_count": 0,
      "outputs": []
    },
    {
      "cell_type": "code",
      "metadata": {
        "id": "6hiHyG6dzc0_",
        "colab_type": "code",
        "colab": {}
      },
      "source": [
        "price1=[]\n",
        "ir=getdata3('bond1')\n",
        "for i in range(0,62):\n",
        "  #price1.append(price(c1,ir[i]/200,F,365+152-7*i,n1))\n",
        "   price1=bond(c1,ir[i]/200,F,365+152-7*i,n1)\n",
        "   print(price1)\n"
      ],
      "execution_count": 0,
      "outputs": []
    },
    {
      "cell_type": "code",
      "metadata": {
        "id": "H5oy55da-2Yu",
        "colab_type": "code",
        "colab": {}
      },
      "source": [
        "price2=[]\n",
        "ir2=getdata3('bond3.625')\n",
        "for i in range(0,62):\n",
        "  #price1.append(price(c2,ir2[i]/200,F,365+182-7*i,n2))\n",
        "   price2=bond(c2,ir2[i]/200,F,365+182-7*i,n2)\n",
        "   print(price2)"
      ],
      "execution_count": 0,
      "outputs": []
    },
    {
      "cell_type": "code",
      "metadata": {
        "id": "fJbnTrUI1l1w",
        "colab_type": "code",
        "colab": {}
      },
      "source": [
        "change1=[-4.668573138,4.682383382,4.349368188,5.835342088,0.335362367,-3.382900463,-0.131487767,-1.115815597,4.503941318,-5.008539069,1.972199344,0.576278395,0.581172825,9.154902473,2.954096239,-6.427463478,7.629812859,0.460874008,-2.198163134,1.113738061,1.418586252,-2.578652906,5.261678406,7.583518091,3.659731396,0.939440513,1.898128387,-3.714462234,-14.00055823,5.45632942,-0.230696157,8.103933568,-10.0557118,1.9341998,0.077755178,0.95285408,-5.132561839,0.697867622,3.54908232,-0.806211355,1.859109537,2.058610119,-1.949638607,0.215822686,7.900428318,-3.600754927,0.039736232,7.05675355,8.187982161,-2.85099818,1.046100019,4.51903132,7.903259478,13.16607817,-51.70245549,-20.28135685,45.34336564,14.75785748,3.49401862,-7.470250461]\n",
        "change2=[-2.343005668,1.945113295,1.972822876,2.542413215,0.122604735,-1.530576473,-0.161477869,-0.726925837,2.110371946,-2.444152538,0.704994944,0.426503005,0.141454991,4.577723799,1.369595132,-3.684086465,4.094275231,-0.089582705,-1.00584495,0.518844644,0.838385274,-1.336294992,2.74008262,4.020882524,2.166658856,0.298004241,0.93958902,-1.936582133,-7.566860295,2.57674102,-0.063134362,4.292829791,-5.43881714,0.956566778,-0.063146019,0.631160615,-2.862976108,0.275208311,2.41418133,-0.415465755,0.659689401,1.030872752,-1.141328612,-0.055231276,4.735420611,-2.241739646,-0.036754951,3.711281031,4.85212206,-1.477834969,0.391437357,2.295328699,5.722459023,7.979227515,-30.52251217,-11.88657413,24.92814353,9.071354289,1.635429487,-4.283898783]"
      ],
      "execution_count": 0,
      "outputs": []
    },
    {
      "cell_type": "code",
      "metadata": {
        "id": "dvzk6lQYCxz0",
        "colab_type": "code",
        "colab": {}
      },
      "source": [
        "Change1=np.array(change1)/10\n",
        "Change2=np.array(change2)/10\n",
        "Change12=np.array(Change1)*252+np.array(Change2)*189\n",
        "print(Change12)"
      ],
      "execution_count": 0,
      "outputs": []
    },
    {
      "cell_type": "code",
      "metadata": {
        "id": "OPL8EnZB4spi",
        "colab_type": "code",
        "colab": {}
      },
      "source": [
        "def bond_N(M):\n",
        "  mu=[]\n",
        "  sigma=[]\n",
        "  for i in range(0,10):\n",
        "    a=[]\n",
        "    for j in range(0+i,51+i):\n",
        "      a.append(M[j])\n",
        "    N=norm.fit(a)\n",
        "    mu.append(N[0])\n",
        "    sigma.append(N[1]**2)\n",
        "  return mu,sigma\n",
        "\n",
        "def bond_T(M):\n",
        "  df=[]\n",
        "  mu=[]\n",
        "  sigma=[]\n",
        "  for i in range(0,10):\n",
        "    a=[]\n",
        "    for j in range(0+i,51+i):\n",
        "      a.append(M[j])\n",
        "    N=t.fit(a)\n",
        "    df.append(N[0])\n",
        "    mu.append(N[1])\n",
        "    sigma.append(N[2])\n",
        "  return df,mu,sigma"
      ],
      "execution_count": 0,
      "outputs": []
    },
    {
      "cell_type": "code",
      "metadata": {
        "id": "P9n4ZLyk6TbP",
        "colab_type": "code",
        "colab": {}
      },
      "source": [
        "b1=bond_N(Change1)\n",
        "#print(b1)\n",
        "B1=plot_N(b1)\n",
        "b11=bond_T(Change1)\n",
        "#print(b11)\n",
        "B11=plot_T(b11)\n"
      ],
      "execution_count": 0,
      "outputs": []
    },
    {
      "cell_type": "code",
      "metadata": {
        "id": "qtHduzH8AI3S",
        "colab_type": "code",
        "colab": {}
      },
      "source": [
        "b2=bond_N(Change2)\n",
        "#print(bond_N(change1))\n",
        "B2=plot_N(b2)\n",
        "b22=bond_T(Change2)\n",
        "B22=plot_T(b22)"
      ],
      "execution_count": 0,
      "outputs": []
    },
    {
      "cell_type": "markdown",
      "metadata": {
        "id": "mM95O7vbUZ1Y",
        "colab_type": "text"
      },
      "source": [
        "**Bond portfolio**"
      ]
    },
    {
      "cell_type": "code",
      "metadata": {
        "id": "Ajm88QAtE5gm",
        "colab_type": "code",
        "colab": {}
      },
      "source": [
        "bb=bond_N(Change12)\n",
        "print(bb)\n",
        "BB=plot_N(bb)\n",
        "\n",
        "bb2=bond_T(Change12)\n",
        "print(bb2)\n",
        "BB2=plot_T(bb2)\n"
      ],
      "execution_count": 0,
      "outputs": []
    },
    {
      "cell_type": "code",
      "metadata": {
        "id": "kjyd49dBqGJs",
        "colab_type": "code",
        "colab": {}
      },
      "source": [
        "def bondloss():\n",
        "  Loss=[]\n",
        "  for i in range(0,10):\n",
        "    loss=[]\n",
        "    for j in range(0+i,51+i):\n",
        "      loss.append(Change12[j])\n",
        "    Loss.append(loss)\n",
        "  return Loss"
      ],
      "execution_count": 0,
      "outputs": []
    },
    {
      "cell_type": "code",
      "metadata": {
        "id": "87grYicWn6mW",
        "colab_type": "code",
        "colab": {}
      },
      "source": [
        "print(bondloss())"
      ],
      "execution_count": 0,
      "outputs": []
    },
    {
      "cell_type": "markdown",
      "metadata": {
        "id": "PIRD0mvAn7aQ",
        "colab_type": "text"
      },
      "source": [
        "#Portfolio analysis"
      ]
    },
    {
      "cell_type": "code",
      "metadata": {
        "id": "u3Ksz9N9n6yy",
        "colab_type": "code",
        "colab": {}
      },
      "source": [
        "def Portloss_N():\n",
        "  mu=[]\n",
        "  var=[]\n",
        "  for i in range(0,10):\n",
        "    stock_loss=np.array(getdata1('PORT_VALUE',i)[1])*400000\n",
        "    option_loss=np.array(DJX[i])+np.array(CAT[i])+np.array(VIG[i])\n",
        "    bond_loss=bondloss()[i]\n",
        "    Loss=np.array(stock_loss)+np.array(option_loss)+np.array(bond_loss)\n",
        "    #Loss=np.array(stock_loss)+np.array(bond_loss)\n",
        "    Norm=norm.fit(Loss)\n",
        "    mu.append(Norm[0])\n",
        "    var.append(Norm[1]**2)\n",
        "  return mu, var\n",
        "\n",
        " "
      ],
      "execution_count": 0,
      "outputs": []
    },
    {
      "cell_type": "code",
      "metadata": {
        "id": "cQfBRFj7wv9c",
        "colab_type": "code",
        "colab": {}
      },
      "source": [
        "def Portloss_T():\n",
        "  df=[]\n",
        "  mu=[]\n",
        "  sigma=[]\n",
        "  for i in range(0,10):\n",
        "    stock_loss=np.array(getdata1('PORT_VALUE',i)[1])*400000\n",
        "    option_loss=np.array(DJX[i])+np.array(CAT[i])+np.array(VIG[i])\n",
        "    bond_loss=bondloss()[i]\n",
        "    Loss=np.array(stock_loss)+np.array(option_loss)+np.array(bond_loss)\n",
        "    #Loss=np.array(stock_loss)+np.array(bond_loss)\n",
        "    Norm=ss.t.fit(Loss)\n",
        "    df.append(Norm[0])\n",
        "    mu.append(Norm[1])\n",
        "    sigma.append(Norm[2])\n",
        "  return df,mu,sigma"
      ],
      "execution_count": 0,
      "outputs": []
    },
    {
      "cell_type": "code",
      "metadata": {
        "id": "3leR6XVBvwH4",
        "colab_type": "code",
        "colab": {}
      },
      "source": [
        ""
      ],
      "execution_count": 0,
      "outputs": []
    },
    {
      "cell_type": "code",
      "metadata": {
        "id": "TAYM0QnAsjbU",
        "colab_type": "code",
        "colab": {
          "base_uri": "https://localhost:8080/",
          "height": 596
        },
        "outputId": "13c7e20d-e90a-4248-8053-c8974278a619"
      },
      "source": [
        "PL=Portloss_N()\n",
        "print(PL)\n",
        "PL_N=plot_N(PL)\n",
        "print(PL_N)"
      ],
      "execution_count": 35,
      "outputs": [
        {
          "output_type": "stream",
          "text": [
            "([-1847.4280770383054, -2082.951203682843, -2054.4306606057426, -1165.1059035514234, -1049.3442698005013, -307.0775509396813, 1041.612630375845, 346.3311088074338, 550.4549507727952, -26.47455169369313], [54745824.45505468, 56793193.710893445, 56915081.55072556, 113956931.78574233, 112329916.63210581, 143258631.28938657, 226446116.77685046, 266694949.37406906, 267364412.23129198, 291652787.54877675])\n"
          ],
          "name": "stdout"
        },
        {
          "output_type": "display_data",
          "data": {
            "image/png": "[encoded data removed]",
            "text/plain": [
              "<Figure size 432x288 with 1 Axes>"
            ]
          },
          "metadata": {
            "tags": [],
            "needs_background": "light"
          }
        },
        {
          "output_type": "stream",
          "text": [
            "(array([ 7634.82594937,  7574.98275268,  7613.86152442, 12515.53549932,\n",
            "       12533.28364723, 15031.90255789, 20326.56294414, 21275.09030523,\n",
            "       21505.46557282, 21859.66435806]), array([11137.7674417 , 11142.82405831, 11185.52937477, 17569.44844854,\n",
            "       17550.98837999, 20698.4402528 , 27450.8239525 , 29006.6084409 ,\n",
            "       29246.68153011, 29944.85843539]), array([10322.91320796, 10312.87283031, 10354.68801595, 16393.80724168,\n",
            "       16383.76992827, 19380.29028043, 25793.5783897 , 27208.10272796,\n",
            "       27445.91990995, 28064.08062654]), array([13414.67088969, 13461.91222706, 13507.10478827, 20854.47957027,\n",
            "       20812.4842491 , 24381.67596881, 32081.57627588, 34032.07641968,\n",
            "       34278.45306936, 35200.21491582]), array([15365.31785415, 15448.69928239, 15496.02269215, 23668.80004198,\n",
            "       23606.64182409, 27537.14247541, 36048.79015611, 38337.44732442,\n",
            "       38589.22430017, 39702.53370093]), array([17872.60422721, 18002.43873434, 18052.50105466, 27286.21902997,\n",
            "       27198.14420231, 31593.05741888, 41148.09386515, 43871.40503026,\n",
            "       44130.12337688, 45489.64061607]))\n"
          ],
          "name": "stdout"
        }
      ]
    },
    {
      "cell_type": "code",
      "metadata": {
        "id": "nKPGRgJA0z-W",
        "colab_type": "code",
        "colab": {
          "base_uri": "https://localhost:8080/",
          "height": 319
        },
        "outputId": "35810a2a-59d7-40f8-bc01-a9967824ee2c"
      },
      "source": [
        "x=['2020/02/14','2020/02/21','2020/02/28','2020/03/06','2020/03/13','2020/03/20','2020/03/27','2020/04/3','2020/04/10','2020/04/17']\n",
        "\n",
        "df=PL2[0]\n",
        "mu=PL2[1]\n",
        "sigma=PL2[2]\n",
        "#sigma=np.sqrt(np.array(PL[1]))\n",
        "plt.plot(x,df,'r')\n",
        "#plt.plot(x,mu,'g')\n",
        "#plt.plot(x,sigma,'b')\n",
        "plt.title('degree of freedom vs time with t distribution')\n",
        "#plt.legend()\n",
        "plt.xticks(rotation=45)\n",
        "plt.show()\n"
      ],
      "execution_count": 41,
      "outputs": [
        {
          "output_type": "display_data",
          "data": {
            "image/png": "[encoded data removed]",
            "text/plain": [
              "<Figure size 432x288 with 1 Axes>"
            ]
          },
          "metadata": {
            "tags": [],
            "needs_background": "light"
          }
        }
      ]
    },
    {
      "cell_type": "code",
      "metadata": {
        "id": "NpUo80ij2TZL",
        "colab_type": "code",
        "colab": {}
      },
      "source": [
        "df=PL2[0]"
      ],
      "execution_count": 0,
      "outputs": []
    },
    {
      "cell_type": "code",
      "metadata": {
        "id": "zcnLp6fPw-as",
        "colab_type": "code",
        "colab": {
          "base_uri": "https://localhost:8080/",
          "height": 371
        },
        "outputId": "22379e3f-c392-479f-a229-2051869d34ba"
      },
      "source": [
        "PL2=Portloss_T()\n",
        "print(PL2)\n",
        "PL_T=plot_T(PL2)\n"
      ],
      "execution_count": 36,
      "outputs": [
        {
          "output_type": "stream",
          "text": [
            "([10.12556187224098, 39.058875914041664, 484032.0893835672, 2.8857148237965573, 2.7451778946537626, 2.2113405762173954, 1.8023650150851656, 1.597552933936971, 1.6873663613474634, 1.6090331440258918], [-2026.4011437156735, -2105.0909785858476, -2054.3924225297305, -2552.7167496606344, -2475.3223845605016, -2571.592274762037, -2531.1545845521478, -2415.1443291991095, -2115.9722574690513, -2032.5099799196287], [6655.982272701156, 7518.682269285349, 7544.237071897827, 5935.009411566307, 5711.411431016255, 5721.663431698867, 5774.927533574704, 5735.550859892192, 6104.172647884907, 6338.604662213016])\n"
          ],
          "name": "stdout"
        },
        {
          "output_type": "display_data",
          "data": {
            "image/png": "[encoded data removed]",
            "text/plain": [
              "<Figure size 432x288 with 1 Axes>"
            ]
          },
          "metadata": {
            "tags": [],
            "needs_background": "light"
          }
        }
      ]
    },
    {
      "cell_type": "code",
      "metadata": {
        "id": "8iyRn-ss5zIC",
        "colab_type": "code",
        "colab": {}
      },
      "source": [
        "print(PL_T)"
      ],
      "execution_count": 0,
      "outputs": []
    },
    {
      "cell_type": "code",
      "metadata": {
        "id": "gcVMWUSHotXm",
        "colab_type": "code",
        "colab": {}
      },
      "source": [
        "testt=getdata1('PORT_VALUE',0)[1]\n",
        "print(testt)\n"
      ],
      "execution_count": 0,
      "outputs": []
    },
    {
      "cell_type": "code",
      "metadata": {
        "id": "ptmSxYJvn66m",
        "colab_type": "code",
        "colab": {}
      },
      "source": [
        ""
      ],
      "execution_count": 0,
      "outputs": []
    },
    {
      "cell_type": "code",
      "metadata": {
        "id": "4aVy8tP2OnMC",
        "colab_type": "code",
        "colab": {}
      },
      "source": [
        "#print(BB2)"
      ],
      "execution_count": 0,
      "outputs": []
    },
    {
      "cell_type": "code",
      "metadata": {
        "id": "vp0jEO31oSON",
        "colab_type": "code",
        "colab": {}
      },
      "source": [
        "p=c*(np.exp(-r)-np.exp(-17*r))/(1-np.exp(-r))+F*np.exp(-16*r)\n",
        "print(p)"
      ],
      "execution_count": 0,
      "outputs": []
    },
    {
      "cell_type": "code",
      "metadata": {
        "id": "gPtVSebNqjek",
        "colab_type": "code",
        "colab": {}
      },
      "source": [
        "p2=c*(1-(1+r)**(-n))/r+F/((1+r)**n)\n",
        "print(p2)"
      ],
      "execution_count": 0,
      "outputs": []
    }
  ]
}