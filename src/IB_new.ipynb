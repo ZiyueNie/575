{
  "nbformat": 4,
  "nbformat_minor": 0,
  "metadata": {
    "colab": {
      "name": "IB_new.ipynb",
      "provenance": [],
      "authorship_tag": "ABX9TyMRmQ3i7xbcw1DX4PnkkbwA",
      "include_colab_link": true
    },
    "kernelspec": {
      "name": "python3",
      "display_name": "Python 3"
    }
  },
  "cells": [
    {
      "cell_type": "markdown",
      "metadata": {
        "id": "view-in-github",
        "colab_type": "text"
      },
      "source": [
        "<a href=\"https://colab.research.google.com/github/gannannavelorange/575/blob/master/src/IB_new.ipynb\" target=\"_parent\"><img src=\"https://colab.research.google.com/assets/colab-badge.svg\" alt=\"Open In Colab\"/></a>"
      ]
    },
    {
      "cell_type": "code",
      "metadata": {
        "id": "StWnZJgW6Fei",
        "colab_type": "code",
        "colab": {}
      },
      "source": [
        "!git clone https://github.com/gannannavelorange/575"
      ],
      "execution_count": 0,
      "outputs": []
    },
    {
      "cell_type": "code",
      "metadata": {
        "id": "XWzlwV7p6KOc",
        "colab_type": "code",
        "colab": {}
      },
      "source": [
        "cd 575/src/data_IB_project"
      ],
      "execution_count": 0,
      "outputs": []
    },
    {
      "cell_type": "code",
      "metadata": {
        "id": "vX1SpKag6Mho",
        "colab_type": "code",
        "colab": {}
      },
      "source": [
        "import numpy as np\n",
        "import matplotlib.pyplot as plt\n",
        "import math\n",
        "import csv\n",
        "import scipy.stats as ss\n",
        "from scipy.stats import norm\n",
        "from scipy.stats import t"
      ],
      "execution_count": 0,
      "outputs": []
    },
    {
      "cell_type": "markdown",
      "metadata": {
        "id": "FzL5waaN6wzQ",
        "colab_type": "text"
      },
      "source": [
        "# Stock&ETF"
      ]
    },
    {
      "cell_type": "code",
      "metadata": {
        "id": "rxOn-qzb6wA9",
        "colab_type": "code",
        "colab": {}
      },
      "source": [
        "#using WEEKLY log return\n",
        "names=['CAT','DIA','HD','MSFT','NKE','NVDA','PG','TM','VIG','VOO','WMT','GOOG','CHEF','SPB','ORCL']\n",
        "def getData(N):  \n",
        "    mu=np.zeros(15)\n",
        "    Is=[i for i in range(15)]\n",
        "    Rows=[]\n",
        "    for name,i in zip(names,Is):\n",
        "        with open(name+'.csv') as file:\n",
        "            reader=csv.reader(file)\n",
        "            rows=[row[2] for row in reader] \n",
        "        mu[i]=np.mean([float(row) for row in rows[1+N:53+N]]) #mean\n",
        "        Rows.append([float(row) for row in rows[1+N:53+N]])\n",
        "    Sigma=np.cov(np.array(Rows)) #covariance matrix\n",
        "    return mu,Sigma,rows"
      ],
      "execution_count": 0,
      "outputs": []
    },
    {
      "cell_type": "code",
      "metadata": {
        "id": "yXqR5muU8V66",
        "colab_type": "code",
        "colab": {}
      },
      "source": [
        "def getdata1(M):\n",
        "  with open(M+'.csv') as file:\n",
        "      reader=csv.reader(file)\n",
        "      rows=[row for row in reader]\n",
        "      DD=[row[0] for row in rows[1:62]]\n",
        "      DD=[float(d) for d in DD]\n",
        "  return DD"
      ],
      "execution_count": 0,
      "outputs": []
    },
    {
      "cell_type": "code",
      "metadata": {
        "id": "6TRbnHO09qR3",
        "colab_type": "code",
        "colab": {}
      },
      "source": [
        "#linearized loss mean&variance\n",
        "def lin_loss(Vt,Wt,mu,omega):\n",
        "  mean=-Vt*(np.dot(Wt,mu))\n",
        "  variance=(Vt**2)*(np.dot(np.dot(Wt,omega),Wt))\n",
        "  return mean,variance"
      ],
      "execution_count": 0,
      "outputs": []
    },
    {
      "cell_type": "code",
      "metadata": {
        "id": "58nKq0Ba92Bk",
        "colab_type": "code",
        "colab": {}
      },
      "source": [
        "MU=[]\n",
        "VAR=[]\n",
        "#rolling window for linearized loss using WEEKLY log return \n",
        "for i in range(0,10):\n",
        "  data3_m= getData(i+1)\n",
        "  mu3_m=data3_m[0]\n",
        "  omega3_m=data3_m[1]\n",
        "  vt=getdata1('PORT_VALUE')\n",
        "  wt=np.ones(15)*1/15\n",
        "  a3_m=lin_loss(vt[i+51],wt,mu3_m,omega3_m)\n",
        "  MU.append(a3_m[0])\n",
        "  VAR.append(a3_m[1])\n",
        "print(MU)\n",
        "print(VAR)"
      ],
      "execution_count": 0,
      "outputs": []
    }
  ]
}