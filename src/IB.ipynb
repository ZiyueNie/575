{
  "nbformat": 4,
  "nbformat_minor": 0,
  "metadata": {
    "colab": {
      "name": "IB.ipynb",
      "provenance": [],
      "authorship_tag": "ABX9TyNIdLvTSuRHp8D6c8bffRFx",
      "include_colab_link": true
    },
    "kernelspec": {
      "name": "python3",
      "display_name": "Python 3"
    }
  },
  "cells": [
    {
      "cell_type": "markdown",
      "metadata": {
        "id": "view-in-github",
        "colab_type": "text"
      },
      "source": [
        "<a href=\"https://colab.research.google.com/github/gannannavelorange/575/blob/master/src/IB.ipynb\" target=\"_parent\"><img src=\"https://colab.research.google.com/assets/colab-badge.svg\" alt=\"Open In Colab\"/></a>"
      ]
    },
    {
      "cell_type": "code",
      "metadata": {
        "id": "UrdGEWyUi_iQ",
        "colab_type": "code",
        "colab": {}
      },
      "source": [
        "!git clone https://github.com/gannannavelorange/575"
      ],
      "execution_count": 0,
      "outputs": []
    },
    {
      "cell_type": "code",
      "metadata": {
        "id": "0Dq_07UejB8L",
        "colab_type": "code",
        "colab": {}
      },
      "source": [
        "cd 575/src/data"
      ],
      "execution_count": 0,
      "outputs": []
    },
    {
      "cell_type": "code",
      "metadata": {
        "id": "olTd1k8LjCBj",
        "colab_type": "code",
        "colab": {
          "base_uri": "https://localhost:8080/",
          "height": 72
        },
        "outputId": "682df66f-e0a9-4e54-e2cd-556f213768ff"
      },
      "source": [
        "import numpy as np\n",
        "import pandas as pd\n",
        "import matplotlib\n",
        "import matplotlib.pyplot as plt\n",
        "import math\n",
        "import csv\n",
        "import seaborn as sns\n",
        "import statsmodels.api as sm\n",
        "import scipy.stats as ss\n",
        "from scipy.stats import norm\n",
        "from scipy.stats import t\n",
        "from scipy.stats import chisquare\n",
        "from sympy import *"
      ],
      "execution_count": 3,
      "outputs": [
        {
          "output_type": "stream",
          "text": [
            "/usr/local/lib/python3.6/dist-packages/statsmodels/tools/_testing.py:19: FutureWarning: pandas.util.testing is deprecated. Use the functions in the public API at pandas.testing instead.\n",
            "  import pandas.util.testing as tm\n"
          ],
          "name": "stderr"
        }
      ]
    },
    {
      "cell_type": "code",
      "metadata": {
        "id": "kT-G49XFyjUh",
        "colab_type": "code",
        "colab": {}
      },
      "source": [
        "t=1\n",
        "r=0.02\n",
        "S=110\n",
        "sigma=0.2\n",
        "K=100"
      ],
      "execution_count": 0,
      "outputs": []
    },
    {
      "cell_type": "code",
      "metadata": {
        "id": "nChK7Divy056",
        "colab_type": "code",
        "colab": {}
      },
      "source": [
        "def N(x):\n",
        "  cdf=norm.cdf(x,0,1)\n",
        "  return cdf\n",
        "def p(x):\n",
        "  pdf=norm.pdf(x,0,1)\n",
        "  return pdf"
      ],
      "execution_count": 0,
      "outputs": []
    },
    {
      "cell_type": "code",
      "metadata": {
        "id": "v0MhZtkTxhPV",
        "colab_type": "code",
        "outputId": "037845c0-16b2-4d4c-ef80-45b393d66133",
        "colab": {
          "base_uri": "https://localhost:8080/",
          "height": 52
        }
      },
      "source": [
        "d1=(ln(S/K)+(r+sigma**2/2)*t)/(sigma*np.sqrt(t))\n",
        "d2=d1-sigma*np.sqrt(t)\n",
        "#print(d1,d2)\n",
        "#p(float(d1))\n"
      ],
      "execution_count": 0,
      "outputs": [
        {
          "output_type": "stream",
          "text": [
            "0.676550899021625 0.476550899021625\n"
          ],
          "name": "stdout"
        },
        {
          "output_type": "execute_result",
          "data": {
            "text/plain": [
              "0.31733442501605436"
            ]
          },
          "metadata": {
            "tags": []
          },
          "execution_count": 40
        }
      ]
    },
    {
      "cell_type": "code",
      "metadata": {
        "id": "Ye02MyRLwkZ_",
        "colab_type": "code",
        "outputId": "9ee46c8d-d857-4248-8884-dd70a8bec081",
        "colab": {
          "base_uri": "https://localhost:8080/",
          "height": 35
        }
      },
      "source": [
        "theta_C=-S*sigma/(2*np.sqrt(t))*np.exp(-float(d1)**2/2)/np.sqrt(2*np.pi)-r*K*np.exp(-r*t)*N(float(d2))\n",
        "theta_P=-S*sigma/(2*np.sqrt(t))*np.exp(-float(d1)**2/2)/np.sqrt(2*np.pi)+r*K*np.exp(-r*t)*N(float(-d2))\n",
        "#theta=-S*sigma/(2*np.sqrt(t))*p(float(d1))-r*K*np.exp(-r*t)*N(float(d2))\n",
        "print(theta_P)"
      ],
      "execution_count": 0,
      "outputs": [
        {
          "output_type": "stream",
          "text": [
            "-2.8695444639416605\n"
          ],
          "name": "stdout"
        }
      ]
    },
    {
      "cell_type": "code",
      "metadata": {
        "id": "hQLj9rQE5tkG",
        "colab_type": "code",
        "colab": {}
      },
      "source": [
        "delta_C=N(float(d1))\n",
        "delta_P=N(float(d1))-1"
      ],
      "execution_count": 0,
      "outputs": []
    },
    {
      "cell_type": "code",
      "metadata": {
        "id": "OpYiOTmr6Gfg",
        "colab_type": "code",
        "colab": {}
      },
      "source": [
        "rho_C=K*t*np.exp(-r*t)*N(float(d2))\n",
        "rho_P=-K*t*np.exp(-r*t)*N(float(-d2))"
      ],
      "execution_count": 0,
      "outputs": []
    },
    {
      "cell_type": "code",
      "metadata": {
        "id": "221hsbXO3OJS",
        "colab_type": "code",
        "outputId": "ed2067a5-bea3-4872-c63b-31f4cc6cd551",
        "colab": {
          "base_uri": "https://localhost:8080/",
          "height": 35
        }
      },
      "source": [
        "#vega=1/100*S*np.sqrt(t)*np.exp(-float(d1)**2/2)/np.sqrt(2*np.pi)\n",
        "vega=S*np.sqrt(t)*np.exp(-float(d1)**2/2)/np.sqrt(2*np.pi)\n",
        "print(vega)"
      ],
      "execution_count": 0,
      "outputs": [
        {
          "output_type": "stream",
          "text": [
            "34.90678675176598\n"
          ],
          "name": "stdout"
        }
      ]
    },
    {
      "cell_type": "code",
      "metadata": {
        "id": "jdWopj9T-LXr",
        "colab_type": "code",
        "colab": {}
      },
      "source": [
        "'''\n",
        "def linloss_option(theta,b,c,d):\n",
        "  L=-(theta*(1/250)+delta*net_return+tho*r_changed+vega*sigma_changed)\n",
        "  return L"
      ],
      "execution_count": 0,
      "outputs": []
    },
    {
      "cell_type": "code",
      "metadata": {
        "id": "E7FhOk8lupDx",
        "colab_type": "code",
        "colab": {}
      },
      "source": [
        "'''\n",
        "x, y = symbols('x, y')\n",
        "z = x**2+y**2+x*y+2\n",
        "print(z)\n",
        "result = z.subs({x: 1, y: 2})  \n",
        "print(result)\n",
        "dx = diff(z, x)\n"
      ],
      "execution_count": 0,
      "outputs": []
    },
    {
      "cell_type": "code",
      "metadata": {
        "id": "VLXIkGr105Kv",
        "colab_type": "code",
        "colab": {}
      },
      "source": [
        "c=1.75/100*1000/2\n",
        "n=16\n",
        "#r=-0.115/100\n",
        "r=-0.098/100/2\n",
        "F=1000"
      ],
      "execution_count": 0,
      "outputs": []
    },
    {
      "cell_type": "code",
      "metadata": {
        "id": "ALb2M6nJ0gO3",
        "colab_type": "code",
        "colab": {
          "base_uri": "https://localhost:8080/",
          "height": 35
        },
        "outputId": "3d94463c-a479-4718-c438-472fb5ec4eaf"
      },
      "source": [
        "p=c*(np.exp(-r)-np.exp(-17*r))/(1-np.exp(-r))+F*np.exp(-16*r)\n",
        "print(p)"
      ],
      "execution_count": 28,
      "outputs": [
        {
          "output_type": "stream",
          "text": [
            "1148.4554879057312\n"
          ],
          "name": "stdout"
        }
      ]
    },
    {
      "cell_type": "code",
      "metadata": {
        "id": "e4CxC4J92Tm0",
        "colab_type": "code",
        "colab": {
          "base_uri": "https://localhost:8080/",
          "height": 35
        },
        "outputId": "e5b4056b-b490-4cd9-d70b-b6522fce9eb9"
      },
      "source": [
        "p2=c*(1-(1+r)**(-n))/r+F/((1+r)**n)\n",
        "print(p2)"
      ],
      "execution_count": 29,
      "outputs": [
        {
          "output_type": "stream",
          "text": [
            "1148.4575681373638\n"
          ],
          "name": "stdout"
        }
      ]
    },
    {
      "cell_type": "code",
      "metadata": {
        "id": "mNTZfS2ZAFYz",
        "colab_type": "code",
        "colab": {
          "base_uri": "https://localhost:8080/",
          "height": 35
        },
        "outputId": "ac00aaf5-758c-4916-b7b8-8611606f400c"
      },
      "source": [
        "zp=F*np.exp(-16*r)\n",
        "print(zp)\n"
      ],
      "execution_count": 21,
      "outputs": [
        {
          "output_type": "stream",
          "text": [
            "1015.8035762470046\n"
          ],
          "name": "stdout"
        }
      ]
    },
    {
      "cell_type": "code",
      "metadata": {
        "id": "qNUgSEz2AfoP",
        "colab_type": "code",
        "colab": {
          "base_uri": "https://localhost:8080/",
          "height": 35
        },
        "outputId": "62fd511e-44b7-49cb-f9b5-451f1fad507a"
      },
      "source": [
        "cc=0\n",
        "for i in range(1,17):\n",
        " dd=np.exp(-i*r)\n",
        " cc=cc+dd\n",
        "print(cc)"
      ],
      "execution_count": 25,
      "outputs": [
        {
          "output_type": "stream",
          "text": [
            "16.13400128997805\n"
          ],
          "name": "stdout"
        }
      ]
    },
    {
      "cell_type": "code",
      "metadata": {
        "id": "aqp3nHk4BGuW",
        "colab_type": "code",
        "colab": {
          "base_uri": "https://localhost:8080/",
          "height": 35
        },
        "outputId": "7eec8f48-9fda-41f1-bcc5-c8b43f129426"
      },
      "source": [
        "p=c*cc+F*np.exp(-16*r)\n",
        "print(p)"
      ],
      "execution_count": 26,
      "outputs": [
        {
          "output_type": "stream",
          "text": [
            "1156.9760875343125\n"
          ],
          "name": "stdout"
        }
      ]
    }
  ]
}