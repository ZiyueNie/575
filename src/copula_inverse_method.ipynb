{
  "nbformat": 4,
  "nbformat_minor": 0,
  "metadata": {
    "colab": {
      "name": "copula_inverse_method.ipynb",
      "provenance": [],
      "authorship_tag": "ABX9TyNr9ge+1PRi7IoVhmZwMocn",
      "include_colab_link": true
    },
    "kernelspec": {
      "name": "python3",
      "display_name": "Python 3"
    }
  },
  "cells": [
    {
      "cell_type": "markdown",
      "metadata": {
        "id": "view-in-github",
        "colab_type": "text"
      },
      "source": [
        "<a href=\"https://colab.research.google.com/github/gannannavelorange/575/blob/master/src/copula_inverse_method.ipynb\" target=\"_parent\"><img src=\"https://colab.research.google.com/assets/colab-badge.svg\" alt=\"Open In Colab\"/></a>"
      ]
    },
    {
      "cell_type": "code",
      "metadata": {
        "id": "7I1t0WZWXpU8",
        "colab_type": "code",
        "colab": {}
      },
      "source": [
        "import numpy as np\n",
        "from numpy.linalg import cholesky\n",
        "import matplotlib.pyplot as plt\n",
        "import scipy.stats as ss\n",
        "from scipy.stats import norm\n",
        "from scipy.stats import t"
      ],
      "execution_count": 0,
      "outputs": []
    },
    {
      "cell_type": "code",
      "metadata": {
        "id": "qtsnWfmib3B_",
        "colab_type": "code",
        "colab": {}
      },
      "source": [
        "def Norm(L1,L2,U1):\n",
        " sampleNo = 1\n",
        " mu = np.array([[1/L1, 1/L2,U1,U1,0]])\n",
        " Sigma = np.array([[1.0700, 0.1000 ,1.4900, 0.3000, 0.3300],\n",
        "                  [0.1000, 2.7100 ,0.0100 ,0.0900 ,0.8200],\n",
        "                  [1.4900 ,0.0100, 2.3800 ,0.7400 ,0.2500],\n",
        "                  [0.3000 ,0.0900 ,0.7400, 1.0900 ,0.1100],\n",
        "                  [0.3300 ,0.8200 ,0.2500 ,0.1100, 0.5300]])\n",
        " R = cholesky(Sigma)\n",
        " s = np.dot(np.random.randn(sampleNo, 5), R) + mu\n",
        " #print(s)\n",
        " sample=s[0]\n",
        " S1=ss.expon.ppf(norm.cdf(sample[0],1/L1,np.sqrt(1.0700)),1/L1,1/L1)\n",
        " S2=ss.expon.ppf(norm.cdf(sample[1],1/L2,np.sqrt(2.7100)),1/L2,1/L2)\n",
        " S3=ss.chi2.ppf(norm.cdf(sample[2],U1,np.sqrt(2.3800)),U1)\n",
        " S4=ss.chi2.ppf(norm.cdf(sample[3],U1,np.sqrt(1.0900)),U1)\n",
        " S5=norm.ppf(norm.cdf(sample[4],0,np.sqrt(0.5300)))\n",
        " print(S1,S2,S3,S4,S5)"
      ],
      "execution_count": 0,
      "outputs": []
    },
    {
      "cell_type": "code",
      "metadata": {
        "id": "TJMrrdAQfox_",
        "colab_type": "code",
        "colab": {
          "base_uri": "https://localhost:8080/",
          "height": 35
        },
        "outputId": "45c611c7-a297-461b-f401-9bc8a1f08a58"
      },
      "source": [
        "def T(L1,L2,U1,U):\n",
        " sampleNo = 1\n",
        " mu = np.array([[1/L1, 1/L2,U1,U1,0]])\n",
        " Sigma = np.array([[1.0700, 0.1000 ,1.4900, 0.3000, 0.3300],\n",
        "                  [0.1000, 2.7100 ,0.0100 ,0.0900 ,0.8200],\n",
        "                  [1.4900 ,0.0100, 2.3800 ,0.7400 ,0.2500],\n",
        "                  [0.3000 ,0.0900 ,0.7400, 1.0900 ,0.1100],\n",
        "                  [0.3300 ,0.8200 ,0.2500 ,0.1100, 0.5300]])\n",
        " R = cholesky(Sigma)\n",
        " s = np.dot(np.random.randn(sampleNo, 5), R) + mu\n",
        " #print(s)\n",
        " sample=s[0]\n",
        " S1=ss.expon.ppf(norm.cdf(sample[0],1/L1,np.sqrt(1.0700)),1/L1,1/L1)\n",
        " S2=ss.expon.ppf(norm.cdf(sample[1],1/L2,np.sqrt(2.7100)),1/L2,1/L2)\n",
        " S3=ss.chi2.ppf(norm.cdf(sample[2],U1,np.sqrt(2.3800)),U1)\n",
        " S4=ss.chi2.ppf(norm.cdf(sample[3],U1,np.sqrt(1.0900)),U1)\n",
        " S5=norm.ppf(norm.cdf(sample[4],0,np.sqrt(0.5300)))\n",
        " print(S1,S2,S3,S4,S5)"
      ],
      "execution_count": 42,
      "outputs": [
        {
          "output_type": "stream",
          "text": [
            "1.0003586147881303 1.7894803965191342 7.985685607482915 14.493744559512448 0.28319295072100303\n"
          ],
          "name": "stdout"
        }
      ]
    },
    {
      "cell_type": "code",
      "metadata": {
        "id": "T1dB4FFvnwoz",
        "colab_type": "code",
        "colab": {
          "base_uri": "https://localhost:8080/",
          "height": 35
        },
        "outputId": "23bc6e4a-f0ff-4c27-9155-7ca2042ff60f"
      },
      "source": [
        "a=Norm(2,3,10)"
      ],
      "execution_count": 45,
      "outputs": [
        {
          "output_type": "stream",
          "text": [
            "0.5943986059289308 0.49975323931181426 8.35941337531055 12.676537910854485 0.11535323200653254\n"
          ],
          "name": "stdout"
        }
      ]
    },
    {
      "cell_type": "code",
      "metadata": {
        "id": "XbbVaNXbdwQO",
        "colab_type": "code",
        "colab": {}
      },
      "source": [
        "'''\n",
        "1.0700, 0.1000 ,1.4900, 0.3000, 0.3300\n",
        "0.1000, 2.7100 ,0.0100 ,0.0900 ,0.8200\n",
        "1.4900 ,0.0100, 2.3800 ,0.7400 ,0.2500\n",
        "0.3000 ,0.0900 ,0:7400, 1.0900 ,0.1100\n",
        "0.3300 ,0.8200 ,0.2500 ,0.1100, 0.5300"
      ],
      "execution_count": 0,
      "outputs": []
    },
    {
      "cell_type": "code",
      "metadata": {
        "id": "0MhnrBg-XgJb",
        "colab_type": "code",
        "outputId": "a6af2683-be4d-48ae-ee08-3b40fa7c23da",
        "colab": {
          "base_uri": "https://localhost:8080/",
          "height": 369
        }
      },
      "source": [
        "sampleNo = 6;\n",
        "mu = np.array([[8, 5]])\n",
        "Sigma = np.array([[1, 0.5], [1.5, 3]])\n",
        "R = cholesky(Sigma)\n",
        "s = np.dot(np.random.randn(sampleNo, 2), R) + mu\n",
        "print(s)\n",
        "plt.subplot(144) # 注意绘制的是散点图，而不是直方图\n",
        "plt.plot(s[:,0],s[:,1],'+')\n",
        "plt.show()"
      ],
      "execution_count": 0,
      "outputs": [
        {
          "output_type": "stream",
          "text": [
            "[[ 9.28567968  5.28663697]\n",
            " [ 6.29704017  3.61152633]\n",
            " [ 9.58365052  6.02895376]\n",
            " [ 4.92133975  3.89222964]\n",
            " [10.15641071  6.43505947]\n",
            " [ 9.16575698  5.007001  ]]\n"
          ],
          "name": "stdout"
        },
        {
          "output_type": "display_data",
          "data": {
            "image/png": "[encoded data removed]",
            "text/plain": [
              "<Figure size 432x288 with 1 Axes>"
            ]
          },
          "metadata": {
            "tags": [],
            "needs_background": "light"
          }
        }
      ]
    },
    {
      "cell_type": "code",
      "metadata": {
        "id": "fM4cLgr-ajOA",
        "colab_type": "code",
        "outputId": "5bca35cb-9e79-4ecc-a8e2-fc88e416d9e6",
        "colab": {
          "base_uri": "https://localhost:8080/",
          "height": 35
        }
      },
      "source": [
        "mean = (1, 2)\n",
        "cov = [[1, 0], [0, 1]]\n",
        "x = np.random.multivariate_normal(mean, cov, (1, 1), 'raise')\n",
        "#x = np.random.multivariate_normal(mean, cov, (2, 3), 'raise')\n",
        "print(x)"
      ],
      "execution_count": 0,
      "outputs": [
        {
          "output_type": "stream",
          "text": [
            "[[[1.19733878 1.44474753]]]\n"
          ],
          "name": "stdout"
        }
      ]
    }
  ]
}