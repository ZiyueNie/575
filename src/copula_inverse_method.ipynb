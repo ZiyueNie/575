{
  "nbformat": 4,
  "nbformat_minor": 0,
  "metadata": {
    "colab": {
      "name": "copula_inverse_method.ipynb",
      "provenance": [],
      "authorship_tag": "ABX9TyOUwqjXwwPDoeDYt9ZB7WO0",
      "include_colab_link": true
    },
    "kernelspec": {
      "name": "python3",
      "display_name": "Python 3"
    }
  },
  "cells": [
    {
      "cell_type": "markdown",
      "metadata": {
        "id": "view-in-github",
        "colab_type": "text"
      },
      "source": [
        "<a href=\"https://colab.research.google.com/github/gannannavelorange/575/blob/master/src/copula_inverse_method.ipynb\" target=\"_parent\"><img src=\"https://colab.research.google.com/assets/colab-badge.svg\" alt=\"Open In Colab\"/></a>"
      ]
    },
    {
      "cell_type": "markdown",
      "metadata": {
        "id": "iUgtH5k21ccr",
        "colab_type": "text"
      },
      "source": [
        "**Problem 1**\n",
        "$$F_{X_1}(x_1)=P(X_1\\le x_1)=P(X_1\\le x_1, x_2 <\\infty)=\\lim_{x_2\\to\\infty}F(x_1,x_2)=\\frac{1}{1+e^{-x_1}}$$\n",
        "$$F_{X_2}(x_2)=P(X_2\\le 2_1)=P(X_2\\le x_2, x_1 <\\infty)=\\lim_{x_1\\to\\infty}F(x_1,x_2)=\\frac{1}{1+e^{-x_2}}$$\n",
        "$$C_X(u_1,u_2)=P(F_{X_1}(x_1)\\le u_1,F_{X_2}(x_2)\\le u_2)=P(X_1\\le F_{X_1}^{-}(u_1),X_2\\le F_{X_2}^{-}(u_2))=F(F_{X_1}^{-}(u_1),F_{X_2}^{-}(u_2))$$\n",
        "Since $$F_{X_1}^{-}(u_1)=ln\\frac{u_1}{1-u_1}$$ $$F_{X_2}^{-}(u_2)=ln\\frac{u_2}{1-u_2}$$ then\n",
        "$$F(F_{X_1}^{-}(u_1),F_{X_2}^{-}(u_2))=\\frac{u_1u_2}{u_1+u_2-u_1u_2}$$"
      ]
    },
    {
      "cell_type": "markdown",
      "metadata": {
        "id": "DtaZTJGz3gyI",
        "colab_type": "text"
      },
      "source": [
        "**Problem 2**"
      ]
    },
    {
      "cell_type": "code",
      "metadata": {
        "id": "7I1t0WZWXpU8",
        "colab_type": "code",
        "colab": {}
      },
      "source": [
        "import numpy as np\n",
        "from numpy.linalg import cholesky\n",
        "import matplotlib.pyplot as plt\n",
        "import scipy.stats as ss\n",
        "from scipy.stats import norm\n",
        "from scipy.stats import t"
      ],
      "execution_count": 0,
      "outputs": []
    },
    {
      "cell_type": "markdown",
      "metadata": {
        "id": "k_1-skIIrap7",
        "colab_type": "text"
      },
      "source": [
        "Let $Y=[Y_1,Y_2,Y_3,Y_4,Y_5]\\sim N(\\mu,\\Sigma)$ ,\n",
        "where $ \\mu=[\\frac{1}{\\lambda_1},\\frac{1}{\\lambda_2},\\upsilon_1,\\upsilon_1,0]$ and $\\Sigma$ is the given covariance matrix. \\\\\n",
        "Define$X_i=F_i^{-1}(N(Y_i))  \\quad(\\star)$,  then $X_i$ has the CDF $F_i$. \\\\\n",
        "The following function 'Norm' generates a 5 dimensional multivariate Gaussian random variable, and then gives a sample random vector by $(\\star)$."
      ]
    },
    {
      "cell_type": "code",
      "metadata": {
        "id": "qtsnWfmib3B_",
        "colab_type": "code",
        "colab": {}
      },
      "source": [
        "def Norm(L1,L2,U1):    #L1=lambda1, L2=lambda2 , U1=dof1 for chi2\n",
        " sampleNo = 1\n",
        " mu = np.array([[1/L1, 1/L2,U1,U1,0]])   \n",
        " Sigma = np.array([[1.0700, 0.1000 ,1.4900, 0.3000, 0.3300],\n",
        "                  [0.1000, 2.7100 ,0.0100 ,0.0900 ,0.8200],\n",
        "                  [1.4900 ,0.0100, 2.3800 ,0.7400 ,0.2500],\n",
        "                  [0.3000 ,0.0900 ,0.7400, 1.0900 ,0.1100],\n",
        "                  [0.3300 ,0.8200 ,0.2500 ,0.1100, 0.5300]])\n",
        " R = cholesky(Sigma)\n",
        " s = np.dot(np.random.randn(sampleNo, 5), R) + mu\n",
        " #print(s)\n",
        " sample=s[0]\n",
        " S1=ss.expon.ppf(norm.cdf(sample[0],1/L1,np.sqrt(1.0700)),1/L1,1/L1)\n",
        " S2=ss.expon.ppf(norm.cdf(sample[1],1/L2,np.sqrt(2.7100)),1/L2,1/L2)\n",
        " S3=ss.chi2.ppf(norm.cdf(sample[2],U1,np.sqrt(2.3800)),U1)\n",
        " S4=ss.chi2.ppf(norm.cdf(sample[3],U1,np.sqrt(1.0900)),U1)\n",
        " S5=norm.ppf(norm.cdf(sample[4],0,np.sqrt(0.5300)))\n",
        " print(S1,S2,S3,S4,S5)"
      ],
      "execution_count": 0,
      "outputs": []
    },
    {
      "cell_type": "code",
      "metadata": {
        "id": "T1dB4FFvnwoz",
        "colab_type": "code",
        "colab": {
          "base_uri": "https://localhost:8080/",
          "height": 35
        },
        "outputId": "443f6069-ef8c-4696-dad7-f177911b27ee"
      },
      "source": [
        "sample1=Norm(2,3,10)"
      ],
      "execution_count": 59,
      "outputs": [
        {
          "output_type": "stream",
          "text": [
            "0.6974519234575625 0.44969236352923947 9.060714271640064 9.873826395972618 0.0729270419399809\n"
          ],
          "name": "stdout"
        }
      ]
    },
    {
      "cell_type": "markdown",
      "metadata": {
        "id": "Sw_6ohQrx7sw",
        "colab_type": "text"
      },
      "source": [
        "The following function 'T' generates a 5 dimensional random variable with multivariate t distribution, and then gives a sample random vector by $X_i=F_i^{-1}(t_{\\upsilon}(Y_i)$."
      ]
    },
    {
      "cell_type": "code",
      "metadata": {
        "id": "TJMrrdAQfox_",
        "colab_type": "code",
        "colab": {}
      },
      "source": [
        "def T(L1,L2,U1,U): #U=dof for t distribution\n",
        "  sampleNo = 1\n",
        "  mu = np.array([[1/L1, 1/L2,U1,U1,0]])\n",
        "  Sigma = np.array([[1.0700, 0.1000 ,1.4900, 0.3000, 0.3300],\n",
        "                  [0.1000, 2.7100 ,0.0100 ,0.0900 ,0.8200],\n",
        "                  [1.4900 ,0.0100, 2.3800 ,0.7400 ,0.2500],\n",
        "                  [0.3000 ,0.0900 ,0.7400, 1.0900 ,0.1100],\n",
        "                  [0.3300 ,0.8200 ,0.2500 ,0.1100, 0.5300]])\n",
        "  d = len(Sigma)\n",
        "  g = np.tile(np.random.gamma(U/2.,2./U,sampleNo),(d,1)).T\n",
        "  Z = np.random.multivariate_normal(np.zeros(d),Sigma,sampleNo)\n",
        "  s= mu + Z/np.sqrt(g)\n",
        "  sample=s[0]\n",
        "  S1=ss.expon.ppf(t.cdf(sample[0],U,1/L1,np.sqrt(1.0700)),1/L1,1/L1)\n",
        "  S2=ss.expon.ppf(t.cdf(sample[1],U,1/L2,np.sqrt(2.7100)),1/L2,1/L2)\n",
        "  S3=ss.chi2.ppf(t.cdf(sample[2],U,U1,np.sqrt(2.3800)),U1)\n",
        "  S4=ss.chi2.ppf(t.cdf(sample[3],U,U1,np.sqrt(1.0900)),U1)\n",
        "  S5=norm.ppf(t.cdf(sample[4],U,0,np.sqrt(0.5300)))\n",
        "  print(S1,S2,S3,S4,S5)"
      ],
      "execution_count": 0,
      "outputs": []
    },
    {
      "cell_type": "code",
      "metadata": {
        "id": "yEVkKf0tpFnw",
        "colab_type": "code",
        "colab": {
          "base_uri": "https://localhost:8080/",
          "height": 35
        },
        "outputId": "abb2096b-ff9f-41f2-ea6c-b7ff51fd43ea"
      },
      "source": [
        "sample2=T(2,3,10,5)"
      ],
      "execution_count": 60,
      "outputs": [
        {
          "output_type": "stream",
          "text": [
            "1.1277104323471443 0.6757384716657135 11.949554907335775 10.28900561896707 0.6088109354900529\n"
          ],
          "name": "stdout"
        }
      ]
    }
  ]
}