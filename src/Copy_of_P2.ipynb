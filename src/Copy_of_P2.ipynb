{
  "nbformat": 4,
  "nbformat_minor": 0,
  "metadata": {
    "colab": {
      "name": "Copy of P2.ipynb",
      "provenance": [],
      "collapsed_sections": [],
      "authorship_tag": "ABX9TyOnrpfSXXVK3mpAte0GphwA",
      "include_colab_link": true
    },
    "kernelspec": {
      "name": "python3",
      "display_name": "Python 3"
    }
  },
  "cells": [
    {
      "cell_type": "markdown",
      "metadata": {
        "id": "view-in-github",
        "colab_type": "text"
      },
      "source": [
        "<a href=\"https://colab.research.google.com/github/gannannavelorange/575/blob/master/src/Copy_of_P2.ipynb\" target=\"_parent\"><img src=\"https://colab.research.google.com/assets/colab-badge.svg\" alt=\"Open In Colab\"/></a>"
      ]
    },
    {
      "cell_type": "code",
      "metadata": {
        "id": "PSTfdBJJDCLW",
        "colab_type": "code",
        "outputId": "7144707e-c72e-4cde-89f3-470955d03e04",
        "colab": {
          "base_uri": "https://localhost:8080/",
          "height": 139
        }
      },
      "source": [
        "!git clone https://github.com/gannannavelorange/575"
      ],
      "execution_count": 0,
      "outputs": [
        {
          "output_type": "stream",
          "text": [
            "Cloning into '575'...\n",
            "remote: Enumerating objects: 116, done.\u001b[K\n",
            "remote: Counting objects: 100% (116/116), done.\u001b[K\n",
            "remote: Compressing objects: 100% (92/92), done.\u001b[K\n",
            "remote: Total 116 (delta 22), reused 0 (delta 0), pack-reused 0\u001b[K\n",
            "Receiving objects: 100% (116/116), 577.80 KiB | 6.28 MiB/s, done.\n",
            "Resolving deltas: 100% (22/22), done.\n"
          ],
          "name": "stdout"
        }
      ]
    },
    {
      "cell_type": "code",
      "metadata": {
        "id": "_pO8DkP3DEk7",
        "colab_type": "code",
        "outputId": "af50243d-3751-4cb9-b3ef-eb3e28c83400",
        "colab": {
          "base_uri": "https://localhost:8080/",
          "height": 35
        }
      },
      "source": [
        "cd 575/src/data"
      ],
      "execution_count": 0,
      "outputs": [
        {
          "output_type": "stream",
          "text": [
            "/content/575/src/data\n"
          ],
          "name": "stdout"
        }
      ]
    },
    {
      "cell_type": "code",
      "metadata": {
        "id": "Vn44rz1ODGZ4",
        "colab_type": "code",
        "colab": {}
      },
      "source": [
        "import numpy as np\n",
        "import pandas as pd\n",
        "import matplotlib.pyplot as plt\n",
        "import math\n",
        "import csv\n",
        "import statsmodels.api as sm\n",
        "import scipy.stats as ss\n",
        "from scipy.stats import norm\n",
        "from scipy.stats import t\n",
        "from scipy.stats import chisquare\n"
      ],
      "execution_count": 0,
      "outputs": []
    },
    {
      "cell_type": "code",
      "metadata": {
        "id": "iryEtE1AJIIH",
        "colab_type": "code",
        "colab": {}
      },
      "source": [
        "mu=np.zeros(11)\n",
        "names=['CAT','DIA','HD','MSFT','NKE','NVDA','PG','TM','VIG','VOO','WMT']\n",
        "def getData(n=None):\n",
        "    Is=[i for i in range(11)]\n",
        "    Rows=[]\n",
        "    for name,i in zip(names,Is):\n",
        "        with open(name+'.csv') as file:\n",
        "            reader=csv.reader(file)\n",
        "            rows=[row[2] for row in reader]\n",
        "        mu[i]=np.mean([float(row) for row in rows[1:n]])\n",
        "        Rows.append([float(row) for row in rows[1:n]])\n",
        "    Omega=np.cov(np.array(Rows))\n",
        "    return mu,Omega"
      ],
      "execution_count": 0,
      "outputs": []
    },
    {
      "cell_type": "markdown",
      "metadata": {
        "id": "SW3ZwBSEZUOI",
        "colab_type": "text"
      },
      "source": [
        ""
      ]
    },
    {
      "cell_type": "code",
      "metadata": {
        "id": "uBGJnOHO3Eqd",
        "colab_type": "code",
        "colab": {}
      },
      "source": [
        "def lin_loss(Vt,Wt,mu,omega):\n",
        "  exp=-Vt*(np.dot(Wt,mu))\n",
        "  var=(Vt**2)*(np.dot(np.dot(Wt,omega),Wt))\n",
        "  return exp,var"
      ],
      "execution_count": 0,
      "outputs": []
    },
    {
      "cell_type": "code",
      "metadata": {
        "id": "qqrl7qAoO9Gt",
        "colab_type": "code",
        "colab": {}
      },
      "source": [
        "'''\n",
        "def loss(Vt,Wt,mu,omega):\n",
        "  exp=-Vt*(np.dot(Wt,np.exp(mu))-np.dot(mu,np.ones(11)))\n",
        "  var=(Vt**2)*(np.dot(np.dot(Wt,omega),Wt))\n",
        "  return exp,var"
      ],
      "execution_count": 0,
      "outputs": []
    },
    {
      "cell_type": "code",
      "metadata": {
        "id": "8rQHssYcd_tM",
        "colab_type": "code",
        "colab": {}
      },
      "source": [
        "mu=getData(1006)[0]      #1007 20151231 1/1 LOG RETURN\n",
        "omega=getData(1006)[1]\n",
        "#print(omega)\n",
        "vt=1\n",
        "wt=np.ones(11)*1/11\n",
        "a=lin_loss(vt,wt,mu,omega)\n",
        "exp=a[0]\n",
        "var=a[1]\n"
      ],
      "execution_count": 0,
      "outputs": []
    },
    {
      "cell_type": "code",
      "metadata": {
        "id": "Zz6MPFGJWmGp",
        "colab_type": "code",
        "outputId": "fad03e88-aea3-4174-b9a5-65874c1be007",
        "colab": {
          "base_uri": "https://localhost:8080/",
          "height": 52
        }
      },
      "source": [
        "'''\n",
        "mu=getData(1006)[0]\n",
        "print(mu)\n",
        "omega=getData(1008)[1]"
      ],
      "execution_count": 0,
      "outputs": [
        {
          "output_type": "stream",
          "text": [
            "[-0.00020644  0.00043225  0.00122111  0.00083613  0.00108104  0.00091106\n",
            "  0.00029807  0.00068783  0.00042702  0.00055177  0.00011614]\n"
          ],
          "name": "stdout"
        }
      ]
    },
    {
      "cell_type": "code",
      "metadata": {
        "id": "24J77HXdzFc9",
        "colab_type": "code",
        "colab": {}
      },
      "source": [
        "def normfun(x,mu,sigma):\n",
        "    pdf = np.exp(-((x - mu)**2)/(2*sigma**2)) / (sigma * np.sqrt(2*np.pi))\n",
        "    return pdf"
      ],
      "execution_count": 0,
      "outputs": []
    },
    {
      "cell_type": "code",
      "metadata": {
        "id": "LynKTLZc2MNa",
        "colab_type": "code",
        "colab": {}
      },
      "source": [
        "#48  ??????????"
      ],
      "execution_count": 0,
      "outputs": []
    },
    {
      "cell_type": "code",
      "metadata": {
        "id": "d2kAdH3rKgic",
        "colab_type": "code",
        "outputId": "150ce5bb-23c2-40ea-d3b8-7473b1c2dd5a",
        "colab": {
          "base_uri": "https://localhost:8080/",
          "height": 299
        }
      },
      "source": [
        "x = np.linspace (exp-4*var, exp+4*var)\n",
        "y = normfun(x, exp, var)\n",
        "plt.plot(x,y)\n",
        "plt.title('pdf of linearized loss distribution')\n"
      ],
      "execution_count": 0,
      "outputs": [
        {
          "output_type": "execute_result",
          "data": {
            "text/plain": [
              "Text(0.5, 1.0, 'pdf of linearized loss distribution')"
            ]
          },
          "metadata": {
            "tags": []
          },
          "execution_count": 56
        },
        {
          "output_type": "display_data",
          "data": {
            "image/png": "[encoded data removed]",
            "text/plain": [
              "<Figure size 432x288 with 1 Axes>"
            ]
          },
          "metadata": {
            "tags": []
          }
        }
      ]
    },
    {
      "cell_type": "code",
      "metadata": {
        "id": "RJG30DEZsOFr",
        "colab_type": "code",
        "outputId": "370a0f32-d074-4339-8e1c-9212d242c73f",
        "colab": {
          "base_uri": "https://localhost:8080/",
          "height": 299
        }
      },
      "source": [
        "plt.plot(x, norm.cdf (x, exp, var),'g')\n",
        "plt.title('cdf of linearized loss distribution')"
      ],
      "execution_count": 0,
      "outputs": [
        {
          "output_type": "execute_result",
          "data": {
            "text/plain": [
              "Text(0.5, 1.0, 'cdf of linearized loss distribution')"
            ]
          },
          "metadata": {
            "tags": []
          },
          "execution_count": 57
        },
        {
          "output_type": "display_data",
          "data": {
            "image/png": "[encoded data removed]",
            "text/plain": [
              "<Figure size 432x288 with 1 Axes>"
            ]
          },
          "metadata": {
            "tags": []
          }
        }
      ]
    },
    {
      "cell_type": "code",
      "metadata": {
        "id": "SH9_7DAhg8kB",
        "colab_type": "code",
        "colab": {}
      },
      "source": [
        "'''\n",
        "with open('loss.csv') as file:\n",
        "      reader=csv.reader(file)\n",
        "      rows=[row[1] for row in reader]\n",
        "      #print(rows)\n",
        "      mu_loss=np.mean([float(row) for row in rows[1:1008]] )\n",
        "      variance=np.var([float(row) for row in rows[1:1008]])\n",
        "      "
      ],
      "execution_count": 0,
      "outputs": []
    },
    {
      "cell_type": "code",
      "metadata": {
        "id": "rROQRpcY18yB",
        "colab_type": "code",
        "outputId": "9b128192-403f-4fac-fc16-225a64152554",
        "colab": {
          "base_uri": "https://localhost:8080/",
          "height": 35
        }
      },
      "source": [
        "#loss distribution\n",
        "Names=['loss1']\n",
        "for name in Names:\n",
        "    with open(name+'.csv') as file:\n",
        "        reader=csv.reader(file)\n",
        "        rows=[row for row in reader]\n",
        "    DApp=[row[1] for row in rows[1:49]]\n",
        "    DApp=[float(dapp)/100 for dapp in DApp]\n",
        "   #DApp=[math.log(DApp[i]/DApp[i-1]) for i in range(1,len(DApp))]\n",
        "    DApp=sorted(DApp)\n",
        "    DApp=np.array(DApp)\n",
        "    mu_loss,sigma_loss=norm.fit(DApp)\n",
        "    #_,p=chisquare(DApp,norm(mu,sigma).pdf(np.linspace(-50,50,251)))\n",
        "    #print('The p value for '+name+' is %f'%p)\n",
        "    print(mu_loss,sigma_loss)\n",
        "    #print(sigma)\n",
        "    #mu_t,sigma_t,n=t.fit(DApp)\n"
      ],
      "execution_count": 0,
      "outputs": [
        {
          "output_type": "stream",
          "text": [
            "-0.017984855062916666 0.042000145947649926\n"
          ],
          "name": "stdout"
        }
      ]
    },
    {
      "cell_type": "code",
      "metadata": {
        "id": "EavZfKCtie1h",
        "colab_type": "code",
        "outputId": "5fa3d71a-a82e-4fb1-9b60-c87fc5348b4c",
        "colab": {
          "base_uri": "https://localhost:8080/",
          "height": 299
        }
      },
      "source": [
        "#x_loss = np.arange(-0.002,0.0001,0.00001) \n",
        "x_loss=np.linspace (mu_loss-4*sigma_loss, mu_loss+4*sigma_loss)\n",
        "y_loss = normfun(x_loss, mu_loss, sigma_loss)\n",
        "plt.plot(x_loss,y_loss)\n",
        "#plt.hist(DApp,bins=48,density='true')\n",
        "plt.title('pdf of  loss distribution')"
      ],
      "execution_count": 0,
      "outputs": [
        {
          "output_type": "execute_result",
          "data": {
            "text/plain": [
              "Text(0.5, 1.0, 'pdf of  loss distribution')"
            ]
          },
          "metadata": {
            "tags": []
          },
          "execution_count": 30
        },
        {
          "output_type": "display_data",
          "data": {
            "image/png": "[encoded data removed]",
            "text/plain": [
              "<Figure size 432x288 with 1 Axes>"
            ]
          },
          "metadata": {
            "tags": []
          }
        }
      ]
    },
    {
      "cell_type": "code",
      "metadata": {
        "id": "WXBNbjCHntXo",
        "colab_type": "code",
        "outputId": "067e59ec-28a2-4256-86eb-a6dec437ac54",
        "colab": {
          "base_uri": "https://localhost:8080/",
          "height": 299
        }
      },
      "source": [
        "plt.plot(x_loss, norm.cdf (x_loss,mu_loss,sigma_loss),'g')\n",
        "plt.title('cdf of  loss distribution')"
      ],
      "execution_count": 0,
      "outputs": [
        {
          "output_type": "execute_result",
          "data": {
            "text/plain": [
              "Text(0.5, 1.0, 'cdf of  loss distribution')"
            ]
          },
          "metadata": {
            "tags": []
          },
          "execution_count": 20
        },
        {
          "output_type": "display_data",
          "data": {
            "image/png": "[encoded data removed]",
            "text/plain": [
              "<Figure size 432x288 with 1 Axes>"
            ]
          },
          "metadata": {
            "tags": []
          }
        }
      ]
    },
    {
      "cell_type": "code",
      "metadata": {
        "id": "TfzOUOU_13Bs",
        "colab_type": "code",
        "colab": {}
      },
      "source": [
        "# t-distribution"
      ],
      "execution_count": 0,
      "outputs": []
    },
    {
      "cell_type": "code",
      "metadata": {
        "id": "j8e7_nnDAuyD",
        "colab_type": "code",
        "outputId": "cc262fde-452f-4e31-9bfc-ffc8431c8662",
        "colab": {
          "base_uri": "https://localhost:8080/",
          "height": 87
        }
      },
      "source": [
        "np.random.seed(1)\n",
        "ks = t.fit(DApp)\n",
        "df = ks[0]\n",
        "#print(df)\n",
        "loc = ks[1]\n",
        "#print(loc)\n",
        "scale = ks[2]\n",
        "#print(scale)\n",
        "ks2 = t.rvs(df=df,loc=loc,scale=scale,size=len(DApp))\n",
        "ss.ks_2samp(DApp,ks2)"
      ],
      "execution_count": 0,
      "outputs": [
        {
          "output_type": "stream",
          "text": [
            "14.3850254761902\n",
            "-0.01806816981166321\n",
            "0.03905790850349124\n"
          ],
          "name": "stdout"
        },
        {
          "output_type": "execute_result",
          "data": {
            "text/plain": [
              "Ks_2sampResult(statistic=0.14583333333333334, pvalue=0.6926601395134386)"
            ]
          },
          "metadata": {
            "tags": []
          },
          "execution_count": 43
        }
      ]
    },
    {
      "cell_type": "code",
      "metadata": {
        "id": "uX2DvwOYBkUD",
        "colab_type": "code",
        "outputId": "eb3447c5-a0b5-4963-eb0b-aac4f4729749",
        "colab": {
          "base_uri": "https://localhost:8080/",
          "height": 317
        }
      },
      "source": [
        "plt.figure()\n",
        "TDistribution = ss.t(ks[0],ks[1],ks[2])\n",
        "x = np.linspace(TDistribution.ppf(0.01), TDistribution.ppf(0.99), 100)\n",
        "plt.plot(x, TDistribution.pdf(x),c='orange')\n",
        "plt.xlabel('loss')\n",
        "plt.title('pdf of T-Distribution',size=20)\n",
        "\n"
      ],
      "execution_count": 0,
      "outputs": [
        {
          "output_type": "execute_result",
          "data": {
            "text/plain": [
              "Text(0.5, 1.0, 'pdf of T-Distribution')"
            ]
          },
          "metadata": {
            "tags": []
          },
          "execution_count": 41
        },
        {
          "output_type": "display_data",
          "data": {
            "image/png": "[encoded data removed]",
            "text/plain": [
              "<Figure size 432x288 with 1 Axes>"
            ]
          },
          "metadata": {
            "tags": []
          }
        }
      ]
    },
    {
      "cell_type": "code",
      "metadata": {
        "id": "3brfpS7JDoVV",
        "colab_type": "code",
        "outputId": "ea5ef0ff-ef6a-447f-bbd0-5eb108e03da6",
        "colab": {
          "base_uri": "https://localhost:8080/",
          "height": 283
        }
      },
      "source": [
        "plt.plot(x, TDistribution.cdf(x),c='orange')"
      ],
      "execution_count": 0,
      "outputs": [
        {
          "output_type": "execute_result",
          "data": {
            "text/plain": [
              "[<matplotlib.lines.Line2D at 0x7f4001ebad30>]"
            ]
          },
          "metadata": {
            "tags": []
          },
          "execution_count": 44
        },
        {
          "output_type": "display_data",
          "data": {
            "image/png": "[encoded data removed]",
            "text/plain": [
              "<Figure size 432x288 with 1 Axes>"
            ]
          },
          "metadata": {
            "tags": []
          }
        }
      ]
    },
    {
      "cell_type": "code",
      "metadata": {
        "id": "GeXIvi6Q-Las",
        "colab_type": "code",
        "colab": {}
      },
      "source": [
        "#problem3"
      ],
      "execution_count": 0,
      "outputs": []
    },
    {
      "cell_type": "code",
      "metadata": {
        "id": "Spd-Pp79CSiW",
        "colab_type": "code",
        "colab": {}
      },
      "source": [
        "with open('loss.csv') as file:\n",
        "      reader=csv.reader(file)\n",
        "      values=[row[0] for row in reader]\n",
        "      values_future=[float(row) for row in values[1007:2013]]\n",
        "      #print(values_future)\n",
        "      "
      ],
      "execution_count": 0,
      "outputs": []
    },
    {
      "cell_type": "code",
      "metadata": {
        "id": "4zKsrVMEDyts",
        "colab_type": "code",
        "colab": {}
      },
      "source": [
        "with open('loss.csv') as file:\n",
        "      reader=csv.reader(file)\n",
        "      log_returns=[row[2] for row in reader]\n",
        "      log_returns_future=[float(row) for row in log_returns[1007:2013]]\n",
        "      #print(log_returns_future)"
      ],
      "execution_count": 0,
      "outputs": []
    },
    {
      "cell_type": "code",
      "metadata": {
        "id": "fExwztal-WEe",
        "colab_type": "code",
        "outputId": "084b2e21-2844-4eab-8ed0-8846ad38ca0d",
        "colab": {
          "base_uri": "https://localhost:8080/",
          "height": 300
        }
      },
      "source": [
        "X=np.arange(1008,2013,1)\n",
        "plt.plot(X,values_future,'b')\n",
        "plt.plot(X,log_returns_future,'r')\n",
        "plt.legend()"
      ],
      "execution_count": 0,
      "outputs": [
        {
          "output_type": "stream",
          "text": [
            "No handles with labels found to put in legend.\n"
          ],
          "name": "stderr"
        },
        {
          "output_type": "execute_result",
          "data": {
            "text/plain": [
              "<matplotlib.legend.Legend at 0x7f3c4a65fc18>"
            ]
          },
          "metadata": {
            "tags": []
          },
          "execution_count": 283
        },
        {
          "output_type": "display_data",
          "data": {
            "image/png": "[encoded data removed]",
            "text/plain": [
              "<Figure size 432x288 with 1 Axes>"
            ]
          },
          "metadata": {
            "tags": []
          }
        }
      ]
    },
    {
      "cell_type": "code",
      "metadata": {
        "id": "A3owGkOdNxp3",
        "colab_type": "code",
        "outputId": "aff25990-4600-4018-a6f3-da8e02d91154",
        "colab": {
          "base_uri": "https://localhost:8080/",
          "height": 279
        }
      },
      "source": [
        "\n",
        "import pylab\n",
        "sm.qqplot(DApp, line='s')\n",
        "pylab.show()"
      ],
      "execution_count": 0,
      "outputs": [
        {
          "output_type": "display_data",
          "data": {
            "image/png": "[encoded data removed]",
            "text/plain": [
              "<Figure size 432x288 with 1 Axes>"
            ]
          },
          "metadata": {
            "tags": []
          }
        }
      ]
    },
    {
      "cell_type": "code",
      "metadata": {
        "id": "OoEFMA7e1xxe",
        "colab_type": "code",
        "outputId": "e6ec9efe-4df9-4524-9627-e569e011e185",
        "colab": {
          "base_uri": "https://localhost:8080/",
          "height": 605
        }
      },
      "source": [
        "'''\n",
        "x = np.arange(-0.05, 0.125, 0.005)\n",
        "\n",
        "y = TDistribution.cdf(x)\n",
        "\n",
        "plt.plot(x, y)\n",
        "\n",
        "sorted_ = np.sort(DApp)\n",
        "yvals = np.arange(len(sorted_))/float(len(sorted_))\n",
        "plt.plot(sorted_, yvals)\n",
        "\n",
        "x_label = t.ppf(yvals)\n",
        "plt.scatter(x_label, sorted_)\n",
        "\n",
        "ss.probplot(DApp, dist=\"t\", plot=plt)\n",
        "print('QQ plot for t distribution')\n",
        "plt.show()"
      ],
      "execution_count": 0,
      "outputs": [
        {
          "output_type": "error",
          "ename": "TypeError",
          "evalue": "ignored",
          "traceback": [
            "\u001b[0;31m---------------------------------------------------------------------------\u001b[0m",
            "\u001b[0;31mTypeError\u001b[0m                                 Traceback (most recent call last)",
            "\u001b[0;32m<ipython-input-64-6618d4990b7b>\u001b[0m in \u001b[0;36m<module>\u001b[0;34m()\u001b[0m\n\u001b[1;32m      9\u001b[0m \u001b[0mplt\u001b[0m\u001b[0;34m.\u001b[0m\u001b[0mplot\u001b[0m\u001b[0;34m(\u001b[0m\u001b[0msorted_\u001b[0m\u001b[0;34m,\u001b[0m \u001b[0myvals\u001b[0m\u001b[0;34m)\u001b[0m\u001b[0;34m\u001b[0m\u001b[0;34m\u001b[0m\u001b[0m\n\u001b[1;32m     10\u001b[0m \u001b[0;34m\u001b[0m\u001b[0m\n\u001b[0;32m---> 11\u001b[0;31m \u001b[0mx_label\u001b[0m \u001b[0;34m=\u001b[0m \u001b[0mt\u001b[0m\u001b[0;34m.\u001b[0m\u001b[0mppf\u001b[0m\u001b[0;34m(\u001b[0m\u001b[0myvals\u001b[0m\u001b[0;34m)\u001b[0m\u001b[0;34m\u001b[0m\u001b[0;34m\u001b[0m\u001b[0m\n\u001b[0m\u001b[1;32m     12\u001b[0m \u001b[0mplt\u001b[0m\u001b[0;34m.\u001b[0m\u001b[0mscatter\u001b[0m\u001b[0;34m(\u001b[0m\u001b[0mx_label\u001b[0m\u001b[0;34m,\u001b[0m \u001b[0msorted_\u001b[0m\u001b[0;34m)\u001b[0m\u001b[0;34m\u001b[0m\u001b[0;34m\u001b[0m\u001b[0m\n\u001b[1;32m     13\u001b[0m \u001b[0;34m\u001b[0m\u001b[0m\n",
            "\u001b[0;32m/usr/local/lib/python3.6/dist-packages/scipy/stats/_distn_infrastructure.py\u001b[0m in \u001b[0;36mppf\u001b[0;34m(self, q, *args, **kwds)\u001b[0m\n\u001b[1;32m   1990\u001b[0m \u001b[0;34m\u001b[0m\u001b[0m\n\u001b[1;32m   1991\u001b[0m         \"\"\"\n\u001b[0;32m-> 1992\u001b[0;31m         \u001b[0margs\u001b[0m\u001b[0;34m,\u001b[0m \u001b[0mloc\u001b[0m\u001b[0;34m,\u001b[0m \u001b[0mscale\u001b[0m \u001b[0;34m=\u001b[0m \u001b[0mself\u001b[0m\u001b[0;34m.\u001b[0m\u001b[0m_parse_args\u001b[0m\u001b[0;34m(\u001b[0m\u001b[0;34m*\u001b[0m\u001b[0margs\u001b[0m\u001b[0;34m,\u001b[0m \u001b[0;34m**\u001b[0m\u001b[0mkwds\u001b[0m\u001b[0;34m)\u001b[0m\u001b[0;34m\u001b[0m\u001b[0;34m\u001b[0m\u001b[0m\n\u001b[0m\u001b[1;32m   1993\u001b[0m         \u001b[0m_a\u001b[0m\u001b[0;34m,\u001b[0m \u001b[0m_b\u001b[0m \u001b[0;34m=\u001b[0m \u001b[0mself\u001b[0m\u001b[0;34m.\u001b[0m\u001b[0m_get_support\u001b[0m\u001b[0;34m(\u001b[0m\u001b[0;34m*\u001b[0m\u001b[0margs\u001b[0m\u001b[0;34m)\u001b[0m\u001b[0;34m\u001b[0m\u001b[0;34m\u001b[0m\u001b[0m\n\u001b[1;32m   1994\u001b[0m         \u001b[0mq\u001b[0m\u001b[0;34m,\u001b[0m \u001b[0mloc\u001b[0m\u001b[0;34m,\u001b[0m \u001b[0mscale\u001b[0m \u001b[0;34m=\u001b[0m \u001b[0mmap\u001b[0m\u001b[0;34m(\u001b[0m\u001b[0masarray\u001b[0m\u001b[0;34m,\u001b[0m \u001b[0;34m(\u001b[0m\u001b[0mq\u001b[0m\u001b[0;34m,\u001b[0m \u001b[0mloc\u001b[0m\u001b[0;34m,\u001b[0m \u001b[0mscale\u001b[0m\u001b[0;34m)\u001b[0m\u001b[0;34m)\u001b[0m\u001b[0;34m\u001b[0m\u001b[0;34m\u001b[0m\u001b[0m\n",
            "\u001b[0;31mTypeError\u001b[0m: _parse_args() missing 1 required positional argument: 'df'"
          ]
        },
        {
          "output_type": "display_data",
          "data": {
            "image/png": "[encoded data removed]",
            "text/plain": [
              "<Figure size 432x288 with 1 Axes>"
            ]
          },
          "metadata": {
            "tags": []
          }
        }
      ]
    },
    {
      "cell_type": "code",
      "metadata": {
        "id": "4cOCxNwq33_g",
        "colab_type": "code",
        "colab": {}
      },
      "source": [
        "#t-distribution var cvar"
      ],
      "execution_count": 0,
      "outputs": []
    },
    {
      "cell_type": "code",
      "metadata": {
        "id": "jxiXN11glEWj",
        "colab_type": "code",
        "colab": {}
      },
      "source": [
        "'''\n",
        "price_0= getData(0)[2]\n",
        "s=np.array(price_0)[:,0] #20120103 price\n",
        "lamb=s*1/11 #original shares\n",
        "print(s)\n",
        "'''\n",
        "\n"
      ],
      "execution_count": 0,
      "outputs": []
    },
    {
      "cell_type": "code",
      "metadata": {
        "id": "UeARWMlKn039",
        "colab_type": "code",
        "colab": {}
      },
      "source": [
        "\n",
        "mu=np.zeros(2)\n",
        "names=['1','2']\n",
        "def getData(M):\n",
        "    Is=[i for i in range(2)]\n",
        "    Rows=[]\n",
        "    Price=[]\n",
        "    for name,i in zip(names,Is):\n",
        "        with open(name+'.csv') as file:\n",
        "            reader=csv.reader(file)\n",
        "           \n",
        "            rows=[row[1] for row in reader]\n",
        "        mu[i]=np.mean([float(row) for row in rows[3*M+1:3*M+4]])\n",
        "        Rows.append([float(row) for row in rows[3*M+1:3*M+4]])\n",
        "        \n",
        "    Omega=np.cov(np.array(Rows))\n",
        "    for name,i in zip(names,Is):\n",
        "        with open(name+'.csv') as file:\n",
        "            reader=csv.reader(file)\n",
        "            price=[row[0] for row in reader]       \n",
        "        Price.append([float(row) for row in price[3*M+1:3*M+4]])\n",
        "    \n",
        "    return mu,Omega,Price\n",
        "\n",
        "    '''"
      ],
      "execution_count": 0,
      "outputs": []
    },
    {
      "cell_type": "code",
      "metadata": {
        "id": "VG4IGxh64sVw",
        "colab_type": "code",
        "colab": {}
      },
      "source": [
        "'''\n",
        "for M in range(3):\n",
        "  data= getData(M)\n",
        "  mu=data[0]\n",
        "  omega=data[1]\n",
        "  price=data[2]\n",
        "  vt=np.dot(lamb,array(price)[:,2])\n",
        "  wt=np.ones(2)*1/11\n",
        "''' "
      ],
      "execution_count": 0,
      "outputs": []
    },
    {
      "cell_type": "code",
      "metadata": {
        "id": "EuA1XmmlJZtN",
        "colab_type": "code",
        "colab": {}
      },
      "source": [
        "mu=np.zeros(11)\n",
        "names=['CAT','DIA','HD','MSFT','NKE','NVDA','PG','TM','VIG','VOO','WMT']\n",
        "def getData1(M):\n",
        "    Is=[i for i in range(11)]\n",
        "    Rows=[]\n",
        "    for name,i in zip(names,Is):\n",
        "        with open(name+'.csv') as file:\n",
        "            reader=csv.reader(file)\n",
        "            rows=[row[2] for row in reader]\n",
        "        mu[i]=np.mean([float(row) for row in rows[1+21*M:1006+21*M]])\n",
        "        Rows.append([float(row) for row in rows[1+21*M:1006+21*M]])\n",
        "    Omega=np.cov(np.array(Rows))\n",
        "    return mu,Omega"
      ],
      "execution_count": 0,
      "outputs": []
    },
    {
      "cell_type": "code",
      "metadata": {
        "id": "OAJmTm-JDScZ",
        "colab_type": "code",
        "colab": {}
      },
      "source": [
        "#A=getData1(0)\n",
        "#A[0]\n",
        "\n",
        "for M in range(48):\n",
        "  data= getData1(M+1)\n",
        "  mu=data[0]\n",
        "  omega=data[1]\n",
        "  vt=values_future[M]\n",
        "  a=lin_loss(vt,wt,mu,omega)\n",
        "  #print(a[0])\n",
        "  print(a[1])"
      ],
      "execution_count": 0,
      "outputs": []
    },
    {
      "cell_type": "code",
      "metadata": {
        "id": "v_670YcNcFTe",
        "colab_type": "code",
        "outputId": "c52d87b8-a5c9-494a-beb1-383fe20dce0d",
        "colab": {
          "base_uri": "https://localhost:8080/",
          "height": 35
        }
      },
      "source": [
        "values_future[0]"
      ],
      "execution_count": 0,
      "outputs": [
        {
          "output_type": "execute_result",
          "data": {
            "text/plain": [
              "1.842852594"
            ]
          },
          "metadata": {
            "tags": []
          },
          "execution_count": 16
        }
      ]
    }
  ]
}