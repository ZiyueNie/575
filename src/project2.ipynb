{
  "nbformat": 4,
  "nbformat_minor": 0,
  "metadata": {
    "colab": {
      "name": "project2.ipynb",
      "provenance": [],
      "authorship_tag": "ABX9TyPTnoXqkVGvPaBA0Ha/Iel1",
      "include_colab_link": true
    },
    "kernelspec": {
      "name": "python3",
      "display_name": "Python 3"
    }
  },
  "cells": [
    {
      "cell_type": "markdown",
      "metadata": {
        "id": "view-in-github",
        "colab_type": "text"
      },
      "source": [
        "<a href=\"https://colab.research.google.com/github/gannannavelorange/575/blob/master/src/project2.ipynb\" target=\"_parent\"><img src=\"https://colab.research.google.com/assets/colab-badge.svg\" alt=\"Open In Colab\"/></a>"
      ]
    },
    {
      "cell_type": "code",
      "metadata": {
        "id": "5n6rbSLZVKWd",
        "colab_type": "code",
        "outputId": "5e33b6f8-ab5a-417c-fcd8-142ffd5e5253",
        "colab": {
          "base_uri": "https://localhost:8080/",
          "height": 139
        }
      },
      "source": [
        "!git clone https://github.com/gannannavelorange/575"
      ],
      "execution_count": 0,
      "outputs": [
        {
          "output_type": "stream",
          "text": [
            "Cloning into '575'...\n",
            "remote: Enumerating objects: 59, done.\u001b[K\n",
            "remote: Counting objects: 100% (59/59), done.\u001b[K\n",
            "remote: Compressing objects: 100% (58/58), done.\u001b[K\n",
            "remote: Total 280 (delta 29), reused 0 (delta 0), pack-reused 221\u001b[K\n",
            "Receiving objects: 100% (280/280), 1.66 MiB | 1.80 MiB/s, done.\n",
            "Resolving deltas: 100% (86/86), done.\n"
          ],
          "name": "stdout"
        }
      ]
    },
    {
      "cell_type": "code",
      "metadata": {
        "id": "NKCO_4xJVP5f",
        "colab_type": "code",
        "outputId": "acf4856f-dcaf-4873-8bf2-6fdfb6930f39",
        "colab": {
          "base_uri": "https://localhost:8080/",
          "height": 35
        }
      },
      "source": [
        "cd 575/src/data_project2"
      ],
      "execution_count": 0,
      "outputs": [
        {
          "output_type": "stream",
          "text": [
            "/content/575/src/data_project2/575/src/data_project2/575/src/data_project2\n"
          ],
          "name": "stdout"
        }
      ]
    },
    {
      "cell_type": "code",
      "metadata": {
        "id": "Wzs_3VlyVSDu",
        "colab_type": "code",
        "outputId": "8b656bee-0e90-48b7-8641-4453d2db4df5",
        "colab": {
          "base_uri": "https://localhost:8080/",
          "height": 72
        }
      },
      "source": [
        "import numpy as np\n",
        "import pandas as pd\n",
        "import matplotlib\n",
        "import matplotlib.pyplot as plt\n",
        "import math\n",
        "import csv\n",
        "import seaborn as sns\n",
        "import statsmodels.api as sm\n",
        "import scipy.stats as ss\n",
        "from scipy.stats import norm\n",
        "from scipy.stats import t\n",
        "from scipy.stats import chisquare\n"
      ],
      "execution_count": 0,
      "outputs": [
        {
          "output_type": "stream",
          "text": [
            "/usr/local/lib/python3.6/dist-packages/statsmodels/tools/_testing.py:19: FutureWarning: pandas.util.testing is deprecated. Use the functions in the public API at pandas.testing instead.\n",
            "  import pandas.util.testing as tm\n"
          ],
          "name": "stderr"
        }
      ]
    },
    {
      "cell_type": "code",
      "metadata": {
        "id": "6v2CA36fVhLs",
        "colab_type": "code",
        "colab": {}
      },
      "source": [
        "def getdata(M):\n",
        "  with open(M+'.csv') as file:\n",
        "      reader=csv.reader(file)\n",
        "      rows=[row for row in reader]\n",
        "      D=[row[0] for row in rows[1:1007]]\n",
        "      D=[float(d) for d in D]\n",
        "      return D\n",
        "      "
      ],
      "execution_count": 0,
      "outputs": []
    },
    {
      "cell_type": "code",
      "metadata": {
        "id": "qWTVdMvbb1H_",
        "colab_type": "code",
        "colab": {}
      },
      "source": [
        "y1=getdata('HillMethodRollingWindow')\n",
        "y2=getdata('RegressionRollingWindow')"
      ],
      "execution_count": 0,
      "outputs": []
    },
    {
      "cell_type": "code",
      "metadata": {
        "id": "JzWWnqPBcaij",
        "colab_type": "code",
        "outputId": "4618ca08-97ce-4ca1-c4f0-c8bd55f7b8c6",
        "colab": {
          "base_uri": "https://localhost:8080/",
          "height": 313
        }
      },
      "source": [
        "x=np.arange(1,1007,1)\n",
        "plt.plot(x,y1,'b',label=\"$hill$ $method$\")\n",
        "plt.plot(x,y2,'r',label=\"$linear$ $regression$\")\n",
        "plt.xlabel('time')\n",
        "plt.ylabel(\"estimate of a\")\n",
        "plt.title(\"estimated a versus time using 4 year rolling window\")\n",
        "plt.legend()"
      ],
      "execution_count": 0,
      "outputs": [
        {
          "output_type": "execute_result",
          "data": {
            "text/plain": [
              "<matplotlib.legend.Legend at 0x7efdc144cf60>"
            ]
          },
          "metadata": {
            "tags": []
          },
          "execution_count": 28
        },
        {
          "output_type": "display_data",
          "data": {
            "image/png": "[encoded data removed]",
            "text/plain": [
              "<Figure size 432x288 with 1 Axes>"
            ]
          },
          "metadata": {
            "tags": []
          }
        }
      ]
    },
    {
      "cell_type": "code",
      "metadata": {
        "id": "F0N5RFd1yZ-t",
        "colab_type": "code",
        "outputId": "5396776a-261c-47ec-8b0e-bd05707a8b53",
        "colab": {
          "base_uri": "https://localhost:8080/",
          "height": 313
        }
      },
      "source": [
        "x=np.arange(1,1007,1)\n",
        "plt.plot(x,y1,'b',label=\"$hill$ $method$\")\n",
        "plt.plot(x,y2,'r',label=\"$linear$ $regression$\")\n",
        "plt.xlabel('time')\n",
        "plt.ylabel(\"estimate of A\")\n",
        "plt.title(\"estimated A versus time using 4 year rolling window\")\n",
        "plt.legend()"
      ],
      "execution_count": 0,
      "outputs": [
        {
          "output_type": "execute_result",
          "data": {
            "text/plain": [
              "<matplotlib.legend.Legend at 0x7efdc1615d68>"
            ]
          },
          "metadata": {
            "tags": []
          },
          "execution_count": 24
        },
        {
          "output_type": "display_data",
          "data": {
            "image/png": "[encoded data removed]",
            "text/plain": [
              "<Figure size 432x288 with 1 Axes>"
            ]
          },
          "metadata": {
            "tags": []
          }
        }
      ]
    },
    {
      "cell_type": "code",
      "metadata": {
        "id": "jE78Wh9kwOcr",
        "colab_type": "code",
        "outputId": "ad156abe-b7df-4149-b413-060510ee003e",
        "colab": {
          "base_uri": "https://localhost:8080/",
          "height": 313
        }
      },
      "source": [
        "v1=getdata('HillMethodVaRES95')\n",
        "v2=getdata('RegressMethodVaRES95')\n",
        "x=np.arange(1,1007,1)\n",
        "plt.plot(x,v1,'b',label=\"$hill$ $method$\")\n",
        "plt.plot(x,v2,'r',label=\"$linear$ $regression$\")\n",
        "plt.xlabel('time')\n",
        "plt.ylabel(\"VaR_0.95\")\n",
        "plt.title(\"VaR_0.95 versus time using 4 year rolling window\")\n",
        "plt.legend()"
      ],
      "execution_count": 0,
      "outputs": [
        {
          "output_type": "execute_result",
          "data": {
            "text/plain": [
              "<matplotlib.legend.Legend at 0x7efdc16f1a58>"
            ]
          },
          "metadata": {
            "tags": []
          },
          "execution_count": 30
        },
        {
          "output_type": "display_data",
          "data": {
            "image/png": "[encoded data removed]",
            "text/plain": [
              "<Figure size 432x288 with 1 Axes>"
            ]
          },
          "metadata": {
            "tags": []
          }
        }
      ]
    },
    {
      "cell_type": "code",
      "metadata": {
        "id": "ciPGyUiSDOSe",
        "colab_type": "code",
        "colab": {}
      },
      "source": [
        "with open('dailyloss.csv') as file:\n",
        "      reader=csv.reader(file)\n",
        "      rows=[row for row in reader]\n",
        "      D=[row[1] for row in rows[1007:2013]]\n",
        "      D=[float(d) for d in D]\n",
        "     \n",
        "      "
      ],
      "execution_count": 0,
      "outputs": []
    },
    {
      "cell_type": "code",
      "metadata": {
        "id": "N38xeHJQCMCN",
        "colab_type": "code",
        "colab": {}
      },
      "source": [
        "def percentage(M):\n",
        " var=getdata(M) \n",
        " a=np.average(var)\n",
        " p=0\n",
        " for i in D:\n",
        "   if i <= a:\n",
        "    p=p+1\n",
        " print(p/1006)\n"
      ],
      "execution_count": 0,
      "outputs": []
    },
    {
      "cell_type": "code",
      "metadata": {
        "id": "aX3dc04vE2C4",
        "colab_type": "code",
        "outputId": "a74451b1-3eac-40eb-857b-bae63b170172",
        "colab": {
          "base_uri": "https://localhost:8080/",
          "height": 35
        }
      },
      "source": [
        "AA=percentage('HillMethodVaRES99')"
      ],
      "execution_count": 0,
      "outputs": [
        {
          "output_type": "stream",
          "text": [
            "0.9711729622266402\n"
          ],
          "name": "stdout"
        }
      ]
    },
    {
      "cell_type": "code",
      "metadata": {
        "id": "CkYDggHKFJhn",
        "colab_type": "code",
        "colab": {}
      },
      "source": [
        "a1=0.1\n",
        "a2=0.05\n",
        "a3=0.025\n",
        "a4=0.0125\n",
        "p=36000"
      ],
      "execution_count": 0,
      "outputs": []
    },
    {
      "cell_type": "code",
      "metadata": {
        "id": "YlFM6K-yFJ_w",
        "colab_type": "code",
        "outputId": "d4ce4fa8-9e84-4276-ffe2-635a01f617d5",
        "colab": {
          "base_uri": "https://localhost:8080/",
          "height": 104
        }
      },
      "source": [
        "for i in range(5):\n",
        "  sum=p+p*(1+)"
      ],
      "execution_count": 0,
      "outputs": [
        {
          "output_type": "stream",
          "text": [
            "0\n",
            "1\n",
            "2\n",
            "3\n",
            "4\n"
          ],
          "name": "stdout"
        }
      ]
    },
    {
      "cell_type": "code",
      "metadata": {
        "id": "h0IeYfg_J4Dn",
        "colab_type": "code",
        "colab": {}
      },
      "source": [
        "\n",
        "def FV1(j,a):\n",
        "  sum=0\n",
        "  for i in np.arange(j,j+5,1):\n",
        "    m=1.03**(20-i-1)\n",
        "    n=(1+a)**i\n",
        "    sum+=36000*n*m\n",
        "  return sum"
      ],
      "execution_count": 0,
      "outputs": []
    },
    {
      "cell_type": "code",
      "metadata": {
        "id": "_XEbdkBMMGTb",
        "colab_type": "code",
        "outputId": "587384da-d78d-4be1-c3e6-e3fde65b089b",
        "colab": {
          "base_uri": "https://localhost:8080/",
          "height": 35
        }
      },
      "source": [
        "b1=FV(0,a1)\n",
        "b2=FV(5,a2)\n",
        "print(b1)\n",
        "\n"
      ],
      "execution_count": 0,
      "outputs": [
        {
          "output_type": "stream",
          "text": [
            "361548.4471407174\n"
          ],
          "name": "stdout"
        }
      ]
    },
    {
      "cell_type": "code",
      "metadata": {
        "id": "L1fF00RsPlDp",
        "colab_type": "code",
        "outputId": "571b76e2-a457-4f0a-b2c7-9aa97ae35192",
        "colab": {
          "base_uri": "https://localhost:8080/",
          "height": 35
        }
      },
      "source": [
        ""
      ],
      "execution_count": 0,
      "outputs": [
        {
          "output_type": "execute_result",
          "data": {
            "text/plain": [
              "180000"
            ]
          },
          "metadata": {
            "tags": []
          },
          "execution_count": 43
        }
      ]
    }
  ]
}